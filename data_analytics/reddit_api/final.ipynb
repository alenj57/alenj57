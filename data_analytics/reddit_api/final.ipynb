{
 "cells": [
  {
   "cell_type": "code",
   "execution_count": 63,
   "metadata": {},
   "outputs": [],
   "source": [
    "import requests\n",
    "import time \n",
    "import pandas as pd\n",
    "\n",
    "\n",
    "headers = {\n",
    "    'authority': 'www.reddit.com',\n",
    "    'cache-control': 'max-age=0',\n",
    "    'upgrade-insecure-requests': '1',\n",
    "    'user-agent': 'Mozilla/5.0 (Windows NT 10.0; Win64; x64) AppleWebKit/537.36 (KHTML, like Gecko) Chrome/84.0.4147.125 Safari/537.36',\n",
    "    'accept': 'text/html,application/xhtml+xml,application/xml;q=0.9,image/webp,image/apng,*/*;q=0.8,application/signed-exchange;v=b3;q=0.9',\n",
    "    'sec-fetch-site': 'none',\n",
    "    'sec-fetch-mode': 'navigate',\n",
    "    'sec-fetch-user': '?1',\n",
    "    'sec-fetch-dest': 'document',\n",
    "    'accept-language': 'en-US,en;q=0.9',\n",
    "    'cookie': 'csv=1; edgebucket=34KtHwYYCqDjvR5O5w; reddaid=R3NYJDE33LZNADQA; __gads=ID=7e647638afde60ed:T=1591212927:S=ALNI_MYncnQghNB5_SgSHNKUzPOYXC79ZA; loid=00000000006nsqcbzj.2.1591207974184.Z0FBQUFBQmZFenU4YU5SVVNJTGU0djBoRTk5QVhnQ01jODU1NkhyN2xzUjNVV0FUWmhRdWgtWldCZWJMNEtsVjRSNFdNWTViWWswMGJaaHVWcWJZWGt6MFZucmMtNDZtdEZkQlVuYS0wMVc3dGpkcHJjUDM2bHQ1MjJiMzItZ2xQNHNTcmpIS1lwdGg; G_ENABLED_IDPS=google; reddit_session=521988276655^%^2C2020-07-18T18^%^3A28^%^3A47^%^2C1381ceac8bb41be3d189ad379f494adf8e348cc5; session=7355b99ef7366899b958f01b20969214ae2eeb4egASVSQAAAAAAAABKsj8TX0dB18TP1WWEFX2UjAdfY3NyZnRflIwoMDJhYzI3Mjc0ZWYwMmM0NjA1ZWZlOGI5OWJiZDkwMWU2MDY4NGIzOZRzh5Qu; CarrotBroad_recentclicks2=t3_hqfl77; USER=eyJwcmVmcyI6eyJnbG9iYWxUaGVtZSI6IlJFRERJVCIsImNvbGxhcHNlZFRyYXlTZWN0aW9ucyI6eyJmYXZvcml0ZXMiOmZhbHNlLCJtdWx0aXMiOmZhbHNlLCJtb2RlcmF0aW5nIjpmYWxzZSwic3Vic2NyaXB0aW9ucyI6ZmFsc2UsInByb2ZpbGVzIjpmYWxzZX0sIm5pZ2h0bW9kZSI6dHJ1ZSwicnBhbkR1RGlzbWlzc2FsVGltZSI6bnVsbCwidG9wQ29udGVudERpc21pc3NhbFRpbWUiOm51bGwsInRvcENvbnRlbnRUaW1lc0Rpc21pc3NlZCI6MH0sImxhbmd1YWdlIjoiZW4ifQ==; pc=v5; __stripe_mid=1bdc2b67-eb63-4cae-9cd8-853fff86344a; __aaxsc=1; reddit_user501_recentclicks2=t3_hqfl77^%^2Ct3_ckbv15; d2_token=3.4e437285c91b5ec1b17c790525f7a216003255efe23a7f6be494ecd63ed5bd79.eyJhY2Nlc3NUb2tlbiI6IjUyMTk4ODI3NjY1NS1lbkhWZ1gwR2xpN2Y3Mm5sdEV1QlBYZGNUNUkiLCJleHBpcmVzIjoiMjAyMC0wOC0xOFQxMDowNjowNC4wMDBaIiwibG9nZ2VkT3V0IjpmYWxzZSwic2NvcGVzIjpbIioiLCJlbWFpbCJdfQ==; mnet_session_depth=2^%^7C1597741564811; recent_srs=t5_2r8ot^%^2Ct5_2qh3k^%^2Ct5_2sdpm^%^2Ct5_2szyo^%^2Ct5_2r6z7^%^2Ct5_2sgp1^%^2Ct5_2w7mz^%^2Ct5_2vegg^%^2Ct5_3cqa1^%^2Ct5_2qhqx; session_tracker=kciherjfgajkjckcci.0.1597741802113.Z0FBQUFBQmZPNXJxcTRqVXlfZkh6RDc1c3Z2WU56QkU4ZGZHSFNiSlltQkdQQk1TaXc1ZHM3UlpFckFwbFB2Q2FmNkEtcVlUZjBNaUcxNEVjM0t5Z3pZbVpReVNMWC1uTTh1MlVTSVVCRS1GUlJEOVdfVVBqSEZmUFM4am9yOHljMWhBR09xQ2J3QjE',\n",
    "}\n",
    "def get_mods(subreddit):\n",
    "    response          = requests.get(f'https://www.reddit.com/r/{subreddit}/about/moderators/.json', headers=headers)\n",
    "    json_response     = response.json()\n",
    "    mods              = [{'subreddit':subreddit,'mod':item['name']} for item in json_response['data']['children'] if item['name']!='AutoModerator']\n",
    "    return mods\n",
    "\n"
   ]
  },
  {
   "cell_type": "code",
   "execution_count": 59,
   "metadata": {},
   "outputs": [],
   "source": [
    "# after can be passed as part of the url to get the next 25 data.\n",
    "def get_mod_activity(mod):\n",
    "    \n",
    "    activity_list = []\n",
    "    after = None\n",
    "    \n",
    "    for _ in range(20):\n",
    "        print('running')\n",
    "\n",
    "        if after == None:\n",
    "            url = f'https://www.reddit.com/user/{mod}.json'\n",
    "            response = requests.get(url,headers=headers)\n",
    "        else:\n",
    "            para = {}\n",
    "            para['after'] = after\n",
    "            url = f'https://www.reddit.com/user/{mod}.json?'\n",
    "            response = requests.get(url,params=para,headers=headers)\n",
    "        after = response.json()['data']['after']\n",
    "\n",
    "        mod_activity = []\n",
    "        for item in response.json()['data']['children']:\n",
    "            utc_time = int(item['data']['created_utc'])\n",
    "            data_dict = {'mod':mod,\n",
    "               'activity_utc':utc_time,\n",
    "               # from the utc_time we can extract the date and hour:\n",
    "               'activity_date' : time.strftime('%Y-%m-%d',time.gmtime(utc_time)),\n",
    "               'activity_hour' : time.strftime('%H',time.gmtime(utc_time))\n",
    "            }\n",
    "            mod_activity.append(data_dict)\n",
    "\n",
    "\n",
    "\n",
    "\n",
    "        activity_list.extend(mod_activity)\n",
    "\n",
    "    return activity_list"
   ]
  },
  {
   "cell_type": "code",
   "execution_count": 52,
   "metadata": {},
   "outputs": [],
   "source": [
    "mods = get_mods('learnpython')"
   ]
  },
  {
   "cell_type": "code",
   "execution_count": 53,
   "metadata": {},
   "outputs": [
    {
     "data": {
      "text/plain": [
       "[{'subreddit': 'learnpython', 'mod': 'wub_wub'},\n",
       " {'subreddit': 'learnpython', 'mod': 'xiongchiamiov'},\n",
       " {'subreddit': 'learnpython', 'mod': 'novel_yet_trivial'},\n",
       " {'subreddit': 'learnpython', 'mod': 'xelf'}]"
      ]
     },
     "execution_count": 53,
     "metadata": {},
     "output_type": "execute_result"
    }
   ],
   "source": [
    "mods"
   ]
  },
  {
   "cell_type": "code",
   "execution_count": 60,
   "metadata": {},
   "outputs": [
    {
     "name": "stdout",
     "output_type": "stream",
     "text": [
      "wub_wub\n",
      "running\n",
      "running\n",
      "running\n",
      "running\n",
      "running\n",
      "running\n",
      "running\n",
      "running\n",
      "running\n",
      "running\n",
      "running\n",
      "running\n",
      "running\n",
      "running\n",
      "running\n",
      "running\n",
      "running\n",
      "running\n",
      "running\n",
      "running\n",
      "500\n",
      "xiongchiamiov\n",
      "running\n",
      "running\n",
      "running\n",
      "running\n",
      "running\n",
      "running\n",
      "running\n",
      "running\n",
      "running\n",
      "running\n",
      "running\n",
      "running\n",
      "running\n",
      "running\n",
      "running\n",
      "running\n",
      "running\n",
      "running\n",
      "running\n",
      "running\n",
      "500\n",
      "novel_yet_trivial\n",
      "running\n",
      "running\n",
      "running\n",
      "running\n",
      "running\n",
      "running\n",
      "running\n",
      "running\n",
      "running\n",
      "running\n",
      "running\n",
      "running\n",
      "running\n",
      "running\n",
      "running\n",
      "running\n",
      "running\n",
      "running\n",
      "running\n",
      "running\n",
      "500\n",
      "xelf\n",
      "running\n",
      "running\n",
      "running\n",
      "running\n",
      "running\n",
      "running\n",
      "running\n",
      "running\n",
      "running\n",
      "running\n",
      "running\n",
      "running\n",
      "running\n",
      "running\n",
      "running\n",
      "running\n",
      "running\n",
      "running\n",
      "running\n",
      "running\n",
      "500\n"
     ]
    }
   ],
   "source": [
    "all_activity = []\n",
    "\n",
    "for item in mods:\n",
    "    try:\n",
    "        mod = item['mod']\n",
    "        print(mod)\n",
    "        mod_activity = get_mod_activity(mod)\n",
    "        print(len(mod_activity))\n",
    "        all_activity.extend(mod_activity)\n",
    "    except:\n",
    "        continue\n",
    "        \n",
    "#  try and incase there arent 500 of them, stop at that and continue\n",
    "# to the next moderator."
   ]
  },
  {
   "cell_type": "code",
   "execution_count": 61,
   "metadata": {},
   "outputs": [
    {
     "data": {
      "text/plain": [
       "2000"
      ]
     },
     "execution_count": 61,
     "metadata": {},
     "output_type": "execute_result"
    }
   ],
   "source": [
    "len(all_activity)"
   ]
  },
  {
   "cell_type": "code",
   "execution_count": 62,
   "metadata": {},
   "outputs": [
    {
     "data": {
      "text/plain": [
       "{'mod': 'wub_wub',\n",
       " 'activity_utc': 1597391540,\n",
       " 'activity_date': '2020-08-14',\n",
       " 'activity_hour': '07'}"
      ]
     },
     "execution_count": 62,
     "metadata": {},
     "output_type": "execute_result"
    }
   ],
   "source": [
    "all_activity[0]"
   ]
  },
  {
   "cell_type": "code",
   "execution_count": 64,
   "metadata": {},
   "outputs": [
    {
     "data": {
      "text/html": [
       "<div>\n",
       "<style scoped>\n",
       "    .dataframe tbody tr th:only-of-type {\n",
       "        vertical-align: middle;\n",
       "    }\n",
       "\n",
       "    .dataframe tbody tr th {\n",
       "        vertical-align: top;\n",
       "    }\n",
       "\n",
       "    .dataframe thead th {\n",
       "        text-align: right;\n",
       "    }\n",
       "</style>\n",
       "<table border=\"1\" class=\"dataframe\">\n",
       "  <thead>\n",
       "    <tr style=\"text-align: right;\">\n",
       "      <th></th>\n",
       "      <th>mod</th>\n",
       "      <th>activity_utc</th>\n",
       "      <th>activity_date</th>\n",
       "      <th>activity_hour</th>\n",
       "    </tr>\n",
       "  </thead>\n",
       "  <tbody>\n",
       "    <tr>\n",
       "      <th>0</th>\n",
       "      <td>wub_wub</td>\n",
       "      <td>1597391540</td>\n",
       "      <td>2020-08-14</td>\n",
       "      <td>07</td>\n",
       "    </tr>\n",
       "    <tr>\n",
       "      <th>1</th>\n",
       "      <td>wub_wub</td>\n",
       "      <td>1597340302</td>\n",
       "      <td>2020-08-13</td>\n",
       "      <td>17</td>\n",
       "    </tr>\n",
       "    <tr>\n",
       "      <th>2</th>\n",
       "      <td>wub_wub</td>\n",
       "      <td>1597334890</td>\n",
       "      <td>2020-08-13</td>\n",
       "      <td>16</td>\n",
       "    </tr>\n",
       "    <tr>\n",
       "      <th>3</th>\n",
       "      <td>wub_wub</td>\n",
       "      <td>1597334564</td>\n",
       "      <td>2020-08-13</td>\n",
       "      <td>16</td>\n",
       "    </tr>\n",
       "    <tr>\n",
       "      <th>4</th>\n",
       "      <td>wub_wub</td>\n",
       "      <td>1597296020</td>\n",
       "      <td>2020-08-13</td>\n",
       "      <td>05</td>\n",
       "    </tr>\n",
       "    <tr>\n",
       "      <th>...</th>\n",
       "      <td>...</td>\n",
       "      <td>...</td>\n",
       "      <td>...</td>\n",
       "      <td>...</td>\n",
       "    </tr>\n",
       "    <tr>\n",
       "      <th>1995</th>\n",
       "      <td>xelf</td>\n",
       "      <td>1593662974</td>\n",
       "      <td>2020-07-02</td>\n",
       "      <td>04</td>\n",
       "    </tr>\n",
       "    <tr>\n",
       "      <th>1996</th>\n",
       "      <td>xelf</td>\n",
       "      <td>1593661781</td>\n",
       "      <td>2020-07-02</td>\n",
       "      <td>03</td>\n",
       "    </tr>\n",
       "    <tr>\n",
       "      <th>1997</th>\n",
       "      <td>xelf</td>\n",
       "      <td>1593661584</td>\n",
       "      <td>2020-07-02</td>\n",
       "      <td>03</td>\n",
       "    </tr>\n",
       "    <tr>\n",
       "      <th>1998</th>\n",
       "      <td>xelf</td>\n",
       "      <td>1593661307</td>\n",
       "      <td>2020-07-02</td>\n",
       "      <td>03</td>\n",
       "    </tr>\n",
       "    <tr>\n",
       "      <th>1999</th>\n",
       "      <td>xelf</td>\n",
       "      <td>1593659588</td>\n",
       "      <td>2020-07-02</td>\n",
       "      <td>03</td>\n",
       "    </tr>\n",
       "  </tbody>\n",
       "</table>\n",
       "<p>2000 rows × 4 columns</p>\n",
       "</div>"
      ],
      "text/plain": [
       "          mod  activity_utc activity_date activity_hour\n",
       "0     wub_wub    1597391540    2020-08-14            07\n",
       "1     wub_wub    1597340302    2020-08-13            17\n",
       "2     wub_wub    1597334890    2020-08-13            16\n",
       "3     wub_wub    1597334564    2020-08-13            16\n",
       "4     wub_wub    1597296020    2020-08-13            05\n",
       "...       ...           ...           ...           ...\n",
       "1995     xelf    1593662974    2020-07-02            04\n",
       "1996     xelf    1593661781    2020-07-02            03\n",
       "1997     xelf    1593661584    2020-07-02            03\n",
       "1998     xelf    1593661307    2020-07-02            03\n",
       "1999     xelf    1593659588    2020-07-02            03\n",
       "\n",
       "[2000 rows x 4 columns]"
      ]
     },
     "execution_count": 64,
     "metadata": {},
     "output_type": "execute_result"
    }
   ],
   "source": [
    "df = pd.DataFrame(all_activity)\n",
    "df"
   ]
  },
  {
   "cell_type": "code",
   "execution_count": 65,
   "metadata": {},
   "outputs": [],
   "source": [
    "df.to_csv('output1.csv',index=0)"
   ]
  },
  {
   "cell_type": "code",
   "execution_count": null,
   "metadata": {},
   "outputs": [],
   "source": []
  }
 ],
 "metadata": {
  "kernelspec": {
   "display_name": "Python 3",
   "language": "python",
   "name": "python3"
  },
  "language_info": {
   "codemirror_mode": {
    "name": "ipython",
    "version": 3
   },
   "file_extension": ".py",
   "mimetype": "text/x-python",
   "name": "python",
   "nbconvert_exporter": "python",
   "pygments_lexer": "ipython3",
   "version": "3.8.3"
  }
 },
 "nbformat": 4,
 "nbformat_minor": 4
}
