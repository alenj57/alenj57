{
 "cells": [
  {
   "cell_type": "code",
   "execution_count": 1,
   "id": "6d5361ee",
   "metadata": {},
   "outputs": [],
   "source": [
    "import pandas as pd\n",
    "import re\n",
    "import numpy as np\n",
    "import matplotlib.pyplot as plt\n",
    "import seaborn as sns"
   ]
  },
  {
   "cell_type": "code",
   "execution_count": 2,
   "id": "6862d12c",
   "metadata": {},
   "outputs": [],
   "source": [
    "df = pd.read_csv('/Users/alenjose/Desktop/data/project_data/self-scraped/100000_tweets_BlackLivesMatter.csv')"
   ]
  },
  {
   "cell_type": "code",
   "execution_count": 3,
   "id": "4a9ac01d",
   "metadata": {},
   "outputs": [
    {
     "data": {
      "text/html": [
       "<div>\n",
       "<style scoped>\n",
       "    .dataframe tbody tr th:only-of-type {\n",
       "        vertical-align: middle;\n",
       "    }\n",
       "\n",
       "    .dataframe tbody tr th {\n",
       "        vertical-align: top;\n",
       "    }\n",
       "\n",
       "    .dataframe thead th {\n",
       "        text-align: right;\n",
       "    }\n",
       "</style>\n",
       "<table border=\"1\" class=\"dataframe\">\n",
       "  <thead>\n",
       "    <tr style=\"text-align: right;\">\n",
       "      <th></th>\n",
       "      <th>Unnamed: 0</th>\n",
       "      <th>date</th>\n",
       "      <th>tweet_content</th>\n",
       "      <th>tweet_rendered_content</th>\n",
       "      <th>tweet_id</th>\n",
       "      <th>user_name</th>\n",
       "      <th>display_name</th>\n",
       "      <th>user_id</th>\n",
       "      <th>user_description</th>\n",
       "      <th>verified</th>\n",
       "      <th>...</th>\n",
       "      <th>tweet_reply_count</th>\n",
       "      <th>tweet_retweet_count</th>\n",
       "      <th>tweet_like_count</th>\n",
       "      <th>tweet_quote_count</th>\n",
       "      <th>tweet_language</th>\n",
       "      <th>tweet_source</th>\n",
       "      <th>rt_original_tweet_id</th>\n",
       "      <th>quoted_tweet_original_tweet_id</th>\n",
       "      <th>tweet_mentioned_users</th>\n",
       "      <th>tweet_hashtags</th>\n",
       "    </tr>\n",
       "  </thead>\n",
       "  <tbody>\n",
       "    <tr>\n",
       "      <th>0</th>\n",
       "      <td>0</td>\n",
       "      <td>2022-07-13 11:06:05.954354753</td>\n",
       "      <td>SJSHSJJSH siapa yg nangis... gw.... ya Allah k...</td>\n",
       "      <td>SJSHSJJSH siapa yg nangis... gw.... ya Allah k...</td>\n",
       "      <td>1642996710464192512</td>\n",
       "      <td>nadealeine</td>\n",
       "      <td>Noémie</td>\n",
       "      <td>1278352180144033792</td>\n",
       "      <td>NaN</td>\n",
       "      <td>False</td>\n",
       "      <td>...</td>\n",
       "      <td>0</td>\n",
       "      <td>0</td>\n",
       "      <td>0</td>\n",
       "      <td>0</td>\n",
       "      <td>in</td>\n",
       "      <td>&lt;a href=\"http://twitter.com/download/android\" ...</td>\n",
       "      <td>NaN</td>\n",
       "      <td>https://twitter.com/charts_k/status/1642948123...</td>\n",
       "      <td>NaN</td>\n",
       "      <td>NaN</td>\n",
       "    </tr>\n",
       "    <tr>\n",
       "      <th>1</th>\n",
       "      <td>1</td>\n",
       "      <td>2021-06-08 11:46:44.978336472</td>\n",
       "      <td>@Diiovane_ Sim</td>\n",
       "      <td>@Diiovane_ Sim</td>\n",
       "      <td>1642996701387472897</td>\n",
       "      <td>FonsecaSCI2478</td>\n",
       "      <td>Fonsecaˢᶜᶦ🇮🇩 BlackLivesMatter ✊🏿</td>\n",
       "      <td>1028444469354487808</td>\n",
       "      <td>Casado, Pai  do  Igor, Juan, Antony, Laura e B...</td>\n",
       "      <td>False</td>\n",
       "      <td>...</td>\n",
       "      <td>0</td>\n",
       "      <td>0</td>\n",
       "      <td>0</td>\n",
       "      <td>0</td>\n",
       "      <td>und</td>\n",
       "      <td>&lt;a href=\"http://twitter.com/download/android\" ...</td>\n",
       "      <td>NaN</td>\n",
       "      <td>NaN</td>\n",
       "      <td>[User(username='Diiovane_', id=3072255134, dis...</td>\n",
       "      <td>NaN</td>\n",
       "    </tr>\n",
       "    <tr>\n",
       "      <th>2</th>\n",
       "      <td>2</td>\n",
       "      <td>2021-05-31 17:40:08.114923678</td>\n",
       "      <td>Someone needs to check the keepers Betway account</td>\n",
       "      <td>Someone needs to check the keepers Betway account</td>\n",
       "      <td>1642996698963144704</td>\n",
       "      <td>ArsenalBLM</td>\n",
       "      <td>BLMAlways</td>\n",
       "      <td>1293475982238785537</td>\n",
       "      <td>#BlackLivesMatter</td>\n",
       "      <td>False</td>\n",
       "      <td>...</td>\n",
       "      <td>0</td>\n",
       "      <td>0</td>\n",
       "      <td>0</td>\n",
       "      <td>0</td>\n",
       "      <td>en</td>\n",
       "      <td>&lt;a href=\"http://twitter.com/download/iphone\" r...</td>\n",
       "      <td>NaN</td>\n",
       "      <td>https://twitter.com/CraigGTelfer/status/164290...</td>\n",
       "      <td>NaN</td>\n",
       "      <td>NaN</td>\n",
       "    </tr>\n",
       "    <tr>\n",
       "      <th>3</th>\n",
       "      <td>3</td>\n",
       "      <td>2021-06-08 16:04:59.378821390</td>\n",
       "      <td>@jisellearn Baru mau mng cel blm sempet kenala...</td>\n",
       "      <td>@jisellearn Baru mau mng cel blm sempet kenala...</td>\n",
       "      <td>1642996692281851904</td>\n",
       "      <td>plngee</td>\n",
       "      <td>GheYaa</td>\n",
       "      <td>1386013618072735744</td>\n",
       "      <td>Duta Badlooking Sejagad!</td>\n",
       "      <td>False</td>\n",
       "      <td>...</td>\n",
       "      <td>0</td>\n",
       "      <td>0</td>\n",
       "      <td>0</td>\n",
       "      <td>0</td>\n",
       "      <td>in</td>\n",
       "      <td>&lt;a href=\"http://twitter.com/download/android\" ...</td>\n",
       "      <td>NaN</td>\n",
       "      <td>NaN</td>\n",
       "      <td>[User(username='jisellearn', id=16426332242403...</td>\n",
       "      <td>NaN</td>\n",
       "    </tr>\n",
       "    <tr>\n",
       "      <th>4</th>\n",
       "      <td>4</td>\n",
       "      <td>2021-06-05 09:42:53.177885248</td>\n",
       "      <td>@REMASxKARINA betul sih wkwkw km blm bobo kah?</td>\n",
       "      <td>@REMASxKARINA betul sih wkwkw km blm bobo kah?</td>\n",
       "      <td>1642996688427298817</td>\n",
       "      <td>REMASxHKE</td>\n",
       "      <td>Akiffa</td>\n",
       "      <td>773623180862820353</td>\n",
       "      <td>you’ll find me on my tallest tiptoes spinning ...</td>\n",
       "      <td>False</td>\n",
       "      <td>...</td>\n",
       "      <td>0</td>\n",
       "      <td>0</td>\n",
       "      <td>0</td>\n",
       "      <td>0</td>\n",
       "      <td>in</td>\n",
       "      <td>&lt;a href=\"http://twitter.com/download/iphone\" r...</td>\n",
       "      <td>NaN</td>\n",
       "      <td>NaN</td>\n",
       "      <td>[User(username='REMASxKARINA', id=163376329292...</td>\n",
       "      <td>NaN</td>\n",
       "    </tr>\n",
       "  </tbody>\n",
       "</table>\n",
       "<p>5 rows × 25 columns</p>\n",
       "</div>"
      ],
      "text/plain": [
       "   Unnamed: 0                           date  \\\n",
       "0           0  2022-07-13 11:06:05.954354753   \n",
       "1           1  2021-06-08 11:46:44.978336472   \n",
       "2           2  2021-05-31 17:40:08.114923678   \n",
       "3           3  2021-06-08 16:04:59.378821390   \n",
       "4           4  2021-06-05 09:42:53.177885248   \n",
       "\n",
       "                                       tweet_content  \\\n",
       "0  SJSHSJJSH siapa yg nangis... gw.... ya Allah k...   \n",
       "1                                     @Diiovane_ Sim   \n",
       "2  Someone needs to check the keepers Betway account   \n",
       "3  @jisellearn Baru mau mng cel blm sempet kenala...   \n",
       "4     @REMASxKARINA betul sih wkwkw km blm bobo kah?   \n",
       "\n",
       "                              tweet_rendered_content             tweet_id  \\\n",
       "0  SJSHSJJSH siapa yg nangis... gw.... ya Allah k...  1642996710464192512   \n",
       "1                                     @Diiovane_ Sim  1642996701387472897   \n",
       "2  Someone needs to check the keepers Betway account  1642996698963144704   \n",
       "3  @jisellearn Baru mau mng cel blm sempet kenala...  1642996692281851904   \n",
       "4     @REMASxKARINA betul sih wkwkw km blm bobo kah?  1642996688427298817   \n",
       "\n",
       "        user_name                      display_name              user_id  \\\n",
       "0      nadealeine                            Noémie  1278352180144033792   \n",
       "1  FonsecaSCI2478  Fonsecaˢᶜᶦ🇮🇩 BlackLivesMatter ✊🏿  1028444469354487808   \n",
       "2      ArsenalBLM                         BLMAlways  1293475982238785537   \n",
       "3          plngee                            GheYaa  1386013618072735744   \n",
       "4       REMASxHKE                            Akiffa   773623180862820353   \n",
       "\n",
       "                                    user_description  verified  ...  \\\n",
       "0                                                NaN     False  ...   \n",
       "1  Casado, Pai  do  Igor, Juan, Antony, Laura e B...     False  ...   \n",
       "2                                  #BlackLivesMatter     False  ...   \n",
       "3                           Duta Badlooking Sejagad!     False  ...   \n",
       "4  you’ll find me on my tallest tiptoes spinning ...     False  ...   \n",
       "\n",
       "  tweet_reply_count  tweet_retweet_count  tweet_like_count  tweet_quote_count  \\\n",
       "0                 0                    0                 0                  0   \n",
       "1                 0                    0                 0                  0   \n",
       "2                 0                    0                 0                  0   \n",
       "3                 0                    0                 0                  0   \n",
       "4                 0                    0                 0                  0   \n",
       "\n",
       "  tweet_language                                       tweet_source  \\\n",
       "0             in  <a href=\"http://twitter.com/download/android\" ...   \n",
       "1            und  <a href=\"http://twitter.com/download/android\" ...   \n",
       "2             en  <a href=\"http://twitter.com/download/iphone\" r...   \n",
       "3             in  <a href=\"http://twitter.com/download/android\" ...   \n",
       "4             in  <a href=\"http://twitter.com/download/iphone\" r...   \n",
       "\n",
       "   rt_original_tweet_id                     quoted_tweet_original_tweet_id  \\\n",
       "0                   NaN  https://twitter.com/charts_k/status/1642948123...   \n",
       "1                   NaN                                                NaN   \n",
       "2                   NaN  https://twitter.com/CraigGTelfer/status/164290...   \n",
       "3                   NaN                                                NaN   \n",
       "4                   NaN                                                NaN   \n",
       "\n",
       "                               tweet_mentioned_users tweet_hashtags  \n",
       "0                                                NaN            NaN  \n",
       "1  [User(username='Diiovane_', id=3072255134, dis...            NaN  \n",
       "2                                                NaN            NaN  \n",
       "3  [User(username='jisellearn', id=16426332242403...            NaN  \n",
       "4  [User(username='REMASxKARINA', id=163376329292...            NaN  \n",
       "\n",
       "[5 rows x 25 columns]"
      ]
     },
     "execution_count": 3,
     "metadata": {},
     "output_type": "execute_result"
    }
   ],
   "source": [
    "df.head()"
   ]
  },
  {
   "cell_type": "code",
   "execution_count": 4,
   "id": "aea82d5e",
   "metadata": {},
   "outputs": [
    {
     "name": "stdout",
     "output_type": "stream",
     "text": [
      "<class 'pandas.core.frame.DataFrame'>\n",
      "RangeIndex: 100000 entries, 0 to 99999\n",
      "Data columns (total 25 columns):\n",
      " #   Column                          Non-Null Count   Dtype  \n",
      "---  ------                          --------------   -----  \n",
      " 0   Unnamed: 0                      100000 non-null  int64  \n",
      " 1   date                            100000 non-null  object \n",
      " 2   tweet_content                   100000 non-null  object \n",
      " 3   tweet_rendered_content          100000 non-null  object \n",
      " 4   tweet_id                        100000 non-null  int64  \n",
      " 5   user_name                       100000 non-null  object \n",
      " 6   display_name                    99991 non-null   object \n",
      " 7   user_id                         100000 non-null  int64  \n",
      " 8   user_description                87937 non-null   object \n",
      " 9   verified                        100000 non-null  bool   \n",
      " 10  user_profile_created            100000 non-null  object \n",
      " 11  user_follower_count             100000 non-null  int64  \n",
      " 12  user_friend_count               100000 non-null  int64  \n",
      " 13  user_statuses_count             100000 non-null  int64  \n",
      " 14  user_location                   62044 non-null   object \n",
      " 15  tweet_reply_count               100000 non-null  int64  \n",
      " 16  tweet_retweet_count             100000 non-null  int64  \n",
      " 17  tweet_like_count                100000 non-null  int64  \n",
      " 18  tweet_quote_count               100000 non-null  int64  \n",
      " 19  tweet_language                  100000 non-null  object \n",
      " 20  tweet_source                    100000 non-null  object \n",
      " 21  rt_original_tweet_id            0 non-null       float64\n",
      " 22  quoted_tweet_original_tweet_id  9709 non-null    object \n",
      " 23  tweet_mentioned_users           66369 non-null   object \n",
      " 24  tweet_hashtags                  5605 non-null    object \n",
      "dtypes: bool(1), float64(1), int64(10), object(13)\n",
      "memory usage: 18.4+ MB\n"
     ]
    }
   ],
   "source": [
    "df.info()"
   ]
  },
  {
   "cell_type": "code",
   "execution_count": 5,
   "id": "e73f86d2",
   "metadata": {},
   "outputs": [],
   "source": [
    "df.drop(['Unnamed: 0','tweet_content','rt_original_tweet_id','quoted_tweet_original_tweet_id','tweet_hashtags'],axis=1,inplace=True)"
   ]
  },
  {
   "cell_type": "code",
   "execution_count": 6,
   "id": "5bcace8c",
   "metadata": {},
   "outputs": [
    {
     "data": {
      "text/plain": [
       "100000"
      ]
     },
     "execution_count": 6,
     "metadata": {},
     "output_type": "execute_result"
    }
   ],
   "source": [
    "len(df)"
   ]
  },
  {
   "cell_type": "code",
   "execution_count": 7,
   "id": "cab7b4d5",
   "metadata": {},
   "outputs": [
    {
     "data": {
      "text/plain": [
       "(100000, 20)"
      ]
     },
     "execution_count": 7,
     "metadata": {},
     "output_type": "execute_result"
    }
   ],
   "source": [
    "df.shape"
   ]
  },
  {
   "cell_type": "code",
   "execution_count": 8,
   "id": "67a3cb1a",
   "metadata": {},
   "outputs": [
    {
     "data": {
      "text/plain": [
       "62173"
      ]
     },
     "execution_count": 8,
     "metadata": {},
     "output_type": "execute_result"
    }
   ],
   "source": [
    "np.sum(df.isnull().any(axis=1))"
   ]
  },
  {
   "cell_type": "code",
   "execution_count": 9,
   "id": "1e6c56e9",
   "metadata": {},
   "outputs": [],
   "source": [
    "df['date'] = pd.to_datetime(df['date'])"
   ]
  },
  {
   "cell_type": "code",
   "execution_count": 10,
   "id": "ad7bdf27",
   "metadata": {},
   "outputs": [],
   "source": [
    "df['year'] = df['date'].apply(lambda x:x.year)\n",
    "df['month'] = df['date'].apply(lambda x:x.month)"
   ]
  },
  {
   "cell_type": "code",
   "execution_count": 11,
   "id": "606f924d",
   "metadata": {},
   "outputs": [
    {
     "data": {
      "text/plain": [
       "2022    48328\n",
       "2021    48108\n",
       "2023     3564\n",
       "Name: year, dtype: int64"
      ]
     },
     "execution_count": 11,
     "metadata": {},
     "output_type": "execute_result"
    }
   ],
   "source": [
    "df['year'].value_counts()"
   ]
  },
  {
   "cell_type": "code",
   "execution_count": 12,
   "id": "c5eccd24",
   "metadata": {},
   "outputs": [
    {
     "data": {
      "text/plain": [
       "1     11773\n",
       "12     8294\n",
       "7      8239\n",
       "10     8211\n",
       "3      8180\n",
       "8      8155\n",
       "5      8080\n",
       "6      8018\n",
       "9      8007\n",
       "11     7833\n",
       "4      7801\n",
       "2      7409\n",
       "Name: month, dtype: int64"
      ]
     },
     "execution_count": 12,
     "metadata": {},
     "output_type": "execute_result"
    }
   ],
   "source": [
    "df['month'].value_counts()"
   ]
  },
  {
   "cell_type": "code",
   "execution_count": 13,
   "id": "5615dd3c",
   "metadata": {},
   "outputs": [],
   "source": [
    "import nltk\n",
    "from wordcloud import WordCloud\n",
    "from nltk.stem import WordNetLemmatizer\n",
    "from googletrans import Translator\n",
    "\n",
    "translator = Translator()"
   ]
  },
  {
   "cell_type": "code",
   "execution_count": 14,
   "id": "92525c40",
   "metadata": {},
   "outputs": [],
   "source": [
    "# convert to lower case\n",
    "df['tweet_rendered_content'] = df['tweet_rendered_content']\\\n",
    "                                    .str.lower()"
   ]
  },
  {
   "cell_type": "code",
   "execution_count": 15,
   "id": "aacf4b15",
   "metadata": {},
   "outputs": [],
   "source": [
    "# clean and remove punctuations\n",
    "import string\n",
    "import emoji\n",
    "\n",
    "english_punctuations = string.punctuation\n",
    "punctuations_list = english_punctuations\n",
    "\n",
    "def cleaning_punctuations(text):\n",
    "    translator = str.maketrans('', '', punctuations_list)\n",
    "    return text.translate(translator)\n",
    "\n",
    "df['tweet_rendered_content']= df['tweet_rendered_content']\\\n",
    "                        .apply(lambda x: cleaning_punctuations(x))"
   ]
  },
  {
   "cell_type": "code",
   "execution_count": 16,
   "id": "40b01bf5",
   "metadata": {},
   "outputs": [],
   "source": [
    "import emoji\n",
    "\n",
    "def remove_emoji(text):\n",
    "    \n",
    "    text = emoji.demojize(text)\n",
    "    pattern = r\":[^:\\s]+:\"\n",
    "    text = re.sub(pattern, \"\", text)\n",
    "    text = text.replace(\"  \",\" \")\n",
    "    return text\n",
    "\n",
    "df['tweet_rendered_content'] = df['tweet_rendered_content']\\\n",
    "                                    .apply(lambda x:remove_emoji(x))"
   ]
  },
  {
   "cell_type": "code",
   "execution_count": 17,
   "id": "f10f0daf",
   "metadata": {},
   "outputs": [],
   "source": [
    "def remove_urls(text):\n",
    "    pattern = r\"http\\S+|www\\S+\"\n",
    "    text = re.sub(pattern, \"\", text)\n",
    "    return text\n",
    "\n",
    "df['tweet_rendered_content'] = df['tweet_rendered_content']\\\n",
    "                                .apply(lambda x:remove_urls(x))"
   ]
  },
  {
   "cell_type": "code",
   "execution_count": 18,
   "id": "0245ba95",
   "metadata": {},
   "outputs": [
    {
     "name": "stdout",
     "output_type": "stream",
     "text": [
      "There are 46 different languages\n"
     ]
    }
   ],
   "source": [
    "print(\"There are\",len(df['tweet_language']\\\n",
    "                      .value_counts()),\"different languages\")"
   ]
  },
  {
   "cell_type": "code",
   "execution_count": 19,
   "id": "f4e8f077",
   "metadata": {},
   "outputs": [
    {
     "data": {
      "image/png": "[encoded data removed]",
      "text/plain": [
       "<Figure size 500x200 with 1 Axes>"
      ]
     },
     "metadata": {},
     "output_type": "display_data"
    }
   ],
   "source": [
    "# top 5 languages\n",
    "plt.figure(figsize=(5,2))\n",
    "df['tweet_language'].value_counts().head(5).plot(kind='bar')\n",
    "plt.show()"
   ]
  },
  {
   "cell_type": "code",
   "execution_count": 81,
   "id": "dd2924ab",
   "metadata": {},
   "outputs": [],
   "source": [
    "# in - indonesia, en - english, \n",
    "# und - undefined, fr - french , \n",
    "# qme - for tweets with media links only"
   ]
  },
  {
   "cell_type": "markdown",
   "id": "75a52e02",
   "metadata": {},
   "source": [
    "Tested out microsoft translator and the output was not as expected"
   ]
  },
  {
   "cell_type": "code",
   "execution_count": 20,
   "id": "791bdc64",
   "metadata": {},
   "outputs": [],
   "source": [
    "from dotenv import load_dotenv\n",
    "\n",
    "load_dotenv('.env')\n",
    "\n",
    "import os\n",
    "\n",
    "subscription_key = os.getenv('SUBSCRIPTION_KEY')"
   ]
  },
  {
   "cell_type": "code",
   "execution_count": 21,
   "id": "dc91020b",
   "metadata": {},
   "outputs": [],
   "source": [
    "project_location = 'uksouth'"
   ]
  },
  {
   "cell_type": "code",
   "execution_count": 22,
   "id": "5e438579",
   "metadata": {},
   "outputs": [
    {
     "name": "stdout",
     "output_type": "stream",
     "text": [
      "{'error': {'code': 401000, 'message': 'The request is not authorized because credentials are missing or invalid.'}}\n"
     ]
    }
   ],
   "source": [
    "import requests\n",
    "import uuid\n",
    "import json\n",
    "\n",
    "# API endpoint and subscription key\n",
    "endpoint = \"https://api.cognitive.microsofttranslator.com/translate\"\n",
    "\n",
    "# text to be translated\n",
    "text = \"jisellearn baru mau mng cel blm sempet kenalan\"\n",
    "\n",
    "# source and target languages\n",
    "from_lang = \"id-ID\"\n",
    "to_lang = \"en\"\n",
    "\n",
    "# request headers\n",
    "headers = {\n",
    "    \"Ocp-Apim-Subscription-Key\": subscription_key,\n",
    "    \"Ocp-Apim-Subscription-Region\": project_location,\n",
    "    \"Content-Type\": \"application/json\",\n",
    "    \"X-ClientTraceId\": str(uuid.uuid4())\n",
    "}\n",
    "\n",
    "# request body\n",
    "body = [{\n",
    "    \"text\": text\n",
    "}]\n",
    "\n",
    "# query parameters\n",
    "params = {\n",
    "    \"api-version\": \"3.0\",\n",
    "    \"from\": from_lang,\n",
    "    \"to\": to_lang\n",
    "}\n",
    "\n",
    "# Send a POST request to the API endpoint with the request headers, body, and query parameters\n",
    "response = requests.post(endpoint, headers=headers, params=params, json=body)\n",
    "\n",
    "# Extract the translated text from the response\n",
    "translation = response.json()\n",
    "\n",
    "# Print the translated text\n",
    "print(translation)"
   ]
  },
  {
   "cell_type": "code",
   "execution_count": 24,
   "id": "1b8485cb",
   "metadata": {},
   "outputs": [],
   "source": [
    "df_test = df[df['tweet_language'] == 'in'][:10].copy()"
   ]
  },
  {
   "cell_type": "code",
   "execution_count": 25,
   "id": "f5f877ab",
   "metadata": {},
   "outputs": [
    {
     "data": {
      "text/plain": [
       "'sjshsjjsh siapa yg nangis gw ya allah kak namjoon knp kok blm bobo skrng kak pls bobo udh malem kak udh malem jgn bikin gw nangis kak '"
      ]
     },
     "execution_count": 25,
     "metadata": {},
     "output_type": "execute_result"
    }
   ],
   "source": [
    "df_test.iloc[0]['tweet_rendered_content']"
   ]
  },
  {
   "cell_type": "markdown",
   "id": "c73c83cf",
   "metadata": {},
   "source": [
    "**Moved on to Googles Translator :**"
   ]
  },
  {
   "cell_type": "code",
   "execution_count": 26,
   "id": "0342a472",
   "metadata": {},
   "outputs": [
    {
     "data": {
      "text/plain": [
       "\"jisleearn just wanted to ask cel haven't gotten to know us yet it's okay I'm excited lu cil I hope to become a professor\""
      ]
     },
     "execution_count": 26,
     "metadata": {},
     "output_type": "execute_result"
    }
   ],
   "source": [
    "from deep_translator import GoogleTranslator\n",
    "to_translate = df_test.iloc[1]['tweet_rendered_content']\n",
    "\n",
    "translated = GoogleTranslator(source='id', target='en').translate(to_translate)\n",
    "translated"
   ]
  },
  {
   "cell_type": "code",
   "execution_count": 31,
   "id": "92dcff25",
   "metadata": {},
   "outputs": [],
   "source": [
    "# convert 'in' to 'id' for ease of execution\n",
    "df['tweet_language'] = df['tweet_language'].replace('in', 'id')"
   ]
  },
  {
   "cell_type": "code",
   "execution_count": 32,
   "id": "8c1d9d73",
   "metadata": {},
   "outputs": [],
   "source": [
    "from deep_translator import GoogleTranslator\n",
    "\n",
    "def translate_to_target(x, source, target):\n",
    "    translated = GoogleTranslator(source=source, target=target).translate(x)\n",
    "    return translated\n",
    "\n",
    "count = 0\n",
    "\n",
    "def process_row(row, source_language, target_language, print_progress=False):\n",
    "    global count\n",
    "    count += 1\n",
    "    if print_progress and count % 1000 == 0:\n",
    "        print(f\"Processed {count} rows\")\n",
    "\n",
    "    if row['tweet_language'] == source_language:\n",
    "        return translate_to_target(row['tweet_rendered_content'], source_language, target_language)\n",
    "    else:\n",
    "        return row['tweet_rendered_content']"
   ]
  },
  {
   "cell_type": "code",
   "execution_count": 33,
   "id": "b0adbb92",
   "metadata": {
    "collapsed": true
   },
   "outputs": [
    {
     "name": "stdout",
     "output_type": "stream",
     "text": [
      "Processed 1000 rows\n",
      "Processed 2000 rows\n",
      "Processed 3000 rows\n",
      "Processed 4000 rows\n",
      "Processed 5000 rows\n",
      "Processed 6000 rows\n",
      "Processed 7000 rows\n",
      "Processed 8000 rows\n"
     ]
    },
    {
     "ename": "ConnectionError",
     "evalue": "('Connection aborted.', RemoteDisconnected('Remote end closed connection without response'))",
     "output_type": "error",
     "traceback": [
      "\u001b[0;31m---------------------------------------------------------------------------\u001b[0m",
      "\u001b[0;31mRemoteDisconnected\u001b[0m                        Traceback (most recent call last)",
      "File \u001b[0;32m/opt/homebrew/lib/python3.10/site-packages/urllib3/connectionpool.py:703\u001b[0m, in \u001b[0;36mHTTPConnectionPool.urlopen\u001b[0;34m(self, method, url, body, headers, retries, redirect, assert_same_host, timeout, pool_timeout, release_conn, chunked, body_pos, **response_kw)\u001b[0m\n\u001b[1;32m    702\u001b[0m \u001b[38;5;66;03m# Make the request on the httplib connection object.\u001b[39;00m\n\u001b[0;32m--> 703\u001b[0m httplib_response \u001b[38;5;241m=\u001b[39m \u001b[38;5;28;43mself\u001b[39;49m\u001b[38;5;241;43m.\u001b[39;49m\u001b[43m_make_request\u001b[49m\u001b[43m(\u001b[49m\n\u001b[1;32m    704\u001b[0m \u001b[43m    \u001b[49m\u001b[43mconn\u001b[49m\u001b[43m,\u001b[49m\n\u001b[1;32m    705\u001b[0m \u001b[43m    \u001b[49m\u001b[43mmethod\u001b[49m\u001b[43m,\u001b[49m\n\u001b[1;32m    706\u001b[0m \u001b[43m    \u001b[49m\u001b[43murl\u001b[49m\u001b[43m,\u001b[49m\n\u001b[1;32m    707\u001b[0m \u001b[43m    \u001b[49m\u001b[43mtimeout\u001b[49m\u001b[38;5;241;43m=\u001b[39;49m\u001b[43mtimeout_obj\u001b[49m\u001b[43m,\u001b[49m\n\u001b[1;32m    708\u001b[0m \u001b[43m    \u001b[49m\u001b[43mbody\u001b[49m\u001b[38;5;241;43m=\u001b[39;49m\u001b[43mbody\u001b[49m\u001b[43m,\u001b[49m\n\u001b[1;32m    709\u001b[0m \u001b[43m    \u001b[49m\u001b[43mheaders\u001b[49m\u001b[38;5;241;43m=\u001b[39;49m\u001b[43mheaders\u001b[49m\u001b[43m,\u001b[49m\n\u001b[1;32m    710\u001b[0m \u001b[43m    \u001b[49m\u001b[43mchunked\u001b[49m\u001b[38;5;241;43m=\u001b[39;49m\u001b[43mchunked\u001b[49m\u001b[43m,\u001b[49m\n\u001b[1;32m    711\u001b[0m \u001b[43m\u001b[49m\u001b[43m)\u001b[49m\n\u001b[1;32m    713\u001b[0m \u001b[38;5;66;03m# If we're going to release the connection in ``finally:``, then\u001b[39;00m\n\u001b[1;32m    714\u001b[0m \u001b[38;5;66;03m# the response doesn't need to know about the connection. Otherwise\u001b[39;00m\n\u001b[1;32m    715\u001b[0m \u001b[38;5;66;03m# it will also try to release it and we'll have a double-release\u001b[39;00m\n\u001b[1;32m    716\u001b[0m \u001b[38;5;66;03m# mess.\u001b[39;00m\n",
      "File \u001b[0;32m/opt/homebrew/lib/python3.10/site-packages/urllib3/connectionpool.py:449\u001b[0m, in \u001b[0;36mHTTPConnectionPool._make_request\u001b[0;34m(self, conn, method, url, timeout, chunked, **httplib_request_kw)\u001b[0m\n\u001b[1;32m    445\u001b[0m         \u001b[38;5;28;01mexcept\u001b[39;00m \u001b[38;5;167;01mBaseException\u001b[39;00m \u001b[38;5;28;01mas\u001b[39;00m e:\n\u001b[1;32m    446\u001b[0m             \u001b[38;5;66;03m# Remove the TypeError from the exception chain in\u001b[39;00m\n\u001b[1;32m    447\u001b[0m             \u001b[38;5;66;03m# Python 3 (including for exceptions like SystemExit).\u001b[39;00m\n\u001b[1;32m    448\u001b[0m             \u001b[38;5;66;03m# Otherwise it looks like a bug in the code.\u001b[39;00m\n\u001b[0;32m--> 449\u001b[0m             \u001b[43msix\u001b[49m\u001b[38;5;241;43m.\u001b[39;49m\u001b[43mraise_from\u001b[49m\u001b[43m(\u001b[49m\u001b[43me\u001b[49m\u001b[43m,\u001b[49m\u001b[43m \u001b[49m\u001b[38;5;28;43;01mNone\u001b[39;49;00m\u001b[43m)\u001b[49m\n\u001b[1;32m    450\u001b[0m \u001b[38;5;28;01mexcept\u001b[39;00m (SocketTimeout, BaseSSLError, SocketError) \u001b[38;5;28;01mas\u001b[39;00m e:\n",
      "File \u001b[0;32m<string>:3\u001b[0m, in \u001b[0;36mraise_from\u001b[0;34m(value, from_value)\u001b[0m\n",
      "File \u001b[0;32m/opt/homebrew/lib/python3.10/site-packages/urllib3/connectionpool.py:444\u001b[0m, in \u001b[0;36mHTTPConnectionPool._make_request\u001b[0;34m(self, conn, method, url, timeout, chunked, **httplib_request_kw)\u001b[0m\n\u001b[1;32m    443\u001b[0m \u001b[38;5;28;01mtry\u001b[39;00m:\n\u001b[0;32m--> 444\u001b[0m     httplib_response \u001b[38;5;241m=\u001b[39m \u001b[43mconn\u001b[49m\u001b[38;5;241;43m.\u001b[39;49m\u001b[43mgetresponse\u001b[49m\u001b[43m(\u001b[49m\u001b[43m)\u001b[49m\n\u001b[1;32m    445\u001b[0m \u001b[38;5;28;01mexcept\u001b[39;00m \u001b[38;5;167;01mBaseException\u001b[39;00m \u001b[38;5;28;01mas\u001b[39;00m e:\n\u001b[1;32m    446\u001b[0m     \u001b[38;5;66;03m# Remove the TypeError from the exception chain in\u001b[39;00m\n\u001b[1;32m    447\u001b[0m     \u001b[38;5;66;03m# Python 3 (including for exceptions like SystemExit).\u001b[39;00m\n\u001b[1;32m    448\u001b[0m     \u001b[38;5;66;03m# Otherwise it looks like a bug in the code.\u001b[39;00m\n",
      "File \u001b[0;32m/opt/homebrew/Cellar/python@3.10/3.10.10_1/Frameworks/Python.framework/Versions/3.10/lib/python3.10/http/client.py:1374\u001b[0m, in \u001b[0;36mHTTPConnection.getresponse\u001b[0;34m(self)\u001b[0m\n\u001b[1;32m   1373\u001b[0m \u001b[38;5;28;01mtry\u001b[39;00m:\n\u001b[0;32m-> 1374\u001b[0m     \u001b[43mresponse\u001b[49m\u001b[38;5;241;43m.\u001b[39;49m\u001b[43mbegin\u001b[49m\u001b[43m(\u001b[49m\u001b[43m)\u001b[49m\n\u001b[1;32m   1375\u001b[0m \u001b[38;5;28;01mexcept\u001b[39;00m \u001b[38;5;167;01mConnectionError\u001b[39;00m:\n",
      "File \u001b[0;32m/opt/homebrew/Cellar/python@3.10/3.10.10_1/Frameworks/Python.framework/Versions/3.10/lib/python3.10/http/client.py:318\u001b[0m, in \u001b[0;36mHTTPResponse.begin\u001b[0;34m(self)\u001b[0m\n\u001b[1;32m    317\u001b[0m \u001b[38;5;28;01mwhile\u001b[39;00m \u001b[38;5;28;01mTrue\u001b[39;00m:\n\u001b[0;32m--> 318\u001b[0m     version, status, reason \u001b[38;5;241m=\u001b[39m \u001b[38;5;28;43mself\u001b[39;49m\u001b[38;5;241;43m.\u001b[39;49m\u001b[43m_read_status\u001b[49m\u001b[43m(\u001b[49m\u001b[43m)\u001b[49m\n\u001b[1;32m    319\u001b[0m     \u001b[38;5;28;01mif\u001b[39;00m status \u001b[38;5;241m!=\u001b[39m CONTINUE:\n",
      "File \u001b[0;32m/opt/homebrew/Cellar/python@3.10/3.10.10_1/Frameworks/Python.framework/Versions/3.10/lib/python3.10/http/client.py:287\u001b[0m, in \u001b[0;36mHTTPResponse._read_status\u001b[0;34m(self)\u001b[0m\n\u001b[1;32m    284\u001b[0m \u001b[38;5;28;01mif\u001b[39;00m \u001b[38;5;129;01mnot\u001b[39;00m line:\n\u001b[1;32m    285\u001b[0m     \u001b[38;5;66;03m# Presumably, the server closed the connection before\u001b[39;00m\n\u001b[1;32m    286\u001b[0m     \u001b[38;5;66;03m# sending a valid response.\u001b[39;00m\n\u001b[0;32m--> 287\u001b[0m     \u001b[38;5;28;01mraise\u001b[39;00m RemoteDisconnected(\u001b[38;5;124m\"\u001b[39m\u001b[38;5;124mRemote end closed connection without\u001b[39m\u001b[38;5;124m\"\u001b[39m\n\u001b[1;32m    288\u001b[0m                              \u001b[38;5;124m\"\u001b[39m\u001b[38;5;124m response\u001b[39m\u001b[38;5;124m\"\u001b[39m)\n\u001b[1;32m    289\u001b[0m \u001b[38;5;28;01mtry\u001b[39;00m:\n",
      "\u001b[0;31mRemoteDisconnected\u001b[0m: Remote end closed connection without response",
      "\nDuring handling of the above exception, another exception occurred:\n",
      "\u001b[0;31mProtocolError\u001b[0m                             Traceback (most recent call last)",
      "File \u001b[0;32m/opt/homebrew/lib/python3.10/site-packages/requests/adapters.py:489\u001b[0m, in \u001b[0;36mHTTPAdapter.send\u001b[0;34m(self, request, stream, timeout, verify, cert, proxies)\u001b[0m\n\u001b[1;32m    488\u001b[0m \u001b[38;5;28;01mif\u001b[39;00m \u001b[38;5;129;01mnot\u001b[39;00m chunked:\n\u001b[0;32m--> 489\u001b[0m     resp \u001b[38;5;241m=\u001b[39m \u001b[43mconn\u001b[49m\u001b[38;5;241;43m.\u001b[39;49m\u001b[43murlopen\u001b[49m\u001b[43m(\u001b[49m\n\u001b[1;32m    490\u001b[0m \u001b[43m        \u001b[49m\u001b[43mmethod\u001b[49m\u001b[38;5;241;43m=\u001b[39;49m\u001b[43mrequest\u001b[49m\u001b[38;5;241;43m.\u001b[39;49m\u001b[43mmethod\u001b[49m\u001b[43m,\u001b[49m\n\u001b[1;32m    491\u001b[0m \u001b[43m        \u001b[49m\u001b[43murl\u001b[49m\u001b[38;5;241;43m=\u001b[39;49m\u001b[43murl\u001b[49m\u001b[43m,\u001b[49m\n\u001b[1;32m    492\u001b[0m \u001b[43m        \u001b[49m\u001b[43mbody\u001b[49m\u001b[38;5;241;43m=\u001b[39;49m\u001b[43mrequest\u001b[49m\u001b[38;5;241;43m.\u001b[39;49m\u001b[43mbody\u001b[49m\u001b[43m,\u001b[49m\n\u001b[1;32m    493\u001b[0m \u001b[43m        \u001b[49m\u001b[43mheaders\u001b[49m\u001b[38;5;241;43m=\u001b[39;49m\u001b[43mrequest\u001b[49m\u001b[38;5;241;43m.\u001b[39;49m\u001b[43mheaders\u001b[49m\u001b[43m,\u001b[49m\n\u001b[1;32m    494\u001b[0m \u001b[43m        \u001b[49m\u001b[43mredirect\u001b[49m\u001b[38;5;241;43m=\u001b[39;49m\u001b[38;5;28;43;01mFalse\u001b[39;49;00m\u001b[43m,\u001b[49m\n\u001b[1;32m    495\u001b[0m \u001b[43m        \u001b[49m\u001b[43massert_same_host\u001b[49m\u001b[38;5;241;43m=\u001b[39;49m\u001b[38;5;28;43;01mFalse\u001b[39;49;00m\u001b[43m,\u001b[49m\n\u001b[1;32m    496\u001b[0m \u001b[43m        \u001b[49m\u001b[43mpreload_content\u001b[49m\u001b[38;5;241;43m=\u001b[39;49m\u001b[38;5;28;43;01mFalse\u001b[39;49;00m\u001b[43m,\u001b[49m\n\u001b[1;32m    497\u001b[0m \u001b[43m        \u001b[49m\u001b[43mdecode_content\u001b[49m\u001b[38;5;241;43m=\u001b[39;49m\u001b[38;5;28;43;01mFalse\u001b[39;49;00m\u001b[43m,\u001b[49m\n\u001b[1;32m    498\u001b[0m \u001b[43m        \u001b[49m\u001b[43mretries\u001b[49m\u001b[38;5;241;43m=\u001b[39;49m\u001b[38;5;28;43mself\u001b[39;49m\u001b[38;5;241;43m.\u001b[39;49m\u001b[43mmax_retries\u001b[49m\u001b[43m,\u001b[49m\n\u001b[1;32m    499\u001b[0m \u001b[43m        \u001b[49m\u001b[43mtimeout\u001b[49m\u001b[38;5;241;43m=\u001b[39;49m\u001b[43mtimeout\u001b[49m\u001b[43m,\u001b[49m\n\u001b[1;32m    500\u001b[0m \u001b[43m    \u001b[49m\u001b[43m)\u001b[49m\n\u001b[1;32m    502\u001b[0m \u001b[38;5;66;03m# Send the request.\u001b[39;00m\n\u001b[1;32m    503\u001b[0m \u001b[38;5;28;01melse\u001b[39;00m:\n",
      "File \u001b[0;32m/opt/homebrew/lib/python3.10/site-packages/urllib3/connectionpool.py:787\u001b[0m, in \u001b[0;36mHTTPConnectionPool.urlopen\u001b[0;34m(self, method, url, body, headers, retries, redirect, assert_same_host, timeout, pool_timeout, release_conn, chunked, body_pos, **response_kw)\u001b[0m\n\u001b[1;32m    785\u001b[0m     e \u001b[38;5;241m=\u001b[39m ProtocolError(\u001b[38;5;124m\"\u001b[39m\u001b[38;5;124mConnection aborted.\u001b[39m\u001b[38;5;124m\"\u001b[39m, e)\n\u001b[0;32m--> 787\u001b[0m retries \u001b[38;5;241m=\u001b[39m \u001b[43mretries\u001b[49m\u001b[38;5;241;43m.\u001b[39;49m\u001b[43mincrement\u001b[49m\u001b[43m(\u001b[49m\n\u001b[1;32m    788\u001b[0m \u001b[43m    \u001b[49m\u001b[43mmethod\u001b[49m\u001b[43m,\u001b[49m\u001b[43m \u001b[49m\u001b[43murl\u001b[49m\u001b[43m,\u001b[49m\u001b[43m \u001b[49m\u001b[43merror\u001b[49m\u001b[38;5;241;43m=\u001b[39;49m\u001b[43me\u001b[49m\u001b[43m,\u001b[49m\u001b[43m \u001b[49m\u001b[43m_pool\u001b[49m\u001b[38;5;241;43m=\u001b[39;49m\u001b[38;5;28;43mself\u001b[39;49m\u001b[43m,\u001b[49m\u001b[43m \u001b[49m\u001b[43m_stacktrace\u001b[49m\u001b[38;5;241;43m=\u001b[39;49m\u001b[43msys\u001b[49m\u001b[38;5;241;43m.\u001b[39;49m\u001b[43mexc_info\u001b[49m\u001b[43m(\u001b[49m\u001b[43m)\u001b[49m\u001b[43m[\u001b[49m\u001b[38;5;241;43m2\u001b[39;49m\u001b[43m]\u001b[49m\n\u001b[1;32m    789\u001b[0m \u001b[43m\u001b[49m\u001b[43m)\u001b[49m\n\u001b[1;32m    790\u001b[0m retries\u001b[38;5;241m.\u001b[39msleep()\n",
      "File \u001b[0;32m/opt/homebrew/lib/python3.10/site-packages/urllib3/util/retry.py:550\u001b[0m, in \u001b[0;36mRetry.increment\u001b[0;34m(self, method, url, response, error, _pool, _stacktrace)\u001b[0m\n\u001b[1;32m    549\u001b[0m \u001b[38;5;28;01mif\u001b[39;00m read \u001b[38;5;129;01mis\u001b[39;00m \u001b[38;5;28;01mFalse\u001b[39;00m \u001b[38;5;129;01mor\u001b[39;00m \u001b[38;5;129;01mnot\u001b[39;00m \u001b[38;5;28mself\u001b[39m\u001b[38;5;241m.\u001b[39m_is_method_retryable(method):\n\u001b[0;32m--> 550\u001b[0m     \u001b[38;5;28;01mraise\u001b[39;00m \u001b[43msix\u001b[49m\u001b[38;5;241;43m.\u001b[39;49m\u001b[43mreraise\u001b[49m\u001b[43m(\u001b[49m\u001b[38;5;28;43mtype\u001b[39;49m\u001b[43m(\u001b[49m\u001b[43merror\u001b[49m\u001b[43m)\u001b[49m\u001b[43m,\u001b[49m\u001b[43m \u001b[49m\u001b[43merror\u001b[49m\u001b[43m,\u001b[49m\u001b[43m \u001b[49m\u001b[43m_stacktrace\u001b[49m\u001b[43m)\u001b[49m\n\u001b[1;32m    551\u001b[0m \u001b[38;5;28;01melif\u001b[39;00m read \u001b[38;5;129;01mis\u001b[39;00m \u001b[38;5;129;01mnot\u001b[39;00m \u001b[38;5;28;01mNone\u001b[39;00m:\n",
      "File \u001b[0;32m/opt/homebrew/lib/python3.10/site-packages/urllib3/packages/six.py:769\u001b[0m, in \u001b[0;36mreraise\u001b[0;34m(tp, value, tb)\u001b[0m\n\u001b[1;32m    768\u001b[0m \u001b[38;5;28;01mif\u001b[39;00m value\u001b[38;5;241m.\u001b[39m__traceback__ \u001b[38;5;129;01mis\u001b[39;00m \u001b[38;5;129;01mnot\u001b[39;00m tb:\n\u001b[0;32m--> 769\u001b[0m     \u001b[38;5;28;01mraise\u001b[39;00m value\u001b[38;5;241m.\u001b[39mwith_traceback(tb)\n\u001b[1;32m    770\u001b[0m \u001b[38;5;28;01mraise\u001b[39;00m value\n",
      "File \u001b[0;32m/opt/homebrew/lib/python3.10/site-packages/urllib3/connectionpool.py:703\u001b[0m, in \u001b[0;36mHTTPConnectionPool.urlopen\u001b[0;34m(self, method, url, body, headers, retries, redirect, assert_same_host, timeout, pool_timeout, release_conn, chunked, body_pos, **response_kw)\u001b[0m\n\u001b[1;32m    702\u001b[0m \u001b[38;5;66;03m# Make the request on the httplib connection object.\u001b[39;00m\n\u001b[0;32m--> 703\u001b[0m httplib_response \u001b[38;5;241m=\u001b[39m \u001b[38;5;28;43mself\u001b[39;49m\u001b[38;5;241;43m.\u001b[39;49m\u001b[43m_make_request\u001b[49m\u001b[43m(\u001b[49m\n\u001b[1;32m    704\u001b[0m \u001b[43m    \u001b[49m\u001b[43mconn\u001b[49m\u001b[43m,\u001b[49m\n\u001b[1;32m    705\u001b[0m \u001b[43m    \u001b[49m\u001b[43mmethod\u001b[49m\u001b[43m,\u001b[49m\n\u001b[1;32m    706\u001b[0m \u001b[43m    \u001b[49m\u001b[43murl\u001b[49m\u001b[43m,\u001b[49m\n\u001b[1;32m    707\u001b[0m \u001b[43m    \u001b[49m\u001b[43mtimeout\u001b[49m\u001b[38;5;241;43m=\u001b[39;49m\u001b[43mtimeout_obj\u001b[49m\u001b[43m,\u001b[49m\n\u001b[1;32m    708\u001b[0m \u001b[43m    \u001b[49m\u001b[43mbody\u001b[49m\u001b[38;5;241;43m=\u001b[39;49m\u001b[43mbody\u001b[49m\u001b[43m,\u001b[49m\n\u001b[1;32m    709\u001b[0m \u001b[43m    \u001b[49m\u001b[43mheaders\u001b[49m\u001b[38;5;241;43m=\u001b[39;49m\u001b[43mheaders\u001b[49m\u001b[43m,\u001b[49m\n\u001b[1;32m    710\u001b[0m \u001b[43m    \u001b[49m\u001b[43mchunked\u001b[49m\u001b[38;5;241;43m=\u001b[39;49m\u001b[43mchunked\u001b[49m\u001b[43m,\u001b[49m\n\u001b[1;32m    711\u001b[0m \u001b[43m\u001b[49m\u001b[43m)\u001b[49m\n\u001b[1;32m    713\u001b[0m \u001b[38;5;66;03m# If we're going to release the connection in ``finally:``, then\u001b[39;00m\n\u001b[1;32m    714\u001b[0m \u001b[38;5;66;03m# the response doesn't need to know about the connection. Otherwise\u001b[39;00m\n\u001b[1;32m    715\u001b[0m \u001b[38;5;66;03m# it will also try to release it and we'll have a double-release\u001b[39;00m\n\u001b[1;32m    716\u001b[0m \u001b[38;5;66;03m# mess.\u001b[39;00m\n",
      "File \u001b[0;32m/opt/homebrew/lib/python3.10/site-packages/urllib3/connectionpool.py:449\u001b[0m, in \u001b[0;36mHTTPConnectionPool._make_request\u001b[0;34m(self, conn, method, url, timeout, chunked, **httplib_request_kw)\u001b[0m\n\u001b[1;32m    445\u001b[0m         \u001b[38;5;28;01mexcept\u001b[39;00m \u001b[38;5;167;01mBaseException\u001b[39;00m \u001b[38;5;28;01mas\u001b[39;00m e:\n\u001b[1;32m    446\u001b[0m             \u001b[38;5;66;03m# Remove the TypeError from the exception chain in\u001b[39;00m\n\u001b[1;32m    447\u001b[0m             \u001b[38;5;66;03m# Python 3 (including for exceptions like SystemExit).\u001b[39;00m\n\u001b[1;32m    448\u001b[0m             \u001b[38;5;66;03m# Otherwise it looks like a bug in the code.\u001b[39;00m\n\u001b[0;32m--> 449\u001b[0m             \u001b[43msix\u001b[49m\u001b[38;5;241;43m.\u001b[39;49m\u001b[43mraise_from\u001b[49m\u001b[43m(\u001b[49m\u001b[43me\u001b[49m\u001b[43m,\u001b[49m\u001b[43m \u001b[49m\u001b[38;5;28;43;01mNone\u001b[39;49;00m\u001b[43m)\u001b[49m\n\u001b[1;32m    450\u001b[0m \u001b[38;5;28;01mexcept\u001b[39;00m (SocketTimeout, BaseSSLError, SocketError) \u001b[38;5;28;01mas\u001b[39;00m e:\n",
      "File \u001b[0;32m<string>:3\u001b[0m, in \u001b[0;36mraise_from\u001b[0;34m(value, from_value)\u001b[0m\n",
      "File \u001b[0;32m/opt/homebrew/lib/python3.10/site-packages/urllib3/connectionpool.py:444\u001b[0m, in \u001b[0;36mHTTPConnectionPool._make_request\u001b[0;34m(self, conn, method, url, timeout, chunked, **httplib_request_kw)\u001b[0m\n\u001b[1;32m    443\u001b[0m \u001b[38;5;28;01mtry\u001b[39;00m:\n\u001b[0;32m--> 444\u001b[0m     httplib_response \u001b[38;5;241m=\u001b[39m \u001b[43mconn\u001b[49m\u001b[38;5;241;43m.\u001b[39;49m\u001b[43mgetresponse\u001b[49m\u001b[43m(\u001b[49m\u001b[43m)\u001b[49m\n\u001b[1;32m    445\u001b[0m \u001b[38;5;28;01mexcept\u001b[39;00m \u001b[38;5;167;01mBaseException\u001b[39;00m \u001b[38;5;28;01mas\u001b[39;00m e:\n\u001b[1;32m    446\u001b[0m     \u001b[38;5;66;03m# Remove the TypeError from the exception chain in\u001b[39;00m\n\u001b[1;32m    447\u001b[0m     \u001b[38;5;66;03m# Python 3 (including for exceptions like SystemExit).\u001b[39;00m\n\u001b[1;32m    448\u001b[0m     \u001b[38;5;66;03m# Otherwise it looks like a bug in the code.\u001b[39;00m\n",
      "File \u001b[0;32m/opt/homebrew/Cellar/python@3.10/3.10.10_1/Frameworks/Python.framework/Versions/3.10/lib/python3.10/http/client.py:1374\u001b[0m, in \u001b[0;36mHTTPConnection.getresponse\u001b[0;34m(self)\u001b[0m\n\u001b[1;32m   1373\u001b[0m \u001b[38;5;28;01mtry\u001b[39;00m:\n\u001b[0;32m-> 1374\u001b[0m     \u001b[43mresponse\u001b[49m\u001b[38;5;241;43m.\u001b[39;49m\u001b[43mbegin\u001b[49m\u001b[43m(\u001b[49m\u001b[43m)\u001b[49m\n\u001b[1;32m   1375\u001b[0m \u001b[38;5;28;01mexcept\u001b[39;00m \u001b[38;5;167;01mConnectionError\u001b[39;00m:\n",
      "File \u001b[0;32m/opt/homebrew/Cellar/python@3.10/3.10.10_1/Frameworks/Python.framework/Versions/3.10/lib/python3.10/http/client.py:318\u001b[0m, in \u001b[0;36mHTTPResponse.begin\u001b[0;34m(self)\u001b[0m\n\u001b[1;32m    317\u001b[0m \u001b[38;5;28;01mwhile\u001b[39;00m \u001b[38;5;28;01mTrue\u001b[39;00m:\n\u001b[0;32m--> 318\u001b[0m     version, status, reason \u001b[38;5;241m=\u001b[39m \u001b[38;5;28;43mself\u001b[39;49m\u001b[38;5;241;43m.\u001b[39;49m\u001b[43m_read_status\u001b[49m\u001b[43m(\u001b[49m\u001b[43m)\u001b[49m\n\u001b[1;32m    319\u001b[0m     \u001b[38;5;28;01mif\u001b[39;00m status \u001b[38;5;241m!=\u001b[39m CONTINUE:\n",
      "File \u001b[0;32m/opt/homebrew/Cellar/python@3.10/3.10.10_1/Frameworks/Python.framework/Versions/3.10/lib/python3.10/http/client.py:287\u001b[0m, in \u001b[0;36mHTTPResponse._read_status\u001b[0;34m(self)\u001b[0m\n\u001b[1;32m    284\u001b[0m \u001b[38;5;28;01mif\u001b[39;00m \u001b[38;5;129;01mnot\u001b[39;00m line:\n\u001b[1;32m    285\u001b[0m     \u001b[38;5;66;03m# Presumably, the server closed the connection before\u001b[39;00m\n\u001b[1;32m    286\u001b[0m     \u001b[38;5;66;03m# sending a valid response.\u001b[39;00m\n\u001b[0;32m--> 287\u001b[0m     \u001b[38;5;28;01mraise\u001b[39;00m RemoteDisconnected(\u001b[38;5;124m\"\u001b[39m\u001b[38;5;124mRemote end closed connection without\u001b[39m\u001b[38;5;124m\"\u001b[39m\n\u001b[1;32m    288\u001b[0m                              \u001b[38;5;124m\"\u001b[39m\u001b[38;5;124m response\u001b[39m\u001b[38;5;124m\"\u001b[39m)\n\u001b[1;32m    289\u001b[0m \u001b[38;5;28;01mtry\u001b[39;00m:\n",
      "\u001b[0;31mProtocolError\u001b[0m: ('Connection aborted.', RemoteDisconnected('Remote end closed connection without response'))",
      "\nDuring handling of the above exception, another exception occurred:\n",
      "\u001b[0;31mConnectionError\u001b[0m                           Traceback (most recent call last)",
      "Cell \u001b[0;32mIn[33], line 3\u001b[0m\n\u001b[1;32m      1\u001b[0m \u001b[38;5;66;03m# Iterate over DataFrame rows\u001b[39;00m\n\u001b[1;32m      2\u001b[0m \u001b[38;5;28;01mfor\u001b[39;00m index, row \u001b[38;5;129;01min\u001b[39;00m df\u001b[38;5;241m.\u001b[39miterrows():\n\u001b[0;32m----> 3\u001b[0m     df\u001b[38;5;241m.\u001b[39mat[index, \u001b[38;5;124m'\u001b[39m\u001b[38;5;124mtweet_rendered_content\u001b[39m\u001b[38;5;124m'\u001b[39m] \u001b[38;5;241m=\u001b[39m \u001b[43mprocess_row\u001b[49m\u001b[43m(\u001b[49m\u001b[43mrow\u001b[49m\u001b[43m,\u001b[49m\u001b[38;5;124;43m'\u001b[39;49m\u001b[38;5;124;43mid\u001b[39;49m\u001b[38;5;124;43m'\u001b[39;49m\u001b[43m,\u001b[49m\u001b[38;5;124;43m'\u001b[39;49m\u001b[38;5;124;43men\u001b[39;49m\u001b[38;5;124;43m'\u001b[39;49m\u001b[43m,\u001b[49m\u001b[43m \u001b[49m\u001b[43mprint_progress\u001b[49m\u001b[38;5;241;43m=\u001b[39;49m\u001b[38;5;28;43;01mTrue\u001b[39;49;00m\u001b[43m)\u001b[49m\n",
      "Cell \u001b[0;32mIn[32], line 16\u001b[0m, in \u001b[0;36mprocess_row\u001b[0;34m(row, source_language, target_language, print_progress)\u001b[0m\n\u001b[1;32m     13\u001b[0m     \u001b[38;5;28mprint\u001b[39m(\u001b[38;5;124mf\u001b[39m\u001b[38;5;124m\"\u001b[39m\u001b[38;5;124mProcessed \u001b[39m\u001b[38;5;132;01m{\u001b[39;00mcount\u001b[38;5;132;01m}\u001b[39;00m\u001b[38;5;124m rows\u001b[39m\u001b[38;5;124m\"\u001b[39m)\n\u001b[1;32m     15\u001b[0m \u001b[38;5;28;01mif\u001b[39;00m row[\u001b[38;5;124m'\u001b[39m\u001b[38;5;124mtweet_language\u001b[39m\u001b[38;5;124m'\u001b[39m] \u001b[38;5;241m==\u001b[39m source_language:\n\u001b[0;32m---> 16\u001b[0m     \u001b[38;5;28;01mreturn\u001b[39;00m \u001b[43mtranslate_to_target\u001b[49m\u001b[43m(\u001b[49m\u001b[43mrow\u001b[49m\u001b[43m[\u001b[49m\u001b[38;5;124;43m'\u001b[39;49m\u001b[38;5;124;43mtweet_rendered_content\u001b[39;49m\u001b[38;5;124;43m'\u001b[39;49m\u001b[43m]\u001b[49m\u001b[43m,\u001b[49m\u001b[43m \u001b[49m\u001b[43msource_language\u001b[49m\u001b[43m,\u001b[49m\u001b[43m \u001b[49m\u001b[43mtarget_language\u001b[49m\u001b[43m)\u001b[49m\n\u001b[1;32m     17\u001b[0m \u001b[38;5;28;01melse\u001b[39;00m:\n\u001b[1;32m     18\u001b[0m     \u001b[38;5;28;01mreturn\u001b[39;00m row[\u001b[38;5;124m'\u001b[39m\u001b[38;5;124mtweet_rendered_content\u001b[39m\u001b[38;5;124m'\u001b[39m]\n",
      "Cell \u001b[0;32mIn[32], line 4\u001b[0m, in \u001b[0;36mtranslate_to_target\u001b[0;34m(x, source, target)\u001b[0m\n\u001b[1;32m      3\u001b[0m \u001b[38;5;28;01mdef\u001b[39;00m \u001b[38;5;21mtranslate_to_target\u001b[39m(x, source, target):\n\u001b[0;32m----> 4\u001b[0m     translated \u001b[38;5;241m=\u001b[39m \u001b[43mGoogleTranslator\u001b[49m\u001b[43m(\u001b[49m\u001b[43msource\u001b[49m\u001b[38;5;241;43m=\u001b[39;49m\u001b[43msource\u001b[49m\u001b[43m,\u001b[49m\u001b[43m \u001b[49m\u001b[43mtarget\u001b[49m\u001b[38;5;241;43m=\u001b[39;49m\u001b[43mtarget\u001b[49m\u001b[43m)\u001b[49m\u001b[38;5;241;43m.\u001b[39;49m\u001b[43mtranslate\u001b[49m\u001b[43m(\u001b[49m\u001b[43mx\u001b[49m\u001b[43m)\u001b[49m\n\u001b[1;32m      5\u001b[0m     \u001b[38;5;28;01mreturn\u001b[39;00m translated\n",
      "File \u001b[0;32m/opt/homebrew/lib/python3.10/site-packages/deep_translator/google.py:67\u001b[0m, in \u001b[0;36mGoogleTranslator.translate\u001b[0;34m(self, text, **kwargs)\u001b[0m\n\u001b[1;32m     64\u001b[0m \u001b[38;5;28;01mif\u001b[39;00m \u001b[38;5;28mself\u001b[39m\u001b[38;5;241m.\u001b[39mpayload_key:\n\u001b[1;32m     65\u001b[0m     \u001b[38;5;28mself\u001b[39m\u001b[38;5;241m.\u001b[39m_url_params[\u001b[38;5;28mself\u001b[39m\u001b[38;5;241m.\u001b[39mpayload_key] \u001b[38;5;241m=\u001b[39m text\n\u001b[0;32m---> 67\u001b[0m response \u001b[38;5;241m=\u001b[39m \u001b[43mrequests\u001b[49m\u001b[38;5;241;43m.\u001b[39;49m\u001b[43mget\u001b[49m\u001b[43m(\u001b[49m\n\u001b[1;32m     68\u001b[0m \u001b[43m    \u001b[49m\u001b[38;5;28;43mself\u001b[39;49m\u001b[38;5;241;43m.\u001b[39;49m\u001b[43m_base_url\u001b[49m\u001b[43m,\u001b[49m\u001b[43m \u001b[49m\u001b[43mparams\u001b[49m\u001b[38;5;241;43m=\u001b[39;49m\u001b[38;5;28;43mself\u001b[39;49m\u001b[38;5;241;43m.\u001b[39;49m\u001b[43m_url_params\u001b[49m\u001b[43m,\u001b[49m\u001b[43m \u001b[49m\u001b[43mproxies\u001b[49m\u001b[38;5;241;43m=\u001b[39;49m\u001b[38;5;28;43mself\u001b[39;49m\u001b[38;5;241;43m.\u001b[39;49m\u001b[43mproxies\u001b[49m\n\u001b[1;32m     69\u001b[0m \u001b[43m\u001b[49m\u001b[43m)\u001b[49m\n\u001b[1;32m     70\u001b[0m \u001b[38;5;28;01mif\u001b[39;00m response\u001b[38;5;241m.\u001b[39mstatus_code \u001b[38;5;241m==\u001b[39m \u001b[38;5;241m429\u001b[39m:\n\u001b[1;32m     71\u001b[0m     \u001b[38;5;28;01mraise\u001b[39;00m TooManyRequests()\n",
      "File \u001b[0;32m/opt/homebrew/lib/python3.10/site-packages/requests/api.py:73\u001b[0m, in \u001b[0;36mget\u001b[0;34m(url, params, **kwargs)\u001b[0m\n\u001b[1;32m     62\u001b[0m \u001b[38;5;28;01mdef\u001b[39;00m \u001b[38;5;21mget\u001b[39m(url, params\u001b[38;5;241m=\u001b[39m\u001b[38;5;28;01mNone\u001b[39;00m, \u001b[38;5;241m*\u001b[39m\u001b[38;5;241m*\u001b[39mkwargs):\n\u001b[1;32m     63\u001b[0m     \u001b[38;5;124mr\u001b[39m\u001b[38;5;124;03m\"\"\"Sends a GET request.\u001b[39;00m\n\u001b[1;32m     64\u001b[0m \n\u001b[1;32m     65\u001b[0m \u001b[38;5;124;03m    :param url: URL for the new :class:`Request` object.\u001b[39;00m\n\u001b[0;32m   (...)\u001b[0m\n\u001b[1;32m     70\u001b[0m \u001b[38;5;124;03m    :rtype: requests.Response\u001b[39;00m\n\u001b[1;32m     71\u001b[0m \u001b[38;5;124;03m    \"\"\"\u001b[39;00m\n\u001b[0;32m---> 73\u001b[0m     \u001b[38;5;28;01mreturn\u001b[39;00m \u001b[43mrequest\u001b[49m\u001b[43m(\u001b[49m\u001b[38;5;124;43m\"\u001b[39;49m\u001b[38;5;124;43mget\u001b[39;49m\u001b[38;5;124;43m\"\u001b[39;49m\u001b[43m,\u001b[49m\u001b[43m \u001b[49m\u001b[43murl\u001b[49m\u001b[43m,\u001b[49m\u001b[43m \u001b[49m\u001b[43mparams\u001b[49m\u001b[38;5;241;43m=\u001b[39;49m\u001b[43mparams\u001b[49m\u001b[43m,\u001b[49m\u001b[43m \u001b[49m\u001b[38;5;241;43m*\u001b[39;49m\u001b[38;5;241;43m*\u001b[39;49m\u001b[43mkwargs\u001b[49m\u001b[43m)\u001b[49m\n",
      "File \u001b[0;32m/opt/homebrew/lib/python3.10/site-packages/requests/api.py:59\u001b[0m, in \u001b[0;36mrequest\u001b[0;34m(method, url, **kwargs)\u001b[0m\n\u001b[1;32m     55\u001b[0m \u001b[38;5;66;03m# By using the 'with' statement we are sure the session is closed, thus we\u001b[39;00m\n\u001b[1;32m     56\u001b[0m \u001b[38;5;66;03m# avoid leaving sockets open which can trigger a ResourceWarning in some\u001b[39;00m\n\u001b[1;32m     57\u001b[0m \u001b[38;5;66;03m# cases, and look like a memory leak in others.\u001b[39;00m\n\u001b[1;32m     58\u001b[0m \u001b[38;5;28;01mwith\u001b[39;00m sessions\u001b[38;5;241m.\u001b[39mSession() \u001b[38;5;28;01mas\u001b[39;00m session:\n\u001b[0;32m---> 59\u001b[0m     \u001b[38;5;28;01mreturn\u001b[39;00m \u001b[43msession\u001b[49m\u001b[38;5;241;43m.\u001b[39;49m\u001b[43mrequest\u001b[49m\u001b[43m(\u001b[49m\u001b[43mmethod\u001b[49m\u001b[38;5;241;43m=\u001b[39;49m\u001b[43mmethod\u001b[49m\u001b[43m,\u001b[49m\u001b[43m \u001b[49m\u001b[43murl\u001b[49m\u001b[38;5;241;43m=\u001b[39;49m\u001b[43murl\u001b[49m\u001b[43m,\u001b[49m\u001b[43m \u001b[49m\u001b[38;5;241;43m*\u001b[39;49m\u001b[38;5;241;43m*\u001b[39;49m\u001b[43mkwargs\u001b[49m\u001b[43m)\u001b[49m\n",
      "File \u001b[0;32m/opt/homebrew/lib/python3.10/site-packages/requests/sessions.py:587\u001b[0m, in \u001b[0;36mSession.request\u001b[0;34m(self, method, url, params, data, headers, cookies, files, auth, timeout, allow_redirects, proxies, hooks, stream, verify, cert, json)\u001b[0m\n\u001b[1;32m    582\u001b[0m send_kwargs \u001b[38;5;241m=\u001b[39m {\n\u001b[1;32m    583\u001b[0m     \u001b[38;5;124m\"\u001b[39m\u001b[38;5;124mtimeout\u001b[39m\u001b[38;5;124m\"\u001b[39m: timeout,\n\u001b[1;32m    584\u001b[0m     \u001b[38;5;124m\"\u001b[39m\u001b[38;5;124mallow_redirects\u001b[39m\u001b[38;5;124m\"\u001b[39m: allow_redirects,\n\u001b[1;32m    585\u001b[0m }\n\u001b[1;32m    586\u001b[0m send_kwargs\u001b[38;5;241m.\u001b[39mupdate(settings)\n\u001b[0;32m--> 587\u001b[0m resp \u001b[38;5;241m=\u001b[39m \u001b[38;5;28;43mself\u001b[39;49m\u001b[38;5;241;43m.\u001b[39;49m\u001b[43msend\u001b[49m\u001b[43m(\u001b[49m\u001b[43mprep\u001b[49m\u001b[43m,\u001b[49m\u001b[43m \u001b[49m\u001b[38;5;241;43m*\u001b[39;49m\u001b[38;5;241;43m*\u001b[39;49m\u001b[43msend_kwargs\u001b[49m\u001b[43m)\u001b[49m\n\u001b[1;32m    589\u001b[0m \u001b[38;5;28;01mreturn\u001b[39;00m resp\n",
      "File \u001b[0;32m/opt/homebrew/lib/python3.10/site-packages/requests/sessions.py:701\u001b[0m, in \u001b[0;36mSession.send\u001b[0;34m(self, request, **kwargs)\u001b[0m\n\u001b[1;32m    698\u001b[0m start \u001b[38;5;241m=\u001b[39m preferred_clock()\n\u001b[1;32m    700\u001b[0m \u001b[38;5;66;03m# Send the request\u001b[39;00m\n\u001b[0;32m--> 701\u001b[0m r \u001b[38;5;241m=\u001b[39m \u001b[43madapter\u001b[49m\u001b[38;5;241;43m.\u001b[39;49m\u001b[43msend\u001b[49m\u001b[43m(\u001b[49m\u001b[43mrequest\u001b[49m\u001b[43m,\u001b[49m\u001b[43m \u001b[49m\u001b[38;5;241;43m*\u001b[39;49m\u001b[38;5;241;43m*\u001b[39;49m\u001b[43mkwargs\u001b[49m\u001b[43m)\u001b[49m\n\u001b[1;32m    703\u001b[0m \u001b[38;5;66;03m# Total elapsed time of the request (approximately)\u001b[39;00m\n\u001b[1;32m    704\u001b[0m elapsed \u001b[38;5;241m=\u001b[39m preferred_clock() \u001b[38;5;241m-\u001b[39m start\n",
      "File \u001b[0;32m/opt/homebrew/lib/python3.10/site-packages/requests/adapters.py:547\u001b[0m, in \u001b[0;36mHTTPAdapter.send\u001b[0;34m(self, request, stream, timeout, verify, cert, proxies)\u001b[0m\n\u001b[1;32m    544\u001b[0m             \u001b[38;5;28;01mraise\u001b[39;00m\n\u001b[1;32m    546\u001b[0m \u001b[38;5;28;01mexcept\u001b[39;00m (ProtocolError, \u001b[38;5;167;01mOSError\u001b[39;00m) \u001b[38;5;28;01mas\u001b[39;00m err:\n\u001b[0;32m--> 547\u001b[0m     \u001b[38;5;28;01mraise\u001b[39;00m \u001b[38;5;167;01mConnectionError\u001b[39;00m(err, request\u001b[38;5;241m=\u001b[39mrequest)\n\u001b[1;32m    549\u001b[0m \u001b[38;5;28;01mexcept\u001b[39;00m MaxRetryError \u001b[38;5;28;01mas\u001b[39;00m e:\n\u001b[1;32m    550\u001b[0m     \u001b[38;5;28;01mif\u001b[39;00m \u001b[38;5;28misinstance\u001b[39m(e\u001b[38;5;241m.\u001b[39mreason, ConnectTimeoutError):\n\u001b[1;32m    551\u001b[0m         \u001b[38;5;66;03m# TODO: Remove this in 3.0.0: see #2811\u001b[39;00m\n",
      "\u001b[0;31mConnectionError\u001b[0m: ('Connection aborted.', RemoteDisconnected('Remote end closed connection without response'))"
     ]
    }
   ],
   "source": [
    "# Iterate over DataFrame rows\n",
    "for index, row in df.iterrows():\n",
    "    df.at[index, 'tweet_rendered_content'] = process_row(row,'id','en', print_progress=True)"
   ]
  },
  {
   "cell_type": "code",
   "execution_count": 35,
   "id": "37c7bd5f",
   "metadata": {
    "collapsed": true
   },
   "outputs": [
    {
     "name": "stdout",
     "output_type": "stream",
     "text": [
      "Processed 9000 rows\n",
      "Processed 10000 rows\n",
      "Processed 11000 rows\n",
      "Processed 12000 rows\n",
      "Processed 13000 rows\n",
      "Processed 14000 rows\n",
      "Processed 15000 rows\n",
      "Processed 16000 rows\n",
      "Processed 17000 rows\n",
      "Processed 18000 rows\n",
      "Processed 19000 rows\n",
      "Processed 20000 rows\n",
      "Processed 21000 rows\n",
      "Processed 22000 rows\n",
      "Processed 23000 rows\n",
      "Processed 24000 rows\n",
      "Processed 25000 rows\n",
      "Processed 26000 rows\n",
      "Processed 27000 rows\n",
      "Processed 28000 rows\n",
      "Processed 29000 rows\n",
      "Processed 30000 rows\n",
      "Processed 31000 rows\n",
      "Processed 32000 rows\n",
      "Processed 33000 rows\n",
      "Processed 34000 rows\n",
      "Processed 35000 rows\n",
      "Processed 36000 rows\n",
      "Processed 37000 rows\n",
      "Processed 38000 rows\n",
      "Processed 39000 rows\n",
      "Processed 40000 rows\n",
      "Processed 41000 rows\n",
      "Processed 42000 rows\n",
      "Processed 43000 rows\n",
      "Processed 44000 rows\n",
      "Processed 45000 rows\n",
      "Processed 46000 rows\n",
      "Processed 47000 rows\n",
      "Processed 48000 rows\n",
      "Processed 49000 rows\n",
      "Processed 50000 rows\n",
      "Processed 51000 rows\n",
      "Processed 52000 rows\n",
      "Processed 53000 rows\n",
      "Processed 54000 rows\n",
      "Processed 55000 rows\n",
      "Processed 56000 rows\n",
      "Processed 57000 rows\n",
      "Processed 58000 rows\n",
      "Processed 59000 rows\n",
      "Processed 60000 rows\n",
      "Processed 61000 rows\n",
      "Processed 62000 rows\n",
      "Processed 63000 rows\n",
      "Processed 64000 rows\n",
      "Processed 65000 rows\n",
      "Processed 66000 rows\n",
      "Processed 67000 rows\n",
      "Processed 68000 rows\n",
      "Processed 69000 rows\n",
      "Processed 70000 rows\n",
      "Processed 71000 rows\n",
      "Processed 72000 rows\n",
      "Processed 73000 rows\n",
      "Processed 74000 rows\n",
      "Processed 75000 rows\n",
      "Processed 76000 rows\n",
      "Processed 77000 rows\n",
      "Processed 78000 rows\n",
      "Processed 79000 rows\n",
      "Processed 80000 rows\n",
      "Processed 81000 rows\n",
      "Processed 82000 rows\n",
      "Processed 83000 rows\n",
      "Processed 84000 rows\n",
      "Processed 85000 rows\n",
      "Processed 86000 rows\n",
      "Processed 87000 rows\n",
      "Processed 88000 rows\n",
      "Processed 89000 rows\n",
      "Processed 90000 rows\n",
      "Processed 91000 rows\n",
      "Processed 92000 rows\n",
      "Processed 93000 rows\n",
      "Processed 94000 rows\n",
      "Processed 95000 rows\n",
      "Processed 96000 rows\n",
      "Processed 97000 rows\n",
      "Processed 98000 rows\n",
      "Processed 99000 rows\n",
      "Processed 100000 rows\n"
     ]
    }
   ],
   "source": [
    "import itertools\n",
    "\n",
    "# previous code broke around 8000\n",
    "start_index = 8000\n",
    "end_index = len(df)\n",
    "\n",
    "# iterating over a sliced portion of DataFrame rows\n",
    "for index, row in itertools.islice(df.iterrows(), start_index, end_index):\n",
    "    df.at[index, 'tweet_rendered_content'] = process_row(row, 'id','en', print_progress=True)\n",
    "    \n",
    "# reset count for future use    \n",
    "count = 0 "
   ]
  },
  {
   "cell_type": "markdown",
   "id": "6a9953f1",
   "metadata": {},
   "source": [
    "**TESTING FRENCH CONVERSION :**"
   ]
  },
  {
   "cell_type": "code",
   "execution_count": 36,
   "id": "fe3c594b",
   "metadata": {},
   "outputs": [
    {
     "data": {
      "text/plain": [
       "'pessilapierre leblm arnaultraphael ivarmundus mdrrrrr il veut nous faire le mystérieux ce brank c’est quoi le délire twitter ça vous fais trop pousser des boule'"
      ]
     },
     "execution_count": 36,
     "metadata": {},
     "output_type": "execute_result"
    }
   ],
   "source": [
    "df[df['tweet_language'] == 'fr'].iloc[2]['tweet_rendered_content']"
   ]
  },
  {
   "cell_type": "code",
   "execution_count": 37,
   "id": "83160a93",
   "metadata": {},
   "outputs": [
    {
     "data": {
      "text/plain": [
       "'pessilapierre leblm arnaultraphael ivarmundus mdrrrrr he wants to make us mysterious this brank what is the delirium twitter it makes you grow too many balls'"
      ]
     },
     "execution_count": 37,
     "metadata": {},
     "output_type": "execute_result"
    }
   ],
   "source": [
    "from deep_translator import GoogleTranslator\n",
    "to_translate = df[df['tweet_language'] == 'fr'].iloc[2]['tweet_rendered_content']\n",
    "\n",
    "translated = GoogleTranslator(source='fr', target='en').translate(to_translate)\n",
    "translated"
   ]
  },
  {
   "cell_type": "code",
   "execution_count": 40,
   "id": "791b8c03",
   "metadata": {},
   "outputs": [],
   "source": [
    "# Iterate over DataFrame rows\n",
    "for index, row in df.iterrows():\n",
    "    df.at[index, 'tweet_rendered_content'] = process_row(row,'fr','en')"
   ]
  },
  {
   "cell_type": "code",
   "execution_count": 45,
   "id": "54cfecc9",
   "metadata": {},
   "outputs": [
    {
     "data": {
      "text/plain": [
       "'leblm pessilapierre arnaultraphael ivarmundus policenationale mdrrrrr you can see the only times he left his house was to buy a computer and to file a complaint against this puppet'"
      ]
     },
     "execution_count": 45,
     "metadata": {},
     "output_type": "execute_result"
    }
   ],
   "source": [
    "df[df['tweet_language']=='fr'].iloc[0]['tweet_rendered_content']"
   ]
  },
  {
   "cell_type": "code",
   "execution_count": 46,
   "id": "5ba0618b",
   "metadata": {},
   "outputs": [
    {
     "data": {
      "text/plain": [
       "id     48421\n",
       "en     41782\n",
       "qme     1977\n",
       "und     1459\n",
       "fr      1149\n",
       "ja       965\n",
       "es       636\n",
       "zxx      480\n",
       "pt       430\n",
       "de       311\n",
       "ko       282\n",
       "tr       252\n",
       "qst      204\n",
       "art      177\n",
       "nl       167\n",
       "qam      161\n",
       "tl       136\n",
       "qht      123\n",
       "ar       113\n",
       "ht        90\n",
       "it        84\n",
       "zh        68\n",
       "pl        63\n",
       "sv        57\n",
       "et        49\n",
       "iw        49\n",
       "fi        32\n",
       "cy        29\n",
       "ru        27\n",
       "cs        25\n",
       "da        25\n",
       "ca        24\n",
       "lt        23\n",
       "ro        18\n",
       "hi        18\n",
       "no        18\n",
       "hu        12\n",
       "eu        11\n",
       "is        10\n",
       "lv         9\n",
       "el         8\n",
       "fa         7\n",
       "th         7\n",
       "sl         5\n",
       "uk         5\n",
       "vi         2\n",
       "Name: tweet_language, dtype: int64"
      ]
     },
     "execution_count": 46,
     "metadata": {},
     "output_type": "execute_result"
    }
   ],
   "source": [
    "df.tweet_language.value_counts()"
   ]
  },
  {
   "cell_type": "markdown",
   "id": "280a177e",
   "metadata": {},
   "source": [
    "**Japaneses :** "
   ]
  },
  {
   "cell_type": "code",
   "execution_count": 48,
   "id": "bfadb861",
   "metadata": {},
   "outputs": [
    {
     "data": {
      "text/plain": [
       "'雅結はやっぱ素敵…'"
      ]
     },
     "execution_count": 48,
     "metadata": {},
     "output_type": "execute_result"
    }
   ],
   "source": [
    "to_translate = df[df['tweet_language'] == 'ja'].iloc[2]['tweet_rendered_content']\n",
    "to_translate"
   ]
  },
  {
   "cell_type": "code",
   "execution_count": 47,
   "id": "6764fa83",
   "metadata": {},
   "outputs": [
    {
     "data": {
      "text/plain": [
       "'Yayui is really nice...'"
      ]
     },
     "execution_count": 47,
     "metadata": {},
     "output_type": "execute_result"
    }
   ],
   "source": [
    "translated = GoogleTranslator(source='ja', target='en').translate(to_translate)\n",
    "translated"
   ]
  },
  {
   "cell_type": "code",
   "execution_count": 49,
   "id": "4ef773bf",
   "metadata": {},
   "outputs": [],
   "source": [
    "# Iterate over DataFrame rows\n",
    "for index, row in df[df['tweet_language']=='ja'].iterrows():\n",
    "    df.at[index, 'tweet_rendered_content'] = process_row(row,'ja','en')"
   ]
  },
  {
   "cell_type": "markdown",
   "id": "431fc9e5",
   "metadata": {},
   "source": [
    "**Espanyol :**"
   ]
  },
  {
   "cell_type": "code",
   "execution_count": 52,
   "id": "686e91ab",
   "metadata": {},
   "outputs": [
    {
     "data": {
      "text/plain": [
       "'plusherror no es por eso es para tapar un lío en el que se ha metido'"
      ]
     },
     "execution_count": 52,
     "metadata": {},
     "output_type": "execute_result"
    }
   ],
   "source": [
    "to_translate = df[df['tweet_language'] == 'es'].iloc[2]['tweet_rendered_content']\n",
    "to_translate"
   ]
  },
  {
   "cell_type": "code",
   "execution_count": 53,
   "id": "c7780efe",
   "metadata": {},
   "outputs": [
    {
     "data": {
      "text/plain": [
       "\"plusherror that's not why it's to cover up a mess he's gotten himself into\""
      ]
     },
     "execution_count": 53,
     "metadata": {},
     "output_type": "execute_result"
    }
   ],
   "source": [
    "translated = GoogleTranslator(source='es', target='en').translate(to_translate)\n",
    "translated"
   ]
  },
  {
   "cell_type": "code",
   "execution_count": 54,
   "id": "e71b129f",
   "metadata": {},
   "outputs": [],
   "source": [
    "# Iterate over DataFrame rows\n",
    "for index, row in df[df['tweet_language']=='es'].iterrows():\n",
    "    df.at[index, 'tweet_rendered_content'] = process_row(row,'es','en')"
   ]
  },
  {
   "cell_type": "markdown",
   "id": "4e502196",
   "metadata": {},
   "source": [
    "**denamrk:**"
   ]
  },
  {
   "cell_type": "code",
   "execution_count": 65,
   "id": "58d4c1a8",
   "metadata": {
    "scrolled": true
   },
   "outputs": [
    {
     "data": {
      "text/plain": [
       "'levlupde 300 euro dann grundlos gebannt worden von activison und alles weg nochmal dankeschön call of duty dickes kuss'"
      ]
     },
     "execution_count": 65,
     "metadata": {},
     "output_type": "execute_result"
    }
   ],
   "source": [
    "to_translate = df[df['tweet_language'] == 'de'].iloc[3]['tweet_rendered_content']\n",
    "to_translate"
   ]
  },
  {
   "cell_type": "code",
   "execution_count": 66,
   "id": "73138a5a",
   "metadata": {},
   "outputs": [
    {
     "data": {
      "text/plain": [
       "'levlupde 300 euros then been banned by activison for no reason and everything is gone again thank you call of duty big kiss'"
      ]
     },
     "execution_count": 66,
     "metadata": {},
     "output_type": "execute_result"
    }
   ],
   "source": [
    "translated = GoogleTranslator(source='de', target='en').translate(to_translate)\n",
    "translated"
   ]
  },
  {
   "cell_type": "code",
   "execution_count": 67,
   "id": "435e7212",
   "metadata": {},
   "outputs": [],
   "source": [
    "# Iterate over DataFrame rows\n",
    "for index, row in df[df['tweet_language']=='de'].iterrows():\n",
    "    df.at[index, 'tweet_rendered_content'] = process_row(row,'de','en')"
   ]
  },
  {
   "cell_type": "markdown",
   "id": "46fadd8b",
   "metadata": {},
   "source": [
    "**korean:**"
   ]
  },
  {
   "cell_type": "code",
   "execution_count": 69,
   "id": "af5b479b",
   "metadata": {},
   "outputs": [
    {
     "data": {
      "text/plain": [
       "'4디페 일단 아마 혼자갈지도용 ㅎㅎ\\n뭔가 뿌릴만한거 그때까지 만든다면\\n드리고싶네요꼭'"
      ]
     },
     "execution_count": 69,
     "metadata": {},
     "output_type": "execute_result"
    }
   ],
   "source": [
    "to_translate = df[df['tweet_language'] == 'ko'].iloc[3]['tweet_rendered_content']\n",
    "to_translate"
   ]
  },
  {
   "cell_type": "code",
   "execution_count": 70,
   "id": "7a2fdf5f",
   "metadata": {},
   "outputs": [
    {
     "data": {
      "text/plain": [
       "\"4 DEF, maybe I'll go alone haha\\nIf you make something worth spraying by then\\nI want to give you\""
      ]
     },
     "execution_count": 70,
     "metadata": {},
     "output_type": "execute_result"
    }
   ],
   "source": [
    "translated = GoogleTranslator(source='ko', target='en').translate(to_translate)\n",
    "translated"
   ]
  },
  {
   "cell_type": "code",
   "execution_count": 71,
   "id": "c7c5fe01",
   "metadata": {},
   "outputs": [],
   "source": [
    "# Iterate over DataFrame rows\n",
    "for index, row in df[df['tweet_language']=='ko'].iterrows():\n",
    "    df.at[index, 'tweet_rendered_content'] = process_row(row,'ko','en')"
   ]
  },
  {
   "cell_type": "markdown",
   "id": "41f80bfb",
   "metadata": {},
   "source": [
    "**portugese:**"
   ]
  },
  {
   "cell_type": "code",
   "execution_count": 74,
   "id": "8ca267e7",
   "metadata": {},
   "outputs": [
    {
     "data": {
      "text/plain": [
       "'nattycaballero1 diegotorbesbage eu li e posso te afirmar que se tratando de contratação a do r10 tá no top um de maiores fiascos do rs futebolisticamente falando '"
      ]
     },
     "execution_count": 74,
     "metadata": {},
     "output_type": "execute_result"
    }
   ],
   "source": [
    "to_translate = df[df['tweet_language'] == 'pt'].iloc[2]['tweet_rendered_content']\n",
    "to_translate"
   ]
  },
  {
   "cell_type": "code",
   "execution_count": 75,
   "id": "5854d6d1",
   "metadata": {},
   "outputs": [
    {
     "data": {
      "text/plain": [
       "'nattycaballero1 diegotorbesbage I read it and I can tell you that when it comes to hiring the r10 is in the top one of the biggest fiascoes of the rs football-wise speaking'"
      ]
     },
     "execution_count": 75,
     "metadata": {},
     "output_type": "execute_result"
    }
   ],
   "source": [
    "translated = GoogleTranslator(source='pt', target='en').translate(to_translate)\n",
    "translated"
   ]
  },
  {
   "cell_type": "code",
   "execution_count": 76,
   "id": "e3d2b6e3",
   "metadata": {},
   "outputs": [],
   "source": [
    "# Iterate over DataFrame rows\n",
    "for index, row in df[df['tweet_language']=='pt'].iterrows():\n",
    "    df.at[index, 'tweet_rendered_content'] = process_row(row,'pt','en')"
   ]
  },
  {
   "cell_type": "markdown",
   "id": "2fee4315",
   "metadata": {},
   "source": [
    "**Saving modified df as a csv to prevent loss of data**"
   ]
  },
  {
   "cell_type": "code",
   "execution_count": 81,
   "id": "d1cd3ac0",
   "metadata": {},
   "outputs": [],
   "source": [
    "df.to_csv('/Users/alenjose/Desktop/data/project_data/self-scraped/processed/BLM_100k_translated_partially.csv')"
   ]
  },
  {
   "cell_type": "code",
   "execution_count": 85,
   "id": "332f9a52",
   "metadata": {},
   "outputs": [],
   "source": [
    "english_tweets = ['en', 'id', 'fr','ja','es','de','ko','pt']"
   ]
  },
  {
   "cell_type": "code",
   "execution_count": 83,
   "id": "a21e07ec",
   "metadata": {},
   "outputs": [],
   "source": [
    "stopwords = nltk.corpus.stopwords.words('english')\n",
    "\n",
    "def remove_stopwords(text):\n",
    "    return \" \".join([word for word in str(text).split() \\\n",
    "                       if word not in stopwords])\n",
    "\n",
    "\n",
    "# df_english['tweet_rendered_content'] = df_english['tweet_rendered_content'].apply(lambda x:remove_stopwords(x))"
   ]
  },
  {
   "cell_type": "code",
   "execution_count": 86,
   "id": "e103171c",
   "metadata": {},
   "outputs": [],
   "source": [
    "df.loc[df['tweet_language'].isin(english_tweets), 'tweet_rendered_content'] = \\\n",
    "        df.loc[df['tweet_language'].isin(english_tweets), 'tweet_rendered_content']\\\n",
    "                                        .apply(remove_stopwords)"
   ]
  },
  {
   "cell_type": "code",
   "execution_count": 87,
   "id": "10fee401",
   "metadata": {},
   "outputs": [],
   "source": [
    "# removing usernames\n",
    "def remove_usernames(text):\n",
    "    return re.sub('@[^\\s]+','',text)\n",
    "\n",
    "df['tweet_without_username'] = df['tweet_rendered_content']\\\n",
    "                                .apply(lambda x:remove_usernames(x))"
   ]
  },
  {
   "cell_type": "code",
   "execution_count": 88,
   "id": "7155ed0c",
   "metadata": {},
   "outputs": [
    {
     "data": {
      "text/plain": [
       "Index(['date', 'tweet_rendered_content', 'tweet_id', 'user_name',\n",
       "       'display_name', 'user_id', 'user_description', 'verified',\n",
       "       'user_profile_created', 'user_follower_count', 'user_friend_count',\n",
       "       'user_statuses_count', 'user_location', 'tweet_reply_count',\n",
       "       'tweet_retweet_count', 'tweet_like_count', 'tweet_quote_count',\n",
       "       'tweet_language', 'tweet_source', 'tweet_mentioned_users', 'year',\n",
       "       'month', 'tweet_without_username'],\n",
       "      dtype='object')"
      ]
     },
     "execution_count": 88,
     "metadata": {},
     "output_type": "execute_result"
    }
   ],
   "source": [
    "df.columns"
   ]
  },
  {
   "cell_type": "code",
   "execution_count": 89,
   "id": "54741a35",
   "metadata": {},
   "outputs": [
    {
     "data": {
      "text/plain": [
       "0        sjshsjjsh who's crying, oh god, sis Namjoon, I...\n",
       "1                                             diiovane sim\n",
       "2               someone needs check keepers betway account\n",
       "3        jisleearn wanted ask cel gotten know us yet ok...\n",
       "4                   remasxkarina right wkwkw slept yet huh\n",
       "                               ...                        \n",
       "99995                          I miss people forgotten yet\n",
       "99996    walshfreedom dont like pointing hypocritical i...\n",
       "99997                                      mayacounty yeah\n",
       "99998    much interaction, look like cute child needs p...\n",
       "99999                                   noidcall blm yeeha\n",
       "Name: tweet_rendered_content, Length: 100000, dtype: object"
      ]
     },
     "execution_count": 89,
     "metadata": {},
     "output_type": "execute_result"
    }
   ],
   "source": [
    "df.tweet_rendered_content"
   ]
  },
  {
   "cell_type": "code",
   "execution_count": 91,
   "id": "686d0ee0",
   "metadata": {},
   "outputs": [],
   "source": [
    "df.to_csv('/Users/alenjose/Desktop/data/project_data/self-scraped/processed/BLM_100k_final.csv')"
   ]
  },
  {
   "cell_type": "code",
   "execution_count": null,
   "id": "be2ec888",
   "metadata": {},
   "outputs": [],
   "source": []
  }
 ],
 "metadata": {
  "kernelspec": {
   "display_name": "Python 3 (ipykernel)",
   "language": "python",
   "name": "python3"
  },
  "language_info": {
   "codemirror_mode": {
    "name": "ipython",
    "version": 3
   },
   "file_extension": ".py",
   "mimetype": "text/x-python",
   "name": "python",
   "nbconvert_exporter": "python",
   "pygments_lexer": "ipython3",
   "version": "3.10.10"
  }
 },
 "nbformat": 4,
 "nbformat_minor": 5
}
