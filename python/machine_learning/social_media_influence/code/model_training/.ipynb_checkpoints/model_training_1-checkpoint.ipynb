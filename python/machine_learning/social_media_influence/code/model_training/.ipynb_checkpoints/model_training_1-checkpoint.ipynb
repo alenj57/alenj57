{
 "cells": [
  {
   "cell_type": "code",
   "execution_count": 2,
   "id": "1525bcd0",
   "metadata": {},
   "outputs": [],
   "source": [
    "import pandas as pd\n",
    "import numpy as np\n",
    "import matplotlib.pyplot as plt\n",
    "\n",
    "from textblob import TextBlob\n",
    "from sklearn.metrics import classification_report, confusion_matrix, accuracy_score, precision_score, recall_score, f1_score\n",
    "from sklearn.linear_model import LogisticRegression\n",
    "from sklearn.model_selection import train_test_split\n",
    "from sklearn.feature_extraction.text import CountVectorizer,TfidfVectorizer\n",
    "from sklearn.exceptions import ConvergenceWarning\n",
    "from nltk.corpus import stopwords\n",
    "\n",
    "# remove warnings to avoid confusing results\n",
    "import warnings\n",
    "# to ignore convergence warnings \n",
    "warnings.filterwarnings(\"ignore\", category=ConvergenceWarning)"
   ]
  },
  {
   "cell_type": "code",
   "execution_count": 3,
   "id": "ad5e9031",
   "metadata": {},
   "outputs": [
    {
     "data": {
      "text/html": [
       "<div>\n",
       "<style scoped>\n",
       "    .dataframe tbody tr th:only-of-type {\n",
       "        vertical-align: middle;\n",
       "    }\n",
       "\n",
       "    .dataframe tbody tr th {\n",
       "        vertical-align: top;\n",
       "    }\n",
       "\n",
       "    .dataframe thead th {\n",
       "        text-align: right;\n",
       "    }\n",
       "</style>\n",
       "<table border=\"1\" class=\"dataframe\">\n",
       "  <thead>\n",
       "    <tr style=\"text-align: right;\">\n",
       "      <th></th>\n",
       "      <th>target</th>\n",
       "      <th>tweet_text</th>\n",
       "      <th>original_text_length</th>\n",
       "      <th>current_tweet_len</th>\n",
       "    </tr>\n",
       "  </thead>\n",
       "  <tbody>\n",
       "    <tr>\n",
       "      <th>0</th>\n",
       "      <td>0</td>\n",
       "      <td>awww that bummer you shoulda got david carr of...</td>\n",
       "      <td>115</td>\n",
       "      <td>65</td>\n",
       "    </tr>\n",
       "    <tr>\n",
       "      <th>1</th>\n",
       "      <td>0</td>\n",
       "      <td>is upset that he can update his facebook by te...</td>\n",
       "      <td>111</td>\n",
       "      <td>101</td>\n",
       "    </tr>\n",
       "    <tr>\n",
       "      <th>2</th>\n",
       "      <td>0</td>\n",
       "      <td>dived many times for the ball managed to save ...</td>\n",
       "      <td>89</td>\n",
       "      <td>71</td>\n",
       "    </tr>\n",
       "    <tr>\n",
       "      <th>3</th>\n",
       "      <td>0</td>\n",
       "      <td>my whole body feels itchy and like its on fire</td>\n",
       "      <td>47</td>\n",
       "      <td>46</td>\n",
       "    </tr>\n",
       "    <tr>\n",
       "      <th>4</th>\n",
       "      <td>0</td>\n",
       "      <td>no it not behaving at all mad why am here beca...</td>\n",
       "      <td>111</td>\n",
       "      <td>76</td>\n",
       "    </tr>\n",
       "  </tbody>\n",
       "</table>\n",
       "</div>"
      ],
      "text/plain": [
       "   target                                         tweet_text  \\\n",
       "0       0  awww that bummer you shoulda got david carr of...   \n",
       "1       0  is upset that he can update his facebook by te...   \n",
       "2       0  dived many times for the ball managed to save ...   \n",
       "3       0     my whole body feels itchy and like its on fire   \n",
       "4       0  no it not behaving at all mad why am here beca...   \n",
       "\n",
       "   original_text_length  current_tweet_len  \n",
       "0                   115                 65  \n",
       "1                   111                101  \n",
       "2                    89                 71  \n",
       "3                    47                 46  \n",
       "4                   111                 76  "
      ]
     },
     "execution_count": 3,
     "metadata": {},
     "output_type": "execute_result"
    }
   ],
   "source": [
    "df = pd.read_csv('/Users/alenjose/Desktop/data/project_data/training_data/cleaned_model_data.csv',index_col=0)\n",
    "df.head()"
   ]
  },
  {
   "cell_type": "code",
   "execution_count": 4,
   "id": "f5933641",
   "metadata": {},
   "outputs": [
    {
     "name": "stdout",
     "output_type": "stream",
     "text": [
      "<class 'pandas.core.frame.DataFrame'>\n",
      "Index: 1596053 entries, 0 to 1599999\n",
      "Data columns (total 4 columns):\n",
      " #   Column                Non-Null Count    Dtype \n",
      "---  ------                --------------    ----- \n",
      " 0   target                1596053 non-null  int64 \n",
      " 1   tweet_text            1596053 non-null  object\n",
      " 2   original_text_length  1596053 non-null  int64 \n",
      " 3   current_tweet_len     1596053 non-null  int64 \n",
      "dtypes: int64(3), object(1)\n",
      "memory usage: 60.9+ MB\n"
     ]
    }
   ],
   "source": [
    "df.info()"
   ]
  },
  {
   "cell_type": "markdown",
   "id": "7d64c139",
   "metadata": {},
   "source": [
    "# Baseline Model :\n",
    "### I have decided to use TextBlob as a baseline for all other models to be compared to.\n",
    "REFERENCE : https://www.analyticsvidhya.com/blog/2021/10/sentiment-analysis-with-textblob-and-vader/"
   ]
  },
  {
   "cell_type": "code",
   "execution_count": 5,
   "id": "77f54dc9",
   "metadata": {},
   "outputs": [],
   "source": [
    "# apply textblob and extract sentiment polarity\n",
    "def extract_polarity(text):\n",
    "    return TextBlob(text).sentiment.polarity\n",
    "\n",
    "# to match textblob output\n",
    "df['textblob_target'] = df['target'].replace({0: -1, 4: 1})\n",
    "\n",
    "# predicting sentiment polarity \n",
    "df['predicted_sentiment'] = df['tweet_text'].apply(extract_polarity)\n",
    "\n",
    "# predicting exact sentiment using polarity\n",
    "df['predicted_sentiment'] = df['predicted_sentiment'].apply(lambda x: 1 if x > 0 else -1)"
   ]
  },
  {
   "cell_type": "markdown",
   "id": "71cae9c5",
   "metadata": {},
   "source": [
    "https://scikit-learn.org/stable/modules/generated/sklearn.metrics.classification_report.html"
   ]
  },
  {
   "cell_type": "code",
   "execution_count": 6,
   "id": "2f7a2c74",
   "metadata": {},
   "outputs": [
    {
     "name": "stdout",
     "output_type": "stream",
     "text": [
      "Accuracy: 0.6257029058558833\n",
      "Precision: 0.6431373613112469\n",
      "Recall: 0.5644360552633129\n",
      "F1 Score: 0.601222104144527\n",
      "\n",
      "Confusion Matrix:\n",
      " [[548318 249882]\n",
      " [347516 450337]]\n",
      "\n",
      "Classification Report:\n",
      "               precision    recall  f1-score   support\n",
      "\n",
      "          -1       0.61      0.69      0.65    798200\n",
      "           1       0.64      0.56      0.60    797853\n",
      "\n",
      "    accuracy                           0.63   1596053\n",
      "   macro avg       0.63      0.63      0.62   1596053\n",
      "weighted avg       0.63      0.63      0.62   1596053\n",
      "\n"
     ]
    }
   ],
   "source": [
    "from sklearn.metrics import precision_score, recall_score, f1_score\n",
    "\n",
    "# Accuracy\n",
    "print('Accuracy:', accuracy_score(df['textblob_target'], df['predicted_sentiment']))\n",
    "\n",
    "# Precision\n",
    "print('Precision:', precision_score(df['textblob_target'], df['predicted_sentiment']))\n",
    "\n",
    "# Recall\n",
    "print('Recall:', recall_score(df['textblob_target'], df['predicted_sentiment']))\n",
    "\n",
    "# F1 Score\n",
    "print('F1 Score:', f1_score(df['textblob_target'], df['predicted_sentiment']))\n",
    "\n",
    "# Confusion Matrix\n",
    "print('\\nConfusion Matrix:\\n', confusion_matrix(df['textblob_target'], df['predicted_sentiment']))\n",
    "\n",
    "# Classification Report\n",
    "print('\\nClassification Report:\\n', classification_report(df['textblob_target'], df['predicted_sentiment']))"
   ]
  },
  {
   "cell_type": "markdown",
   "id": "87fb94d6",
   "metadata": {},
   "source": [
    "**The model performed with 62.57% accuracy which is pretty decent. The balanced F1-score indicates that the performance is similiar on both negative and positive classes.**\n",
    "\n",
    "**The accuracy of the model is a clear indication that there is room for improvement. The results of this model can be set as a baseline.**"
   ]
  },
  {
   "cell_type": "markdown",
   "id": "64f6093d",
   "metadata": {},
   "source": [
    "# Moving on to Logistic Regression : "
   ]
  },
  {
   "cell_type": "markdown",
   "id": "d6c1af6b",
   "metadata": {},
   "source": [
    "REFERENCE : https://scikit-learn.org"
   ]
  },
  {
   "cell_type": "code",
   "execution_count": 8,
   "id": "c2c6bc0f",
   "metadata": {},
   "outputs": [],
   "source": [
    "# 80 - 20 split (training and testing)\n",
    "x_train, x_test_temp, y_train, y_test_temp = train_test_split(df['tweet_text'], df['target'], test_size=0.2, random_state=42)\n",
    "\n",
    "# 50 - 50 split on the temp data\n",
    "x_val, x_test, y_val, y_test = train_test_split(x_test_temp, y_test_temp, test_size=0.5, random_state=42)"
   ]
  },
  {
   "cell_type": "markdown",
   "id": "3137dcd5",
   "metadata": {},
   "source": [
    "Note for self : When you fit the vectorizer, it learns the vocabulary of the training set - the words that are used, and possibly their frequency. It does not learn anything about the labels of the training data, so there is no information leakage that could cause a bias towards the training set."
   ]
  },
  {
   "cell_type": "markdown",
   "id": "fed06767",
   "metadata": {},
   "source": [
    "### CountVectorizer"
   ]
  },
  {
   "cell_type": "code",
   "execution_count": 10,
   "id": "406ef6c7",
   "metadata": {},
   "outputs": [
    {
     "name": "stdout",
     "output_type": "stream",
     "text": [
      "Validation Accuracy: 0.796002631496507\n",
      "Validation Precision: 0.7868403263966008\n",
      "Validation Recall: 0.8139476805893738\n",
      "Validation F1 Score: 0.8001644888264213\n",
      "\n",
      "Validation Confusion Matrix:\n",
      " [[61861 17659]\n",
      " [14900 65185]]\n",
      "\n",
      "Validation Classification Report:\n",
      "               precision    recall  f1-score   support\n",
      "\n",
      "           0       0.81      0.78      0.79     79520\n",
      "           4       0.79      0.81      0.80     80085\n",
      "\n",
      "    accuracy                           0.80    159605\n",
      "   macro avg       0.80      0.80      0.80    159605\n",
      "weighted avg       0.80      0.80      0.80    159605\n",
      "\n"
     ]
    }
   ],
   "source": [
    "# vectorizer instance\n",
    "vectorizer = CountVectorizer()\n",
    "# fit object to training  data\n",
    "x_train_vect = vectorizer.fit_transform(x_train)\n",
    "\n",
    "# log reg model \n",
    "model = LogisticRegression()\n",
    "model.fit(x_train_vect, y_train)\n",
    "\n",
    "# model validation\n",
    "x_val_vect = vectorizer.transform(x_val)\n",
    "y_val_pred = model.predict(x_val_vect)\n",
    "\n",
    "# Validation Accuracy\n",
    "print('Validation Accuracy:', accuracy_score(y_val, y_val_pred))\n",
    "\n",
    "# Validation Precision\n",
    "print('Validation Precision:', precision_score(y_val, y_val_pred, pos_label=4))\n",
    "\n",
    "# Validation Recall\n",
    "print('Validation Recall:', recall_score(y_val, y_val_pred, pos_label=4))\n",
    "\n",
    "# Validation F1 Score\n",
    "print('Validation F1 Score:', f1_score(y_val, y_val_pred, pos_label=4))\n",
    "\n",
    "# Validation Confusion Matrix\n",
    "print('\\nValidation Confusion Matrix:\\n', confusion_matrix(y_val, y_val_pred))\n",
    "\n",
    "# Validation Classification Report\n",
    "print('\\nValidation Classification Report:\\n', classification_report(y_val, y_val_pred))"
   ]
  },
  {
   "cell_type": "code",
   "execution_count": 11,
   "id": "53a49b40",
   "metadata": {},
   "outputs": [
    {
     "name": "stdout",
     "output_type": "stream",
     "text": [
      "Validation Accuracy: 0.7981391560414774\n",
      "Validation Precision: 0.7912432919186634\n",
      "Validation Recall: 0.8119123431354186\n",
      "Validation F1 Score: 0.8014445772885826\n",
      "\n",
      "Validation Confusion Matrix:\n",
      " [[62365 17155]\n",
      " [15063 65022]]\n",
      "\n",
      "Validation Classification Report:\n",
      "               precision    recall  f1-score   support\n",
      "\n",
      "           0       0.81      0.78      0.79     79520\n",
      "           4       0.79      0.81      0.80     80085\n",
      "\n",
      "    accuracy                           0.80    159605\n",
      "   macro avg       0.80      0.80      0.80    159605\n",
      "weighted avg       0.80      0.80      0.80    159605\n",
      "\n"
     ]
    }
   ],
   "source": [
    "model = LogisticRegression(max_iter=1000)\n",
    "model.fit(x_train_vect, y_train)\n",
    "\n",
    "# Validate the model\n",
    "x_val_vect = vectorizer.transform(x_val)\n",
    "y_val_pred = model.predict(x_val_vect)\n",
    "\n",
    "print('Validation Accuracy:', accuracy_score(y_val, y_val_pred))\n",
    "print('Validation Precision:', precision_score(y_val, y_val_pred, pos_label=4))\n",
    "print('Validation Recall:', recall_score(y_val, y_val_pred, pos_label=4))\n",
    "print('Validation F1 Score:', f1_score(y_val, y_val_pred, pos_label=4))\n",
    "print('\\nValidation Confusion Matrix:\\n', confusion_matrix(y_val, y_val_pred))\n",
    "print('\\nValidation Classification Report:\\n', classification_report(y_val, y_val_pred))"
   ]
  },
  {
   "cell_type": "markdown",
   "id": "cfffe9ac",
   "metadata": {},
   "source": [
    "### TF_IDF : "
   ]
  },
  {
   "cell_type": "markdown",
   "id": "a4a364c4",
   "metadata": {},
   "source": [
    "TfidfVectorizer counts frequency of every word in a particular document (just like CountVectorizer) but also takes into consideration frequency of the word in the entire corpus of documents. This could help with focusing on words that are unique to particular documents and avoid words like \"the\" or \"is\", which are very common but don't provide a much information.\n",
    "\n",
    "REFERENCE : https://scikit-learn.org/stable/modules/generated/sklearn.feature_extraction.text.TfidfVectorizer.html#sklearn.feature_extraction.text.TfidfVectorizer"
   ]
  },
  {
   "cell_type": "code",
   "execution_count": 10,
   "id": "81d09c11",
   "metadata": {},
   "outputs": [],
   "source": [
    "# TfidfVectorizer instance\n",
    "tfid_vectorizer = TfidfVectorizer()\n",
    "\n",
    "# document-term matrix by learning vocabulary\n",
    "x_train_tfidf = tfid_vectorizer.fit_transform(x_train)\n",
    "\n",
    "# transform validation data using vectorizer\n",
    "x_val_tfidf = tfid_vectorizer.transform(x_val)\n",
    "\n",
    "# transform test data using vectorizer\n",
    "x_test_tfidf = tfid_vectorizer.transform(x_test)"
   ]
  },
  {
   "cell_type": "markdown",
   "id": "a8599984",
   "metadata": {},
   "source": [
    "### Finding the optimal iteration limit. "
   ]
  },
  {
   "cell_type": "code",
   "execution_count": 11,
   "id": "793f54f6",
   "metadata": {
    "scrolled": true
   },
   "outputs": [
    {
     "name": "stdout",
     "output_type": "stream",
     "text": [
      "max_iter: 100, accuracy: 0.7991353654334138\n",
      "max_iter: 200, accuracy: 0.7999122834497666\n",
      "max_iter: 300, accuracy: 0.8001065129538548\n",
      "max_iter: 400, accuracy: 0.8000751856144858\n",
      "max_iter: 500, accuracy: 0.8000062654678738\n",
      "max_iter: 600, accuracy: 0.8000250618714952\n",
      "max_iter: 700, accuracy: 0.8000250618714952\n",
      "max_iter: 800, accuracy: 0.8000250618714952\n",
      "max_iter: 900, accuracy: 0.8000250618714952\n",
      "Best max_iter: 300\n"
     ]
    }
   ],
   "source": [
    "# to store accuracies for each max_iter value\n",
    "accuracies = []\n",
    "\n",
    "# range of max_iter values to be tested\n",
    "max_iter_values = range(100, 1000, 100)\n",
    "\n",
    "# iterating max_iter list\n",
    "for max_iter in max_iter_values:\n",
    "    # log reg model with current max_iter value\n",
    "    logreg = LogisticRegression(max_iter = max_iter)\n",
    "\n",
    "    logreg.fit(x_train_tfidf, y_train)\n",
    "    y_val_pred = logreg.predict(x_val_tfidf)\n",
    "    acc = accuracy_score(y_val, y_val_pred)\n",
    "    accuracies.append(acc)\n",
    "\n",
    "# printing the accuracies\n",
    "for max_iter, acc in zip(max_iter_values, accuracies):\n",
    "    print(f'max_iter: {max_iter}, accuracy: {acc}')\n",
    "\n",
    "# output the max_iter value that produced the highest accuracy\n",
    "best_max_iter = max_iter_values[np.argmax(accuracies)]\n",
    "print(f'Best max_iter: {best_max_iter}')"
   ]
  },
  {
   "cell_type": "markdown",
   "id": "81ce8a3c",
   "metadata": {},
   "source": [
    "### TfidfVectorizer (with stopwords)"
   ]
  },
  {
   "cell_type": "code",
   "execution_count": 13,
   "id": "65962914",
   "metadata": {},
   "outputs": [],
   "source": [
    "# range of features (10,000 to 120,000)\n",
    "feature_range = [i for i in range(10000,130000,10000)]\n",
    "\n",
    "# track progress\n",
    "validation_accs = []\n",
    "\n",
    "for max_features in feature_range:\n",
    "    # vectorizer with current num of max_features\n",
    "    vectorizer = TfidfVectorizer(max_features=max_features)\n",
    "\n",
    "    # transform data\n",
    "    x_train_tfidf = vectorizer.fit_transform(x_train)\n",
    "    x_val_tfidf = vectorizer.transform(x_val)\n",
    "\n",
    "    # log reg model\n",
    "    logreg = LogisticRegression(max_iter=300, solver='lbfgs')\n",
    "    logreg.fit(x_train_tfidf, y_train)\n",
    "\n",
    "    # validation set results\n",
    "    y_val_pred = logreg.predict(x_val_tfidf)\n",
    "\n",
    "    # validation accuracy\n",
    "    val_acc = accuracy_score(y_val, y_val_pred)\n",
    "    validation_accs.append(val_acc)"
   ]
  },
  {
   "cell_type": "markdown",
   "id": "bd1f6e01",
   "metadata": {},
   "source": [
    "### TfidfVectorizer (without stopwords)"
   ]
  },
  {
   "cell_type": "code",
   "execution_count": 14,
   "id": "9deed996",
   "metadata": {},
   "outputs": [],
   "source": [
    "feature_range = [i for i in range(10000,130000,10000)]\n",
    "\n",
    "validation_accs_sw = []\n",
    "\n",
    "stop_words = list(stopwords.words('english'))\n",
    "\n",
    "for max_features in feature_range:\n",
    "    vectorizer = TfidfVectorizer(max_features=max_features, stop_words=stop_words)\n",
    "    x_train_tfidf = vectorizer.fit_transform(x_train)\n",
    "    x_val_tfidf = vectorizer.transform(x_val)\n",
    "    logreg = LogisticRegression(max_iter=300, solver='lbfgs')\n",
    "    logreg.fit(x_train_tfidf, y_train)\n",
    "    y_val_pred = logreg.predict(x_val_tfidf)\n",
    "    val_acc = accuracy_score(y_val, y_val_pred)\n",
    "    validation_accs_sw.append(val_acc)"
   ]
  },
  {
   "cell_type": "markdown",
   "id": "d4dfa98f",
   "metadata": {},
   "source": [
    "### CountVectorizer (with stopwords)"
   ]
  },
  {
   "cell_type": "code",
   "execution_count": 17,
   "id": "f62fc1cd",
   "metadata": {},
   "outputs": [],
   "source": [
    "feature_range = [i for i in range(10000,130000,10000)]\n",
    "\n",
    "validation_accs_countvec = []\n",
    "\n",
    "for max_features in feature_range:\n",
    "    vectorizer = CountVectorizer(max_features=max_features)\n",
    "    x_train_counts = vectorizer.fit_transform(x_train)\n",
    "    x_val_counts = vectorizer.transform(x_val)\n",
    "    logreg = LogisticRegression(max_iter=300, solver='lbfgs')\n",
    "    logreg.fit(x_train_counts, y_train)\n",
    "    y_val_pred = logreg.predict(x_val_counts)\n",
    "    val_acc = accuracy_score(y_val, y_val_pred)\n",
    "    validation_accs_countvec.append(val_acc)"
   ]
  },
  {
   "cell_type": "markdown",
   "id": "92f35e52",
   "metadata": {},
   "source": [
    "### CountVectorizer (without stopwords)"
   ]
  },
  {
   "cell_type": "code",
   "execution_count": 18,
   "id": "dd4c97b8",
   "metadata": {},
   "outputs": [],
   "source": [
    "feature_range = [i for i in range(10000,130000,10000)]\n",
    "\n",
    "validation_list = []\n",
    "\n",
    "for max_features in feature_range:\n",
    "    vectorizer = CountVectorizer(max_features=max_features, stop_words=stop_words)\n",
    "    x_train_counts = vectorizer.fit_transform(x_train)\n",
    "    x_val_counts = vectorizer.transform(x_val)\n",
    "    logreg = LogisticRegression(max_iter=300, solver='lbfgs')\n",
    "    logreg.fit(x_train_counts, y_train)\n",
    "    y_val_pred = logreg.predict(x_val_counts)\n",
    "    val_acc = accuracy_score(y_val, y_val_pred)\n",
    "    validation_list.append(val_acc)"
   ]
  },
  {
   "cell_type": "markdown",
   "id": "162ba5c2",
   "metadata": {},
   "source": [
    "### Plotting all conditions :"
   ]
  },
  {
   "cell_type": "code",
   "execution_count": 19,
   "id": "74d91f0d",
   "metadata": {},
   "outputs": [
    {
     "data": {
      "image/png": "[encoded data removed]",
      "text/plain": [
       "<Figure size 1000x500 with 1 Axes>"
      ]
     },
     "metadata": {},
     "output_type": "display_data"
    }
   ],
   "source": [
    "# plotting validation accuracies\n",
    "plt.figure(figsize=(10,5)) \n",
    "\n",
    "# ttfidfVectorizer with stopwords : \n",
    "plt.plot(feature_range, validation_accs, marker='o', label='with stopwords (tfidf)')\n",
    "\n",
    "# countVectorizer without stopwords :\n",
    "plt.plot(feature_range, validation_accs_countvec, marker='x',label='with stopwords (countvec)')\n",
    "\n",
    "# tfidfVectorizer without stopwords :\n",
    "plt.plot(feature_range, validation_accs_sw, marker='o',label='without stopwords (tfidf)')\n",
    "\n",
    "# countVectorizer without stopwords :\n",
    "plt.plot(feature_range, validation_list, marker='x',label='without stopwords (countvec)')\n",
    "\n",
    "plt.xlabel('Number of Features')\n",
    "plt.ylabel('Validation Accuracy')\n",
    "plt.title('Validation Accuracy vs. # of Features')\n",
    "\n",
    "plt.legend(loc='upper left', bbox_to_anchor=(1,1))\n",
    "\n",
    "plt.grid()\n",
    "plt.tight_layout()\n",
    "plt.show()"
   ]
  },
  {
   "cell_type": "markdown",
   "id": "7ca715a1",
   "metadata": {},
   "source": [
    "### Detailed results using chosen parameters : "
   ]
  },
  {
   "cell_type": "code",
   "execution_count": 12,
   "id": "cde970ec",
   "metadata": {},
   "outputs": [
    {
     "name": "stdout",
     "output_type": "stream",
     "text": [
      "Test Accuracy: 0.8017555730987557\n",
      "Test Precision: 0.7958723466836609\n",
      "Test Recall: 0.8125117297466374\n",
      "Test F1 Score: 0.8041059676450739\n",
      "Test Confusion Matrix:\n",
      " [[63025 16656]\n",
      " [14985 64940]]\n",
      "Test Classification Report:\n",
      "               precision    recall  f1-score   support\n",
      "\n",
      "           0       0.81      0.79      0.80     79681\n",
      "           4       0.80      0.81      0.80     79925\n",
      "\n",
      "    accuracy                           0.80    159606\n",
      "   macro avg       0.80      0.80      0.80    159606\n",
      "weighted avg       0.80      0.80      0.80    159606\n",
      "\n"
     ]
    }
   ],
   "source": [
    "vectorizer = TfidfVectorizer(max_features=120000)\n",
    "\n",
    "# transform data\n",
    "x_train_tfidf = vectorizer.fit_transform(x_train)\n",
    "x_test_tfidf = vectorizer.transform(x_test)\n",
    "\n",
    "# log reg model\n",
    "logreg = LogisticRegression(max_iter=300, solver='lbfgs')\n",
    "logreg.fit(x_train_tfidf, y_train)\n",
    "\n",
    "# pred for test set\n",
    "y_pred_test = logreg.predict(x_test_tfidf)\n",
    "\n",
    "# calculate accuracy\n",
    "accuracy_test = accuracy_score(y_test, y_pred_test)\n",
    "print('Test Accuracy:', accuracy_test)\n",
    "\n",
    "# calculate precision\n",
    "precision_test = precision_score(y_test, y_pred_test, pos_label=4)\n",
    "print('Test Precision:', precision_test)\n",
    "\n",
    "# calculate recall\n",
    "recall_test = recall_score(y_test, y_pred_test, pos_label=4)\n",
    "print('Test Recall:', recall_test)\n",
    "\n",
    "# calculate F1 Score\n",
    "f1_test = f1_score(y_test, y_pred_test, pos_label=4)\n",
    "print('Test F1 Score:', f1_test)\n",
    "\n",
    "# confusion matrix\n",
    "conf_mat_test = confusion_matrix(y_test, y_pred_test)\n",
    "print('Test Confusion Matrix:\\n', conf_mat_test)\n",
    "\n",
    "# classification report\n",
    "class_report_test = classification_report(y_test, y_pred_test)\n",
    "print('Test Classification Report:\\n', class_report_test)"
   ]
  },
  {
   "cell_type": "code",
   "execution_count": 15,
   "id": "d11fa5cb",
   "metadata": {
    "scrolled": false
   },
   "outputs": [
    {
     "name": "stdout",
     "output_type": "stream",
     "text": [
      "Test ROC AUC: 0.8017391042904948\n"
     ]
    },
    {
     "data": {
      "image/png": "[encoded data removed]",
      "text/plain": [
       "<Figure size 640x480 with 1 Axes>"
      ]
     },
     "metadata": {},
     "output_type": "display_data"
    }
   ],
   "source": [
    "from sklearn.metrics import roc_curve, roc_auc_score\n",
    "\n",
    "# ROC AUC\n",
    "roc_auc_test = roc_auc_score(y_test, y_pred_test)\n",
    "print('Test ROC AUC:', roc_auc_test)\n",
    "\n",
    "# ROC curve\n",
    "fpr, tpr, thresholds = roc_curve(y_test, y_pred_test, pos_label=4)\n",
    "\n",
    "# plot the curve\n",
    "plt.figure()\n",
    "plt.plot(fpr, tpr, color='orange', label='ROC curve (area = %0.2f)' % roc_auc_test)\n",
    "plt.plot([0, 1], [0, 1], color='navy', linestyle='--')\n",
    "plt.xlim([0.0, 1.0])\n",
    "plt.ylim([0.0, 1.05])\n",
    "plt.xlabel('False Pos Rate')\n",
    "plt.ylabel('True Pos Rate')\n",
    "plt.title('Receiver Operating Characteristic (ROC)')\n",
    "plt.legend(loc='lower right')\n",
    "plt.show()"
   ]
  },
  {
   "cell_type": "markdown",
   "id": "8e34158a",
   "metadata": {},
   "source": [
    "For this particular model, removing the stopwords had a negative impact."
   ]
  }
 ],
 "metadata": {
  "kernelspec": {
   "display_name": "Python 3 (ipykernel)",
   "language": "python",
   "name": "python3"
  },
  "language_info": {
   "codemirror_mode": {
    "name": "ipython",
    "version": 3
   },
   "file_extension": ".py",
   "mimetype": "text/x-python",
   "name": "python",
   "nbconvert_exporter": "python",
   "pygments_lexer": "ipython3",
   "version": "3.10.10"
  }
 },
 "nbformat": 4,
 "nbformat_minor": 5
}
