{
 "cells": [
  {
   "cell_type": "code",
   "execution_count": 1,
   "id": "6d5361ee",
   "metadata": {},
   "outputs": [],
   "source": [
    "import pandas as pd\n",
    "import numpy as np\n",
    "import matplotlib.pyplot as plt\n",
    "import seaborn as sns\n",
    "\n",
    "import nltk\n",
    "from wordcloud import WordCloud\n",
    "from nltk.stem import WordNetLemmatizer\n",
    "from nltk.tokenize import WordPunctTokenizer\n",
    "\n",
    "from googletrans import Translator\n",
    "from deep_translator import GoogleTranslator\n",
    "import string\n",
    "import emoji\n",
    "from bs4 import BeautifulSoup\n",
    "\n",
    "from dotenv import load_dotenv\n",
    "import os\n",
    "\n",
    "import itertools\n",
    "from html import unescape\n",
    "import re"
   ]
  },
  {
   "cell_type": "code",
   "execution_count": 2,
   "id": "603bfaa0",
   "metadata": {},
   "outputs": [
    {
     "data": {
      "text/plain": [
       "['SJSHSJJSH siapa yg nangis... gw.... ya Allah kak namjoon knp kok blm bobo skrng kak pls bobo udh malem KAK UDH MALEM JGN BIKIN GW NANGIS KAK 😿😿😿😿😿😿😿😿😿😿😿😿😿',\n",
       " '@Diiovane_ Sim',\n",
       " 'Someone needs to check the keepers Betway account',\n",
       " '@jisellearn Baru mau mng cel blm sempet kenalan kite gpp dah semangat lu cil moga2 jdi Profesor',\n",
       " '@REMASxKARINA betul sih wkwkw km blm bobo kah?',\n",
       " '@ProudElephantUS Consequences. Imagine that. EXCEPT at BLM/ANTIFA riots, sorry, protests.',\n",
       " 'eh demi allah untung blm puasa https://t.co/tl1xKlkEx4',\n",
       " 'During the BLM riots in the summer of 2020 and beyond, Eric Adams, de Blasio &amp; City Council members didn’t say or do anything to try to control the calamity that was occurring on a daily basis.\\n\\nIn fact, I remember D’s saying that riots are the voice of the unheard.',\n",
       " 'Why didn’t he say this to BLM and the other activists ?',\n",
       " '@moonareas blm jg imsakk']"
      ]
     },
     "execution_count": 2,
     "metadata": {},
     "output_type": "execute_result"
    }
   ],
   "source": [
    "df = pd.read_csv('/Users/alenjose/Desktop/data/project_data/self-scraped/100000_tweets_BlackLivesMatter_1.csv')\n",
    "list(df.tweet_rendered_content.iloc[:10])"
   ]
  },
  {
   "cell_type": "code",
   "execution_count": 3,
   "id": "4a9ac01d",
   "metadata": {},
   "outputs": [
    {
     "data": {
      "text/html": [
       "<div>\n",
       "<style scoped>\n",
       "    .dataframe tbody tr th:only-of-type {\n",
       "        vertical-align: middle;\n",
       "    }\n",
       "\n",
       "    .dataframe tbody tr th {\n",
       "        vertical-align: top;\n",
       "    }\n",
       "\n",
       "    .dataframe thead th {\n",
       "        text-align: right;\n",
       "    }\n",
       "</style>\n",
       "<table border=\"1\" class=\"dataframe\">\n",
       "  <thead>\n",
       "    <tr style=\"text-align: right;\">\n",
       "      <th></th>\n",
       "      <th>Unnamed: 0</th>\n",
       "      <th>date</th>\n",
       "      <th>tweet_content</th>\n",
       "      <th>tweet_rendered_content</th>\n",
       "      <th>tweet_id</th>\n",
       "      <th>user_name</th>\n",
       "      <th>display_name</th>\n",
       "      <th>user_id</th>\n",
       "      <th>user_description</th>\n",
       "      <th>user_follower_count</th>\n",
       "      <th>...</th>\n",
       "      <th>tweet_reply_count</th>\n",
       "      <th>tweet_retweet_count</th>\n",
       "      <th>tweet_like_count</th>\n",
       "      <th>tweet_quote_count</th>\n",
       "      <th>tweet_language</th>\n",
       "      <th>tweet_source</th>\n",
       "      <th>rt_original_tweet_id</th>\n",
       "      <th>quoted_tweet_original_tweet_id</th>\n",
       "      <th>tweet_mentioned_users</th>\n",
       "      <th>tweet_hashtags</th>\n",
       "    </tr>\n",
       "  </thead>\n",
       "  <tbody>\n",
       "    <tr>\n",
       "      <th>0</th>\n",
       "      <td>0</td>\n",
       "      <td>2022-04-22 17:26:15.207532763</td>\n",
       "      <td>SJSHSJJSH siapa yg nangis... gw.... ya Allah k...</td>\n",
       "      <td>SJSHSJJSH siapa yg nangis... gw.... ya Allah k...</td>\n",
       "      <td>1.643000e+18</td>\n",
       "      <td>nadealeine</td>\n",
       "      <td>Noémie</td>\n",
       "      <td>1.278350e+18</td>\n",
       "      <td>NaN</td>\n",
       "      <td>16</td>\n",
       "      <td>...</td>\n",
       "      <td>0</td>\n",
       "      <td>0</td>\n",
       "      <td>0</td>\n",
       "      <td>0</td>\n",
       "      <td>in</td>\n",
       "      <td>&lt;a href=\"http://twitter.com/download/android\" ...</td>\n",
       "      <td>NaN</td>\n",
       "      <td>https://twitter.com/charts_k/status/1642948123...</td>\n",
       "      <td>NaN</td>\n",
       "      <td>NaN</td>\n",
       "    </tr>\n",
       "    <tr>\n",
       "      <th>1</th>\n",
       "      <td>1</td>\n",
       "      <td>2021-04-21 19:03:56.518516406</td>\n",
       "      <td>@Diiovane_ Sim</td>\n",
       "      <td>@Diiovane_ Sim</td>\n",
       "      <td>1.643000e+18</td>\n",
       "      <td>FonsecaSCI2478</td>\n",
       "      <td>Fonsecaˢᶜᶦ🇮🇩 BlackLivesMatter ✊🏿</td>\n",
       "      <td>1.028440e+18</td>\n",
       "      <td>Casado, Pai  do  Igor, Juan, Antony, Laura e B...</td>\n",
       "      <td>1409</td>\n",
       "      <td>...</td>\n",
       "      <td>0</td>\n",
       "      <td>0</td>\n",
       "      <td>0</td>\n",
       "      <td>0</td>\n",
       "      <td>und</td>\n",
       "      <td>&lt;a href=\"http://twitter.com/download/android\" ...</td>\n",
       "      <td>NaN</td>\n",
       "      <td>NaN</td>\n",
       "      <td>[User(username='Diiovane_', id=3072255134, dis...</td>\n",
       "      <td>NaN</td>\n",
       "    </tr>\n",
       "    <tr>\n",
       "      <th>2</th>\n",
       "      <td>2</td>\n",
       "      <td>2021-03-23 10:27:38.540305625</td>\n",
       "      <td>Someone needs to check the keepers Betway account</td>\n",
       "      <td>Someone needs to check the keepers Betway account</td>\n",
       "      <td>1.643000e+18</td>\n",
       "      <td>ArsenalBLM</td>\n",
       "      <td>BLMAlways</td>\n",
       "      <td>1.293480e+18</td>\n",
       "      <td>#BlackLivesMatter</td>\n",
       "      <td>181</td>\n",
       "      <td>...</td>\n",
       "      <td>0</td>\n",
       "      <td>0</td>\n",
       "      <td>0</td>\n",
       "      <td>0</td>\n",
       "      <td>en</td>\n",
       "      <td>&lt;a href=\"http://twitter.com/download/iphone\" r...</td>\n",
       "      <td>NaN</td>\n",
       "      <td>https://twitter.com/CraigGTelfer/status/164290...</td>\n",
       "      <td>NaN</td>\n",
       "      <td>NaN</td>\n",
       "    </tr>\n",
       "    <tr>\n",
       "      <th>3</th>\n",
       "      <td>3</td>\n",
       "      <td>2021-01-02 10:14:06.885676513</td>\n",
       "      <td>@jisellearn Baru mau mng cel blm sempet kenala...</td>\n",
       "      <td>@jisellearn Baru mau mng cel blm sempet kenala...</td>\n",
       "      <td>1.643000e+18</td>\n",
       "      <td>plngee</td>\n",
       "      <td>GheYaa</td>\n",
       "      <td>1.386010e+18</td>\n",
       "      <td>Duta Badlooking Sejagad!</td>\n",
       "      <td>46</td>\n",
       "      <td>...</td>\n",
       "      <td>0</td>\n",
       "      <td>0</td>\n",
       "      <td>0</td>\n",
       "      <td>0</td>\n",
       "      <td>in</td>\n",
       "      <td>&lt;a href=\"http://twitter.com/download/android\" ...</td>\n",
       "      <td>NaN</td>\n",
       "      <td>NaN</td>\n",
       "      <td>[User(username='jisellearn', id=16426332242403...</td>\n",
       "      <td>NaN</td>\n",
       "    </tr>\n",
       "    <tr>\n",
       "      <th>4</th>\n",
       "      <td>4</td>\n",
       "      <td>2022-12-21 10:46:27.602754696</td>\n",
       "      <td>@REMASxKARINA betul sih wkwkw km blm bobo kah?</td>\n",
       "      <td>@REMASxKARINA betul sih wkwkw km blm bobo kah?</td>\n",
       "      <td>1.643000e+18</td>\n",
       "      <td>REMASxHKE</td>\n",
       "      <td>Akiffa</td>\n",
       "      <td>7.736230e+17</td>\n",
       "      <td>you’ll find me on my tallest tiptoes spinning ...</td>\n",
       "      <td>139</td>\n",
       "      <td>...</td>\n",
       "      <td>0</td>\n",
       "      <td>0</td>\n",
       "      <td>0</td>\n",
       "      <td>0</td>\n",
       "      <td>in</td>\n",
       "      <td>&lt;a href=\"http://twitter.com/download/iphone\" r...</td>\n",
       "      <td>NaN</td>\n",
       "      <td>NaN</td>\n",
       "      <td>[User(username='REMASxKARINA', id=163376329292...</td>\n",
       "      <td>NaN</td>\n",
       "    </tr>\n",
       "  </tbody>\n",
       "</table>\n",
       "<p>5 rows × 23 columns</p>\n",
       "</div>"
      ],
      "text/plain": [
       "   Unnamed: 0                           date  \\\n",
       "0           0  2022-04-22 17:26:15.207532763   \n",
       "1           1  2021-04-21 19:03:56.518516406   \n",
       "2           2  2021-03-23 10:27:38.540305625   \n",
       "3           3  2021-01-02 10:14:06.885676513   \n",
       "4           4  2022-12-21 10:46:27.602754696   \n",
       "\n",
       "                                       tweet_content  \\\n",
       "0  SJSHSJJSH siapa yg nangis... gw.... ya Allah k...   \n",
       "1                                     @Diiovane_ Sim   \n",
       "2  Someone needs to check the keepers Betway account   \n",
       "3  @jisellearn Baru mau mng cel blm sempet kenala...   \n",
       "4     @REMASxKARINA betul sih wkwkw km blm bobo kah?   \n",
       "\n",
       "                              tweet_rendered_content      tweet_id  \\\n",
       "0  SJSHSJJSH siapa yg nangis... gw.... ya Allah k...  1.643000e+18   \n",
       "1                                     @Diiovane_ Sim  1.643000e+18   \n",
       "2  Someone needs to check the keepers Betway account  1.643000e+18   \n",
       "3  @jisellearn Baru mau mng cel blm sempet kenala...  1.643000e+18   \n",
       "4     @REMASxKARINA betul sih wkwkw km blm bobo kah?  1.643000e+18   \n",
       "\n",
       "        user_name                      display_name       user_id  \\\n",
       "0      nadealeine                            Noémie  1.278350e+18   \n",
       "1  FonsecaSCI2478  Fonsecaˢᶜᶦ🇮🇩 BlackLivesMatter ✊🏿  1.028440e+18   \n",
       "2      ArsenalBLM                         BLMAlways  1.293480e+18   \n",
       "3          plngee                            GheYaa  1.386010e+18   \n",
       "4       REMASxHKE                            Akiffa  7.736230e+17   \n",
       "\n",
       "                                    user_description  user_follower_count  \\\n",
       "0                                                NaN                   16   \n",
       "1  Casado, Pai  do  Igor, Juan, Antony, Laura e B...                 1409   \n",
       "2                                  #BlackLivesMatter                  181   \n",
       "3                           Duta Badlooking Sejagad!                   46   \n",
       "4  you’ll find me on my tallest tiptoes spinning ...                  139   \n",
       "\n",
       "   ...  tweet_reply_count  tweet_retweet_count tweet_like_count  \\\n",
       "0  ...                  0                    0                0   \n",
       "1  ...                  0                    0                0   \n",
       "2  ...                  0                    0                0   \n",
       "3  ...                  0                    0                0   \n",
       "4  ...                  0                    0                0   \n",
       "\n",
       "   tweet_quote_count  tweet_language  \\\n",
       "0                  0              in   \n",
       "1                  0             und   \n",
       "2                  0              en   \n",
       "3                  0              in   \n",
       "4                  0              in   \n",
       "\n",
       "                                        tweet_source  rt_original_tweet_id  \\\n",
       "0  <a href=\"http://twitter.com/download/android\" ...                   NaN   \n",
       "1  <a href=\"http://twitter.com/download/android\" ...                   NaN   \n",
       "2  <a href=\"http://twitter.com/download/iphone\" r...                   NaN   \n",
       "3  <a href=\"http://twitter.com/download/android\" ...                   NaN   \n",
       "4  <a href=\"http://twitter.com/download/iphone\" r...                   NaN   \n",
       "\n",
       "                      quoted_tweet_original_tweet_id  \\\n",
       "0  https://twitter.com/charts_k/status/1642948123...   \n",
       "1                                                NaN   \n",
       "2  https://twitter.com/CraigGTelfer/status/164290...   \n",
       "3                                                NaN   \n",
       "4                                                NaN   \n",
       "\n",
       "                               tweet_mentioned_users  tweet_hashtags  \n",
       "0                                                NaN             NaN  \n",
       "1  [User(username='Diiovane_', id=3072255134, dis...             NaN  \n",
       "2                                                NaN             NaN  \n",
       "3  [User(username='jisellearn', id=16426332242403...             NaN  \n",
       "4  [User(username='REMASxKARINA', id=163376329292...             NaN  \n",
       "\n",
       "[5 rows x 23 columns]"
      ]
     },
     "execution_count": 3,
     "metadata": {},
     "output_type": "execute_result"
    }
   ],
   "source": [
    "df.head()"
   ]
  },
  {
   "cell_type": "code",
   "execution_count": 4,
   "id": "aea82d5e",
   "metadata": {},
   "outputs": [
    {
     "name": "stdout",
     "output_type": "stream",
     "text": [
      "<class 'pandas.core.frame.DataFrame'>\n",
      "RangeIndex: 100000 entries, 0 to 99999\n",
      "Data columns (total 23 columns):\n",
      " #   Column                          Non-Null Count   Dtype  \n",
      "---  ------                          --------------   -----  \n",
      " 0   Unnamed: 0                      100000 non-null  int64  \n",
      " 1   date                            100000 non-null  object \n",
      " 2   tweet_content                   100000 non-null  object \n",
      " 3   tweet_rendered_content          100000 non-null  object \n",
      " 4   tweet_id                        100000 non-null  float64\n",
      " 5   user_name                       100000 non-null  object \n",
      " 6   display_name                    99991 non-null   object \n",
      " 7   user_id                         100000 non-null  float64\n",
      " 8   user_description                87937 non-null   object \n",
      " 9   user_follower_count             100000 non-null  int64  \n",
      " 10  user_friend_count               100000 non-null  int64  \n",
      " 11  user_statuses_count             100000 non-null  int64  \n",
      " 12  user_location                   62044 non-null   object \n",
      " 13  tweet_reply_count               100000 non-null  int64  \n",
      " 14  tweet_retweet_count             100000 non-null  int64  \n",
      " 15  tweet_like_count                100000 non-null  int64  \n",
      " 16  tweet_quote_count               100000 non-null  int64  \n",
      " 17  tweet_language                  100000 non-null  object \n",
      " 18  tweet_source                    100000 non-null  object \n",
      " 19  rt_original_tweet_id            0 non-null       float64\n",
      " 20  quoted_tweet_original_tweet_id  9709 non-null    object \n",
      " 21  tweet_mentioned_users           66369 non-null   object \n",
      " 22  tweet_hashtags                  5605 non-null    object \n",
      "dtypes: float64(3), int64(8), object(12)\n",
      "memory usage: 17.5+ MB\n"
     ]
    }
   ],
   "source": [
    "df.info()"
   ]
  },
  {
   "cell_type": "code",
   "execution_count": 5,
   "id": "e73f86d2",
   "metadata": {},
   "outputs": [],
   "source": [
    "# drop irrelevant jobs\n",
    "df.drop(['Unnamed: 0','tweet_content','rt_original_tweet_id','quoted_tweet_original_tweet_id','tweet_hashtags'],axis=1,inplace=True)"
   ]
  },
  {
   "cell_type": "code",
   "execution_count": 6,
   "id": "5bcace8c",
   "metadata": {},
   "outputs": [
    {
     "data": {
      "text/plain": [
       "100000"
      ]
     },
     "execution_count": 6,
     "metadata": {},
     "output_type": "execute_result"
    }
   ],
   "source": [
    "len(df)"
   ]
  },
  {
   "cell_type": "code",
   "execution_count": 7,
   "id": "cab7b4d5",
   "metadata": {},
   "outputs": [
    {
     "data": {
      "text/plain": [
       "(100000, 18)"
      ]
     },
     "execution_count": 7,
     "metadata": {},
     "output_type": "execute_result"
    }
   ],
   "source": [
    "df.shape"
   ]
  },
  {
   "cell_type": "code",
   "execution_count": 8,
   "id": "67a3cb1a",
   "metadata": {},
   "outputs": [
    {
     "data": {
      "text/plain": [
       "62173"
      ]
     },
     "execution_count": 8,
     "metadata": {},
     "output_type": "execute_result"
    }
   ],
   "source": [
    "np.sum(df.isnull().any(axis=1))"
   ]
  },
  {
   "cell_type": "code",
   "execution_count": 9,
   "id": "1e6c56e9",
   "metadata": {},
   "outputs": [],
   "source": [
    "# convert column to date\n",
    "df['date'] = pd.to_datetime(df['date'])\n",
    "\n",
    "# get year and moth\n",
    "df['year'] = df['date'].apply(lambda x:x.year)\n",
    "df['month'] = df['date'].apply(lambda x:x.month)"
   ]
  },
  {
   "cell_type": "code",
   "execution_count": 10,
   "id": "606f924d",
   "metadata": {},
   "outputs": [
    {
     "data": {
      "text/plain": [
       "2022    48374\n",
       "2021    48010\n",
       "2023     3616\n",
       "Name: year, dtype: int64"
      ]
     },
     "execution_count": 10,
     "metadata": {},
     "output_type": "execute_result"
    }
   ],
   "source": [
    "df['year'].value_counts()"
   ]
  },
  {
   "cell_type": "code",
   "execution_count": 11,
   "id": "c5eccd24",
   "metadata": {},
   "outputs": [
    {
     "data": {
      "text/plain": [
       "1     11930\n",
       "5      8298\n",
       "7      8273\n",
       "8      8174\n",
       "10     8110\n",
       "3      8102\n",
       "12     8101\n",
       "4      7964\n",
       "6      7936\n",
       "9      7883\n",
       "11     7760\n",
       "2      7469\n",
       "Name: month, dtype: int64"
      ]
     },
     "execution_count": 11,
     "metadata": {},
     "output_type": "execute_result"
    }
   ],
   "source": [
    "df['month'].value_counts()"
   ]
  },
  {
   "cell_type": "code",
   "execution_count": 25,
   "id": "40b01bf5",
   "metadata": {},
   "outputs": [],
   "source": [
    "def remove_emoji(text):\n",
    "    # convert emoji to its base text (enclosed in :emoji:)\n",
    "    text = emoji.demojize(text)\n",
    "    \n",
    "    # remove converted emoji \n",
    "    pattern = r\":[^:\\s]+:\"\n",
    "    text = re.sub(pattern, \"\", text)\n",
    "    text = text.replace(\"  \",\" \")\n",
    "    return text\n",
    "\n",
    "df['tweet_rendered_content'] = df['tweet_rendered_content']\\\n",
    "                                    .apply(lambda x:remove_emoji(x))"
   ]
  },
  {
   "cell_type": "code",
   "execution_count": 26,
   "id": "f10f0daf",
   "metadata": {},
   "outputs": [],
   "source": [
    "def remove_urls(text):\n",
    "    pattern = r\"http\\S+|www\\S+\"\n",
    "    text = re.sub(pattern, \"\", text)\n",
    "    return text\n",
    "\n",
    "df['tweet_rendered_content'] = df['tweet_rendered_content']\\\n",
    "                                .apply(lambda x:remove_urls(x))"
   ]
  },
  {
   "cell_type": "code",
   "execution_count": 27,
   "id": "0245ba95",
   "metadata": {},
   "outputs": [
    {
     "name": "stdout",
     "output_type": "stream",
     "text": [
      "There are 46 different languages\n"
     ]
    }
   ],
   "source": [
    "print(\"There are\",len(df['tweet_language']\\\n",
    "                      .value_counts()),\"different languages\")"
   ]
  },
  {
   "cell_type": "code",
   "execution_count": 28,
   "id": "f4e8f077",
   "metadata": {},
   "outputs": [
    {
     "data": {
      "image/png": "[encoded data removed]",
      "text/plain": [
       "<Figure size 500x200 with 1 Axes>"
      ]
     },
     "metadata": {},
     "output_type": "display_data"
    }
   ],
   "source": [
    "# top 5 languages\n",
    "plt.figure(figsize=(5,2))\n",
    "df['tweet_language'].value_counts().head(5).plot(kind='bar')\n",
    "plt.show()"
   ]
  },
  {
   "cell_type": "code",
   "execution_count": 81,
   "id": "dd2924ab",
   "metadata": {},
   "outputs": [],
   "source": [
    "# in - indonesia, en - english, \n",
    "# und - undefined, fr - french , \n",
    "# qme - for tweets with media links only"
   ]
  },
  {
   "cell_type": "markdown",
   "id": "75a52e02",
   "metadata": {},
   "source": [
    "Tested out microsoft translator and the output was not as expected"
   ]
  },
  {
   "cell_type": "code",
   "execution_count": 20,
   "id": "791bdc64",
   "metadata": {},
   "outputs": [],
   "source": [
    "load_dotenv('.env')\n",
    "subscription_key = os.getenv('SUBSCRIPTION_KEY')"
   ]
  },
  {
   "cell_type": "code",
   "execution_count": 21,
   "id": "dc91020b",
   "metadata": {},
   "outputs": [],
   "source": [
    "project_location = 'uksouth'"
   ]
  },
  {
   "cell_type": "code",
   "execution_count": 1,
   "id": "5e438579",
   "metadata": {},
   "outputs": [],
   "source": [
    "import requests\n",
    "import uuid\n",
    "import json\n",
    "\n",
    "# API endpoint and subscription key\n",
    "endpoint = \"https://api.cognitive.microsofttranslator.com/translate\"\n",
    "\n",
    "# text to be translated\n",
    "text = \"jisellearn baru mau mng cel blm sempet kenalan\"\n",
    "\n",
    "# source and target languages\n",
    "from_lang = \"id-ID\"\n",
    "to_lang = \"en\"\n",
    "\n",
    "# request headers\n",
    "headers = {\n",
    "    \"Ocp-Apim-Subscription-Key\": subscription_key,\n",
    "    \"Ocp-Apim-Subscription-Region\": project_location,\n",
    "    \"Content-Type\": \"application/json\",\n",
    "    \"X-ClientTraceId\": str(uuid.uuid4())\n",
    "}\n",
    "\n",
    "# request body\n",
    "body = [{\n",
    "    \"text\": text\n",
    "}]\n",
    "\n",
    "# query parameters\n",
    "params = {\n",
    "    \"api-version\": \"3.0\",\n",
    "    \"from\": from_lang,\n",
    "    \"to\": to_lang\n",
    "}\n",
    "\n",
    "# POST request \n",
    "response = requests.post(endpoint, headers=headers, params=params, json=body)\n",
    "\n",
    "# translated text from response\n",
    "translation = response.json()\n",
    "\n",
    "# final o/p\n",
    "print(translation)"
   ]
  },
  {
   "cell_type": "code",
   "execution_count": 29,
   "id": "1b8485cb",
   "metadata": {},
   "outputs": [],
   "source": [
    "df_test = df[df['tweet_language'] == 'in'][:10].copy()"
   ]
  },
  {
   "cell_type": "markdown",
   "id": "c73c83cf",
   "metadata": {},
   "source": [
    "**Moved on to Googles Translator :** https://pypi.org/project/googletrans/"
   ]
  },
  {
   "cell_type": "code",
   "execution_count": 31,
   "id": "0342a472",
   "metadata": {},
   "outputs": [
    {
     "data": {
      "text/plain": [
       "\"@jisellearn Just want to ask Cel, haven't gotten to know us yet, it's okay, I'm excited, I hope you become a professor\""
      ]
     },
     "execution_count": 31,
     "metadata": {},
     "output_type": "execute_result"
    }
   ],
   "source": [
    "to_translate = df_test.iloc[1]['tweet_rendered_content']\n",
    "\n",
    "translated = GoogleTranslator(source='id', target='en').translate(to_translate)\n",
    "translated"
   ]
  },
  {
   "cell_type": "code",
   "execution_count": 32,
   "id": "92dcff25",
   "metadata": {},
   "outputs": [],
   "source": [
    "# convert 'in' to 'id' for ease of execution\n",
    "df['tweet_language'] = df['tweet_language'].replace('in', 'id')"
   ]
  },
  {
   "cell_type": "code",
   "execution_count": 33,
   "id": "8c1d9d73",
   "metadata": {},
   "outputs": [],
   "source": [
    "def translate_to_target(x, source, target):\n",
    "    translated = GoogleTranslator(source=source, target=target).translate(x)\n",
    "    return translated\n",
    "\n",
    "count = 0\n",
    "\n",
    "def process_row(row, source_language, target_language, print_progress=False):\n",
    "    global count\n",
    "    count += 1\n",
    "    if print_progress and count % 1000 == 0:\n",
    "        print(f\"Processed {count} rows\")\n",
    "\n",
    "    if row['tweet_language'] == source_language:\n",
    "        return translate_to_target(row['tweet_rendered_content'], source_language, target_language)\n",
    "    else:\n",
    "        return row['tweet_rendered_content']"
   ]
  },
  {
   "cell_type": "code",
   "execution_count": 34,
   "id": "b0adbb92",
   "metadata": {
    "collapsed": true
   },
   "outputs": [
    {
     "name": "stdout",
     "output_type": "stream",
     "text": [
      "Processed 1000 rows\n",
      "Processed 2000 rows\n",
      "Processed 3000 rows\n",
      "Processed 4000 rows\n",
      "Processed 5000 rows\n",
      "Processed 6000 rows\n",
      "Processed 7000 rows\n",
      "Processed 8000 rows\n",
      "Processed 9000 rows\n",
      "Processed 10000 rows\n",
      "Processed 11000 rows\n",
      "Processed 12000 rows\n",
      "Processed 13000 rows\n",
      "Processed 14000 rows\n",
      "Processed 15000 rows\n",
      "Processed 16000 rows\n",
      "Processed 17000 rows\n",
      "Processed 18000 rows\n",
      "Processed 19000 rows\n",
      "Processed 20000 rows\n",
      "Processed 21000 rows\n",
      "Processed 22000 rows\n",
      "Processed 23000 rows\n",
      "Processed 24000 rows\n",
      "Processed 25000 rows\n",
      "Processed 26000 rows\n",
      "Processed 27000 rows\n",
      "Processed 28000 rows\n",
      "Processed 29000 rows\n",
      "Processed 30000 rows\n",
      "Processed 31000 rows\n",
      "Processed 32000 rows\n",
      "Processed 33000 rows\n",
      "Processed 34000 rows\n",
      "Processed 35000 rows\n",
      "Processed 36000 rows\n",
      "Processed 37000 rows\n",
      "Processed 38000 rows\n",
      "Processed 39000 rows\n",
      "Processed 40000 rows\n",
      "Processed 41000 rows\n",
      "Processed 42000 rows\n",
      "Processed 43000 rows\n",
      "Processed 44000 rows\n",
      "Processed 45000 rows\n",
      "Processed 46000 rows\n",
      "Processed 47000 rows\n",
      "Processed 48000 rows\n",
      "Processed 49000 rows\n",
      "Processed 50000 rows\n",
      "Processed 51000 rows\n",
      "Processed 52000 rows\n",
      "Processed 53000 rows\n",
      "Processed 54000 rows\n",
      "Processed 55000 rows\n",
      "Processed 56000 rows\n",
      "Processed 57000 rows\n",
      "Processed 58000 rows\n",
      "Processed 59000 rows\n",
      "Processed 60000 rows\n",
      "Processed 61000 rows\n",
      "Processed 62000 rows\n",
      "Processed 63000 rows\n",
      "Processed 64000 rows\n",
      "Processed 65000 rows\n",
      "Processed 66000 rows\n",
      "Processed 67000 rows\n",
      "Processed 68000 rows\n",
      "Processed 69000 rows\n",
      "Processed 70000 rows\n",
      "Processed 71000 rows\n",
      "Processed 72000 rows\n",
      "Processed 73000 rows\n",
      "Processed 74000 rows\n",
      "Processed 75000 rows\n",
      "Processed 76000 rows\n",
      "Processed 77000 rows\n",
      "Processed 78000 rows\n",
      "Processed 79000 rows\n",
      "Processed 80000 rows\n",
      "Processed 81000 rows\n",
      "Processed 82000 rows\n",
      "Processed 83000 rows\n",
      "Processed 84000 rows\n",
      "Processed 85000 rows\n",
      "Processed 86000 rows\n",
      "Processed 87000 rows\n",
      "Processed 88000 rows\n",
      "Processed 89000 rows\n",
      "Processed 90000 rows\n",
      "Processed 91000 rows\n",
      "Processed 92000 rows\n",
      "Processed 93000 rows\n",
      "Processed 94000 rows\n",
      "Processed 95000 rows\n",
      "Processed 96000 rows\n",
      "Processed 97000 rows\n",
      "Processed 98000 rows\n",
      "Processed 99000 rows\n",
      "Processed 100000 rows\n"
     ]
    }
   ],
   "source": [
    "# process rows\n",
    "for index, row in df.iterrows():\n",
    "    df.at[index, 'tweet_rendered_content'] = process_row(row,'id','en', print_progress=True)"
   ]
  },
  {
   "cell_type": "code",
   "execution_count": 151,
   "id": "37c7bd5f",
   "metadata": {
    "collapsed": true
   },
   "outputs": [
    {
     "name": "stdout",
     "output_type": "stream",
     "text": [
      "Processed 53000 rows\n",
      "Processed 54000 rows\n",
      "Processed 55000 rows\n",
      "Processed 56000 rows\n",
      "Processed 57000 rows\n",
      "Processed 58000 rows\n",
      "Processed 59000 rows\n",
      "Processed 60000 rows\n",
      "Processed 61000 rows\n",
      "Processed 62000 rows\n",
      "Processed 63000 rows\n",
      "Processed 64000 rows\n",
      "Processed 65000 rows\n",
      "Processed 66000 rows\n",
      "Processed 67000 rows\n",
      "Processed 68000 rows\n",
      "Processed 69000 rows\n",
      "Processed 70000 rows\n",
      "Processed 71000 rows\n",
      "Processed 72000 rows\n",
      "Processed 73000 rows\n",
      "Processed 74000 rows\n",
      "Processed 75000 rows\n",
      "Processed 76000 rows\n",
      "Processed 77000 rows\n",
      "Processed 78000 rows\n",
      "Processed 79000 rows\n",
      "Processed 80000 rows\n",
      "Processed 81000 rows\n",
      "Processed 82000 rows\n",
      "Processed 83000 rows\n",
      "Processed 84000 rows\n",
      "Processed 85000 rows\n",
      "Processed 86000 rows\n",
      "Processed 87000 rows\n",
      "Processed 88000 rows\n",
      "Processed 89000 rows\n",
      "Processed 90000 rows\n",
      "Processed 91000 rows\n",
      "Processed 92000 rows\n",
      "Processed 93000 rows\n",
      "Processed 94000 rows\n",
      "Processed 95000 rows\n",
      "Processed 96000 rows\n",
      "Processed 97000 rows\n",
      "Processed 98000 rows\n",
      "Processed 99000 rows\n",
      "Processed 100000 rows\n"
     ]
    }
   ],
   "source": [
    "# code broke due to a Translation error\n",
    "# start_index = 52000\n",
    "\n",
    "# for index, row in df.iloc[start_index:].iterrows():\n",
    "#     try:\n",
    "#         df.at[index, 'tweet_rendered_content'] = process_row(row, 'id', 'en', print_progress=True)\n",
    "#     except Exception as e:\n",
    "#         print(f\"Translation not found for index {index}. Removing row.\")\n",
    "#         df.drop(index, inplace=True)"
   ]
  },
  {
   "cell_type": "code",
   "execution_count": 36,
   "id": "0778a228",
   "metadata": {},
   "outputs": [],
   "source": [
    "# reset count for future use    \n",
    "count = 0 "
   ]
  },
  {
   "cell_type": "markdown",
   "id": "6a9953f1",
   "metadata": {},
   "source": [
    "**TESTING FRENCH CONVERSION :**"
   ]
  },
  {
   "cell_type": "code",
   "execution_count": 37,
   "id": "fe3c594b",
   "metadata": {},
   "outputs": [
    {
     "data": {
      "text/plain": [
       "'@pessiLapierre @le_blm @ArnaultRaphael @IvarMundus Mdrrrrr il veut nous faire le mystérieux ce brank c’est quoi le délire Twitter ça vous fais trop pousser des boule'"
      ]
     },
     "execution_count": 37,
     "metadata": {},
     "output_type": "execute_result"
    }
   ],
   "source": [
    "df[df['tweet_language'] == 'fr'].iloc[2]['tweet_rendered_content']"
   ]
  },
  {
   "cell_type": "code",
   "execution_count": 38,
   "id": "83160a93",
   "metadata": {},
   "outputs": [
    {
     "data": {
      "text/plain": [
       "'@pessiLapierre @le_blm @ArnaultRaphael @IvarMundus Mdrrrrr he wants to make us mysterious this brank what is the delirium Twitter it makes you grow too many balls'"
      ]
     },
     "execution_count": 38,
     "metadata": {},
     "output_type": "execute_result"
    }
   ],
   "source": [
    "to_translate = df[df['tweet_language'] == 'fr'].iloc[2]['tweet_rendered_content']\n",
    "\n",
    "translated = GoogleTranslator(source='fr', target='en').translate(to_translate)\n",
    "translated"
   ]
  },
  {
   "cell_type": "code",
   "execution_count": 41,
   "id": "791b8c03",
   "metadata": {
    "collapsed": true
   },
   "outputs": [
    {
     "name": "stdout",
     "output_type": "stream",
     "text": [
      "Processed 1000 rows\n",
      "Processed 2000 rows\n",
      "Processed 3000 rows\n",
      "Processed 4000 rows\n",
      "Processed 5000 rows\n",
      "Processed 6000 rows\n",
      "Processed 7000 rows\n",
      "Processed 8000 rows\n",
      "Processed 9000 rows\n",
      "Processed 10000 rows\n",
      "Processed 11000 rows\n",
      "Processed 12000 rows\n",
      "Processed 13000 rows\n",
      "Processed 14000 rows\n",
      "Processed 15000 rows\n",
      "Processed 16000 rows\n",
      "Processed 17000 rows\n",
      "Processed 18000 rows\n",
      "Processed 19000 rows\n",
      "Processed 20000 rows\n",
      "Processed 21000 rows\n",
      "Processed 22000 rows\n",
      "Processed 23000 rows\n",
      "Processed 24000 rows\n",
      "Processed 25000 rows\n",
      "Processed 26000 rows\n",
      "Processed 27000 rows\n",
      "Processed 28000 rows\n",
      "Processed 29000 rows\n",
      "Processed 30000 rows\n",
      "Processed 31000 rows\n",
      "Processed 32000 rows\n",
      "Processed 33000 rows\n",
      "Processed 34000 rows\n",
      "Processed 35000 rows\n",
      "Processed 36000 rows\n",
      "Processed 37000 rows\n",
      "Processed 38000 rows\n",
      "Processed 39000 rows\n",
      "Processed 40000 rows\n",
      "Processed 41000 rows\n",
      "Processed 42000 rows\n",
      "Processed 43000 rows\n",
      "Processed 44000 rows\n",
      "Processed 45000 rows\n",
      "Processed 46000 rows\n",
      "Processed 47000 rows\n",
      "Processed 48000 rows\n",
      "Processed 49000 rows\n",
      "Processed 50000 rows\n",
      "Processed 51000 rows\n",
      "Processed 52000 rows\n",
      "Processed 53000 rows\n",
      "Processed 54000 rows\n",
      "Processed 55000 rows\n",
      "Processed 56000 rows\n",
      "Processed 57000 rows\n",
      "Processed 58000 rows\n",
      "Processed 59000 rows\n",
      "Processed 60000 rows\n",
      "Processed 61000 rows\n",
      "Processed 62000 rows\n",
      "Processed 63000 rows\n",
      "Processed 64000 rows\n",
      "Processed 65000 rows\n",
      "Processed 66000 rows\n",
      "Processed 67000 rows\n",
      "Processed 68000 rows\n",
      "Processed 69000 rows\n",
      "Processed 70000 rows\n",
      "Processed 71000 rows\n",
      "Processed 72000 rows\n",
      "Processed 73000 rows\n",
      "Processed 74000 rows\n",
      "Processed 75000 rows\n",
      "Processed 76000 rows\n",
      "Processed 77000 rows\n",
      "Processed 78000 rows\n",
      "Processed 79000 rows\n",
      "Processed 80000 rows\n",
      "Processed 81000 rows\n",
      "Processed 82000 rows\n",
      "Processed 83000 rows\n",
      "Processed 84000 rows\n",
      "Processed 85000 rows\n",
      "Processed 86000 rows\n",
      "Processed 87000 rows\n",
      "Processed 88000 rows\n",
      "Processed 89000 rows\n",
      "Processed 90000 rows\n",
      "Processed 91000 rows\n",
      "Processed 92000 rows\n",
      "Processed 93000 rows\n",
      "Processed 94000 rows\n",
      "Processed 95000 rows\n",
      "Processed 96000 rows\n",
      "Processed 97000 rows\n",
      "Processed 98000 rows\n",
      "Processed 99000 rows\n",
      "Processed 100000 rows\n"
     ]
    }
   ],
   "source": [
    "# process rows\n",
    "for index, row in df.iterrows():\n",
    "    df.at[index, 'tweet_rendered_content'] = process_row(row,'fr','en',print_progress=True)"
   ]
  },
  {
   "cell_type": "code",
   "execution_count": 42,
   "id": "54cfecc9",
   "metadata": {},
   "outputs": [
    {
     "data": {
      "text/plain": [
       "'@le_blm @pessiLapierre @ArnaultRaphael @IvarMundus @PoliceNationale Mdrrrrr you can see the only times he left his house was to buy a computer and to file a complaint against this clown'"
      ]
     },
     "execution_count": 42,
     "metadata": {},
     "output_type": "execute_result"
    }
   ],
   "source": [
    "df[df['tweet_language']=='fr'].iloc[0]['tweet_rendered_content']"
   ]
  },
  {
   "cell_type": "markdown",
   "id": "280a177e",
   "metadata": {},
   "source": [
    "**Japaneses :** "
   ]
  },
  {
   "cell_type": "code",
   "execution_count": 43,
   "id": "bfadb861",
   "metadata": {},
   "outputs": [
    {
     "data": {
      "text/plain": [
       "'雅結はやっぱ素敵…'"
      ]
     },
     "execution_count": 43,
     "metadata": {},
     "output_type": "execute_result"
    }
   ],
   "source": [
    "to_translate = df[df['tweet_language'] == 'ja'].iloc[2]['tweet_rendered_content']\n",
    "to_translate"
   ]
  },
  {
   "cell_type": "code",
   "execution_count": 44,
   "id": "6764fa83",
   "metadata": {},
   "outputs": [
    {
     "data": {
      "text/plain": [
       "'Yayui is really nice...'"
      ]
     },
     "execution_count": 44,
     "metadata": {},
     "output_type": "execute_result"
    }
   ],
   "source": [
    "translated = GoogleTranslator(source='ja', target='en').translate(to_translate)\n",
    "translated"
   ]
  },
  {
   "cell_type": "code",
   "execution_count": 45,
   "id": "4ef773bf",
   "metadata": {},
   "outputs": [],
   "source": [
    "for index, row in df[df['tweet_language']=='ja'].iterrows():\n",
    "    df.at[index, 'tweet_rendered_content'] = process_row(row,'ja','en')"
   ]
  },
  {
   "cell_type": "markdown",
   "id": "431fc9e5",
   "metadata": {},
   "source": [
    "**Espanyol :**"
   ]
  },
  {
   "cell_type": "code",
   "execution_count": 46,
   "id": "686e91ab",
   "metadata": {},
   "outputs": [
    {
     "data": {
      "text/plain": [
       "'@PlushError no es por eso es para tapar un lío en el que se ha metido'"
      ]
     },
     "execution_count": 46,
     "metadata": {},
     "output_type": "execute_result"
    }
   ],
   "source": [
    "to_translate = df[df['tweet_language'] == 'es'].iloc[2]['tweet_rendered_content']\n",
    "to_translate"
   ]
  },
  {
   "cell_type": "code",
   "execution_count": 47,
   "id": "c7780efe",
   "metadata": {},
   "outputs": [
    {
     "data": {
      "text/plain": [
       "\"@PlushError that's not why it's to cover up a mess he's gotten himself into\""
      ]
     },
     "execution_count": 47,
     "metadata": {},
     "output_type": "execute_result"
    }
   ],
   "source": [
    "translated = GoogleTranslator(source='es', target='en').translate(to_translate)\n",
    "translated"
   ]
  },
  {
   "cell_type": "code",
   "execution_count": 48,
   "id": "e71b129f",
   "metadata": {},
   "outputs": [],
   "source": [
    "for index, row in df[df['tweet_language']=='es'].iterrows():\n",
    "    df.at[index, 'tweet_rendered_content'] = process_row(row,'es','en')"
   ]
  },
  {
   "cell_type": "markdown",
   "id": "4e502196",
   "metadata": {},
   "source": [
    "**denmark:**"
   ]
  },
  {
   "cell_type": "code",
   "execution_count": 49,
   "id": "58d4c1a8",
   "metadata": {
    "scrolled": true
   },
   "outputs": [
    {
     "data": {
      "text/plain": [
       "'@levlupde 300 Euro dann grundlos gebannt worden von activison und alles weg nochmal Dankeschön call of duty dickes Kuss'"
      ]
     },
     "execution_count": 49,
     "metadata": {},
     "output_type": "execute_result"
    }
   ],
   "source": [
    "to_translate = df[df['tweet_language'] == 'de'].iloc[3]['tweet_rendered_content']\n",
    "to_translate"
   ]
  },
  {
   "cell_type": "code",
   "execution_count": 50,
   "id": "73138a5a",
   "metadata": {},
   "outputs": [
    {
     "data": {
      "text/plain": [
       "'@levlupde 300 euros then been banned by activison for no reason and everything gone again thank you call of duty big kiss'"
      ]
     },
     "execution_count": 50,
     "metadata": {},
     "output_type": "execute_result"
    }
   ],
   "source": [
    "translated = GoogleTranslator(source='de', target='en').translate(to_translate)\n",
    "translated"
   ]
  },
  {
   "cell_type": "code",
   "execution_count": 51,
   "id": "435e7212",
   "metadata": {},
   "outputs": [],
   "source": [
    "for index, row in df[df['tweet_language']=='de'].iterrows():\n",
    "    df.at[index, 'tweet_rendered_content'] = process_row(row,'de','en')"
   ]
  },
  {
   "cell_type": "markdown",
   "id": "46fadd8b",
   "metadata": {},
   "source": [
    "**korean:**"
   ]
  },
  {
   "cell_type": "code",
   "execution_count": 52,
   "id": "af5b479b",
   "metadata": {},
   "outputs": [
    {
     "data": {
      "text/plain": [
       "'4디페 일단 아마 혼자갈지도용 ㅎㅎ;;\\n뭔가 뿌릴만한거 그때까지 만든다면...\\n드리고싶네요..꼭..'"
      ]
     },
     "execution_count": 52,
     "metadata": {},
     "output_type": "execute_result"
    }
   ],
   "source": [
    "to_translate = df[df['tweet_language'] == 'ko'].iloc[3]['tweet_rendered_content']\n",
    "to_translate"
   ]
  },
  {
   "cell_type": "code",
   "execution_count": 53,
   "id": "7a2fdf5f",
   "metadata": {},
   "outputs": [
    {
     "data": {
      "text/plain": [
       "\"4 diffe, maybe I'll go alone haha;;\\nIf you make something worth spraying by then...\\nI want to give it to you.. by all means..\""
      ]
     },
     "execution_count": 53,
     "metadata": {},
     "output_type": "execute_result"
    }
   ],
   "source": [
    "translated = GoogleTranslator(source='ko', target='en').translate(to_translate)\n",
    "translated"
   ]
  },
  {
   "cell_type": "code",
   "execution_count": 54,
   "id": "c7c5fe01",
   "metadata": {},
   "outputs": [],
   "source": [
    "for index, row in df[df['tweet_language']=='ko'].iterrows():\n",
    "    df.at[index, 'tweet_rendered_content'] = process_row(row,'ko','en')"
   ]
  },
  {
   "cell_type": "markdown",
   "id": "41f80bfb",
   "metadata": {},
   "source": [
    "**portugese:**"
   ]
  },
  {
   "cell_type": "code",
   "execution_count": 55,
   "id": "8ca267e7",
   "metadata": {},
   "outputs": [
    {
     "data": {
      "text/plain": [
       "'@NattyCaballero1 @DiegoTorbesBage Eu li e posso te afirmar que se tratando de contratação a do R10 tá no top um de maiores fiascos do RS futebolisticamente falando '"
      ]
     },
     "execution_count": 55,
     "metadata": {},
     "output_type": "execute_result"
    }
   ],
   "source": [
    "to_translate = df[df['tweet_language'] == 'pt'].iloc[2]['tweet_rendered_content']\n",
    "to_translate"
   ]
  },
  {
   "cell_type": "code",
   "execution_count": 56,
   "id": "5854d6d1",
   "metadata": {},
   "outputs": [
    {
     "data": {
      "text/plain": [
       "'@NattyCaballero1 @DiegoTorbesBage I read it and I can tell you that when it comes to hiring, R10 is one of the biggest fiascoes in RS in terms of football'"
      ]
     },
     "execution_count": 56,
     "metadata": {},
     "output_type": "execute_result"
    }
   ],
   "source": [
    "translated = GoogleTranslator(source='pt', target='en').translate(to_translate)\n",
    "translated"
   ]
  },
  {
   "cell_type": "code",
   "execution_count": 57,
   "id": "e3d2b6e3",
   "metadata": {},
   "outputs": [],
   "source": [
    "for index, row in df[df['tweet_language']=='pt'].iterrows():\n",
    "    df.at[index, 'tweet_rendered_content'] = process_row(row,'pt','en')"
   ]
  },
  {
   "cell_type": "markdown",
   "id": "6b19a49b",
   "metadata": {},
   "source": [
    "### That should cover most of the common languages in the dataset."
   ]
  },
  {
   "cell_type": "markdown",
   "id": "2fee4315",
   "metadata": {},
   "source": [
    "**Saving modified df as a csv to prevent loss of data**"
   ]
  },
  {
   "cell_type": "code",
   "execution_count": 62,
   "id": "d1cd3ac0",
   "metadata": {},
   "outputs": [],
   "source": [
    "df.to_csv('/Users/alenjose/Desktop/data/project_data/self-scraped/processed/BLM_100k_translated_partially.csv')"
   ]
  },
  {
   "cell_type": "code",
   "execution_count": 218,
   "id": "9b84d7af",
   "metadata": {},
   "outputs": [],
   "source": [
    "# df = pd.read_csv('/Users/alenjose/Desktop/data/project_data/self-scraped/processed/BLM_100k_translated_partially.csv')"
   ]
  },
  {
   "cell_type": "code",
   "execution_count": 63,
   "id": "332f9a52",
   "metadata": {},
   "outputs": [],
   "source": [
    "english_tweets = ['en', 'id', 'fr','ja','es','de','ko','pt']"
   ]
  },
  {
   "cell_type": "code",
   "execution_count": 70,
   "id": "4c0b4645",
   "metadata": {},
   "outputs": [
    {
     "name": "stdout",
     "output_type": "stream",
     "text": [
      "length of final dataset :  93976\n"
     ]
    }
   ],
   "source": [
    "print('length of final dataset : ',len(df[df['tweet_language'].isin(english_tweets)]))"
   ]
  },
  {
   "cell_type": "code",
   "execution_count": 72,
   "id": "36ac61a9",
   "metadata": {},
   "outputs": [],
   "source": [
    "# only english tweets (original english and translated to english tweets)\n",
    "df_english = df[df['tweet_language'].isin(english_tweets)]"
   ]
  },
  {
   "cell_type": "code",
   "execution_count": 74,
   "id": "16d227bf",
   "metadata": {},
   "outputs": [],
   "source": [
    "# renaming column to indicate tweets have stop words\n",
    "df_english = df_english.rename(columns={'tweet_rendered_content': 'tweet_text_with_sw'})"
   ]
  },
  {
   "cell_type": "code",
   "execution_count": 75,
   "id": "a21e07ec",
   "metadata": {},
   "outputs": [],
   "source": [
    "stopwords = nltk.corpus.stopwords.words('english')\n",
    "\n",
    "def remove_stopwords(text):\n",
    "    return \" \".join([word for word in str(text).split() \\\n",
    "                       if word not in stopwords])"
   ]
  },
  {
   "cell_type": "code",
   "execution_count": 76,
   "id": "e103171c",
   "metadata": {},
   "outputs": [],
   "source": [
    "df_english['tweet_text_without_sw'] = df_english['tweet_text_with_sw'].apply(remove_stopwords)"
   ]
  },
  {
   "cell_type": "code",
   "execution_count": 82,
   "id": "74a6887f",
   "metadata": {},
   "outputs": [
    {
     "name": "stdout",
     "output_type": "stream",
     "text": [
      "There are 0 tweets with empty values\n"
     ]
    }
   ],
   "source": [
    "print('There are', len(df_english[df_english.tweet_text_with_sw.isna()]), 'tweets with empty values')"
   ]
  },
  {
   "cell_type": "code",
   "execution_count": 83,
   "id": "045b6f9f",
   "metadata": {},
   "outputs": [
    {
     "data": {
      "image/png": "[encoded data removed]",
      "text/plain": [
       "<Figure size 500x500 with 1 Axes>"
      ]
     },
     "metadata": {},
     "output_type": "display_data"
    }
   ],
   "source": [
    "fig, ax = plt.subplots(figsize=(5, 5))\n",
    "plt.boxplot([len(t) for t in df_english.tweet_text_with_sw])\n",
    "plt.show()"
   ]
  },
  {
   "cell_type": "code",
   "execution_count": 84,
   "id": "1ee4d752",
   "metadata": {},
   "outputs": [
    {
     "data": {
      "image/png": "[encoded data removed]",
      "text/plain": [
       "<Figure size 500x500 with 1 Axes>"
      ]
     },
     "metadata": {},
     "output_type": "display_data"
    }
   ],
   "source": [
    "fig, ax = plt.subplots(figsize=(5, 5))\n",
    "plt.boxplot([len(t) for t in df_english[df_english['tweet_text_with_sw'].str.len() > 200].tweet_text_with_sw])\n",
    "plt.show()"
   ]
  },
  {
   "cell_type": "code",
   "execution_count": 86,
   "id": "389879cd",
   "metadata": {},
   "outputs": [],
   "source": [
    "pattern_1 = r'@\\w+'\n",
    "pattern_2 = r'https?://\\S+|www\\.\\S+' \n",
    "www_urls = r'www.[^ ]+'\n",
    "\n",
    "combined_pattern = r'|'.join((pattern_1,pattern_2,www_urls))\n",
    "\n",
    "def replace_apostrophe(text):\n",
    "    # omit one-letter words\n",
    "    one_letter_pat = r'\\b\\w\\b'\n",
    "    text = re.sub(one_letter_pat, '', text)\n",
    "    # omit apostrophes\n",
    "    text = text.replace(\"'\", \"\")\n",
    "    return text.strip()\n",
    "\n",
    "pattern_3 = f\"[^{re.escape(string.ascii_letters + string.digits + string.punctuation + ' ')}]\"\n",
    "\n",
    "i=0\n",
    "def clean_text(text):\n",
    "    global i\n",
    "    # removing @mentions and urls     \n",
    "    text = re.sub(combined_pattern,'',text)\n",
    "    \n",
    "    # decoding HTML encode      \n",
    "    text = BeautifulSoup(text,'lxml').get_text()\n",
    "    \n",
    "    # decoding UTF-8 BOM\n",
    "    text = re.sub(pattern_3, \"\", text)\n",
    "    \n",
    "    # handling negations\n",
    "    text = replace_apostrophe(text)\n",
    "    \n",
    "    # keep only letters\n",
    "    text = re.sub(\"[^a-zA-Z]\", \" \", text)\n",
    "    \n",
    "    # remove white spaces and lowercase all letters\n",
    "    text = (' '.join(text.split())).lower()\n",
    "    \n",
    "    if(i%10000 == 0):\n",
    "        print('completed:'+ str(i))\n",
    "        \n",
    "    i = i+1\n",
    "    \n",
    "    return text"
   ]
  },
  {
   "cell_type": "code",
   "execution_count": 88,
   "id": "f89bd316",
   "metadata": {},
   "outputs": [
    {
     "name": "stderr",
     "output_type": "stream",
     "text": [
      "/opt/homebrew/lib/python3.10/site-packages/bs4/__init__.py:435: MarkupResemblesLocatorWarning: The input looks more like a filename than markup. You may want to open this file and pass the filehandle into Beautiful Soup.\n",
      "  warnings.warn(\n"
     ]
    },
    {
     "name": "stdout",
     "output_type": "stream",
     "text": [
      "completed:100000\n",
      "completed:110000\n",
      "completed:120000\n",
      "completed:130000\n",
      "completed:140000\n",
      "completed:150000\n",
      "completed:160000\n",
      "completed:170000\n",
      "completed:180000\n"
     ]
    }
   ],
   "source": [
    "df_english['tweet_text_with_sw'] = df_english['tweet_text_with_sw'].apply(clean_text)"
   ]
  },
  {
   "cell_type": "code",
   "execution_count": 89,
   "id": "3c30bef3",
   "metadata": {},
   "outputs": [
    {
     "name": "stdout",
     "output_type": "stream",
     "text": [
      "completed:190000\n",
      "completed:200000\n",
      "completed:210000\n",
      "completed:220000\n",
      "completed:230000\n",
      "completed:240000\n",
      "completed:250000\n",
      "completed:260000\n",
      "completed:270000\n",
      "completed:280000\n"
     ]
    }
   ],
   "source": [
    "df_english['tweet_text_without_sw'] = df_english['tweet_text_without_sw'].apply(clean_text)"
   ]
  },
  {
   "cell_type": "code",
   "execution_count": 90,
   "id": "c482c451",
   "metadata": {},
   "outputs": [
    {
     "data": {
      "text/html": [
       "<div>\n",
       "<style scoped>\n",
       "    .dataframe tbody tr th:only-of-type {\n",
       "        vertical-align: middle;\n",
       "    }\n",
       "\n",
       "    .dataframe tbody tr th {\n",
       "        vertical-align: top;\n",
       "    }\n",
       "\n",
       "    .dataframe thead th {\n",
       "        text-align: right;\n",
       "    }\n",
       "</style>\n",
       "<table border=\"1\" class=\"dataframe\">\n",
       "  <thead>\n",
       "    <tr style=\"text-align: right;\">\n",
       "      <th></th>\n",
       "      <th>date</th>\n",
       "      <th>tweet_text_with_sw</th>\n",
       "      <th>tweet_id</th>\n",
       "      <th>user_name</th>\n",
       "      <th>display_name</th>\n",
       "      <th>user_id</th>\n",
       "      <th>user_description</th>\n",
       "      <th>user_follower_count</th>\n",
       "      <th>user_friend_count</th>\n",
       "      <th>user_statuses_count</th>\n",
       "      <th>...</th>\n",
       "      <th>tweet_reply_count</th>\n",
       "      <th>tweet_retweet_count</th>\n",
       "      <th>tweet_like_count</th>\n",
       "      <th>tweet_quote_count</th>\n",
       "      <th>tweet_language</th>\n",
       "      <th>tweet_source</th>\n",
       "      <th>tweet_mentioned_users</th>\n",
       "      <th>year</th>\n",
       "      <th>month</th>\n",
       "      <th>tweet_text_without_sw</th>\n",
       "    </tr>\n",
       "  </thead>\n",
       "  <tbody>\n",
       "    <tr>\n",
       "      <th>0</th>\n",
       "      <td>2022-04-22 17:26:15.207532763</td>\n",
       "      <td>sjshsjjsh who crying me oh my god sis namjoon ...</td>\n",
       "      <td>1.643000e+18</td>\n",
       "      <td>nadealeine</td>\n",
       "      <td>Noémie</td>\n",
       "      <td>1.278350e+18</td>\n",
       "      <td>NaN</td>\n",
       "      <td>16</td>\n",
       "      <td>113</td>\n",
       "      <td>43640</td>\n",
       "      <td>...</td>\n",
       "      <td>0</td>\n",
       "      <td>0</td>\n",
       "      <td>0</td>\n",
       "      <td>0</td>\n",
       "      <td>id</td>\n",
       "      <td>&lt;a href=\"http://twitter.com/download/android\" ...</td>\n",
       "      <td>NaN</td>\n",
       "      <td>2022</td>\n",
       "      <td>4</td>\n",
       "      <td>sjshsjjsh who crying me oh god sis namjoon gon...</td>\n",
       "    </tr>\n",
       "    <tr>\n",
       "      <th>2</th>\n",
       "      <td>2021-03-23 10:27:38.540305625</td>\n",
       "      <td>someone needs to check the keepers betway account</td>\n",
       "      <td>1.643000e+18</td>\n",
       "      <td>ArsenalBLM</td>\n",
       "      <td>BLMAlways</td>\n",
       "      <td>1.293480e+18</td>\n",
       "      <td>#BlackLivesMatter</td>\n",
       "      <td>181</td>\n",
       "      <td>512</td>\n",
       "      <td>229</td>\n",
       "      <td>...</td>\n",
       "      <td>0</td>\n",
       "      <td>0</td>\n",
       "      <td>0</td>\n",
       "      <td>0</td>\n",
       "      <td>en</td>\n",
       "      <td>&lt;a href=\"http://twitter.com/download/iphone\" r...</td>\n",
       "      <td>NaN</td>\n",
       "      <td>2021</td>\n",
       "      <td>3</td>\n",
       "      <td>someone needs check keepers betway account</td>\n",
       "    </tr>\n",
       "    <tr>\n",
       "      <th>3</th>\n",
       "      <td>2021-01-02 10:14:06.885676513</td>\n",
       "      <td>just want to ask cel haven gotten to know us y...</td>\n",
       "      <td>1.643000e+18</td>\n",
       "      <td>plngee</td>\n",
       "      <td>GheYaa</td>\n",
       "      <td>1.386010e+18</td>\n",
       "      <td>Duta Badlooking Sejagad!</td>\n",
       "      <td>46</td>\n",
       "      <td>114</td>\n",
       "      <td>1444</td>\n",
       "      <td>...</td>\n",
       "      <td>0</td>\n",
       "      <td>0</td>\n",
       "      <td>0</td>\n",
       "      <td>0</td>\n",
       "      <td>id</td>\n",
       "      <td>&lt;a href=\"http://twitter.com/download/android\" ...</td>\n",
       "      <td>[User(username='jisellearn', id=16426332242403...</td>\n",
       "      <td>2021</td>\n",
       "      <td>1</td>\n",
       "      <td>just want ask cel gotten know us yet okay exci...</td>\n",
       "    </tr>\n",
       "    <tr>\n",
       "      <th>4</th>\n",
       "      <td>2022-12-21 10:46:27.602754696</td>\n",
       "      <td>that right aren you sleepy yet</td>\n",
       "      <td>1.643000e+18</td>\n",
       "      <td>REMASxHKE</td>\n",
       "      <td>Akiffa</td>\n",
       "      <td>7.736230e+17</td>\n",
       "      <td>you’ll find me on my tallest tiptoes spinning ...</td>\n",
       "      <td>139</td>\n",
       "      <td>117</td>\n",
       "      <td>3059</td>\n",
       "      <td>...</td>\n",
       "      <td>0</td>\n",
       "      <td>0</td>\n",
       "      <td>0</td>\n",
       "      <td>0</td>\n",
       "      <td>id</td>\n",
       "      <td>&lt;a href=\"http://twitter.com/download/iphone\" r...</td>\n",
       "      <td>[User(username='REMASxKARINA', id=163376329292...</td>\n",
       "      <td>2022</td>\n",
       "      <td>12</td>\n",
       "      <td>that right sleepy yet</td>\n",
       "    </tr>\n",
       "    <tr>\n",
       "      <th>5</th>\n",
       "      <td>2022-05-24 08:51:10.357066577</td>\n",
       "      <td>consequences imagine that except at blm antifa...</td>\n",
       "      <td>1.643000e+18</td>\n",
       "      <td>Apodroplane</td>\n",
       "      <td>beyondbelief</td>\n",
       "      <td>1.430000e+18</td>\n",
       "      <td>Not too much but not too little</td>\n",
       "      <td>9</td>\n",
       "      <td>204</td>\n",
       "      <td>735</td>\n",
       "      <td>...</td>\n",
       "      <td>0</td>\n",
       "      <td>0</td>\n",
       "      <td>0</td>\n",
       "      <td>0</td>\n",
       "      <td>en</td>\n",
       "      <td>&lt;a href=\"http://twitter.com/#!/download/ipad\" ...</td>\n",
       "      <td>[User(username='ProudElephantUS', id=810055220...</td>\n",
       "      <td>2022</td>\n",
       "      <td>5</td>\n",
       "      <td>consequences imagine that except blm antifa ri...</td>\n",
       "    </tr>\n",
       "    <tr>\n",
       "      <th>...</th>\n",
       "      <td>...</td>\n",
       "      <td>...</td>\n",
       "      <td>...</td>\n",
       "      <td>...</td>\n",
       "      <td>...</td>\n",
       "      <td>...</td>\n",
       "      <td>...</td>\n",
       "      <td>...</td>\n",
       "      <td>...</td>\n",
       "      <td>...</td>\n",
       "      <td>...</td>\n",
       "      <td>...</td>\n",
       "      <td>...</td>\n",
       "      <td>...</td>\n",
       "      <td>...</td>\n",
       "      <td>...</td>\n",
       "      <td>...</td>\n",
       "      <td>...</td>\n",
       "      <td>...</td>\n",
       "      <td>...</td>\n",
       "      <td>...</td>\n",
       "    </tr>\n",
       "    <tr>\n",
       "      <th>99995</th>\n",
       "      <td>2022-04-12 20:51:23.180701486</td>\n",
       "      <td>miss being here when people have forgotten abo...</td>\n",
       "      <td>1.641870e+18</td>\n",
       "      <td>puzzlepieze</td>\n",
       "      <td>qila💗 REST LAGI🙏🏻</td>\n",
       "      <td>1.395240e+18</td>\n",
       "      <td>sbt account!🦋 — currently focus on #엔시티드림🧃— ha...</td>\n",
       "      <td>347</td>\n",
       "      <td>379</td>\n",
       "      <td>3473</td>\n",
       "      <td>...</td>\n",
       "      <td>0</td>\n",
       "      <td>0</td>\n",
       "      <td>0</td>\n",
       "      <td>0</td>\n",
       "      <td>id</td>\n",
       "      <td>&lt;a href=\"http://twitter.com/download/android\" ...</td>\n",
       "      <td>NaN</td>\n",
       "      <td>2022</td>\n",
       "      <td>4</td>\n",
       "      <td>miss people forgotten yet</td>\n",
       "    </tr>\n",
       "    <tr>\n",
       "      <th>99996</th>\n",
       "      <td>2021-07-13 08:51:05.276020045</td>\n",
       "      <td>so you don like him pointing out the hypocriti...</td>\n",
       "      <td>1.641870e+18</td>\n",
       "      <td>VelkJay</td>\n",
       "      <td>John Velk</td>\n",
       "      <td>1.575650e+18</td>\n",
       "      <td>Smashing golf balls and fools. It/Nitwit</td>\n",
       "      <td>136</td>\n",
       "      <td>320</td>\n",
       "      <td>6198</td>\n",
       "      <td>...</td>\n",
       "      <td>0</td>\n",
       "      <td>0</td>\n",
       "      <td>1</td>\n",
       "      <td>0</td>\n",
       "      <td>en</td>\n",
       "      <td>&lt;a href=\"https://mobile.twitter.com\" rel=\"nofo...</td>\n",
       "      <td>[User(username='WalshFreedom', id=236487888, d...</td>\n",
       "      <td>2021</td>\n",
       "      <td>7</td>\n",
       "      <td>so like pointing hypocritical idiocy show blm ...</td>\n",
       "    </tr>\n",
       "    <tr>\n",
       "      <th>99997</th>\n",
       "      <td>2021-06-11 08:48:19.736205407</td>\n",
       "      <td>yeah</td>\n",
       "      <td>1.641870e+18</td>\n",
       "      <td>Asagiri_Gennn</td>\n",
       "      <td>Gen Hive ∆ | BLM 🏳️‍🌈</td>\n",
       "      <td>1.152110e+18</td>\n",
       "      <td>Bi Traditional and Digital Artist. Pfp by @paw...</td>\n",
       "      <td>240</td>\n",
       "      <td>235</td>\n",
       "      <td>51776</td>\n",
       "      <td>...</td>\n",
       "      <td>0</td>\n",
       "      <td>0</td>\n",
       "      <td>1</td>\n",
       "      <td>0</td>\n",
       "      <td>en</td>\n",
       "      <td>&lt;a href=\"http://twitter.com/download/iphone\" r...</td>\n",
       "      <td>[User(username='MayaCounty', id=13071846065385...</td>\n",
       "      <td>2021</td>\n",
       "      <td>6</td>\n",
       "      <td>yeah</td>\n",
       "    </tr>\n",
       "    <tr>\n",
       "      <th>99998</th>\n",
       "      <td>2022-01-24 11:45:16.207217695</td>\n",
       "      <td>there haven been lot of interactions but you l...</td>\n",
       "      <td>1.641870e+18</td>\n",
       "      <td>Erislov3</td>\n",
       "      <td>Eris on rant</td>\n",
       "      <td>1.426190e+18</td>\n",
       "      <td>19^. #Animanhwa Akun suka-suka. Not Spoiler Fr...</td>\n",
       "      <td>986</td>\n",
       "      <td>805</td>\n",
       "      <td>21424</td>\n",
       "      <td>...</td>\n",
       "      <td>1</td>\n",
       "      <td>0</td>\n",
       "      <td>0</td>\n",
       "      <td>0</td>\n",
       "      <td>id</td>\n",
       "      <td>&lt;a href=\"http://twitter.com/download/android\" ...</td>\n",
       "      <td>NaN</td>\n",
       "      <td>2022</td>\n",
       "      <td>1</td>\n",
       "      <td>there lot interactions look like cute kid need...</td>\n",
       "    </tr>\n",
       "    <tr>\n",
       "      <th>99999</th>\n",
       "      <td>2022-03-16 11:05:38.686239311</td>\n",
       "      <td>no blm yeeha</td>\n",
       "      <td>1.641870e+18</td>\n",
       "      <td>cobalader</td>\n",
       "      <td>nelly⁹ 🩵 - H🖐️ALAND</td>\n",
       "      <td>1.093240e+18</td>\n",
       "      <td>Cityzen // Haaland rider and Zlatan enthusiastic</td>\n",
       "      <td>557</td>\n",
       "      <td>448</td>\n",
       "      <td>16771</td>\n",
       "      <td>...</td>\n",
       "      <td>0</td>\n",
       "      <td>0</td>\n",
       "      <td>0</td>\n",
       "      <td>0</td>\n",
       "      <td>id</td>\n",
       "      <td>&lt;a href=\"http://twitter.com/download/iphone\" r...</td>\n",
       "      <td>[User(username='NO_ID_CALL', id=12400220233274...</td>\n",
       "      <td>2022</td>\n",
       "      <td>3</td>\n",
       "      <td>no blm yeeha</td>\n",
       "    </tr>\n",
       "  </tbody>\n",
       "</table>\n",
       "<p>93976 rows × 21 columns</p>\n",
       "</div>"
      ],
      "text/plain": [
       "                               date  \\\n",
       "0     2022-04-22 17:26:15.207532763   \n",
       "2     2021-03-23 10:27:38.540305625   \n",
       "3     2021-01-02 10:14:06.885676513   \n",
       "4     2022-12-21 10:46:27.602754696   \n",
       "5     2022-05-24 08:51:10.357066577   \n",
       "...                             ...   \n",
       "99995 2022-04-12 20:51:23.180701486   \n",
       "99996 2021-07-13 08:51:05.276020045   \n",
       "99997 2021-06-11 08:48:19.736205407   \n",
       "99998 2022-01-24 11:45:16.207217695   \n",
       "99999 2022-03-16 11:05:38.686239311   \n",
       "\n",
       "                                      tweet_text_with_sw      tweet_id  \\\n",
       "0      sjshsjjsh who crying me oh my god sis namjoon ...  1.643000e+18   \n",
       "2      someone needs to check the keepers betway account  1.643000e+18   \n",
       "3      just want to ask cel haven gotten to know us y...  1.643000e+18   \n",
       "4                         that right aren you sleepy yet  1.643000e+18   \n",
       "5      consequences imagine that except at blm antifa...  1.643000e+18   \n",
       "...                                                  ...           ...   \n",
       "99995  miss being here when people have forgotten abo...  1.641870e+18   \n",
       "99996  so you don like him pointing out the hypocriti...  1.641870e+18   \n",
       "99997                                               yeah  1.641870e+18   \n",
       "99998  there haven been lot of interactions but you l...  1.641870e+18   \n",
       "99999                                       no blm yeeha  1.641870e+18   \n",
       "\n",
       "           user_name           display_name       user_id  \\\n",
       "0         nadealeine                 Noémie  1.278350e+18   \n",
       "2         ArsenalBLM              BLMAlways  1.293480e+18   \n",
       "3             plngee                 GheYaa  1.386010e+18   \n",
       "4          REMASxHKE                 Akiffa  7.736230e+17   \n",
       "5        Apodroplane           beyondbelief  1.430000e+18   \n",
       "...              ...                    ...           ...   \n",
       "99995    puzzlepieze      qila💗 REST LAGI🙏🏻  1.395240e+18   \n",
       "99996        VelkJay              John Velk  1.575650e+18   \n",
       "99997  Asagiri_Gennn  Gen Hive ∆ | BLM 🏳️‍🌈  1.152110e+18   \n",
       "99998       Erislov3           Eris on rant  1.426190e+18   \n",
       "99999      cobalader    nelly⁹ 🩵 - H🖐️ALAND  1.093240e+18   \n",
       "\n",
       "                                        user_description  user_follower_count  \\\n",
       "0                                                    NaN                   16   \n",
       "2                                      #BlackLivesMatter                  181   \n",
       "3                               Duta Badlooking Sejagad!                   46   \n",
       "4      you’ll find me on my tallest tiptoes spinning ...                  139   \n",
       "5                        Not too much but not too little                    9   \n",
       "...                                                  ...                  ...   \n",
       "99995  sbt account!🦋 — currently focus on #엔시티드림🧃— ha...                  347   \n",
       "99996           Smashing golf balls and fools. It/Nitwit                  136   \n",
       "99997  Bi Traditional and Digital Artist. Pfp by @paw...                  240   \n",
       "99998  19^. #Animanhwa Akun suka-suka. Not Spoiler Fr...                  986   \n",
       "99999   Cityzen // Haaland rider and Zlatan enthusiastic                  557   \n",
       "\n",
       "       user_friend_count  user_statuses_count  ... tweet_reply_count  \\\n",
       "0                    113                43640  ...                 0   \n",
       "2                    512                  229  ...                 0   \n",
       "3                    114                 1444  ...                 0   \n",
       "4                    117                 3059  ...                 0   \n",
       "5                    204                  735  ...                 0   \n",
       "...                  ...                  ...  ...               ...   \n",
       "99995                379                 3473  ...                 0   \n",
       "99996                320                 6198  ...                 0   \n",
       "99997                235                51776  ...                 0   \n",
       "99998                805                21424  ...                 1   \n",
       "99999                448                16771  ...                 0   \n",
       "\n",
       "       tweet_retweet_count  tweet_like_count  tweet_quote_count  \\\n",
       "0                        0                 0                  0   \n",
       "2                        0                 0                  0   \n",
       "3                        0                 0                  0   \n",
       "4                        0                 0                  0   \n",
       "5                        0                 0                  0   \n",
       "...                    ...               ...                ...   \n",
       "99995                    0                 0                  0   \n",
       "99996                    0                 1                  0   \n",
       "99997                    0                 1                  0   \n",
       "99998                    0                 0                  0   \n",
       "99999                    0                 0                  0   \n",
       "\n",
       "       tweet_language                                       tweet_source  \\\n",
       "0                  id  <a href=\"http://twitter.com/download/android\" ...   \n",
       "2                  en  <a href=\"http://twitter.com/download/iphone\" r...   \n",
       "3                  id  <a href=\"http://twitter.com/download/android\" ...   \n",
       "4                  id  <a href=\"http://twitter.com/download/iphone\" r...   \n",
       "5                  en  <a href=\"http://twitter.com/#!/download/ipad\" ...   \n",
       "...               ...                                                ...   \n",
       "99995              id  <a href=\"http://twitter.com/download/android\" ...   \n",
       "99996              en  <a href=\"https://mobile.twitter.com\" rel=\"nofo...   \n",
       "99997              en  <a href=\"http://twitter.com/download/iphone\" r...   \n",
       "99998              id  <a href=\"http://twitter.com/download/android\" ...   \n",
       "99999              id  <a href=\"http://twitter.com/download/iphone\" r...   \n",
       "\n",
       "                                   tweet_mentioned_users  year  month  \\\n",
       "0                                                    NaN  2022      4   \n",
       "2                                                    NaN  2021      3   \n",
       "3      [User(username='jisellearn', id=16426332242403...  2021      1   \n",
       "4      [User(username='REMASxKARINA', id=163376329292...  2022     12   \n",
       "5      [User(username='ProudElephantUS', id=810055220...  2022      5   \n",
       "...                                                  ...   ...    ...   \n",
       "99995                                                NaN  2022      4   \n",
       "99996  [User(username='WalshFreedom', id=236487888, d...  2021      7   \n",
       "99997  [User(username='MayaCounty', id=13071846065385...  2021      6   \n",
       "99998                                                NaN  2022      1   \n",
       "99999  [User(username='NO_ID_CALL', id=12400220233274...  2022      3   \n",
       "\n",
       "                                   tweet_text_without_sw  \n",
       "0      sjshsjjsh who crying me oh god sis namjoon gon...  \n",
       "2             someone needs check keepers betway account  \n",
       "3      just want ask cel gotten know us yet okay exci...  \n",
       "4                                  that right sleepy yet  \n",
       "5      consequences imagine that except blm antifa ri...  \n",
       "...                                                  ...  \n",
       "99995                          miss people forgotten yet  \n",
       "99996  so like pointing hypocritical idiocy show blm ...  \n",
       "99997                                               yeah  \n",
       "99998  there lot interactions look like cute kid need...  \n",
       "99999                                       no blm yeeha  \n",
       "\n",
       "[93976 rows x 21 columns]"
      ]
     },
     "execution_count": 90,
     "metadata": {},
     "output_type": "execute_result"
    }
   ],
   "source": [
    "df_english"
   ]
  },
  {
   "cell_type": "code",
   "execution_count": 96,
   "id": "19ee05d9",
   "metadata": {},
   "outputs": [
    {
     "name": "stdout",
     "output_type": "stream",
     "text": [
      "['date', 'tweet_text_with_sw', 'tweet_id', 'user_name', 'display_name', 'user_id', 'user_description', 'user_follower_count', 'user_friend_count', 'user_statuses_count', 'user_location', 'tweet_reply_count', 'tweet_retweet_count', 'tweet_like_count', 'tweet_quote_count', 'tweet_language', 'tweet_source', 'tweet_mentioned_users', 'year', 'month', 'tweet_text_without_sw']\n"
     ]
    }
   ],
   "source": [
    "column_names = list(df_english.columns)\n",
    "print(column_names)"
   ]
  },
  {
   "cell_type": "code",
   "execution_count": 100,
   "id": "ffa13b4c",
   "metadata": {},
   "outputs": [
    {
     "data": {
      "text/html": [
       "<div>\n",
       "<style scoped>\n",
       "    .dataframe tbody tr th:only-of-type {\n",
       "        vertical-align: middle;\n",
       "    }\n",
       "\n",
       "    .dataframe tbody tr th {\n",
       "        vertical-align: top;\n",
       "    }\n",
       "\n",
       "    .dataframe thead th {\n",
       "        text-align: right;\n",
       "    }\n",
       "</style>\n",
       "<table border=\"1\" class=\"dataframe\">\n",
       "  <thead>\n",
       "    <tr style=\"text-align: right;\">\n",
       "      <th></th>\n",
       "      <th>date</th>\n",
       "      <th>year</th>\n",
       "      <th>month</th>\n",
       "      <th>tweet_text_with_sw</th>\n",
       "      <th>tweet_text_without_sw</th>\n",
       "      <th>tweet_id</th>\n",
       "      <th>user_name</th>\n",
       "      <th>display_name</th>\n",
       "      <th>user_id</th>\n",
       "      <th>user_description</th>\n",
       "      <th>user_follower_count</th>\n",
       "      <th>user_friend_count</th>\n",
       "      <th>user_statuses_count</th>\n",
       "      <th>tweet_reply_count</th>\n",
       "      <th>tweet_retweet_count</th>\n",
       "      <th>tweet_like_count</th>\n",
       "      <th>tweet_quote_count</th>\n",
       "      <th>tweet_language</th>\n",
       "      <th>tweet_mentioned_users</th>\n",
       "    </tr>\n",
       "  </thead>\n",
       "  <tbody>\n",
       "    <tr>\n",
       "      <th>0</th>\n",
       "      <td>2022-04-22 17:26:15.207532763</td>\n",
       "      <td>2022</td>\n",
       "      <td>4</td>\n",
       "      <td>sjshsjjsh who crying me oh my god sis namjoon ...</td>\n",
       "      <td>sjshsjjsh who crying me oh god sis namjoon gon...</td>\n",
       "      <td>1.643000e+18</td>\n",
       "      <td>nadealeine</td>\n",
       "      <td>Noémie</td>\n",
       "      <td>1.278350e+18</td>\n",
       "      <td>NaN</td>\n",
       "      <td>16</td>\n",
       "      <td>113</td>\n",
       "      <td>43640</td>\n",
       "      <td>0</td>\n",
       "      <td>0</td>\n",
       "      <td>0</td>\n",
       "      <td>0</td>\n",
       "      <td>id</td>\n",
       "      <td>NaN</td>\n",
       "    </tr>\n",
       "    <tr>\n",
       "      <th>2</th>\n",
       "      <td>2021-03-23 10:27:38.540305625</td>\n",
       "      <td>2021</td>\n",
       "      <td>3</td>\n",
       "      <td>someone needs to check the keepers betway account</td>\n",
       "      <td>someone needs check keepers betway account</td>\n",
       "      <td>1.643000e+18</td>\n",
       "      <td>ArsenalBLM</td>\n",
       "      <td>BLMAlways</td>\n",
       "      <td>1.293480e+18</td>\n",
       "      <td>#BlackLivesMatter</td>\n",
       "      <td>181</td>\n",
       "      <td>512</td>\n",
       "      <td>229</td>\n",
       "      <td>0</td>\n",
       "      <td>0</td>\n",
       "      <td>0</td>\n",
       "      <td>0</td>\n",
       "      <td>en</td>\n",
       "      <td>NaN</td>\n",
       "    </tr>\n",
       "    <tr>\n",
       "      <th>3</th>\n",
       "      <td>2021-01-02 10:14:06.885676513</td>\n",
       "      <td>2021</td>\n",
       "      <td>1</td>\n",
       "      <td>just want to ask cel haven gotten to know us y...</td>\n",
       "      <td>just want ask cel gotten know us yet okay exci...</td>\n",
       "      <td>1.643000e+18</td>\n",
       "      <td>plngee</td>\n",
       "      <td>GheYaa</td>\n",
       "      <td>1.386010e+18</td>\n",
       "      <td>Duta Badlooking Sejagad!</td>\n",
       "      <td>46</td>\n",
       "      <td>114</td>\n",
       "      <td>1444</td>\n",
       "      <td>0</td>\n",
       "      <td>0</td>\n",
       "      <td>0</td>\n",
       "      <td>0</td>\n",
       "      <td>id</td>\n",
       "      <td>[User(username='jisellearn', id=16426332242403...</td>\n",
       "    </tr>\n",
       "    <tr>\n",
       "      <th>4</th>\n",
       "      <td>2022-12-21 10:46:27.602754696</td>\n",
       "      <td>2022</td>\n",
       "      <td>12</td>\n",
       "      <td>that right aren you sleepy yet</td>\n",
       "      <td>that right sleepy yet</td>\n",
       "      <td>1.643000e+18</td>\n",
       "      <td>REMASxHKE</td>\n",
       "      <td>Akiffa</td>\n",
       "      <td>7.736230e+17</td>\n",
       "      <td>you’ll find me on my tallest tiptoes spinning ...</td>\n",
       "      <td>139</td>\n",
       "      <td>117</td>\n",
       "      <td>3059</td>\n",
       "      <td>0</td>\n",
       "      <td>0</td>\n",
       "      <td>0</td>\n",
       "      <td>0</td>\n",
       "      <td>id</td>\n",
       "      <td>[User(username='REMASxKARINA', id=163376329292...</td>\n",
       "    </tr>\n",
       "    <tr>\n",
       "      <th>5</th>\n",
       "      <td>2022-05-24 08:51:10.357066577</td>\n",
       "      <td>2022</td>\n",
       "      <td>5</td>\n",
       "      <td>consequences imagine that except at blm antifa...</td>\n",
       "      <td>consequences imagine that except blm antifa ri...</td>\n",
       "      <td>1.643000e+18</td>\n",
       "      <td>Apodroplane</td>\n",
       "      <td>beyondbelief</td>\n",
       "      <td>1.430000e+18</td>\n",
       "      <td>Not too much but not too little</td>\n",
       "      <td>9</td>\n",
       "      <td>204</td>\n",
       "      <td>735</td>\n",
       "      <td>0</td>\n",
       "      <td>0</td>\n",
       "      <td>0</td>\n",
       "      <td>0</td>\n",
       "      <td>en</td>\n",
       "      <td>[User(username='ProudElephantUS', id=810055220...</td>\n",
       "    </tr>\n",
       "  </tbody>\n",
       "</table>\n",
       "</div>"
      ],
      "text/plain": [
       "                           date  year  month  \\\n",
       "0 2022-04-22 17:26:15.207532763  2022      4   \n",
       "2 2021-03-23 10:27:38.540305625  2021      3   \n",
       "3 2021-01-02 10:14:06.885676513  2021      1   \n",
       "4 2022-12-21 10:46:27.602754696  2022     12   \n",
       "5 2022-05-24 08:51:10.357066577  2022      5   \n",
       "\n",
       "                                  tweet_text_with_sw  \\\n",
       "0  sjshsjjsh who crying me oh my god sis namjoon ...   \n",
       "2  someone needs to check the keepers betway account   \n",
       "3  just want to ask cel haven gotten to know us y...   \n",
       "4                     that right aren you sleepy yet   \n",
       "5  consequences imagine that except at blm antifa...   \n",
       "\n",
       "                               tweet_text_without_sw      tweet_id  \\\n",
       "0  sjshsjjsh who crying me oh god sis namjoon gon...  1.643000e+18   \n",
       "2         someone needs check keepers betway account  1.643000e+18   \n",
       "3  just want ask cel gotten know us yet okay exci...  1.643000e+18   \n",
       "4                              that right sleepy yet  1.643000e+18   \n",
       "5  consequences imagine that except blm antifa ri...  1.643000e+18   \n",
       "\n",
       "     user_name  display_name       user_id  \\\n",
       "0   nadealeine        Noémie  1.278350e+18   \n",
       "2   ArsenalBLM     BLMAlways  1.293480e+18   \n",
       "3       plngee        GheYaa  1.386010e+18   \n",
       "4    REMASxHKE        Akiffa  7.736230e+17   \n",
       "5  Apodroplane  beyondbelief  1.430000e+18   \n",
       "\n",
       "                                    user_description  user_follower_count  \\\n",
       "0                                                NaN                   16   \n",
       "2                                  #BlackLivesMatter                  181   \n",
       "3                           Duta Badlooking Sejagad!                   46   \n",
       "4  you’ll find me on my tallest tiptoes spinning ...                  139   \n",
       "5                    Not too much but not too little                    9   \n",
       "\n",
       "   user_friend_count  user_statuses_count  tweet_reply_count  \\\n",
       "0                113                43640                  0   \n",
       "2                512                  229                  0   \n",
       "3                114                 1444                  0   \n",
       "4                117                 3059                  0   \n",
       "5                204                  735                  0   \n",
       "\n",
       "   tweet_retweet_count  tweet_like_count  tweet_quote_count tweet_language  \\\n",
       "0                    0                 0                  0             id   \n",
       "2                    0                 0                  0             en   \n",
       "3                    0                 0                  0             id   \n",
       "4                    0                 0                  0             id   \n",
       "5                    0                 0                  0             en   \n",
       "\n",
       "                               tweet_mentioned_users  \n",
       "0                                                NaN  \n",
       "2                                                NaN  \n",
       "3  [User(username='jisellearn', id=16426332242403...  \n",
       "4  [User(username='REMASxKARINA', id=163376329292...  \n",
       "5  [User(username='ProudElephantUS', id=810055220...  "
      ]
     },
     "execution_count": 100,
     "metadata": {},
     "output_type": "execute_result"
    }
   ],
   "source": [
    "df_english = df_english.filter(['date','year', 'month','tweet_text_with_sw','tweet_text_without_sw', 'tweet_id', 'user_name', 'display_name', 'user_id', 'user_description', 'user_follower_count', 'user_friend_count', 'user_statuses_count', 'tweet_reply_count', 'tweet_retweet_count', 'tweet_like_count', 'tweet_quote_count', 'tweet_language', 'tweet_mentioned_users']\n",
    ")\n",
    "\n",
    "df_english.head(5)"
   ]
  },
  {
   "cell_type": "code",
   "execution_count": 101,
   "id": "c2203e08",
   "metadata": {},
   "outputs": [],
   "source": [
    "df_english.to_csv('/Users/alenjose/Desktop/data/project_data/self-scraped/processed/BLM_english_tweets.csv') "
   ]
  },
  {
   "cell_type": "code",
   "execution_count": null,
   "id": "a54d5460",
   "metadata": {},
   "outputs": [],
   "source": []
  }
 ],
 "metadata": {
  "kernelspec": {
   "display_name": "Python 3 (ipykernel)",
   "language": "python",
   "name": "python3"
  },
  "language_info": {
   "codemirror_mode": {
    "name": "ipython",
    "version": 3
   },
   "file_extension": ".py",
   "mimetype": "text/x-python",
   "name": "python",
   "nbconvert_exporter": "python",
   "pygments_lexer": "ipython3",
   "version": "3.10.10"
  }
 },
 "nbformat": 4,
 "nbformat_minor": 5
}
