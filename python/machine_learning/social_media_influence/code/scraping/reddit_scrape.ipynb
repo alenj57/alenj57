{
 "cells": [
  {
   "cell_type": "code",
   "execution_count": 1,
   "id": "001675e9",
   "metadata": {},
   "outputs": [],
   "source": [
    "import praw\n",
    "import pandas as pd\n",
    "import time\n",
    "from datetime import date"
   ]
  },
  {
   "cell_type": "code",
   "execution_count": null,
   "id": "c73b5749",
   "metadata": {},
   "outputs": [],
   "source": [
    "from dotenv import load_dotenv\n",
    "import os\n",
    "\n",
    "\n",
    "load_dotenv('.env')\n",
    "client_secret = os.getenv('client_secret')"
   ]
  },
  {
   "cell_type": "code",
   "execution_count": 2,
   "id": "ca2ce118",
   "metadata": {},
   "outputs": [],
   "source": [
    "# Replace the following values with your own\n",
    "client_id = 'qN4uM6lo7y-QGvjC5OgeHg'\n",
    "user_agent = 'python:RedditScraper:1.0 (by /u/reddit_user501)'"
   ]
  },
  {
   "cell_type": "code",
   "execution_count": 3,
   "id": "30923b4d",
   "metadata": {},
   "outputs": [],
   "source": [
    "# Initialize the Reddit API client\n",
    "reddit = praw.Reddit(client_id=client_id,\n",
    "                     client_secret=client_secret,\n",
    "                     user_agent=user_agent)"
   ]
  },
  {
   "cell_type": "code",
   "execution_count": 25,
   "id": "1fdb5294",
   "metadata": {},
   "outputs": [],
   "source": [
    "subreddit_name = 'all'\n",
    "search_query = 'BlackLivesMatter OR BLM OR #BlackLivesMatter OR #BLM OR racial injustice OR racial inequality OR police brutality OR racism OR racial discrimination OR racial profiling OR civil rights'\n",
    "num_posts = 10000"
   ]
  },
  {
   "cell_type": "code",
   "execution_count": 26,
   "id": "2e60e5bd",
   "metadata": {},
   "outputs": [],
   "source": [
    "subreddit = reddit.subreddit(subreddit_name)\n",
    "search_results = subreddit.search(search_query, limit=num_posts)"
   ]
  },
  {
   "cell_type": "code",
   "execution_count": 27,
   "id": "106b1b80",
   "metadata": {},
   "outputs": [],
   "source": [
    "posts = []\n",
    "for post in search_results:\n",
    "    posts.append({\n",
    "        'title': post.title,\n",
    "        'score': post.score,\n",
    "        'url': post.url,\n",
    "        'author': post.author.name if post.author else None,\n",
    "        'created_utc': post.created_utc,\n",
    "        'subreddit': post.subreddit.display_name\n",
    "    })\n",
    "    time.sleep(2)  # Sleep for 2 seconds between requests"
   ]
  },
  {
   "cell_type": "code",
   "execution_count": 19,
   "id": "e6cf3985",
   "metadata": {},
   "outputs": [
    {
     "data": {
      "text/html": [
       "<div>\n",
       "<style scoped>\n",
       "    .dataframe tbody tr th:only-of-type {\n",
       "        vertical-align: middle;\n",
       "    }\n",
       "\n",
       "    .dataframe tbody tr th {\n",
       "        vertical-align: top;\n",
       "    }\n",
       "\n",
       "    .dataframe thead th {\n",
       "        text-align: right;\n",
       "    }\n",
       "</style>\n",
       "<table border=\"1\" class=\"dataframe\">\n",
       "  <thead>\n",
       "    <tr style=\"text-align: right;\">\n",
       "      <th></th>\n",
       "      <th>title</th>\n",
       "      <th>score</th>\n",
       "      <th>url</th>\n",
       "      <th>author</th>\n",
       "      <th>created_utc</th>\n",
       "      <th>subreddit</th>\n",
       "    </tr>\n",
       "  </thead>\n",
       "  <tbody>\n",
       "    <tr>\n",
       "      <th>0</th>\n",
       "      <td>Islam genuinely scares me</td>\n",
       "      <td>6267</td>\n",
       "      <td>https://www.reddit.com/r/atheism/comments/zass...</td>\n",
       "      <td>Ordinator-9000</td>\n",
       "      <td>1.670004e+09</td>\n",
       "      <td>atheism</td>\n",
       "    </tr>\n",
       "    <tr>\n",
       "      <th>1</th>\n",
       "      <td>On the live the guy was saying how Islam produ...</td>\n",
       "      <td>958</td>\n",
       "      <td>https://i.redd.it/7e9jnsjl61ka1.jpg</td>\n",
       "      <td>Babymama1707</td>\n",
       "      <td>1.677180e+09</td>\n",
       "      <td>NotHowGirlsWork</td>\n",
       "    </tr>\n",
       "    <tr>\n",
       "      <th>2</th>\n",
       "      <td>Does Islam ☪️ deserves all the hate it gets fr...</td>\n",
       "      <td>169</td>\n",
       "      <td>https://i.redd.it/75k4x8hw0rla1.jpg</td>\n",
       "      <td>-MasterOfAnnoyance-</td>\n",
       "      <td>1.677929e+09</td>\n",
       "      <td>AskMiddleEast</td>\n",
       "    </tr>\n",
       "  </tbody>\n",
       "</table>\n",
       "</div>"
      ],
      "text/plain": [
       "                                               title  score  \\\n",
       "0                          Islam genuinely scares me   6267   \n",
       "1  On the live the guy was saying how Islam produ...    958   \n",
       "2  Does Islam ☪️ deserves all the hate it gets fr...    169   \n",
       "\n",
       "                                                 url               author  \\\n",
       "0  https://www.reddit.com/r/atheism/comments/zass...       Ordinator-9000   \n",
       "1                https://i.redd.it/7e9jnsjl61ka1.jpg         Babymama1707   \n",
       "2                https://i.redd.it/75k4x8hw0rla1.jpg  -MasterOfAnnoyance-   \n",
       "\n",
       "    created_utc        subreddit  \n",
       "0  1.670004e+09          atheism  \n",
       "1  1.677180e+09  NotHowGirlsWork  \n",
       "2  1.677929e+09    AskMiddleEast  "
      ]
     },
     "execution_count": 19,
     "metadata": {},
     "output_type": "execute_result"
    }
   ],
   "source": [
    "df = pd.DataFrame(posts)\n",
    "df.head(3)"
   ]
  },
  {
   "cell_type": "code",
   "execution_count": 24,
   "id": "7f662d77",
   "metadata": {},
   "outputs": [
    {
     "data": {
      "text/plain": [
       "246"
      ]
     },
     "execution_count": 24,
     "metadata": {},
     "output_type": "execute_result"
    }
   ],
   "source": [
    "len(df)"
   ]
  },
  {
   "cell_type": "code",
   "execution_count": 9,
   "id": "d60dbfd9",
   "metadata": {},
   "outputs": [],
   "source": [
    "limit_as_string = str(num_posts)\n",
    "filename = \"/Users/alenjose/Desktop/msc_project/data\" \\\n",
    "                   + limit_as_string + \"_tweets_\" + search_query + \"_\" + \\\n",
    "                                       str(date.today().strftime(\"%m-%d-%y\")) + \".csv\""
   ]
  }
 ],
 "metadata": {
  "kernelspec": {
   "display_name": "Python 3 (ipykernel)",
   "language": "python",
   "name": "python3"
  },
  "language_info": {
   "codemirror_mode": {
    "name": "ipython",
    "version": 3
   },
   "file_extension": ".py",
   "mimetype": "text/x-python",
   "name": "python",
   "nbconvert_exporter": "python",
   "pygments_lexer": "ipython3",
   "version": "3.10.10"
  }
 },
 "nbformat": 4,
 "nbformat_minor": 5
}
