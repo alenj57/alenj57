{
 "cells": [
  {
   "cell_type": "code",
   "execution_count": 1,
   "id": "e0ace405",
   "metadata": {},
   "outputs": [],
   "source": [
    "import csv\n",
    "from datetime import date\n",
    "import pandas as pd\n",
    "import snscrape.modules.twitter as sntwitter\n",
    "import time"
   ]
  },
  {
   "cell_type": "code",
   "execution_count": 2,
   "id": "99c7445b",
   "metadata": {},
   "outputs": [],
   "source": [
    "search_query = \"BlackLivesMatter OR #BlackLivesMatter OR BLM OR #BLM\"\n",
    "# search_query = 'climatechange OR #climatechange OR globalwarming OR #globalwarming OR environment OR #environment OR climatestrike OR #climatestrike OR climatecrisis OR #climatecrisis OR climateaction OR #climateaction'\n",
    "limit = 100000"
   ]
  },
  {
   "cell_type": "code",
   "execution_count": 10,
   "id": "22005333",
   "metadata": {},
   "outputs": [],
   "source": [
    "limit_as_string = str(limit)\n",
    "filename = \"/Users/alenjose/Desktop/msc_project/data\" \\\n",
    "                   + limit_as_string + \"_tweets_\" + search_query.split()[0] + \"_\" + \\\n",
    "                                       str(date.today().strftime(\"%m-%d-%y\")) + \".csv\""
   ]
  },
  {
   "cell_type": "code",
   "execution_count": 11,
   "id": "519e3de8",
   "metadata": {},
   "outputs": [
    {
     "name": "stdout",
     "output_type": "stream",
     "text": [
      "Filename Generated:  /Users/alenjose/Desktop/msc_project/data10_tweets_climatechange_04-23-23.csv\n"
     ]
    }
   ],
   "source": [
    "print(\"Filename Generated: \", filename)"
   ]
  },
  {
   "cell_type": "code",
   "execution_count": 3,
   "id": "9cc2271a",
   "metadata": {},
   "outputs": [],
   "source": [
    "tweets = []\n",
    "twitter_profile_url = \"https://twitter.com/\""
   ]
  },
  {
   "cell_type": "code",
   "execution_count": 4,
   "id": "262141ab",
   "metadata": {},
   "outputs": [],
   "source": [
    "count = 0\n",
    "sleep_time = 900"
   ]
  },
  {
   "cell_type": "code",
   "execution_count": 31,
   "id": "989fa6fb",
   "metadata": {
    "scrolled": true
   },
   "outputs": [
    {
     "name": "stdout",
     "output_type": "stream",
     "text": [
      "COUNT : 2000 Sleeping for  15.0  minutes\n",
      "COUNT : 4000 Sleeping for  15.0  minutes\n",
      "COUNT : 6000 Sleeping for  15.0  minutes\n",
      "COUNT : 8000 Sleeping for  15.0  minutes\n",
      "COUNT : 10000 Sleeping for  15.0  minutes\n",
      "COUNT : 12000 Sleeping for  15.0  minutes\n",
      "COUNT : 14000 Sleeping for  15.0  minutes\n",
      "COUNT : 16000 Sleeping for  15.0  minutes\n",
      "COUNT : 18000 Sleeping for  15.0  minutes\n",
      "COUNT : 20000 Sleeping for  15.0  minutes\n",
      "COUNT : 22000 Sleeping for  15.0  minutes\n",
      "COUNT : 24000 Sleeping for  15.0  minutes\n",
      "COUNT : 26000 Sleeping for  15.0  minutes\n",
      "COUNT : 28000 Sleeping for  15.0  minutes\n",
      "COUNT : 30000 Sleeping for  15.0  minutes\n",
      "COUNT : 32000 Sleeping for  15.0  minutes\n",
      "COUNT : 34000 Sleeping for  15.0  minutes\n",
      "COUNT : 36000 Sleeping for  15.0  minutes\n",
      "COUNT : 38000 Sleeping for  15.0  minutes\n",
      "COUNT : 40000 Sleeping for  15.0  minutes\n",
      "COUNT : 42000 Sleeping for  15.0  minutes\n",
      "COUNT : 44000 Sleeping for  15.0  minutes\n",
      "COUNT : 46000 Sleeping for  15.0  minutes\n",
      "COUNT : 48000 Sleeping for  15.0  minutes\n",
      "COUNT : 50000 Sleeping for  15.0  minutes\n",
      "COUNT : 52000 Sleeping for  15.0  minutes\n",
      "COUNT : 54000 Sleeping for  15.0  minutes\n",
      "COUNT : 56000 Sleeping for  15.0  minutes\n",
      "COUNT : 58000 Sleeping for  15.0  minutes\n",
      "COUNT : 60000 Sleeping for  15.0  minutes\n",
      "COUNT : 62000 Sleeping for  15.0  minutes\n",
      "COUNT : 64000 Sleeping for  15.0  minutes\n",
      "COUNT : 66000 Sleeping for  15.0  minutes\n",
      "COUNT : 68000 Sleeping for  15.0  minutes\n",
      "COUNT : 70000 Sleeping for  15.0  minutes\n",
      "COUNT : 72000 Sleeping for  15.0  minutes\n",
      "COUNT : 74000 Sleeping for  15.0  minutes\n",
      "COUNT : 76000 Sleeping for  15.0  minutes\n",
      "COUNT : 78000 Sleeping for  15.0  minutes\n",
      "COUNT : 80000 Sleeping for  15.0  minutes\n",
      "COUNT : 82000 Sleeping for  15.0  minutes\n",
      "COUNT : 84000 Sleeping for  15.0  minutes\n",
      "COUNT : 86000 Sleeping for  15.0  minutes\n",
      "COUNT : 88000 Sleeping for  15.0  minutes\n",
      "COUNT : 90000 Sleeping for  15.0  minutes\n",
      "COUNT : 92000 Sleeping for  15.0  minutes\n",
      "COUNT : 94000 Sleeping for  15.0  minutes\n",
      "COUNT : 96000 Sleeping for  15.0  minutes\n",
      "COUNT : 98000 Sleeping for  15.0  minutes\n",
      "COUNT : 100000 Sleeping for  15.0  minutes\n"
     ]
    }
   ],
   "source": [
    "start_date = datetime(2021, 1, 1)\n",
    "end_date = datetime(2023, 1, 28)\n",
    "\n",
    "for tweet in sntwitter.TwitterSearchScraper(search_query).get_items():\n",
    "    if len(tweets) != limit:\n",
    "        tweet_date = tweet.date.date()\n",
    "        if start_date <= tweet_date <= end_date:\n",
    "            count = count + 1\n",
    "            if count % 2000 == 0:\n",
    "                print(\"COUNT:\", count, \"Sleeping for\", sleep_time/60, \"minutes\")\n",
    "                time.sleep(sleep_time)\n",
    "            tweets.append([\n",
    "                tweet.date,\n",
    "                tweet.rawContent,\n",
    "                tweet.renderedContent,\n",
    "                tweet.id,\n",
    "                tweet.user.username,\n",
    "                tweet.user.displayname,\n",
    "                tweet.user.id,\n",
    "                tweet.user.renderedDescription,\n",
    "                tweet.user.verified,\n",
    "                tweet.user.followersCount,\n",
    "                tweet.user.friendsCount,\n",
    "                tweet.user.statusesCount,\n",
    "                tweet.user.location,\n",
    "                tweet.replyCount,\n",
    "                tweet.retweetCount,\n",
    "                tweet.likeCount,\n",
    "                tweet.quoteCount,\n",
    "                tweet.lang,\n",
    "                tweet.source,\n",
    "                tweet.retweetedTweet,\n",
    "                tweet.quotedTweet,\n",
    "                tweet.mentionedUsers,\n",
    "                tweet.hashtags\n",
    "            ])\n",
    "    else:\n",
    "        break\n"
   ]
  },
  {
   "cell_type": "code",
   "execution_count": 1,
   "id": "f5abb3e0",
   "metadata": {},
   "outputs": [],
   "source": [
    "df = pd.DataFrame(tweets, columns=[\n",
    "    'date',\n",
    "    'tweet_content',\n",
    "    'tweet_rendered_content',\n",
    "    'tweet_id',\n",
    "    'user_name',\n",
    "    'display_name',\n",
    "    'user_id',\n",
    "    'user_description',\n",
    "    'verified',\n",
    "    'user_follower_count',\n",
    "    'user_friend_count',\n",
    "    'user_statuses_count',\n",
    "    'user_location',\n",
    "    'tweet_reply_count',\n",
    "    'tweet_retweet_count',\n",
    "    'tweet_like_count',\n",
    "    'tweet_quote_count',\n",
    "    'tweet_language',\n",
    "    'tweet_source',\n",
    "    'rt_original_tweet_id',\n",
    "    'quoted_tweet_original_tweet_id',\n",
    "    'tweet_mentioned_users',\n",
    "    'tweet_hashtags'\n",
    "])"
   ]
  },
  {
   "cell_type": "code",
   "execution_count": 33,
   "id": "3db86680",
   "metadata": {},
   "outputs": [],
   "source": [
    "df.to_csv(filename)"
   ]
  },
  {
   "cell_type": "code",
   "execution_count": null,
   "id": "9fa97bb5",
   "metadata": {},
   "outputs": [],
   "source": []
  }
 ],
 "metadata": {
  "kernelspec": {
   "display_name": "Python 3 (ipykernel)",
   "language": "python",
   "name": "python3"
  },
  "language_info": {
   "codemirror_mode": {
    "name": "ipython",
    "version": 3
   },
   "file_extension": ".py",
   "mimetype": "text/x-python",
   "name": "python",
   "nbconvert_exporter": "python",
   "pygments_lexer": "ipython3",
   "version": "3.10.10"
  }
 },
 "nbformat": 4,
 "nbformat_minor": 5
}
