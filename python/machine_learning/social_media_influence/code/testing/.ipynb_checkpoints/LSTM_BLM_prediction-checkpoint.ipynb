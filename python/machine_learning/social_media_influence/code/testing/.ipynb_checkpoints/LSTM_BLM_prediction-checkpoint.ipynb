{
 "cells": [
  {
   "cell_type": "code",
   "execution_count": 10,
   "id": "5537aa73",
   "metadata": {},
   "outputs": [],
   "source": [
    "import pandas as pd\n",
    "import numpy as np\n",
    "import matplotlib.pyplot as plt\n",
    "import seaborn as sns\n",
    "\n",
    "import nltk\n",
    "from wordcloud import WordCloud\n",
    "from nltk.stem import WordNetLemmatizer\n",
    "from nltk.tokenize import WordPunctTokenizer\n",
    "\n",
    "from googletrans import Translator\n",
    "from deep_translator import GoogleTranslator\n",
    "import string\n",
    "import emoji\n",
    "from bs4 import BeautifulSoup\n",
    "\n",
    "from dotenv import load_dotenv\n",
    "import os\n",
    "\n",
    "import itertools\n",
    "from html import unescape\n",
    "import re \n",
    "\n",
    "import keras\n",
    "\n",
    "from tensorflow.keras.models import load_model\n",
    "from tensorflow.keras.preprocessing.text import Tokenizer\n",
    "from tensorflow.keras.preprocessing.sequence import pad_sequences"
   ]
  },
  {
   "cell_type": "code",
   "execution_count": 11,
   "id": "a699a2be",
   "metadata": {},
   "outputs": [],
   "source": [
    "df = pd.read_csv('/Users/alenjose/Desktop/data/project_data/self-scraped/processed/BLM_english_tweets.csv')"
   ]
  },
  {
   "cell_type": "code",
   "execution_count": 12,
   "id": "d57bde32",
   "metadata": {},
   "outputs": [
    {
     "name": "stdout",
     "output_type": "stream",
     "text": [
      "<class 'pandas.core.frame.DataFrame'>\n",
      "RangeIndex: 93976 entries, 0 to 93975\n",
      "Data columns (total 20 columns):\n",
      " #   Column                 Non-Null Count  Dtype  \n",
      "---  ------                 --------------  -----  \n",
      " 0   Unnamed: 0             93976 non-null  int64  \n",
      " 1   date                   93976 non-null  object \n",
      " 2   year                   93976 non-null  int64  \n",
      " 3   month                  93976 non-null  int64  \n",
      " 4   tweet_text_with_sw     93946 non-null  object \n",
      " 5   tweet_text_without_sw  93866 non-null  object \n",
      " 6   tweet_id               93976 non-null  float64\n",
      " 7   user_name              93976 non-null  object \n",
      " 8   display_name           93967 non-null  object \n",
      " 9   user_id                93976 non-null  float64\n",
      " 10  user_description       82560 non-null  object \n",
      " 11  user_follower_count    93976 non-null  int64  \n",
      " 12  user_friend_count      93976 non-null  int64  \n",
      " 13  user_statuses_count    93976 non-null  int64  \n",
      " 14  tweet_reply_count      93976 non-null  int64  \n",
      " 15  tweet_retweet_count    93976 non-null  int64  \n",
      " 16  tweet_like_count       93976 non-null  int64  \n",
      " 17  tweet_quote_count      93976 non-null  int64  \n",
      " 18  tweet_language         93976 non-null  object \n",
      " 19  tweet_mentioned_users  62100 non-null  object \n",
      "dtypes: float64(2), int64(10), object(8)\n",
      "memory usage: 14.3+ MB\n"
     ]
    }
   ],
   "source": [
    "df.info()"
   ]
  },
  {
   "cell_type": "code",
   "execution_count": 13,
   "id": "34b41c0f",
   "metadata": {},
   "outputs": [
    {
     "data": {
      "text/html": [
       "<div>\n",
       "<style scoped>\n",
       "    .dataframe tbody tr th:only-of-type {\n",
       "        vertical-align: middle;\n",
       "    }\n",
       "\n",
       "    .dataframe tbody tr th {\n",
       "        vertical-align: top;\n",
       "    }\n",
       "\n",
       "    .dataframe thead th {\n",
       "        text-align: right;\n",
       "    }\n",
       "</style>\n",
       "<table border=\"1\" class=\"dataframe\">\n",
       "  <thead>\n",
       "    <tr style=\"text-align: right;\">\n",
       "      <th></th>\n",
       "      <th>date</th>\n",
       "      <th>year</th>\n",
       "      <th>month</th>\n",
       "      <th>tweet_text_with_sw</th>\n",
       "      <th>tweet_text_without_sw</th>\n",
       "      <th>user_name</th>\n",
       "      <th>user_id</th>\n",
       "      <th>user_follower_count</th>\n",
       "      <th>user_friend_count</th>\n",
       "      <th>user_statuses_count</th>\n",
       "      <th>tweet_reply_count</th>\n",
       "      <th>tweet_retweet_count</th>\n",
       "      <th>tweet_like_count</th>\n",
       "      <th>tweet_quote_count</th>\n",
       "      <th>tweet_language</th>\n",
       "      <th>tweet_mentioned_users</th>\n",
       "    </tr>\n",
       "  </thead>\n",
       "  <tbody>\n",
       "    <tr>\n",
       "      <th>0</th>\n",
       "      <td>2022-04-22 17:26:15.207532763</td>\n",
       "      <td>2022</td>\n",
       "      <td>4</td>\n",
       "      <td>sjshsjjsh who crying me oh my god sis namjoon ...</td>\n",
       "      <td>sjshsjjsh who crying me oh god sis namjoon gon...</td>\n",
       "      <td>nadealeine</td>\n",
       "      <td>1.278350e+18</td>\n",
       "      <td>16</td>\n",
       "      <td>113</td>\n",
       "      <td>43640</td>\n",
       "      <td>0</td>\n",
       "      <td>0</td>\n",
       "      <td>0</td>\n",
       "      <td>0</td>\n",
       "      <td>id</td>\n",
       "      <td>NaN</td>\n",
       "    </tr>\n",
       "    <tr>\n",
       "      <th>1</th>\n",
       "      <td>2021-03-23 10:27:38.540305625</td>\n",
       "      <td>2021</td>\n",
       "      <td>3</td>\n",
       "      <td>someone needs to check the keepers betway account</td>\n",
       "      <td>someone needs check keepers betway account</td>\n",
       "      <td>ArsenalBLM</td>\n",
       "      <td>1.293480e+18</td>\n",
       "      <td>181</td>\n",
       "      <td>512</td>\n",
       "      <td>229</td>\n",
       "      <td>0</td>\n",
       "      <td>0</td>\n",
       "      <td>0</td>\n",
       "      <td>0</td>\n",
       "      <td>en</td>\n",
       "      <td>NaN</td>\n",
       "    </tr>\n",
       "  </tbody>\n",
       "</table>\n",
       "</div>"
      ],
      "text/plain": [
       "                            date  year  month  \\\n",
       "0  2022-04-22 17:26:15.207532763  2022      4   \n",
       "1  2021-03-23 10:27:38.540305625  2021      3   \n",
       "\n",
       "                                  tweet_text_with_sw  \\\n",
       "0  sjshsjjsh who crying me oh my god sis namjoon ...   \n",
       "1  someone needs to check the keepers betway account   \n",
       "\n",
       "                               tweet_text_without_sw   user_name  \\\n",
       "0  sjshsjjsh who crying me oh god sis namjoon gon...  nadealeine   \n",
       "1         someone needs check keepers betway account  ArsenalBLM   \n",
       "\n",
       "        user_id  user_follower_count  user_friend_count  user_statuses_count  \\\n",
       "0  1.278350e+18                   16                113                43640   \n",
       "1  1.293480e+18                  181                512                  229   \n",
       "\n",
       "   tweet_reply_count  tweet_retweet_count  tweet_like_count  \\\n",
       "0                  0                    0                 0   \n",
       "1                  0                    0                 0   \n",
       "\n",
       "   tweet_quote_count tweet_language tweet_mentioned_users  \n",
       "0                  0             id                   NaN  \n",
       "1                  0             en                   NaN  "
      ]
     },
     "execution_count": 13,
     "metadata": {},
     "output_type": "execute_result"
    }
   ],
   "source": [
    "df = df.drop(['Unnamed: 0','tweet_id','user_description','display_name'],axis=1)\n",
    "df.head(2)"
   ]
  },
  {
   "cell_type": "code",
   "execution_count": 14,
   "id": "3ee09fca",
   "metadata": {},
   "outputs": [],
   "source": [
    "df_main = df"
   ]
  },
  {
   "cell_type": "code",
   "execution_count": 15,
   "id": "57143bec",
   "metadata": {},
   "outputs": [
    {
     "name": "stdout",
     "output_type": "stream",
     "text": [
      "41782\n",
      " \n",
      "2022    20139\n",
      "2021    20112\n",
      "2023     1531\n",
      "Name: year, dtype: int64\n",
      "1     5056\n",
      "8     3435\n",
      "10    3398\n",
      "12    3397\n",
      "7     3396\n",
      "5     3392\n",
      "3     3389\n",
      "4     3319\n",
      "6     3318\n",
      "9     3295\n",
      "11    3292\n",
      "2     3095\n",
      "Name: month, dtype: int64\n"
     ]
    }
   ],
   "source": [
    "# removing translated tweets, because the tweets are too complex for the model to predict\n",
    "df = df[df['tweet_language']== 'en']\n",
    "print(len(df))\n",
    "print(' ')\n",
    "print(df.year.value_counts())\n",
    "print(df.month.value_counts())"
   ]
  },
  {
   "cell_type": "code",
   "execution_count": 16,
   "id": "0918742b",
   "metadata": {},
   "outputs": [],
   "source": [
    "# from langdetect import detect, LangDetectException\n",
    "\n",
    "# def remove_non_english_words(text):\n",
    "#     words = text.split()\n",
    "#     english_words = []\n",
    "#     for word in words:\n",
    "#         try:\n",
    "#             if detect(word) == 'en':\n",
    "#                 english_words.append(word)\n",
    "#         except LangDetectException:\n",
    "#             pass\n",
    "#     return ' '.join(english_words)\n",
    "\n",
    "# df['tweet_without_username'] = df['tweet_without_username'].apply(remove_non_english_words)"
   ]
  },
  {
   "cell_type": "code",
   "execution_count": 17,
   "id": "7fb16117",
   "metadata": {},
   "outputs": [],
   "source": [
    "# remove nulls\n",
    "df_train = df[df['tweet_text_with_sw'].notnull()]\n",
    "\n",
    "# load model\n",
    "model_path = '/Users/alenjose/Desktop/data/project_data/model_info/my_lstm_model.h5'\n",
    "model = keras.models.load_model(model_path)\n",
    "\n",
    "# compile model with optimizer\n",
    "model.compile(optimizer='adam', loss='binary_crossentropy', metrics=['accuracy'])"
   ]
  },
  {
   "cell_type": "code",
   "execution_count": 18,
   "id": "6ce0d8bc",
   "metadata": {},
   "outputs": [
    {
     "name": "stdout",
     "output_type": "stream",
     "text": [
      "1306/1306 [==============================] - 26s 20ms/step\n"
     ]
    },
    {
     "name": "stderr",
     "output_type": "stream",
     "text": [
      "/var/folders/29/2_xxbt5d1gn7b5yqm290y2hh0000gn/T/ipykernel_7758/4169088342.py:26: SettingWithCopyWarning: \n",
      "A value is trying to be set on a copy of a slice from a DataFrame.\n",
      "Try using .loc[row_indexer,col_indexer] = value instead\n",
      "\n",
      "See the caveats in the documentation: https://pandas.pydata.org/pandas-docs/stable/user_guide/indexing.html#returning-a-view-versus-a-copy\n",
      "  df_train['sentiments'] = sentiments\n"
     ]
    }
   ],
   "source": [
    "# preprocess tweets\n",
    "vocab_size = 7000  # as used during training\n",
    "oov_tok = '<OOV>'\n",
    "max_length = 200   # as used during training\n",
    "padding_type='post'\n",
    "trunc_type='post'\n",
    "\n",
    "tokenizer = Tokenizer(num_words = vocab_size, oov_token=oov_tok)\n",
    "tokenizer.fit_on_texts(df_train['tweet_text_with_sw'])\n",
    "\n",
    "tweet_sequences = tokenizer.texts_to_sequences(df_train['tweet_text_with_sw'])\n",
    "tweet_padded = pad_sequences(tweet_sequences, padding=padding_type, maxlen=max_length, truncating=trunc_type)\n",
    "\n",
    "predictions = model.predict(tweet_padded)\n",
    "\n",
    "sentiments = []\n",
    "\n",
    "for pred in predictions:\n",
    "    if pred > 0.5:\n",
    "        sentiments.append('positive')\n",
    "    elif pred < 0.5:\n",
    "        sentiments.append('negative')\n",
    "    else:\n",
    "        sentiments.append('neutral')\n",
    "\n",
    "df_train['sentiments'] = sentiments"
   ]
  },
  {
   "cell_type": "code",
   "execution_count": 19,
   "id": "df3e3e26",
   "metadata": {},
   "outputs": [
    {
     "data": {
      "text/plain": [
       "negative    20933\n",
       "positive    20842\n",
       "Name: sentiments, dtype: int64"
      ]
     },
     "execution_count": 19,
     "metadata": {},
     "output_type": "execute_result"
    }
   ],
   "source": [
    "df_train[['tweet_text_with_sw','sentiments']].sentiments.value_counts()"
   ]
  },
  {
   "cell_type": "code",
   "execution_count": 11,
   "id": "cf2669f4",
   "metadata": {},
   "outputs": [],
   "source": [
    "# save the updated dataframe to CSV file\n",
    "# df.to_csv('/Users/alenjose/Desktop/data/project_data/model_info/LSTM_results', index=False)"
   ]
  },
  {
   "cell_type": "code",
   "execution_count": 20,
   "id": "349ade24",
   "metadata": {},
   "outputs": [
    {
     "name": "stdout",
     "output_type": "stream",
     "text": [
      "someone needs to check the keepers betway account\n",
      "consequences imagine that except at blm antifa riots sorry protests\n",
      "during the blm riots in the summer of and beyond eric adams de blasio city council members didnt say or do anything to try to control the calamity that was occurring on daily basis in fact remember ds saying that riots are the voice of the unheard\n",
      "guess yours has seen some shit its in his line of work\n",
      "do me favor while youre sedition hunting track down the rapists arsonists looters and murderers who committed actual crimes during the st george floyd summer of love riots blm and anti fa stole lives and ruined livelihoods please thank you\n",
      "he never touching anyone in my family or their medical decisions\n",
      "if nothing happens soon to stop this madness biden and his gang won allow elections they will do anything and everything to stay in power that what irs agents fbi released prisoners military aged illegals antifa blm and ms is for their private army\n",
      "antifa blm will with trump suporters but not these guys\n",
      "it my fave actually but your saiyan raised on earth design is fucking amazing\n",
      "this post was brought to you by pika hut and leo if pj shirt isnt dress length then dont want it\n"
     ]
    }
   ],
   "source": [
    "for i in df_train[df_train['sentiments'] == 'positive']['tweet_text_with_sw'].iloc[:10]:\n",
    "    print(i)"
   ]
  },
  {
   "cell_type": "code",
   "execution_count": 23,
   "id": "855f0f7c",
   "metadata": {},
   "outputs": [],
   "source": [
    "df_train.to_csv('/Users/alenjose/Desktop/data/project_data/model_info/LSTM_BLM_prediction')"
   ]
  }
 ],
 "metadata": {
  "kernelspec": {
   "display_name": "Python 3 (ipykernel)",
   "language": "python",
   "name": "python3"
  },
  "language_info": {
   "codemirror_mode": {
    "name": "ipython",
    "version": 3
   },
   "file_extension": ".py",
   "mimetype": "text/x-python",
   "name": "python",
   "nbconvert_exporter": "python",
   "pygments_lexer": "ipython3",
   "version": "3.10.10"
  }
 },
 "nbformat": 4,
 "nbformat_minor": 5
}
