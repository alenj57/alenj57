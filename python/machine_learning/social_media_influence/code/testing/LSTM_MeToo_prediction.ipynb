{
 "cells": [
  {
   "cell_type": "code",
   "execution_count": 3,
   "id": "5537aa73",
   "metadata": {},
   "outputs": [],
   "source": [
    "import pandas as pd\n",
    "import numpy as np\n",
    "import matplotlib.pyplot as plt\n",
    "import seaborn as sns\n",
    "\n",
    "import nltk\n",
    "from wordcloud import WordCloud\n",
    "from nltk.stem import WordNetLemmatizer\n",
    "from nltk.tokenize import WordPunctTokenizer\n",
    "\n",
    "from googletrans import Translator\n",
    "from deep_translator import GoogleTranslator\n",
    "import string\n",
    "import emoji\n",
    "from bs4 import BeautifulSoup\n",
    "\n",
    "from dotenv import load_dotenv\n",
    "import os\n",
    "\n",
    "import itertools\n",
    "from html import unescape\n",
    "import re \n",
    "\n",
    "from tensorflow.keras.models import load_model\n",
    "from tensorflow.keras.preprocessing.text import Tokenizer\n",
    "from tensorflow.keras.preprocessing.sequence import pad_sequences"
   ]
  },
  {
   "cell_type": "code",
   "execution_count": 4,
   "id": "a699a2be",
   "metadata": {},
   "outputs": [],
   "source": [
    "df = pd.read_csv('/Users/alenjose/Desktop/data/project_data/self-scraped/processed/ME_TOO_english_tweets.csv')"
   ]
  },
  {
   "cell_type": "code",
   "execution_count": 5,
   "id": "d57bde32",
   "metadata": {},
   "outputs": [
    {
     "name": "stdout",
     "output_type": "stream",
     "text": [
      "<class 'pandas.core.frame.DataFrame'>\n",
      "RangeIndex: 28629 entries, 0 to 28628\n",
      "Data columns (total 15 columns):\n",
      " #   Column                  Non-Null Count  Dtype  \n",
      "---  ------                  --------------  -----  \n",
      " 0   Unnamed: 0              28629 non-null  int64  \n",
      " 1   tweetid                 28629 non-null  int64  \n",
      " 2   date                    28629 non-null  object \n",
      " 3   tweet_rendered_content  28623 non-null  object \n",
      " 4   url                     28629 non-null  object \n",
      " 5   latitude                45 non-null     float64\n",
      " 6   longitude               45 non-null     float64\n",
      " 7   retweets                28629 non-null  int64  \n",
      " 8   favorites               28629 non-null  int64  \n",
      " 9   source.r                23788 non-null  object \n",
      " 10  hashtag                 28629 non-null  object \n",
      " 11  num.emojis              28629 non-null  int64  \n",
      " 12  emoji_names             1479 non-null   object \n",
      " 13  year                    28629 non-null  int64  \n",
      " 14  month                   28629 non-null  int64  \n",
      "dtypes: float64(2), int64(7), object(6)\n",
      "memory usage: 3.3+ MB\n"
     ]
    }
   ],
   "source": [
    "df.info()"
   ]
  },
  {
   "cell_type": "code",
   "execution_count": 6,
   "id": "34b41c0f",
   "metadata": {},
   "outputs": [
    {
     "data": {
      "text/html": [
       "<div>\n",
       "<style scoped>\n",
       "    .dataframe tbody tr th:only-of-type {\n",
       "        vertical-align: middle;\n",
       "    }\n",
       "\n",
       "    .dataframe tbody tr th {\n",
       "        vertical-align: top;\n",
       "    }\n",
       "\n",
       "    .dataframe thead th {\n",
       "        text-align: right;\n",
       "    }\n",
       "</style>\n",
       "<table border=\"1\" class=\"dataframe\">\n",
       "  <thead>\n",
       "    <tr style=\"text-align: right;\">\n",
       "      <th></th>\n",
       "      <th>Unnamed: 0</th>\n",
       "      <th>tweetid</th>\n",
       "      <th>date</th>\n",
       "      <th>tweet_rendered_content</th>\n",
       "      <th>url</th>\n",
       "      <th>latitude</th>\n",
       "      <th>longitude</th>\n",
       "      <th>retweets</th>\n",
       "      <th>favorites</th>\n",
       "      <th>source.r</th>\n",
       "      <th>hashtag</th>\n",
       "      <th>num.emojis</th>\n",
       "      <th>emoji_names</th>\n",
       "      <th>year</th>\n",
       "      <th>month</th>\n",
       "    </tr>\n",
       "  </thead>\n",
       "  <tbody>\n",
       "    <tr>\n",
       "      <th>0</th>\n",
       "      <td>0</td>\n",
       "      <td>1</td>\n",
       "      <td>2017-10-16 19:36:24</td>\n",
       "      <td>wasn going to tweet metoo because weve been tw...</td>\n",
       "      <td>https://twitter.com/_________pia/status/920010...</td>\n",
       "      <td>NaN</td>\n",
       "      <td>NaN</td>\n",
       "      <td>0</td>\n",
       "      <td>0</td>\n",
       "      <td>IPHONE</td>\n",
       "      <td>#metoo</td>\n",
       "      <td>0</td>\n",
       "      <td>NaN</td>\n",
       "      <td>2017</td>\n",
       "      <td>10</td>\n",
       "    </tr>\n",
       "    <tr>\n",
       "      <th>1</th>\n",
       "      <td>1</td>\n",
       "      <td>2</td>\n",
       "      <td>2017-10-16 20:05:12</td>\n",
       "      <td>me seeing you post metoo several months after ...</td>\n",
       "      <td>https://twitter.com/___eilatan/status/92001780...</td>\n",
       "      <td>NaN</td>\n",
       "      <td>NaN</td>\n",
       "      <td>0</td>\n",
       "      <td>0</td>\n",
       "      <td>ANDROID</td>\n",
       "      <td>#metoo</td>\n",
       "      <td>0</td>\n",
       "      <td>NaN</td>\n",
       "      <td>2017</td>\n",
       "      <td>10</td>\n",
       "    </tr>\n",
       "    <tr>\n",
       "      <th>2</th>\n",
       "      <td>2</td>\n",
       "      <td>3</td>\n",
       "      <td>2017-10-16 21:31:34</td>\n",
       "      <td>me too metoo</td>\n",
       "      <td>https://twitter.com/___Jill_Ryan___/status/920...</td>\n",
       "      <td>NaN</td>\n",
       "      <td>NaN</td>\n",
       "      <td>0</td>\n",
       "      <td>0</td>\n",
       "      <td>NaN</td>\n",
       "      <td>#metoo</td>\n",
       "      <td>0</td>\n",
       "      <td>NaN</td>\n",
       "      <td>2017</td>\n",
       "      <td>10</td>\n",
       "    </tr>\n",
       "    <tr>\n",
       "      <th>3</th>\n",
       "      <td>3</td>\n",
       "      <td>4</td>\n",
       "      <td>2017-10-16 23:11:32</td>\n",
       "      <td>all the metoo statuses and there so many peopl...</td>\n",
       "      <td>https://twitter.com/___NS16/status/92006469861...</td>\n",
       "      <td>NaN</td>\n",
       "      <td>NaN</td>\n",
       "      <td>0</td>\n",
       "      <td>1</td>\n",
       "      <td>NaN</td>\n",
       "      <td>#metoo</td>\n",
       "      <td>0</td>\n",
       "      <td>NaN</td>\n",
       "      <td>2017</td>\n",
       "      <td>10</td>\n",
       "    </tr>\n",
       "    <tr>\n",
       "      <th>4</th>\n",
       "      <td>4</td>\n",
       "      <td>5</td>\n",
       "      <td>2017-10-16 20:42:16</td>\n",
       "      <td>every wolf whistle every hey baby every forced...</td>\n",
       "      <td>https://twitter.com/___SAAJ___/status/92002713...</td>\n",
       "      <td>NaN</td>\n",
       "      <td>NaN</td>\n",
       "      <td>0</td>\n",
       "      <td>1</td>\n",
       "      <td>ANDROID</td>\n",
       "      <td>#metoo</td>\n",
       "      <td>0</td>\n",
       "      <td>NaN</td>\n",
       "      <td>2017</td>\n",
       "      <td>10</td>\n",
       "    </tr>\n",
       "  </tbody>\n",
       "</table>\n",
       "</div>"
      ],
      "text/plain": [
       "   Unnamed: 0  tweetid                 date  \\\n",
       "0           0        1  2017-10-16 19:36:24   \n",
       "1           1        2  2017-10-16 20:05:12   \n",
       "2           2        3  2017-10-16 21:31:34   \n",
       "3           3        4  2017-10-16 23:11:32   \n",
       "4           4        5  2017-10-16 20:42:16   \n",
       "\n",
       "                              tweet_rendered_content  \\\n",
       "0  wasn going to tweet metoo because weve been tw...   \n",
       "1  me seeing you post metoo several months after ...   \n",
       "2                                       me too metoo   \n",
       "3  all the metoo statuses and there so many peopl...   \n",
       "4  every wolf whistle every hey baby every forced...   \n",
       "\n",
       "                                                 url  latitude  longitude  \\\n",
       "0  https://twitter.com/_________pia/status/920010...       NaN        NaN   \n",
       "1  https://twitter.com/___eilatan/status/92001780...       NaN        NaN   \n",
       "2  https://twitter.com/___Jill_Ryan___/status/920...       NaN        NaN   \n",
       "3  https://twitter.com/___NS16/status/92006469861...       NaN        NaN   \n",
       "4  https://twitter.com/___SAAJ___/status/92002713...       NaN        NaN   \n",
       "\n",
       "   retweets  favorites source.r hashtag  num.emojis emoji_names  year  month  \n",
       "0         0          0   IPHONE  #metoo           0         NaN  2017     10  \n",
       "1         0          0  ANDROID  #metoo           0         NaN  2017     10  \n",
       "2         0          0      NaN  #metoo           0         NaN  2017     10  \n",
       "3         0          1      NaN  #metoo           0         NaN  2017     10  \n",
       "4         0          1  ANDROID  #metoo           0         NaN  2017     10  "
      ]
     },
     "execution_count": 6,
     "metadata": {},
     "output_type": "execute_result"
    }
   ],
   "source": [
    "df.head()"
   ]
  },
  {
   "cell_type": "code",
   "execution_count": 7,
   "id": "7fb16117",
   "metadata": {},
   "outputs": [],
   "source": [
    "#  drop null\n",
    "df_train = df[df['tweet_rendered_content'].notnull()]\n",
    "\n",
    "# load model\n",
    "model_path = '/Users/alenjose/Desktop/data/project_data/model_info/LSTM_with_sw_82_perc.keras'\n",
    "model = load_model(model_path, compile=False)\n",
    "\n",
    "# compile model with new optimizer\n",
    "model.compile(optimizer='adam', loss='binary_crossentropy', metrics=['accuracy'])"
   ]
  },
  {
   "cell_type": "code",
   "execution_count": 8,
   "id": "6ce0d8bc",
   "metadata": {},
   "outputs": [
    {
     "name": "stdout",
     "output_type": "stream",
     "text": [
      "895/895 [==============================] - 17s 18ms/step\n"
     ]
    },
    {
     "name": "stderr",
     "output_type": "stream",
     "text": [
      "/var/folders/29/2_xxbt5d1gn7b5yqm290y2hh0000gn/T/ipykernel_22994/2579558094.py:26: SettingWithCopyWarning: \n",
      "A value is trying to be set on a copy of a slice from a DataFrame.\n",
      "Try using .loc[row_indexer,col_indexer] = value instead\n",
      "\n",
      "See the caveats in the documentation: https://pandas.pydata.org/pandas-docs/stable/user_guide/indexing.html#returning-a-view-versus-a-copy\n",
      "  df_train['sentiments'] = sentiments\n"
     ]
    }
   ],
   "source": [
    "# preprocess tweets\n",
    "vocab_size = 7000  # as used during training\n",
    "oov_tok = '<OOV>'\n",
    "max_length = 200   # as used during training\n",
    "padding_type='post'\n",
    "trunc_type='post'\n",
    "\n",
    "tokenizer = Tokenizer(num_words = vocab_size, oov_token=oov_tok)\n",
    "tokenizer.fit_on_texts(df_train['tweet_rendered_content'])\n",
    "\n",
    "tweet_sequences = tokenizer.texts_to_sequences(df_train['tweet_rendered_content'])\n",
    "tweet_padded = pad_sequences(tweet_sequences, padding=padding_type, maxlen=max_length, truncating=trunc_type)\n",
    "\n",
    "predictions = model.predict(tweet_padded)\n",
    "\n",
    "sentiments = []\n",
    "\n",
    "for pred in predictions:\n",
    "    if pred > 0.5:\n",
    "        sentiments.append('positive')\n",
    "    elif pred < 0.5:\n",
    "        sentiments.append('negative')\n",
    "    else:\n",
    "        sentiments.append('neutral')\n",
    "\n",
    "df_train['sentiments'] = sentiments"
   ]
  },
  {
   "cell_type": "code",
   "execution_count": 19,
   "id": "df3e3e26",
   "metadata": {},
   "outputs": [
    {
     "data": {
      "text/plain": [
       "positive    16145\n",
       "negative    12478\n",
       "Name: sentiments, dtype: int64"
      ]
     },
     "execution_count": 19,
     "metadata": {},
     "output_type": "execute_result"
    }
   ],
   "source": [
    "df_train[['tweet_rendered_content','sentiments']].sentiments.value_counts()"
   ]
  },
  {
   "cell_type": "code",
   "execution_count": 9,
   "id": "349ade24",
   "metadata": {},
   "outputs": [
    {
     "name": "stdout",
     "output_type": "stream",
     "text": [
      "wasn going to tweet metoo because weve been tweeting crying hurting me too for long long time now\n",
      "me seeing you post metoo several months after posting that the women march protestors were disrespectful whiners\n",
      "me too metoo\n",
      "metoo at work school in public\n",
      "this metoo hashtag is sad smh\n",
      "please tell me what you think metoo will do when the leader of our country brags about sexually assaulting women\n",
      "tired of being told it didnt count because it was another woman metoo\n",
      "you can report it have evidence have no fear of the judgment your rapist won go to jail don\n",
      "he told me they never believe me at first they didn metoo\n",
      "when was by babysitter metoo\n"
     ]
    }
   ],
   "source": [
    "for i in df_train[df_train['sentiments'] == 'positive']['tweet_rendered_content'].iloc[:10]:\n",
    "    print(i)"
   ]
  },
  {
   "cell_type": "code",
   "execution_count": 10,
   "id": "855f0f7c",
   "metadata": {},
   "outputs": [],
   "source": [
    "df_train.to_csv('/Users/alenjose/Desktop/data/project_data/model_info/LSTM_v1_MeToo_predictions')"
   ]
  },
  {
   "cell_type": "code",
   "execution_count": null,
   "id": "5e1e2cc8",
   "metadata": {},
   "outputs": [],
   "source": []
  }
 ],
 "metadata": {
  "kernelspec": {
   "display_name": "Python 3 (ipykernel)",
   "language": "python",
   "name": "python3"
  },
  "language_info": {
   "codemirror_mode": {
    "name": "ipython",
    "version": 3
   },
   "file_extension": ".py",
   "mimetype": "text/x-python",
   "name": "python",
   "nbconvert_exporter": "python",
   "pygments_lexer": "ipython3",
   "version": "3.10.10"
  }
 },
 "nbformat": 4,
 "nbformat_minor": 5
}
