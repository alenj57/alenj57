{
 "cells": [
  {
   "cell_type": "code",
   "execution_count": 5,
   "metadata": {},
   "outputs": [],
   "source": [
    "from selenium import webdriver\n",
    "from selenium.webdriver.common.keys import Keys\n",
    "\n",
    "from webdriver_manager.chrome import ChromeDriverManager\n",
    "\n",
    "import time\n",
    "\n",
    "from bs4 import BeautifulSoup\n",
    "\n",
    "import pandas as pd"
   ]
  },
  {
   "cell_type": "code",
   "execution_count": 3,
   "metadata": {},
   "outputs": [
    {
     "name": "stderr",
     "output_type": "stream",
     "text": [
      "[WDM] - Current google-chrome version is 84.0.4147\n",
      "[WDM] - Get LATEST driver version for 84.0.4147\n"
     ]
    },
    {
     "name": "stdout",
     "output_type": "stream",
     "text": [
      " \n"
     ]
    },
    {
     "name": "stderr",
     "output_type": "stream",
     "text": [
      "[WDM] - Driver [C:\\Users\\alenj\\.wdm\\drivers\\chromedriver\\win32\\84.0.4147.30\\chromedriver.exe] found in cache\n"
     ]
    }
   ],
   "source": [
    "driver = webdriver.Chrome(ChromeDriverManager().install())"
   ]
  },
  {
   "cell_type": "code",
   "execution_count": 5,
   "metadata": {},
   "outputs": [],
   "source": [
    "driver.get('https://www.youtube.com/user/jacksfilms/videos')"
   ]
  },
  {
   "cell_type": "code",
   "execution_count": 8,
   "metadata": {},
   "outputs": [],
   "source": [
    "# to scroll down the screen.\n",
    "driver.find_element_by_tag_name('body').send_keys(Keys.END)"
   ]
  },
  {
   "cell_type": "code",
   "execution_count": 10,
   "metadata": {},
   "outputs": [],
   "source": [
    "for _ in range(56):\n",
    "    driver.find_element_by_tag_name('body').send_keys(Keys.END)\n",
    "    time.sleep(3)\n",
    "    "
   ]
  },
  {
   "cell_type": "code",
   "execution_count": 12,
   "metadata": {},
   "outputs": [],
   "source": [
    "html = driver.page_source"
   ]
  },
  {
   "cell_type": "code",
   "execution_count": 13,
   "metadata": {},
   "outputs": [],
   "source": [
    "soup = BeautifulSoup(html,'html.parser')"
   ]
  },
  {
   "cell_type": "code",
   "execution_count": 14,
   "metadata": {},
   "outputs": [
    {
     "data": {
      "text/plain": [
       "<title>jacksfilms - YouTube</title>"
      ]
     },
     "execution_count": 14,
     "metadata": {},
     "output_type": "execute_result"
    }
   ],
   "source": [
    "soup.title"
   ]
  },
  {
   "cell_type": "code",
   "execution_count": null,
   "metadata": {},
   "outputs": [],
   "source": [
    "videos = soup.find_all('div',id=\"dismissable\")"
   ]
  },
  {
   "cell_type": "code",
   "execution_count": 48,
   "metadata": {},
   "outputs": [],
   "source": [
    "master_list = []\n",
    "for video in videos:\n",
    "    data_dict = {}\n",
    "    data_dict['title'] = video.find('a',id='video-title').text\n",
    "    data_dict['video_url'] = 'https://youtube.com/'+ video.find('a',id='video-title')['href']\n",
    "    \n",
    "    meta = video.find('div',id='metadata-line').find_all('span')\n",
    "    data_dict['views'] = meta[0].text\n",
    "    data_dict['video_age'] = meta[1].text\n",
    "    master_list.append(data_dict)\n",
    "    "
   ]
  },
  {
   "cell_type": "code",
   "execution_count": 39,
   "metadata": {},
   "outputs": [
    {
     "data": {
      "text/plain": [
       "<a aria-label=\"REVERSE YIAY! (YIAY #519) by jacksfilms 18 hours ago 5 minutes, 15 seconds 359,038 views\" class=\"yt-simple-endpoint style-scope ytd-grid-video-renderer\" href=\"/watch?v=V8epVgbIQ0I\" id=\"video-title\" title=\"REVERSE YIAY! (YIAY #519)\">REVERSE YIAY! (YIAY #519)</a>"
      ]
     },
     "execution_count": 39,
     "metadata": {},
     "output_type": "execute_result"
    }
   ],
   "source": [
    "video.find('a',id='video-title')"
   ]
  },
  {
   "cell_type": "code",
   "execution_count": 38,
   "metadata": {},
   "outputs": [
    {
     "data": {
      "text/plain": [
       "<div class=\"style-scope ytd-grid-video-renderer\" id=\"metadata-line\">\n",
       "<span class=\"style-scope ytd-grid-video-renderer\">359K views</span>\n",
       "<span class=\"style-scope ytd-grid-video-renderer\">18 hours ago</span>\n",
       "<dom-repeat class=\"style-scope ytd-grid-video-renderer\" strip-whitespace=\"\"><template is=\"dom-repeat\"></template></dom-repeat></div>"
      ]
     },
     "execution_count": 38,
     "metadata": {},
     "output_type": "execute_result"
    }
   ],
   "source": [
    "video.find('div',id='metadata-line')"
   ]
  },
  {
   "cell_type": "code",
   "execution_count": 33,
   "metadata": {},
   "outputs": [
    {
     "data": {
      "text/plain": [
       "[<span class=\"style-scope ytd-grid-video-renderer\">359K views</span>,\n",
       " <span class=\"style-scope ytd-grid-video-renderer\">18 hours ago</span>]"
      ]
     },
     "execution_count": 33,
     "metadata": {},
     "output_type": "execute_result"
    }
   ],
   "source": [
    "meta"
   ]
  },
  {
   "cell_type": "code",
   "execution_count": 35,
   "metadata": {},
   "outputs": [
    {
     "data": {
      "text/plain": [
       "'359K views'"
      ]
     },
     "execution_count": 35,
     "metadata": {},
     "output_type": "execute_result"
    }
   ],
   "source": [
    "views"
   ]
  },
  {
   "cell_type": "code",
   "execution_count": 37,
   "metadata": {},
   "outputs": [
    {
     "data": {
      "text/plain": [
       "'18 hours ago'"
      ]
     },
     "execution_count": 37,
     "metadata": {},
     "output_type": "execute_result"
    }
   ],
   "source": [
    "video_age"
   ]
  },
  {
   "cell_type": "code",
   "execution_count": 45,
   "metadata": {},
   "outputs": [
    {
     "data": {
      "text/plain": [
       "'https://youtube.com//watch?v=V8epVgbIQ0I'"
      ]
     },
     "execution_count": 45,
     "metadata": {},
     "output_type": "execute_result"
    }
   ],
   "source": [
    "video_url"
   ]
  },
  {
   "cell_type": "code",
   "execution_count": 47,
   "metadata": {},
   "outputs": [
    {
     "data": {
      "text/plain": [
       "[{'title': 'REVERSE YIAY! (YIAY #519)',\n",
       "  'video_url': 'https://youtube.com//watch?v=V8epVgbIQ0I',\n",
       "  'views': '359K views',\n",
       "  'video_age': '18 hours ago'}]"
      ]
     },
     "execution_count": 47,
     "metadata": {},
     "output_type": "execute_result"
    }
   ],
   "source": [
    "master_list"
   ]
  },
  {
   "cell_type": "code",
   "execution_count": 59,
   "metadata": {},
   "outputs": [],
   "source": [
    "df = pd.DataFrame(master_list)\n"
   ]
  },
  {
   "cell_type": "code",
   "execution_count": 51,
   "metadata": {},
   "outputs": [],
   "source": []
  },
  {
   "cell_type": "code",
   "execution_count": 61,
   "metadata": {},
   "outputs": [],
   "source": [
    "def convert_views(df):\n",
    "    if 'K' in  df['views']:\n",
    "        views = float(df['views'].split('K')[0])*1000\n",
    "        return views\n",
    "    elif 'M' in df['views']:\n",
    "        views = float(df['views'].split('M')[0])*1000000\n",
    "        return views"
   ]
  },
  {
   "cell_type": "code",
   "execution_count": 64,
   "metadata": {},
   "outputs": [],
   "source": [
    "youtube_df['CLEAN_VIEWS'] = youtube_df.apply(convert_views,axis=1)\n",
    "youtube_df['CLEAN_VIEWS'] = youtube_df['CLEAN_VIEWS'].astype(int)"
   ]
  },
  {
   "cell_type": "code",
   "execution_count": 65,
   "metadata": {
    "collapsed": true
   },
   "outputs": [
    {
     "data": {
      "text/html": [
       "<div>\n",
       "<style scoped>\n",
       "    .dataframe tbody tr th:only-of-type {\n",
       "        vertical-align: middle;\n",
       "    }\n",
       "\n",
       "    .dataframe tbody tr th {\n",
       "        vertical-align: top;\n",
       "    }\n",
       "\n",
       "    .dataframe thead th {\n",
       "        text-align: right;\n",
       "    }\n",
       "</style>\n",
       "<table border=\"1\" class=\"dataframe\">\n",
       "  <thead>\n",
       "    <tr style=\"text-align: right;\">\n",
       "      <th></th>\n",
       "      <th>title</th>\n",
       "      <th>video_url</th>\n",
       "      <th>views</th>\n",
       "      <th>video_age</th>\n",
       "      <th>CLEAN_VIEWS</th>\n",
       "    </tr>\n",
       "  </thead>\n",
       "  <tbody>\n",
       "    <tr>\n",
       "      <th>0</th>\n",
       "      <td>REVERSE YIAY! (YIAY #519)</td>\n",
       "      <td>https://youtube.com//watch?v=V8epVgbIQ0I</td>\n",
       "      <td>359K views</td>\n",
       "      <td>18 hours ago</td>\n",
       "      <td>359000</td>\n",
       "    </tr>\n",
       "    <tr>\n",
       "      <th>1</th>\n",
       "      <td>Can we clean up the dirtiest song ever? (YIAY ...</td>\n",
       "      <td>https://youtube.com//watch?v=RZSA8rQwgVU</td>\n",
       "      <td>516K views</td>\n",
       "      <td>1 day ago</td>\n",
       "      <td>516000</td>\n",
       "    </tr>\n",
       "    <tr>\n",
       "      <th>2</th>\n",
       "      <td>White Girl Rants about Folklore for Way Too Lo...</td>\n",
       "      <td>https://youtube.com//watch?v=hpFOXwjlR28</td>\n",
       "      <td>432K views</td>\n",
       "      <td>2 days ago</td>\n",
       "      <td>432000</td>\n",
       "    </tr>\n",
       "    <tr>\n",
       "      <th>3</th>\n",
       "      <td>CHOOSE YOUR OWN APOLOGY VIDEO</td>\n",
       "      <td>https://youtube.com//watch?v=pg6RVbqhfK4</td>\n",
       "      <td>1.3M views</td>\n",
       "      <td>1 week ago</td>\n",
       "      <td>1300000</td>\n",
       "    </tr>\n",
       "    <tr>\n",
       "      <th>4</th>\n",
       "      <td>Even more rejected YIAY questions (YIAY #517)</td>\n",
       "      <td>https://youtube.com//watch?v=BNEtcaPwDt8</td>\n",
       "      <td>581K views</td>\n",
       "      <td>1 week ago</td>\n",
       "      <td>581000</td>\n",
       "    </tr>\n",
       "    <tr>\n",
       "      <th>...</th>\n",
       "      <td>...</td>\n",
       "      <td>...</td>\n",
       "      <td>...</td>\n",
       "      <td>...</td>\n",
       "      <td>...</td>\n",
       "    </tr>\n",
       "    <tr>\n",
       "      <th>1217</th>\n",
       "      <td>Celebration: Bloopers</td>\n",
       "      <td>https://youtube.com//watch?v=2wSwC_R9yak</td>\n",
       "      <td>48K views</td>\n",
       "      <td>13 years ago</td>\n",
       "      <td>48000</td>\n",
       "    </tr>\n",
       "    <tr>\n",
       "      <th>1218</th>\n",
       "      <td>Mockumentary of a Mockumentary</td>\n",
       "      <td>https://youtube.com//watch?v=GomNQjtECwI</td>\n",
       "      <td>90K views</td>\n",
       "      <td>13 years ago</td>\n",
       "      <td>90000</td>\n",
       "    </tr>\n",
       "    <tr>\n",
       "      <th>1219</th>\n",
       "      <td>Celebration!</td>\n",
       "      <td>https://youtube.com//watch?v=hdbu2NQdUSk</td>\n",
       "      <td>104K views</td>\n",
       "      <td>14 years ago</td>\n",
       "      <td>104000</td>\n",
       "    </tr>\n",
       "    <tr>\n",
       "      <th>1220</th>\n",
       "      <td>DJ Play This Girl a Love Song- Beach Version</td>\n",
       "      <td>https://youtube.com//watch?v=ZyfGrn2tTWs</td>\n",
       "      <td>317K views</td>\n",
       "      <td>14 years ago</td>\n",
       "      <td>317000</td>\n",
       "    </tr>\n",
       "    <tr>\n",
       "      <th>1221</th>\n",
       "      <td>Handy Pen</td>\n",
       "      <td>https://youtube.com//watch?v=0hcwECtoZ6U</td>\n",
       "      <td>1.2M views</td>\n",
       "      <td>14 years ago</td>\n",
       "      <td>1200000</td>\n",
       "    </tr>\n",
       "  </tbody>\n",
       "</table>\n",
       "<p>1222 rows × 5 columns</p>\n",
       "</div>"
      ],
      "text/plain": [
       "                                                  title  \\\n",
       "0                             REVERSE YIAY! (YIAY #519)   \n",
       "1     Can we clean up the dirtiest song ever? (YIAY ...   \n",
       "2     White Girl Rants about Folklore for Way Too Lo...   \n",
       "3                         CHOOSE YOUR OWN APOLOGY VIDEO   \n",
       "4         Even more rejected YIAY questions (YIAY #517)   \n",
       "...                                                 ...   \n",
       "1217                              Celebration: Bloopers   \n",
       "1218                     Mockumentary of a Mockumentary   \n",
       "1219                                       Celebration!   \n",
       "1220       DJ Play This Girl a Love Song- Beach Version   \n",
       "1221                                          Handy Pen   \n",
       "\n",
       "                                     video_url       views     video_age  \\\n",
       "0     https://youtube.com//watch?v=V8epVgbIQ0I  359K views  18 hours ago   \n",
       "1     https://youtube.com//watch?v=RZSA8rQwgVU  516K views     1 day ago   \n",
       "2     https://youtube.com//watch?v=hpFOXwjlR28  432K views    2 days ago   \n",
       "3     https://youtube.com//watch?v=pg6RVbqhfK4  1.3M views    1 week ago   \n",
       "4     https://youtube.com//watch?v=BNEtcaPwDt8  581K views    1 week ago   \n",
       "...                                        ...         ...           ...   \n",
       "1217  https://youtube.com//watch?v=2wSwC_R9yak   48K views  13 years ago   \n",
       "1218  https://youtube.com//watch?v=GomNQjtECwI   90K views  13 years ago   \n",
       "1219  https://youtube.com//watch?v=hdbu2NQdUSk  104K views  14 years ago   \n",
       "1220  https://youtube.com//watch?v=ZyfGrn2tTWs  317K views  14 years ago   \n",
       "1221  https://youtube.com//watch?v=0hcwECtoZ6U  1.2M views  14 years ago   \n",
       "\n",
       "      CLEAN_VIEWS  \n",
       "0          359000  \n",
       "1          516000  \n",
       "2          432000  \n",
       "3         1300000  \n",
       "4          581000  \n",
       "...           ...  \n",
       "1217        48000  \n",
       "1218        90000  \n",
       "1219       104000  \n",
       "1220       317000  \n",
       "1221      1200000  \n",
       "\n",
       "[1222 rows x 5 columns]"
      ]
     },
     "execution_count": 65,
     "metadata": {},
     "output_type": "execute_result"
    }
   ],
   "source": [
    "youtube_df"
   ]
  },
  {
   "cell_type": "code",
   "execution_count": null,
   "metadata": {},
   "outputs": [],
   "source": []
  },
  {
   "cell_type": "code",
   "execution_count": 66,
   "metadata": {},
   "outputs": [],
   "source": [
    "youtube_df.to_csv('clean_video_details.csv',index=0)"
   ]
  },
  {
   "cell_type": "code",
   "execution_count": 4,
   "metadata": {},
   "outputs": [
    {
     "name": "stdout",
     "output_type": "stream",
     "text": [
      "Collecting webdriver_manager\n",
      "  Downloading webdriver_manager-3.2.2-py2.py3-none-any.whl (16 kB)\n",
      "Collecting crayons\n",
      "  Using cached crayons-0.3.1-py2.py3-none-any.whl (4.6 kB)\n",
      "Requirement already satisfied: requests in c:\\users\\alenj\\appdata\\local\\programs\\python\\python38\\lib\\site-packages (from webdriver_manager) (2.24.0)\n",
      "Collecting configparser\n",
      "  Using cached configparser-5.0.0-py3-none-any.whl (22 kB)\n",
      "Requirement already satisfied: colorama in c:\\users\\alenj\\appdata\\roaming\\python\\python38\\site-packages (from crayons->webdriver_manager) (0.4.3)\n",
      "Requirement already satisfied: certifi>=2017.4.17 in c:\\users\\alenj\\appdata\\local\\programs\\python\\python38\\lib\\site-packages (from requests->webdriver_manager) (2020.6.20)\n",
      "Requirement already satisfied: idna<3,>=2.5 in c:\\users\\alenj\\appdata\\local\\programs\\python\\python38\\lib\\site-packages (from requests->webdriver_manager) (2.10)\n",
      "Requirement already satisfied: chardet<4,>=3.0.2 in c:\\users\\alenj\\appdata\\local\\programs\\python\\python38\\lib\\site-packages (from requests->webdriver_manager) (3.0.4)\n",
      "Requirement already satisfied: urllib3!=1.25.0,!=1.25.1,<1.26,>=1.21.1 in c:\\users\\alenj\\appdata\\local\\programs\\python\\python38\\lib\\site-packages (from requests->webdriver_manager) (1.25.10)\n",
      "Installing collected packages: crayons, configparser, webdriver-manager\n",
      "Successfully installed configparser-5.0.0 crayons-0.3.1 webdriver-manager-3.2.2\n"
     ]
    }
   ],
   "source": [
    "!pip install webdriver_manager"
   ]
  },
  {
   "cell_type": "code",
   "execution_count": null,
   "metadata": {},
   "outputs": [],
   "source": []
  },
  {
   "cell_type": "code",
   "execution_count": null,
   "metadata": {},
   "outputs": [],
   "source": []
  },
  {
   "cell_type": "code",
   "execution_count": null,
   "metadata": {},
   "outputs": [],
   "source": []
  }
 ],
 "metadata": {
  "kernelspec": {
   "display_name": "Python 3",
   "language": "python",
   "name": "python3"
  },
  "language_info": {
   "codemirror_mode": {
    "name": "ipython",
    "version": 3
   },
   "file_extension": ".py",
   "mimetype": "text/x-python",
   "name": "python",
   "nbconvert_exporter": "python",
   "pygments_lexer": "ipython3",
   "version": "3.7.6"
  }
 },
 "nbformat": 4,
 "nbformat_minor": 4
}
