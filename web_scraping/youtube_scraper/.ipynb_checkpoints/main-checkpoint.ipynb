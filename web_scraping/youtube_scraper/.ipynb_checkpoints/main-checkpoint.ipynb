{
 "cells": [
  {
   "cell_type": "code",
   "execution_count": 28,
   "metadata": {},
   "outputs": [],
   "source": [
    "from selenium import webdriver\n",
    "from selenium.webdriver.common.keys import Keys\n",
    "\n",
    "from webdriver_manager.chrome import ChromeDriverManager\n",
    "\n",
    "import time\n",
    "import datetime\n",
    "\n",
    "from bs4 import BeautifulSoup\n",
    "import pandas as pd"
   ]
  },
  {
   "cell_type": "code",
   "execution_count": 2,
   "metadata": {},
   "outputs": [
    {
     "name": "stderr",
     "output_type": "stream",
     "text": [
      "[WDM] - Current google-chrome version is 85.0.4183\n",
      "[WDM] - Get LATEST driver version for 85.0.4183\n",
      "[WDM] - Driver [C:\\Users\\alenj\\.wdm\\drivers\\chromedriver\\win32\\85.0.4183.87\\chromedriver.exe] found in cache\n"
     ]
    },
    {
     "name": "stdout",
     "output_type": "stream",
     "text": [
      " \n"
     ]
    }
   ],
   "source": [
    "driver = webdriver.Chrome(ChromeDriverManager().install())"
   ]
  },
  {
   "cell_type": "code",
   "execution_count": 3,
   "metadata": {},
   "outputs": [],
   "source": [
    "driver.get('https://www.youtube.com/user/jacksfilms/videos')"
   ]
  },
  {
   "cell_type": "code",
   "execution_count": 4,
   "metadata": {},
   "outputs": [],
   "source": [
    "# to load the entire page\n",
    "for _ in range(56):\n",
    "    driver.find_element_by_tag_name('body').send_keys(Keys.END)\n",
    "    time.sleep(3)\n",
    "    "
   ]
  },
  {
   "cell_type": "code",
   "execution_count": 5,
   "metadata": {},
   "outputs": [],
   "source": [
    "html = driver.page_source\n",
    "\n",
    "soup = BeautifulSoup(html,'html.parser')\n",
    "\n",
    "videos = soup.find_all('div',id=\"dismissable\")"
   ]
  },
  {
   "cell_type": "code",
   "execution_count": 6,
   "metadata": {},
   "outputs": [],
   "source": [
    "master_list = []\n",
    "for video in videos:\n",
    "    data_dict = {}\n",
    "    data_dict['title'] = video.find('a',id='video-title').text\n",
    "    data_dict['video_url'] = 'https://youtube.com/'+ video.find('a',id='video-title')['href']\n",
    "    \n",
    "    meta = video.find('div',id='metadata-line').find_all('span')\n",
    "    data_dict['views'] = meta[0].text\n",
    "    data_dict['video_age'] = meta[1].text\n",
    "    master_list.append(data_dict)\n",
    "    "
   ]
  },
  {
   "cell_type": "code",
   "execution_count": 7,
   "metadata": {},
   "outputs": [
    {
     "data": {
      "text/html": [
       "<div>\n",
       "<style scoped>\n",
       "    .dataframe tbody tr th:only-of-type {\n",
       "        vertical-align: middle;\n",
       "    }\n",
       "\n",
       "    .dataframe tbody tr th {\n",
       "        vertical-align: top;\n",
       "    }\n",
       "\n",
       "    .dataframe thead th {\n",
       "        text-align: right;\n",
       "    }\n",
       "</style>\n",
       "<table border=\"1\" class=\"dataframe\">\n",
       "  <thead>\n",
       "    <tr style=\"text-align: right;\">\n",
       "      <th></th>\n",
       "      <th>title</th>\n",
       "      <th>video_url</th>\n",
       "      <th>views</th>\n",
       "      <th>video_age</th>\n",
       "    </tr>\n",
       "  </thead>\n",
       "  <tbody>\n",
       "    <tr>\n",
       "      <th>0</th>\n",
       "      <td>Can you guess this word? (YOUR GRAMMAR SUCKS #...</td>\n",
       "      <td>https://youtube.com//watch?v=yWDQoUEctFw</td>\n",
       "      <td>416K views</td>\n",
       "      <td>1 week ago</td>\n",
       "    </tr>\n",
       "    <tr>\n",
       "      <th>1</th>\n",
       "      <td>TECH TALK (not JackAsk #105)</td>\n",
       "      <td>https://youtube.com//watch?v=hnHTPYrcLSI</td>\n",
       "      <td>373K views</td>\n",
       "      <td>1 week ago</td>\n",
       "    </tr>\n",
       "    <tr>\n",
       "      <th>2</th>\n",
       "      <td>REVERSE YIAY! (YIAY #519)</td>\n",
       "      <td>https://youtube.com//watch?v=V8epVgbIQ0I</td>\n",
       "      <td>547K views</td>\n",
       "      <td>2 weeks ago</td>\n",
       "    </tr>\n",
       "    <tr>\n",
       "      <th>3</th>\n",
       "      <td>Can we clean up the dirtiest song ever? (YIAY ...</td>\n",
       "      <td>https://youtube.com//watch?v=RZSA8rQwgVU</td>\n",
       "      <td>668K views</td>\n",
       "      <td>2 weeks ago</td>\n",
       "    </tr>\n",
       "    <tr>\n",
       "      <th>4</th>\n",
       "      <td>White Girl Rants about Folklore for Way Too Lo...</td>\n",
       "      <td>https://youtube.com//watch?v=hpFOXwjlR28</td>\n",
       "      <td>496K views</td>\n",
       "      <td>2 weeks ago</td>\n",
       "    </tr>\n",
       "    <tr>\n",
       "      <th>...</th>\n",
       "      <td>...</td>\n",
       "      <td>...</td>\n",
       "      <td>...</td>\n",
       "      <td>...</td>\n",
       "    </tr>\n",
       "    <tr>\n",
       "      <th>1219</th>\n",
       "      <td>Celebration: Bloopers</td>\n",
       "      <td>https://youtube.com//watch?v=2wSwC_R9yak</td>\n",
       "      <td>48K views</td>\n",
       "      <td>13 years ago</td>\n",
       "    </tr>\n",
       "    <tr>\n",
       "      <th>1220</th>\n",
       "      <td>Mockumentary of a Mockumentary</td>\n",
       "      <td>https://youtube.com//watch?v=GomNQjtECwI</td>\n",
       "      <td>90K views</td>\n",
       "      <td>13 years ago</td>\n",
       "    </tr>\n",
       "    <tr>\n",
       "      <th>1221</th>\n",
       "      <td>Celebration!</td>\n",
       "      <td>https://youtube.com//watch?v=hdbu2NQdUSk</td>\n",
       "      <td>105K views</td>\n",
       "      <td>14 years ago</td>\n",
       "    </tr>\n",
       "    <tr>\n",
       "      <th>1222</th>\n",
       "      <td>DJ Play This Girl a Love Song- Beach Version</td>\n",
       "      <td>https://youtube.com//watch?v=ZyfGrn2tTWs</td>\n",
       "      <td>318K views</td>\n",
       "      <td>14 years ago</td>\n",
       "    </tr>\n",
       "    <tr>\n",
       "      <th>1223</th>\n",
       "      <td>Handy Pen</td>\n",
       "      <td>https://youtube.com//watch?v=0hcwECtoZ6U</td>\n",
       "      <td>1.2M views</td>\n",
       "      <td>14 years ago</td>\n",
       "    </tr>\n",
       "  </tbody>\n",
       "</table>\n",
       "<p>1224 rows × 4 columns</p>\n",
       "</div>"
      ],
      "text/plain": [
       "                                                  title  \\\n",
       "0     Can you guess this word? (YOUR GRAMMAR SUCKS #...   \n",
       "1                          TECH TALK (not JackAsk #105)   \n",
       "2                             REVERSE YIAY! (YIAY #519)   \n",
       "3     Can we clean up the dirtiest song ever? (YIAY ...   \n",
       "4     White Girl Rants about Folklore for Way Too Lo...   \n",
       "...                                                 ...   \n",
       "1219                              Celebration: Bloopers   \n",
       "1220                     Mockumentary of a Mockumentary   \n",
       "1221                                       Celebration!   \n",
       "1222       DJ Play This Girl a Love Song- Beach Version   \n",
       "1223                                          Handy Pen   \n",
       "\n",
       "                                     video_url       views     video_age  \n",
       "0     https://youtube.com//watch?v=yWDQoUEctFw  416K views    1 week ago  \n",
       "1     https://youtube.com//watch?v=hnHTPYrcLSI  373K views    1 week ago  \n",
       "2     https://youtube.com//watch?v=V8epVgbIQ0I  547K views   2 weeks ago  \n",
       "3     https://youtube.com//watch?v=RZSA8rQwgVU  668K views   2 weeks ago  \n",
       "4     https://youtube.com//watch?v=hpFOXwjlR28  496K views   2 weeks ago  \n",
       "...                                        ...         ...           ...  \n",
       "1219  https://youtube.com//watch?v=2wSwC_R9yak   48K views  13 years ago  \n",
       "1220  https://youtube.com//watch?v=GomNQjtECwI   90K views  13 years ago  \n",
       "1221  https://youtube.com//watch?v=hdbu2NQdUSk  105K views  14 years ago  \n",
       "1222  https://youtube.com//watch?v=ZyfGrn2tTWs  318K views  14 years ago  \n",
       "1223  https://youtube.com//watch?v=0hcwECtoZ6U  1.2M views  14 years ago  \n",
       "\n",
       "[1224 rows x 4 columns]"
      ]
     },
     "execution_count": 7,
     "metadata": {},
     "output_type": "execute_result"
    }
   ],
   "source": [
    "df = pd.DataFrame(master_list)\n",
    "df"
   ]
  },
  {
   "cell_type": "code",
   "execution_count": 8,
   "metadata": {},
   "outputs": [],
   "source": [
    "df.to_csv('video_details.csv',index=0)"
   ]
  },
  {
   "cell_type": "code",
   "execution_count": 9,
   "metadata": {},
   "outputs": [],
   "source": [
    "# function to clean the view count\n",
    "def convert_views(df):\n",
    "    if 'K' in  df['views']:\n",
    "        views = float(df['views'].split('K')[0])*1000\n",
    "        return views\n",
    "    elif 'M' in df['views']:\n",
    "        views = float(df['views'].split('M')[0])*1000000\n",
    "        return views"
   ]
  },
  {
   "cell_type": "code",
   "execution_count": 11,
   "metadata": {},
   "outputs": [],
   "source": [
    "youtube_df = df\n",
    "\n",
    "#  applying the function\n",
    "youtube_df['CLEAN_VIEWS'] = youtube_df.apply(convert_views,axis=1)\n",
    "\n",
    "# converting it to int type\n",
    "youtube_df['CLEAN_VIEWS'] = youtube_df['CLEAN_VIEWS'].astype(int)"
   ]
  },
  {
   "cell_type": "code",
   "execution_count": null,
   "metadata": {},
   "outputs": [],
   "source": [
    "# saving the new dataframe to a csv:\n",
    "youtube_df.to_csv('clean_video_details.csv',index=0)"
   ]
  },
  {
   "cell_type": "code",
   "execution_count": 49,
   "metadata": {},
   "outputs": [],
   "source": [
    "lst = []\n",
    "for url in youtube_df['video_url'][:5]:\n",
    "    driver.get(url)\n",
    "    time.sleep(5)\n",
    "    \n",
    "    html = driver.page_source\n",
    "    soup = BeautifulSoup(html,'html.parser')\n",
    "    \n",
    "    video_views = int(soup.find('span',class_='view-count').text.split()[0].replace(',',''))\n",
    "    \n",
    "    string_date = soup.find('div',id='date').text.replace('•',\"\")\n",
    "#   convert to date time object :\n",
    "    date_date = datetime.datetime.strptime(string_date,'%b %d, %Y')\n",
    "#   reformat :\n",
    "    string_date = date_date.strftime('%Y-%m-%d')\n",
    "    \n",
    "    d = {}\n",
    "    d['video_count'] = video_views\n",
    "    d['date'] = string_date\n",
    "    lst.append(d)\n",
    "    \n",
    "    "
   ]
  },
  {
   "cell_type": "code",
   "execution_count": 50,
   "metadata": {},
   "outputs": [
    {
     "data": {
      "text/plain": [
       "[{'video_count': 416436, 'date': '2020-08-29'},\n",
       " {'video_count': 373912, 'date': '2020-08-26'},\n",
       " {'video_count': 547778, 'date': '2020-08-19'},\n",
       " {'video_count': 668208, 'date': '2020-08-18'},\n",
       " {'video_count': 496752, 'date': '2020-08-17'}]"
      ]
     },
     "execution_count": 50,
     "metadata": {},
     "output_type": "execute_result"
    }
   ],
   "source": [
    "lst"
   ]
  },
  {
   "cell_type": "code",
   "execution_count": 43,
   "metadata": {},
   "outputs": [
    {
     "data": {
      "text/plain": [
       "416379"
      ]
     },
     "execution_count": 43,
     "metadata": {},
     "output_type": "execute_result"
    }
   ],
   "source": [
    "int(soup.find('span',class_='view-count').text.split()[0].replace(',',''))"
   ]
  },
  {
   "cell_type": "code",
   "execution_count": null,
   "metadata": {},
   "outputs": [],
   "source": []
  },
  {
   "cell_type": "code",
   "execution_count": null,
   "metadata": {},
   "outputs": [],
   "source": []
  },
  {
   "cell_type": "code",
   "execution_count": null,
   "metadata": {},
   "outputs": [],
   "source": []
  }
 ],
 "metadata": {
  "kernelspec": {
   "display_name": "Python 3",
   "language": "python",
   "name": "python3"
  },
  "language_info": {
   "codemirror_mode": {
    "name": "ipython",
    "version": 3
   },
   "file_extension": ".py",
   "mimetype": "text/x-python",
   "name": "python",
   "nbconvert_exporter": "python",
   "pygments_lexer": "ipython3",
   "version": "3.7.6"
  }
 },
 "nbformat": 4,
 "nbformat_minor": 4
}
