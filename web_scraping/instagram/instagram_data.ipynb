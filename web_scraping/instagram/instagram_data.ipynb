{
 "cells": [
  {
   "cell_type": "code",
   "execution_count": 1,
   "metadata": {},
   "outputs": [],
   "source": [
    "import requests\n",
    "import urllib\n",
    "from selenium import webdriver\n",
    "from webdriver_manager.chrome import ChromeDriverManager\n",
    "from selenium.webdriver.common.keys import Keys\n",
    "import time\n",
    "from bs4 import BeautifulSoup\n",
    "import os\n",
    "import getpass\n",
    "import re"
   ]
  },
  {
   "cell_type": "code",
   "execution_count": 2,
   "metadata": {},
   "outputs": [],
   "source": [
    "# Instragram login:\n",
    "def instagram_login(insta_username,insta_password,driver):\n",
    "#   find elements for inputing login info\n",
    "    user = driver.find_element_by_name('username')\n",
    "    password = driver.find_element_by_name('password')\n",
    "    \n",
    "#   clear the fields:\n",
    "    user.clear()\n",
    "    password.clear()\n",
    "\n",
    "#   insert username and password:\n",
    "    user.send_keys(insta_username)\n",
    "    password.send_keys(insta_password)\n",
    "    \n",
    "    time.sleep(2)\n",
    "    driver.find_element_by_xpath('//*[@id=\"loginForm\"]/div/div[3]/button').click()\n",
    "    time.sleep(5)\n",
    "    driver.find_element_by_xpath('//*[@id=\"react-root\"]/section/main/div/div/div/div/button').click()\n",
    "    time.sleep(3)\n",
    "    driver.find_element_by_xpath('/html/body/div[4]/div/div/div/div[3]/button[2]').click()\n",
    "    \n",
    "def download_images(lst,insta_name):\n",
    "    for i,j in enumerate(lst):\n",
    "        data = requests.get(j)\n",
    "        with open(f'{insta_name}{i}.png','wb') as f1:\n",
    "            f1.write(data.content)\n",
    "            \n",
    "\n",
    "    \n"
   ]
  },
  {
   "cell_type": "code",
   "execution_count": 20,
   "metadata": {},
   "outputs": [
    {
     "name": "stderr",
     "output_type": "stream",
     "text": [
      "[WDM] - Current google-chrome version is 84.0.4147\n",
      "[WDM] - Get LATEST driver version for 84.0.4147\n",
      "[WDM] - Driver [C:\\Users\\alenj\\.wdm\\drivers\\chromedriver\\win32\\84.0.4147.30\\chromedriver.exe] found in cache\n"
     ]
    },
    {
     "name": "stdout",
     "output_type": "stream",
     "text": [
      " \n",
      "enter you insta username\n",
      "enter the password\n"
     ]
    }
   ],
   "source": [
    "# LOGIN :\n",
    "driver = webdriver.Chrome(ChromeDriverManager().install())\n",
    "\n",
    "driver.get('https://www.instagram.com/accounts/login/')\n",
    "time.sleep(3)\n",
    "\n",
    "insta_username = input('enter you insta username')\n",
    "\n",
    "insta_password = input('enter the password')\n",
    "\n",
    "\n",
    "instagram_login(insta_username,insta_password,driver)\n",
    "\n",
    "#   load the clients insta page:\n",
    "driver.get(f'https://www.instagram.com/{insta_username}/')\n",
    "\n"
   ]
  },
  {
   "cell_type": "code",
   "execution_count": 21,
   "metadata": {},
   "outputs": [],
   "source": [
    "# image links retrieving:\n",
    "cleaned_data = []\n",
    "for _ in range(12):\n",
    "    driver.find_element_by_tag_name('body').send_keys(Keys.END)\n",
    "    time.sleep(3)\n",
    "    scrapped_data = driver.find_elements_by_xpath(\"//div[contains(@class,'Nnq7C weEfm')]/div/a//img\")\n",
    "    time.sleep(1)\n",
    "    scrapped_link = [data.get_attribute('src') for data in scrapped_data]\n",
    "    for link in scrapped_link:\n",
    "        if link not in cleaned_data:\n",
    "            cleaned_data.append(link)\n",
    "\n",
    "time.sleep(3)\n",
    "# go back to the top:  \n",
    "driver.find_element_by_tag_name('body').send_keys(Keys.HOME)    \n",
    "\n",
    "    \n",
    "# download_images(cleaned_data,insta_username)\n"
   ]
  },
  {
   "cell_type": "code",
   "execution_count": 23,
   "metadata": {},
   "outputs": [
    {
     "data": {
      "text/plain": [
       "168"
      ]
     },
     "execution_count": 23,
     "metadata": {},
     "output_type": "execute_result"
    }
   ],
   "source": [
    "len(cleaned_data)"
   ]
  },
  {
   "cell_type": "code",
   "execution_count": 24,
   "metadata": {},
   "outputs": [],
   "source": [
    "# driver.quit()"
   ]
  },
  {
   "cell_type": "code",
   "execution_count": 25,
   "metadata": {},
   "outputs": [
    {
     "name": "stderr",
     "output_type": "stream",
     "text": [
      "[WDM] - Current google-chrome version is 84.0.4147\n",
      "[WDM] - Get LATEST driver version for 84.0.4147\n",
      "[WDM] - Driver [C:\\Users\\alenj\\.wdm\\drivers\\chromedriver\\win32\\84.0.4147.30\\chromedriver.exe] found in cache\n"
     ]
    },
    {
     "name": "stdout",
     "output_type": "stream",
     "text": [
      " \n"
     ]
    }
   ],
   "source": [
    "# driver = webdriver.Chrome(ChromeDriverManager().install())\n",
    "# driver.get('https://www.instagram.com/__lone.man__')"
   ]
  },
  {
   "cell_type": "code",
   "execution_count": 26,
   "metadata": {},
   "outputs": [
    {
     "ename": "SyntaxError",
     "evalue": "invalid syntax (<ipython-input-26-99702a285e9f>, line 9)",
     "output_type": "error",
     "traceback": [
      "\u001b[1;36m  File \u001b[1;32m\"<ipython-input-26-99702a285e9f>\"\u001b[1;36m, line \u001b[1;32m9\u001b[0m\n\u001b[1;33m    follower = browser.find_element_by...\u001b[0m\n\u001b[1;37m                                      ^\u001b[0m\n\u001b[1;31mSyntaxError\u001b[0m\u001b[1;31m:\u001b[0m invalid syntax\n"
     ]
    }
   ],
   "source": [
    "# driver.find_element_by_xpath('//*[@id=\"react-root\"]/section/main/div/header/section/ul/li[2]/a').click()\n",
    "\n",
    "# actions = ActionChains(driver)\n",
    "# time.sleep(2)\n",
    "# dialoguebox = wait.until(EC.element_to_be_clickable((By.CSS_SELECTOR, \"body > div:nth-child(14) > div > div.zZYga > div > div.j6cq2 > ul > div\")))\n",
    "# actions.move_to_element(dialoguebox)\n",
    "# actions.click()\n",
    "# actions.perform()\n",
    "# actions.reset_actions()"
   ]
  },
  {
   "cell_type": "code",
   "execution_count": 27,
   "metadata": {},
   "outputs": [],
   "source": [
    "scrollfollowercount = driver.find_elements_by_class_name(\"UYK0S\")"
   ]
  },
  {
   "cell_type": "code",
   "execution_count": 28,
   "metadata": {},
   "outputs": [
    {
     "data": {
      "text/plain": [
       "[]"
      ]
     },
     "execution_count": 28,
     "metadata": {},
     "output_type": "execute_result"
    }
   ],
   "source": [
    "scrollfollowercount"
   ]
  },
  {
   "cell_type": "code",
   "execution_count": null,
   "metadata": {},
   "outputs": [],
   "source": []
  },
  {
   "cell_type": "code",
   "execution_count": null,
   "metadata": {},
   "outputs": [],
   "source": []
  },
  {
   "cell_type": "code",
   "execution_count": null,
   "metadata": {},
   "outputs": [],
   "source": []
  },
  {
   "cell_type": "code",
   "execution_count": null,
   "metadata": {},
   "outputs": [],
   "source": []
  }
 ],
 "metadata": {
  "kernelspec": {
   "display_name": "Python 3",
   "language": "python",
   "name": "python3"
  },
  "language_info": {
   "codemirror_mode": {
    "name": "ipython",
    "version": 3
   },
   "file_extension": ".py",
   "mimetype": "text/x-python",
   "name": "python",
   "nbconvert_exporter": "python",
   "pygments_lexer": "ipython3",
   "version": "3.7.6"
  }
 },
 "nbformat": 4,
 "nbformat_minor": 4
}
