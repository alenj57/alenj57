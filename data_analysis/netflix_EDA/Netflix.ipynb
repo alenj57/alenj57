{
 "cells": [
  {
   "cell_type": "code",
   "execution_count": 1,
   "metadata": {},
   "outputs": [],
   "source": [
    "import pandas as pd\n",
    "import numpy as np\n",
    "import matplotlib.pyplot as plt\n",
    "import seaborn as sns"
   ]
  },
  {
   "cell_type": "code",
   "execution_count": 263,
   "metadata": {},
   "outputs": [],
   "source": [
    "t = pd.read_csv('processed_netflix.csv', parse_dates=[6])"
   ]
  },
  {
   "cell_type": "code",
   "execution_count": 271,
   "metadata": {},
   "outputs": [
    {
     "data": {
      "text/plain": [
       "United States                             False\n",
       "India                                     False\n",
       "United Kingdom                            False\n",
       "Japan                                     False\n",
       "South Korea                               False\n",
       "                                          ...  \n",
       "Romania, Bulgaria, Hungary                False\n",
       "Uruguay, Guatemala                        False\n",
       "France, Senegal, Belgium                  False\n",
       "Mexico, United States, Spain, Colombia    False\n",
       "United Arab Emirates, Jordan              False\n",
       "Name: country, Length: 748, dtype: bool"
      ]
     },
     "execution_count": 271,
     "metadata": {},
     "output_type": "execute_result"
    }
   ],
   "source": [
    "t['country'].value_counts() == ''"
   ]
  },
  {
   "cell_type": "code",
   "execution_count": 27,
   "metadata": {},
   "outputs": [],
   "source": [
    "df = pd.read_csv('processed_netflix.csv', parse_dates=[6])"
   ]
  },
  {
   "cell_type": "code",
   "execution_count": 28,
   "metadata": {},
   "outputs": [
    {
     "data": {
      "text/html": [
       "<div>\n",
       "<style scoped>\n",
       "    .dataframe tbody tr th:only-of-type {\n",
       "        vertical-align: middle;\n",
       "    }\n",
       "\n",
       "    .dataframe tbody tr th {\n",
       "        vertical-align: top;\n",
       "    }\n",
       "\n",
       "    .dataframe thead th {\n",
       "        text-align: right;\n",
       "    }\n",
       "</style>\n",
       "<table border=\"1\" class=\"dataframe\">\n",
       "  <thead>\n",
       "    <tr style=\"text-align: right;\">\n",
       "      <th></th>\n",
       "      <th>#</th>\n",
       "      <th>show_id</th>\n",
       "      <th>type</th>\n",
       "      <th>title</th>\n",
       "      <th>country</th>\n",
       "      <th>release_year</th>\n",
       "      <th>date_added</th>\n",
       "      <th>director</th>\n",
       "      <th>cast</th>\n",
       "      <th>rating</th>\n",
       "      <th>listed_in</th>\n",
       "      <th>description</th>\n",
       "      <th>duration</th>\n",
       "      <th>duration_hours</th>\n",
       "    </tr>\n",
       "  </thead>\n",
       "  <tbody>\n",
       "    <tr>\n",
       "      <th>0</th>\n",
       "      <td>1</td>\n",
       "      <td>s1</td>\n",
       "      <td>Movie</td>\n",
       "      <td>Dick Johnson Is Dead</td>\n",
       "      <td>United States</td>\n",
       "      <td>2020</td>\n",
       "      <td>2021-09-25</td>\n",
       "      <td>Kirsten Johnson</td>\n",
       "      <td>NaN</td>\n",
       "      <td>PG-13</td>\n",
       "      <td>Documentaries</td>\n",
       "      <td>As her father nears the end of his life, filmm...</td>\n",
       "      <td>90 min</td>\n",
       "      <td>1 hr 30 min</td>\n",
       "    </tr>\n",
       "    <tr>\n",
       "      <th>1</th>\n",
       "      <td>2</td>\n",
       "      <td>s2</td>\n",
       "      <td>TV Show</td>\n",
       "      <td>Blood &amp; Water</td>\n",
       "      <td>South Africa</td>\n",
       "      <td>2021</td>\n",
       "      <td>2021-09-24</td>\n",
       "      <td>NaN</td>\n",
       "      <td>Ama Qamata, Khosi Ngema, Gail Mabalane, Thaban...</td>\n",
       "      <td>TV-MA</td>\n",
       "      <td>International TV Shows, TV Dramas, TV Mysteries</td>\n",
       "      <td>After crossing paths at a party, a Cape Town t...</td>\n",
       "      <td>2 Seasons</td>\n",
       "      <td>2 Seasons</td>\n",
       "    </tr>\n",
       "    <tr>\n",
       "      <th>2</th>\n",
       "      <td>3</td>\n",
       "      <td>s3</td>\n",
       "      <td>TV Show</td>\n",
       "      <td>Ganglands</td>\n",
       "      <td>NaN</td>\n",
       "      <td>2021</td>\n",
       "      <td>2021-09-24</td>\n",
       "      <td>Julien Leclercq</td>\n",
       "      <td>Sami Bouajila, Tracy Gotoas, Samuel Jouy, Nabi...</td>\n",
       "      <td>TV-MA</td>\n",
       "      <td>Crime TV Shows, International TV Shows, TV Act...</td>\n",
       "      <td>To protect his family from a powerful drug lor...</td>\n",
       "      <td>1 Season</td>\n",
       "      <td>1 Season</td>\n",
       "    </tr>\n",
       "    <tr>\n",
       "      <th>3</th>\n",
       "      <td>4</td>\n",
       "      <td>s4</td>\n",
       "      <td>TV Show</td>\n",
       "      <td>Jailbirds New Orleans</td>\n",
       "      <td>NaN</td>\n",
       "      <td>2021</td>\n",
       "      <td>2021-09-24</td>\n",
       "      <td>NaN</td>\n",
       "      <td>NaN</td>\n",
       "      <td>TV-MA</td>\n",
       "      <td>Docuseries, Reality TV</td>\n",
       "      <td>Feuds, flirtations and toilet talk go down amo...</td>\n",
       "      <td>1 Season</td>\n",
       "      <td>1 Season</td>\n",
       "    </tr>\n",
       "    <tr>\n",
       "      <th>4</th>\n",
       "      <td>5</td>\n",
       "      <td>s5</td>\n",
       "      <td>TV Show</td>\n",
       "      <td>Kota Factory</td>\n",
       "      <td>India</td>\n",
       "      <td>2021</td>\n",
       "      <td>2021-09-24</td>\n",
       "      <td>NaN</td>\n",
       "      <td>Mayur More, Jitendra Kumar, Ranjan Raj, Alam K...</td>\n",
       "      <td>TV-MA</td>\n",
       "      <td>International TV Shows, Romantic TV Shows, TV ...</td>\n",
       "      <td>In a city of coaching centers known to train I...</td>\n",
       "      <td>2 Seasons</td>\n",
       "      <td>2 Seasons</td>\n",
       "    </tr>\n",
       "  </tbody>\n",
       "</table>\n",
       "</div>"
      ],
      "text/plain": [
       "   # show_id     type                  title        country  release_year  \\\n",
       "0  1      s1    Movie   Dick Johnson Is Dead  United States          2020   \n",
       "1  2      s2  TV Show          Blood & Water   South Africa          2021   \n",
       "2  3      s3  TV Show              Ganglands            NaN          2021   \n",
       "3  4      s4  TV Show  Jailbirds New Orleans            NaN          2021   \n",
       "4  5      s5  TV Show           Kota Factory          India          2021   \n",
       "\n",
       "  date_added         director  \\\n",
       "0 2021-09-25  Kirsten Johnson   \n",
       "1 2021-09-24              NaN   \n",
       "2 2021-09-24  Julien Leclercq   \n",
       "3 2021-09-24              NaN   \n",
       "4 2021-09-24              NaN   \n",
       "\n",
       "                                                cast rating  \\\n",
       "0                                                NaN  PG-13   \n",
       "1  Ama Qamata, Khosi Ngema, Gail Mabalane, Thaban...  TV-MA   \n",
       "2  Sami Bouajila, Tracy Gotoas, Samuel Jouy, Nabi...  TV-MA   \n",
       "3                                                NaN  TV-MA   \n",
       "4  Mayur More, Jitendra Kumar, Ranjan Raj, Alam K...  TV-MA   \n",
       "\n",
       "                                           listed_in  \\\n",
       "0                                      Documentaries   \n",
       "1    International TV Shows, TV Dramas, TV Mysteries   \n",
       "2  Crime TV Shows, International TV Shows, TV Act...   \n",
       "3                             Docuseries, Reality TV   \n",
       "4  International TV Shows, Romantic TV Shows, TV ...   \n",
       "\n",
       "                                         description   duration duration_hours  \n",
       "0  As her father nears the end of his life, filmm...     90 min    1 hr 30 min  \n",
       "1  After crossing paths at a party, a Cape Town t...  2 Seasons      2 Seasons  \n",
       "2  To protect his family from a powerful drug lor...   1 Season       1 Season  \n",
       "3  Feuds, flirtations and toilet talk go down amo...   1 Season       1 Season  \n",
       "4  In a city of coaching centers known to train I...  2 Seasons      2 Seasons  "
      ]
     },
     "execution_count": 28,
     "metadata": {},
     "output_type": "execute_result"
    }
   ],
   "source": [
    "df.head()"
   ]
  },
  {
   "cell_type": "code",
   "execution_count": 29,
   "metadata": {},
   "outputs": [],
   "source": [
    "# reset the index to column named '#'\n",
    "df.set_index('#', inplace= True)"
   ]
  },
  {
   "cell_type": "code",
   "execution_count": 30,
   "metadata": {},
   "outputs": [],
   "source": [
    "# rename index\n",
    "df.index.name = 'id'"
   ]
  },
  {
   "cell_type": "code",
   "execution_count": 31,
   "metadata": {},
   "outputs": [
    {
     "data": {
      "text/html": [
       "<div>\n",
       "<style scoped>\n",
       "    .dataframe tbody tr th:only-of-type {\n",
       "        vertical-align: middle;\n",
       "    }\n",
       "\n",
       "    .dataframe tbody tr th {\n",
       "        vertical-align: top;\n",
       "    }\n",
       "\n",
       "    .dataframe thead th {\n",
       "        text-align: right;\n",
       "    }\n",
       "</style>\n",
       "<table border=\"1\" class=\"dataframe\">\n",
       "  <thead>\n",
       "    <tr style=\"text-align: right;\">\n",
       "      <th></th>\n",
       "      <th>show_id</th>\n",
       "      <th>type</th>\n",
       "      <th>title</th>\n",
       "      <th>country</th>\n",
       "      <th>release_year</th>\n",
       "      <th>date_added</th>\n",
       "      <th>director</th>\n",
       "      <th>cast</th>\n",
       "      <th>rating</th>\n",
       "      <th>listed_in</th>\n",
       "      <th>description</th>\n",
       "      <th>duration</th>\n",
       "      <th>duration_hours</th>\n",
       "    </tr>\n",
       "    <tr>\n",
       "      <th>id</th>\n",
       "      <th></th>\n",
       "      <th></th>\n",
       "      <th></th>\n",
       "      <th></th>\n",
       "      <th></th>\n",
       "      <th></th>\n",
       "      <th></th>\n",
       "      <th></th>\n",
       "      <th></th>\n",
       "      <th></th>\n",
       "      <th></th>\n",
       "      <th></th>\n",
       "      <th></th>\n",
       "    </tr>\n",
       "  </thead>\n",
       "  <tbody>\n",
       "    <tr>\n",
       "      <th>1</th>\n",
       "      <td>s1</td>\n",
       "      <td>Movie</td>\n",
       "      <td>Dick Johnson Is Dead</td>\n",
       "      <td>United States</td>\n",
       "      <td>2020</td>\n",
       "      <td>2021-09-25</td>\n",
       "      <td>Kirsten Johnson</td>\n",
       "      <td>NaN</td>\n",
       "      <td>PG-13</td>\n",
       "      <td>Documentaries</td>\n",
       "      <td>As her father nears the end of his life, filmm...</td>\n",
       "      <td>90 min</td>\n",
       "      <td>1 hr 30 min</td>\n",
       "    </tr>\n",
       "  </tbody>\n",
       "</table>\n",
       "</div>"
      ],
      "text/plain": [
       "   show_id   type                 title        country  release_year  \\\n",
       "id                                                                     \n",
       "1       s1  Movie  Dick Johnson Is Dead  United States          2020   \n",
       "\n",
       "   date_added         director cast rating      listed_in  \\\n",
       "id                                                          \n",
       "1  2021-09-25  Kirsten Johnson  NaN  PG-13  Documentaries   \n",
       "\n",
       "                                          description duration duration_hours  \n",
       "id                                                                             \n",
       "1   As her father nears the end of his life, filmm...   90 min    1 hr 30 min  "
      ]
     },
     "execution_count": 31,
     "metadata": {},
     "output_type": "execute_result"
    }
   ],
   "source": [
    "# confirm changes\n",
    "df.head(1)"
   ]
  },
  {
   "cell_type": "code",
   "execution_count": 32,
   "metadata": {},
   "outputs": [
    {
     "name": "stdout",
     "output_type": "stream",
     "text": [
      "['show_id', 'type', 'title', 'country', 'release_year', 'date_added', 'director', 'cast', 'rating', 'listed_in', 'description', 'duration', 'duration_hours']\n"
     ]
    }
   ],
   "source": [
    "# save the column names for future use.\n",
    "cols = [i for i in df.columns]\n",
    "print(cols)"
   ]
  },
  {
   "cell_type": "code",
   "execution_count": 36,
   "metadata": {},
   "outputs": [
    {
     "data": {
      "text/plain": [
       "(8805, 13)"
      ]
     },
     "execution_count": 36,
     "metadata": {},
     "output_type": "execute_result"
    }
   ],
   "source": [
    "#  get the count of rows and columns\n",
    "df.shape"
   ]
  },
  {
   "cell_type": "code",
   "execution_count": 33,
   "metadata": {},
   "outputs": [
    {
     "name": "stdout",
     "output_type": "stream",
     "text": [
      "<class 'pandas.core.frame.DataFrame'>\n",
      "Int64Index: 8805 entries, 1 to 8805\n",
      "Data columns (total 13 columns):\n",
      " #   Column          Non-Null Count  Dtype         \n",
      "---  ------          --------------  -----         \n",
      " 0   show_id         8805 non-null   object        \n",
      " 1   type            8805 non-null   object        \n",
      " 2   title           8805 non-null   object        \n",
      " 3   country         7974 non-null   object        \n",
      " 4   release_year    8805 non-null   int64         \n",
      " 5   date_added      8795 non-null   datetime64[ns]\n",
      " 6   director        6172 non-null   object        \n",
      " 7   cast            7980 non-null   object        \n",
      " 8   rating          8801 non-null   object        \n",
      " 9   listed_in       8805 non-null   object        \n",
      " 10  description     8805 non-null   object        \n",
      " 11  duration        8802 non-null   object        \n",
      " 12  duration_hours  8802 non-null   object        \n",
      "dtypes: datetime64[ns](1), int64(1), object(11)\n",
      "memory usage: 963.0+ KB\n"
     ]
    }
   ],
   "source": [
    "# get the info \n",
    "df.info()"
   ]
  },
  {
   "cell_type": "markdown",
   "metadata": {},
   "source": [
    "## There are 8805 rows, 13 columns, all except release_year is of type object.\n",
    "\n",
    "## release_year is of type datetime. \n",
    "## Since released_year is just the year, int is fine and it doesnt have to be datetime."
   ]
  },
  {
   "cell_type": "markdown",
   "metadata": {},
   "source": []
  },
  {
   "cell_type": "markdown",
   "metadata": {},
   "source": [
    "# BASIC ANALYSIS :"
   ]
  },
  {
   "cell_type": "markdown",
   "metadata": {},
   "source": [
    "## Question : What are the different types of genres available in the dataset?"
   ]
  },
  {
   "cell_type": "code",
   "execution_count": 78,
   "metadata": {},
   "outputs": [
    {
     "data": {
      "text/plain": [
       "['International TV Shows', ' TV Dramas', ' TV Mysteries']"
      ]
     },
     "execution_count": 78,
     "metadata": {},
     "output_type": "execute_result"
    }
   ],
   "source": [
    "# there is a white space that needs to removed\n",
    "df['listed_in'][2].split(',')"
   ]
  },
  {
   "cell_type": "code",
   "execution_count": 80,
   "metadata": {},
   "outputs": [
    {
     "data": {
      "text/plain": [
       "['International TV Shows', 'TV Dramas', 'TV Mysteries']"
      ]
     },
     "execution_count": 80,
     "metadata": {},
     "output_type": "execute_result"
    }
   ],
   "source": [
    "# lstrip is used to remove the whitespace from the left side of a string\n",
    "[i.lstrip() for i in (df['listed_in'][2]).split(',')]"
   ]
  },
  {
   "cell_type": "code",
   "execution_count": 133,
   "metadata": {},
   "outputs": [
    {
     "data": {
      "text/plain": [
       "id\n",
       "1                                      [Documentaries]\n",
       "2    [International TV Shows,  TV Dramas,  TV Myste...\n",
       "3    [Crime TV Shows,  International TV Shows,  TV ...\n",
       "4                            [Docuseries,  Reality TV]\n",
       "5    [International TV Shows,  Romantic TV Shows,  ...\n",
       "Name: listed_in, dtype: object"
      ]
     },
     "execution_count": 133,
     "metadata": {},
     "output_type": "execute_result"
    }
   ],
   "source": [
    "# store the splited values into a variable\n",
    "listed_in = df['listed_in'].apply(lambda x:x.split(','))\n",
    "listed_in[:5]"
   ]
  },
  {
   "cell_type": "code",
   "execution_count": 132,
   "metadata": {},
   "outputs": [],
   "source": [
    "# create a function that removes white-space of all strings in a list\n",
    "def remove_white(lst):\n",
    "    if np.isnan(lst):\n",
    "        return lst\n",
    "    new_lst = []\n",
    "    for i in lst:\n",
    "        i = i.strip()\n",
    "        new_lst.append(i)\n",
    "    return new_lst"
   ]
  },
  {
   "cell_type": "code",
   "execution_count": 134,
   "metadata": {},
   "outputs": [
    {
     "data": {
      "text/plain": [
       "id\n",
       "1                                      [Documentaries]\n",
       "2    [International TV Shows, TV Dramas, TV Mysteries]\n",
       "3    [Crime TV Shows, International TV Shows, TV Ac...\n",
       "4                             [Docuseries, Reality TV]\n",
       "5    [International TV Shows, Romantic TV Shows, TV...\n",
       "Name: listed_in, dtype: object"
      ]
     },
     "execution_count": 134,
     "metadata": {},
     "output_type": "execute_result"
    }
   ],
   "source": [
    "# apply the function mentioned above\n",
    "listed_in = listed_in.apply(lambda x:white_space(x))\n",
    "listed_in[:5]"
   ]
  },
  {
   "cell_type": "code",
   "execution_count": 135,
   "metadata": {},
   "outputs": [],
   "source": [
    "unique_listed_in = set()"
   ]
  },
  {
   "cell_type": "code",
   "execution_count": 136,
   "metadata": {},
   "outputs": [],
   "source": [
    "def push_to_set(lst):\n",
    "    for i in lst:\n",
    "        unique_listed_in.add(i)"
   ]
  },
  {
   "cell_type": "code",
   "execution_count": 137,
   "metadata": {},
   "outputs": [
    {
     "data": {
      "text/plain": [
       "id\n",
       "1       None\n",
       "2       None\n",
       "3       None\n",
       "4       None\n",
       "5       None\n",
       "        ... \n",
       "8801    None\n",
       "8802    None\n",
       "8803    None\n",
       "8804    None\n",
       "8805    None\n",
       "Name: listed_in, Length: 8805, dtype: object"
      ]
     },
     "execution_count": 137,
     "metadata": {},
     "output_type": "execute_result"
    }
   ],
   "source": [
    "listed_in.apply(lambda x:push_to_set(x))"
   ]
  },
  {
   "cell_type": "code",
   "execution_count": 138,
   "metadata": {},
   "outputs": [
    {
     "name": "stdout",
     "output_type": "stream",
     "text": [
      "{'TV Mysteries', 'Movies', 'Anime Series', 'Sci-Fi & Fantasy', 'TV Action & Adventure', 'Comedies', 'Faith & Spirituality', 'Spanish-Language TV Shows', 'Korean TV Shows', \"Kids' TV\", 'TV Shows', 'British TV Shows', 'Docuseries', 'Crime TV Shows', 'TV Sci-Fi & Fantasy', 'Cult Movies', 'Independent Movies', 'TV Thrillers', 'Teen TV Shows', 'International Movies', 'Romantic Movies', 'Music & Musicals', 'Thrillers', 'International TV Shows', 'Horror Movies', 'Anime Features', 'TV Dramas', 'LGBTQ Movies', 'Children & Family Movies', 'Stand-Up Comedy & Talk Shows', 'TV Comedies', 'Documentaries', 'Science & Nature TV', 'Stand-Up Comedy', 'Classic & Cult TV', 'Action & Adventure', 'TV Horror', 'Sports Movies', 'Classic Movies', 'Reality TV', 'Dramas', 'Romantic TV Shows'}\n"
     ]
    }
   ],
   "source": [
    "# these are all the unique genres of shows/movies present in the dataset.\n",
    "print(unique_listed_in)"
   ]
  },
  {
   "cell_type": "markdown",
   "metadata": {},
   "source": [
    "### NOTE :"
   ]
  },
  {
   "cell_type": "code",
   "execution_count": 104,
   "metadata": {},
   "outputs": [
    {
     "data": {
      "text/plain": [
       "['International TV Shows', 'TV Dramas', 'TV Mysteries']"
      ]
     },
     "execution_count": 104,
     "metadata": {},
     "output_type": "execute_result"
    }
   ],
   "source": [
    "# we could get the list of strings stripped of white-space\n",
    "# just use ', ' with a space after , when you call split\n",
    "df['listed_in'].apply(lambda x:x.split(', '))[2]"
   ]
  },
  {
   "cell_type": "markdown",
   "metadata": {},
   "source": [
    "## Question : What are the different types available and how many of them ?"
   ]
  },
  {
   "cell_type": "code",
   "execution_count": 105,
   "metadata": {},
   "outputs": [
    {
     "data": {
      "text/plain": [
       "Movie      6129\n",
       "TV Show    2676\n",
       "Name: type, dtype: int64"
      ]
     },
     "execution_count": 105,
     "metadata": {},
     "output_type": "execute_result"
    }
   ],
   "source": [
    "df['type'].value_counts()"
   ]
  },
  {
   "cell_type": "markdown",
   "metadata": {},
   "source": [
    "### There are 2 types: 6129 movies and 2676 TV Show's. "
   ]
  },
  {
   "cell_type": "markdown",
   "metadata": {},
   "source": [
    "## Question : Which countries have the highest number of shows/movies on Netflix?"
   ]
  },
  {
   "cell_type": "code",
   "execution_count": 116,
   "metadata": {},
   "outputs": [
    {
     "data": {
      "text/plain": [
       "country\n",
       "United States     2818\n",
       "India              972\n",
       "United Kingdom     418\n",
       "Japan              245\n",
       "South Korea        199\n",
       "Name: show_id, dtype: int64"
      ]
     },
     "execution_count": 116,
     "metadata": {},
     "output_type": "execute_result"
    }
   ],
   "source": [
    "# this is not the correct amount\n",
    "df.groupby('country').count()['show_id'].sort_values(ascending=False).head(5)"
   ]
  },
  {
   "cell_type": "code",
   "execution_count": 120,
   "metadata": {},
   "outputs": [
    {
     "data": {
      "text/plain": [
       "United States                             2818\n",
       "India                                      972\n",
       "United Kingdom                             418\n",
       "Japan                                      245\n",
       "South Korea                                199\n",
       "                                          ... \n",
       "Romania, Bulgaria, Hungary                   1\n",
       "Uruguay, Guatemala                           1\n",
       "France, Senegal, Belgium                     1\n",
       "Mexico, United States, Spain, Colombia       1\n",
       "United Arab Emirates, Jordan                 1\n",
       "Name: country, Length: 748, dtype: int64"
      ]
     },
     "execution_count": 120,
     "metadata": {},
     "output_type": "execute_result"
    }
   ],
   "source": [
    "# there are some rows with multiple countries\n",
    "df['country'].value_counts()"
   ]
  },
  {
   "cell_type": "code",
   "execution_count": 168,
   "metadata": {},
   "outputs": [
    {
     "data": {
      "text/plain": [
       "False    7974\n",
       "True      831\n",
       "Name: country, dtype: int64"
      ]
     },
     "execution_count": 168,
     "metadata": {},
     "output_type": "execute_result"
    }
   ],
   "source": [
    "df['country'].isna().value_counts()"
   ]
  },
  {
   "cell_type": "code",
   "execution_count": 170,
   "metadata": {},
   "outputs": [],
   "source": [
    "# first lets remove the nans for ease of analysis\n",
    "df['country'].fillna('not available', inplace=True)"
   ]
  },
  {
   "cell_type": "code",
   "execution_count": 202,
   "metadata": {},
   "outputs": [
    {
     "data": {
      "text/plain": [
       "0"
      ]
     },
     "execution_count": 202,
     "metadata": {},
     "output_type": "execute_result"
    }
   ],
   "source": [
    "# confirm no more null values\n",
    "df['country'].isna().sum()"
   ]
  },
  {
   "cell_type": "code",
   "execution_count": 190,
   "metadata": {},
   "outputs": [],
   "source": [
    "df['country'].replace('','not available', inplace=True)"
   ]
  },
  {
   "cell_type": "code",
   "execution_count": 200,
   "metadata": {},
   "outputs": [
    {
     "data": {
      "text/plain": [
       "0"
      ]
     },
     "execution_count": 200,
     "metadata": {},
     "output_type": "execute_result"
    }
   ],
   "source": [
    "(df['country'] == '').sum()"
   ]
  },
  {
   "cell_type": "code",
   "execution_count": 191,
   "metadata": {},
   "outputs": [
    {
     "data": {
      "text/plain": [
       "False    8805\n",
       "Name: country, dtype: int64"
      ]
     },
     "execution_count": 191,
     "metadata": {},
     "output_type": "execute_result"
    }
   ],
   "source": [
    "df['country'].isna().value_counts()"
   ]
  },
  {
   "cell_type": "code",
   "execution_count": 192,
   "metadata": {},
   "outputs": [],
   "source": [
    "countries = df['country'].apply(lambda x:x.split(', '))"
   ]
  },
  {
   "cell_type": "code",
   "execution_count": 193,
   "metadata": {},
   "outputs": [],
   "source": [
    "unique_countries = set()"
   ]
  },
  {
   "cell_type": "code",
   "execution_count": 194,
   "metadata": {},
   "outputs": [],
   "source": [
    "def push_to_set_2(lst):\n",
    "    for i in lst:\n",
    "        unique_countries.add(i)"
   ]
  },
  {
   "cell_type": "code",
   "execution_count": 195,
   "metadata": {},
   "outputs": [
    {
     "data": {
      "text/plain": [
       "id\n",
       "1       None\n",
       "2       None\n",
       "3       None\n",
       "4       None\n",
       "5       None\n",
       "        ... \n",
       "8801    None\n",
       "8802    None\n",
       "8803    None\n",
       "8804    None\n",
       "8805    None\n",
       "Name: country, Length: 8805, dtype: object"
      ]
     },
     "execution_count": 195,
     "metadata": {},
     "output_type": "execute_result"
    }
   ],
   "source": [
    "countries.apply(lambda x:push_to_set_2(x))"
   ]
  },
  {
   "cell_type": "code",
   "execution_count": 196,
   "metadata": {},
   "outputs": [
    {
     "data": {
      "text/plain": [
       "{'',\n",
       " 'Afghanistan',\n",
       " 'Albania',\n",
       " 'Algeria',\n",
       " 'Angola',\n",
       " 'Argentina',\n",
       " 'Armenia',\n",
       " 'Australia',\n",
       " 'Austria',\n",
       " 'Azerbaijan',\n",
       " 'Bahamas',\n",
       " 'Bangladesh',\n",
       " 'Belarus',\n",
       " 'Belgium',\n",
       " 'Bermuda',\n",
       " 'Botswana',\n",
       " 'Brazil',\n",
       " 'Bulgaria',\n",
       " 'Burkina Faso',\n",
       " 'Cambodia',\n",
       " 'Cambodia,',\n",
       " 'Cameroon',\n",
       " 'Canada',\n",
       " 'Cayman Islands',\n",
       " 'Chile',\n",
       " 'China',\n",
       " 'Colombia',\n",
       " 'Croatia',\n",
       " 'Cuba',\n",
       " 'Cyprus',\n",
       " 'Czech Republic',\n",
       " 'Denmark',\n",
       " 'Dominican Republic',\n",
       " 'East Germany',\n",
       " 'Ecuador',\n",
       " 'Egypt',\n",
       " 'Ethiopia',\n",
       " 'Finland',\n",
       " 'France',\n",
       " 'Georgia',\n",
       " 'Germany',\n",
       " 'Ghana',\n",
       " 'Greece',\n",
       " 'Guatemala',\n",
       " 'Hong Kong',\n",
       " 'Hungary',\n",
       " 'Iceland',\n",
       " 'India',\n",
       " 'Indonesia',\n",
       " 'Iran',\n",
       " 'Iraq',\n",
       " 'Ireland',\n",
       " 'Israel',\n",
       " 'Italy',\n",
       " 'Jamaica',\n",
       " 'Japan',\n",
       " 'Jordan',\n",
       " 'Kazakhstan',\n",
       " 'Kenya',\n",
       " 'Kuwait',\n",
       " 'Latvia',\n",
       " 'Lebanon',\n",
       " 'Liechtenstein',\n",
       " 'Lithuania',\n",
       " 'Luxembourg',\n",
       " 'Malawi',\n",
       " 'Malaysia',\n",
       " 'Malta',\n",
       " 'Mauritius',\n",
       " 'Mexico',\n",
       " 'Mongolia',\n",
       " 'Montenegro',\n",
       " 'Morocco',\n",
       " 'Mozambique',\n",
       " 'Namibia',\n",
       " 'Nepal',\n",
       " 'Netherlands',\n",
       " 'New Zealand',\n",
       " 'Nicaragua',\n",
       " 'Nigeria',\n",
       " 'Norway',\n",
       " 'Pakistan',\n",
       " 'Palestine',\n",
       " 'Panama',\n",
       " 'Paraguay',\n",
       " 'Peru',\n",
       " 'Philippines',\n",
       " 'Poland',\n",
       " 'Poland,',\n",
       " 'Portugal',\n",
       " 'Puerto Rico',\n",
       " 'Qatar',\n",
       " 'Romania',\n",
       " 'Russia',\n",
       " 'Samoa',\n",
       " 'Saudi Arabia',\n",
       " 'Senegal',\n",
       " 'Serbia',\n",
       " 'Singapore',\n",
       " 'Slovakia',\n",
       " 'Slovenia',\n",
       " 'Somalia',\n",
       " 'South Africa',\n",
       " 'South Korea',\n",
       " 'Soviet Union',\n",
       " 'Spain',\n",
       " 'Sri Lanka',\n",
       " 'Sudan',\n",
       " 'Sweden',\n",
       " 'Switzerland',\n",
       " 'Syria',\n",
       " 'Taiwan',\n",
       " 'Thailand',\n",
       " 'Turkey',\n",
       " 'Uganda',\n",
       " 'Ukraine',\n",
       " 'United Arab Emirates',\n",
       " 'United Kingdom',\n",
       " 'United Kingdom,',\n",
       " 'United States',\n",
       " 'United States,',\n",
       " 'Uruguay',\n",
       " 'Vatican City',\n",
       " 'Venezuela',\n",
       " 'Vietnam',\n",
       " 'West Germany',\n",
       " 'Zimbabwe',\n",
       " 'not available'}"
      ]
     },
     "execution_count": 196,
     "metadata": {},
     "output_type": "execute_result"
    }
   ],
   "source": [
    "unique_countries"
   ]
  },
  {
   "cell_type": "code",
   "execution_count": 206,
   "metadata": {
    "scrolled": true
   },
   "outputs": [
    {
     "data": {
      "text/plain": [
       "{'': 0,\n",
       " 'South Africa': 0,\n",
       " 'Philippines': 0,\n",
       " 'not available': 0,\n",
       " 'Belgium': 0,\n",
       " 'Puerto Rico': 0,\n",
       " 'Zimbabwe': 0,\n",
       " 'Cuba': 0,\n",
       " 'Australia': 0,\n",
       " 'Pakistan': 0,\n",
       " 'Ghana': 0,\n",
       " 'Luxembourg': 0,\n",
       " 'Sri Lanka': 0,\n",
       " 'West Germany': 0,\n",
       " 'Burkina Faso': 0,\n",
       " 'Qatar': 0,\n",
       " 'Malta': 0,\n",
       " 'Italy': 0,\n",
       " 'New Zealand': 0,\n",
       " 'United Kingdom,': 0,\n",
       " 'Argentina': 0,\n",
       " 'Bangladesh': 0,\n",
       " 'Sudan': 0,\n",
       " 'Iran': 0,\n",
       " 'Mozambique': 0,\n",
       " 'United States': 0,\n",
       " 'Canada': 0,\n",
       " 'Vietnam': 0,\n",
       " 'Ireland': 0,\n",
       " 'Indonesia': 0,\n",
       " 'Venezuela': 0,\n",
       " 'Poland': 0,\n",
       " 'Dominican Republic': 0,\n",
       " 'Malawi': 0,\n",
       " 'Saudi Arabia': 0,\n",
       " 'Russia': 0,\n",
       " 'Poland,': 0,\n",
       " 'Nigeria': 0,\n",
       " 'East Germany': 0,\n",
       " 'Cambodia,': 0,\n",
       " 'South Korea': 0,\n",
       " 'Cambodia': 0,\n",
       " 'Greece': 0,\n",
       " 'Japan': 0,\n",
       " 'Lebanon': 0,\n",
       " 'Afghanistan': 0,\n",
       " 'Iceland': 0,\n",
       " 'Serbia': 0,\n",
       " 'Algeria': 0,\n",
       " 'Spain': 0,\n",
       " 'Mauritius': 0,\n",
       " 'Brazil': 0,\n",
       " 'France': 0,\n",
       " 'Mongolia': 0,\n",
       " 'Malaysia': 0,\n",
       " 'Hungary': 0,\n",
       " 'Montenegro': 0,\n",
       " 'Thailand': 0,\n",
       " 'Colombia': 0,\n",
       " 'Singapore': 0,\n",
       " 'United Arab Emirates': 0,\n",
       " 'Lithuania': 0,\n",
       " 'Kuwait': 0,\n",
       " 'Croatia': 0,\n",
       " 'Taiwan': 0,\n",
       " 'Georgia': 0,\n",
       " 'Portugal': 0,\n",
       " 'Nicaragua': 0,\n",
       " 'Hong Kong': 0,\n",
       " 'Norway': 0,\n",
       " 'Cyprus': 0,\n",
       " 'Uganda': 0,\n",
       " 'Paraguay': 0,\n",
       " 'Latvia': 0,\n",
       " 'Egypt': 0,\n",
       " 'Guatemala': 0,\n",
       " 'Morocco': 0,\n",
       " 'Cameroon': 0,\n",
       " 'Kenya': 0,\n",
       " 'Soviet Union': 0,\n",
       " 'Botswana': 0,\n",
       " 'Austria': 0,\n",
       " 'Angola': 0,\n",
       " 'Vatican City': 0,\n",
       " 'Uruguay': 0,\n",
       " 'Cayman Islands': 0,\n",
       " 'Iraq': 0,\n",
       " 'Ecuador': 0,\n",
       " 'Ukraine': 0,\n",
       " 'Albania': 0,\n",
       " 'Palestine': 0,\n",
       " 'Switzerland': 0,\n",
       " 'Syria': 0,\n",
       " 'Kazakhstan': 0,\n",
       " 'Finland': 0,\n",
       " 'Turkey': 0,\n",
       " 'Jordan': 0,\n",
       " 'Bahamas': 0,\n",
       " 'Liechtenstein': 0,\n",
       " 'Panama': 0,\n",
       " 'Slovakia': 0,\n",
       " 'Samoa': 0,\n",
       " 'Slovenia': 0,\n",
       " 'Belarus': 0,\n",
       " 'India': 0,\n",
       " 'Germany': 0,\n",
       " 'Sweden': 0,\n",
       " 'Netherlands': 0,\n",
       " 'Ethiopia': 0,\n",
       " 'Romania': 0,\n",
       " 'Peru': 0,\n",
       " 'Denmark': 0,\n",
       " 'Armenia': 0,\n",
       " 'Czech Republic': 0,\n",
       " 'China': 0,\n",
       " 'United Kingdom': 0,\n",
       " 'Namibia': 0,\n",
       " 'Bulgaria': 0,\n",
       " 'Nepal': 0,\n",
       " 'Israel': 0,\n",
       " 'Somalia': 0,\n",
       " 'Senegal': 0,\n",
       " 'Mexico': 0,\n",
       " 'United States,': 0,\n",
       " 'Bermuda': 0,\n",
       " 'Azerbaijan': 0,\n",
       " 'Chile': 0,\n",
       " 'Jamaica': 0}"
      ]
     },
     "execution_count": 206,
     "metadata": {},
     "output_type": "execute_result"
    }
   ],
   "source": [
    "country_dict = {key:0 for key in unique_countries}\n",
    "\n",
    "country_dict"
   ]
  },
  {
   "cell_type": "code",
   "execution_count": 208,
   "metadata": {},
   "outputs": [],
   "source": [
    "# remove unacessary keys\n",
    "del country_dict['']"
   ]
  },
  {
   "cell_type": "code",
   "execution_count": 209,
   "metadata": {},
   "outputs": [],
   "source": [
    "del country_dict['not available']"
   ]
  },
  {
   "cell_type": "code",
   "execution_count": 248,
   "metadata": {},
   "outputs": [],
   "source": [
    "def update_dict(lst):\n",
    "    try:\n",
    "        for i in lst:\n",
    "                country_dict[i] = country_dict[i] + 1  \n",
    "    except:\n",
    "        pass"
   ]
  },
  {
   "cell_type": "code",
   "execution_count": 249,
   "metadata": {},
   "outputs": [
    {
     "data": {
      "text/plain": [
       "id\n",
       "1       None\n",
       "2       None\n",
       "3       None\n",
       "4       None\n",
       "5       None\n",
       "        ... \n",
       "8801    None\n",
       "8802    None\n",
       "8803    None\n",
       "8804    None\n",
       "8805    None\n",
       "Name: country, Length: 8805, dtype: object"
      ]
     },
     "execution_count": 249,
     "metadata": {},
     "output_type": "execute_result"
    }
   ],
   "source": [
    "countries.apply(lambda x:update_dict(x))"
   ]
  },
  {
   "cell_type": "code",
   "execution_count": 251,
   "metadata": {},
   "outputs": [
    {
     "data": {
      "text/plain": [
       "{'South Africa': 64,\n",
       " 'Philippines': 83,\n",
       " 'Belgium': 90,\n",
       " 'Puerto Rico': 1,\n",
       " 'Zimbabwe': 3,\n",
       " 'Cuba': 1,\n",
       " 'Australia': 160,\n",
       " 'Pakistan': 24,\n",
       " 'Ghana': 5,\n",
       " 'Luxembourg': 12,\n",
       " 'Sri Lanka': 1,\n",
       " 'West Germany': 5,\n",
       " 'Burkina Faso': 1,\n",
       " 'Qatar': 10,\n",
       " 'Malta': 3,\n",
       " 'Italy': 100,\n",
       " 'New Zealand': 33,\n",
       " 'United Kingdom,': 2,\n",
       " 'Argentina': 91,\n",
       " 'Bangladesh': 4,\n",
       " 'Sudan': 1,\n",
       " 'Iran': 4,\n",
       " 'Mozambique': 1,\n",
       " 'United States': 3690,\n",
       " 'Canada': 445,\n",
       " 'Vietnam': 7,\n",
       " 'Ireland': 46,\n",
       " 'Indonesia': 90,\n",
       " 'Venezuela': 4,\n",
       " 'Poland': 40,\n",
       " 'Dominican Republic': 1,\n",
       " 'Malawi': 1,\n",
       " 'Saudi Arabia': 13,\n",
       " 'Russia': 27,\n",
       " 'Poland,': 1,\n",
       " 'Nigeria': 102,\n",
       " 'East Germany': 1,\n",
       " 'Cambodia,': 1,\n",
       " 'South Korea': 230,\n",
       " 'Cambodia': 5,\n",
       " 'Greece': 11,\n",
       " 'Japan': 318,\n",
       " 'Lebanon': 31,\n",
       " 'Afghanistan': 1,\n",
       " 'Iceland': 11,\n",
       " 'Serbia': 7,\n",
       " 'Algeria': 2,\n",
       " 'Spain': 232,\n",
       " 'Mauritius': 2,\n",
       " 'Brazil': 97,\n",
       " 'France': 392,\n",
       " 'Mongolia': 1,\n",
       " 'Malaysia': 26,\n",
       " 'Hungary': 11,\n",
       " 'Montenegro': 1,\n",
       " 'Thailand': 70,\n",
       " 'Colombia': 52,\n",
       " 'Singapore': 41,\n",
       " 'United Arab Emirates': 37,\n",
       " 'Lithuania': 1,\n",
       " 'Kuwait': 8,\n",
       " 'Croatia': 4,\n",
       " 'Taiwan': 89,\n",
       " 'Georgia': 2,\n",
       " 'Portugal': 6,\n",
       " 'Nicaragua': 1,\n",
       " 'Hong Kong': 105,\n",
       " 'Norway': 30,\n",
       " 'Cyprus': 1,\n",
       " 'Uganda': 1,\n",
       " 'Paraguay': 1,\n",
       " 'Latvia': 1,\n",
       " 'Egypt': 117,\n",
       " 'Guatemala': 2,\n",
       " 'Morocco': 6,\n",
       " 'Cameroon': 1,\n",
       " 'Kenya': 6,\n",
       " 'Soviet Union': 3,\n",
       " 'Botswana': 1,\n",
       " 'Austria': 12,\n",
       " 'Angola': 1,\n",
       " 'Vatican City': 1,\n",
       " 'Uruguay': 14,\n",
       " 'Cayman Islands': 2,\n",
       " 'Iraq': 2,\n",
       " 'Ecuador': 1,\n",
       " 'Ukraine': 3,\n",
       " 'Albania': 1,\n",
       " 'Palestine': 1,\n",
       " 'Switzerland': 19,\n",
       " 'Syria': 3,\n",
       " 'Kazakhstan': 1,\n",
       " 'Finland': 11,\n",
       " 'Turkey': 113,\n",
       " 'Jordan': 9,\n",
       " 'Bahamas': 1,\n",
       " 'Liechtenstein': 1,\n",
       " 'Panama': 1,\n",
       " 'Slovakia': 1,\n",
       " 'Samoa': 1,\n",
       " 'Slovenia': 3,\n",
       " 'Belarus': 1,\n",
       " 'India': 1046,\n",
       " 'Germany': 226,\n",
       " 'Sweden': 42,\n",
       " 'Netherlands': 50,\n",
       " 'Ethiopia': 1,\n",
       " 'Romania': 14,\n",
       " 'Peru': 10,\n",
       " 'Denmark': 48,\n",
       " 'Armenia': 1,\n",
       " 'Czech Republic': 22,\n",
       " 'China': 162,\n",
       " 'United Kingdom': 803,\n",
       " 'Namibia': 2,\n",
       " 'Bulgaria': 10,\n",
       " 'Nepal': 2,\n",
       " 'Israel': 30,\n",
       " 'Somalia': 1,\n",
       " 'Senegal': 3,\n",
       " 'Mexico': 169,\n",
       " 'United States,': 1,\n",
       " 'Bermuda': 1,\n",
       " 'Azerbaijan': 1,\n",
       " 'Chile': 29,\n",
       " 'Jamaica': 1}"
      ]
     },
     "execution_count": 251,
     "metadata": {},
     "output_type": "execute_result"
    }
   ],
   "source": [
    "country_dict"
   ]
  },
  {
   "cell_type": "code",
   "execution_count": 254,
   "metadata": {},
   "outputs": [
    {
     "data": {
      "text/html": [
       "<div>\n",
       "<style scoped>\n",
       "    .dataframe tbody tr th:only-of-type {\n",
       "        vertical-align: middle;\n",
       "    }\n",
       "\n",
       "    .dataframe tbody tr th {\n",
       "        vertical-align: top;\n",
       "    }\n",
       "\n",
       "    .dataframe thead th {\n",
       "        text-align: right;\n",
       "    }\n",
       "</style>\n",
       "<table border=\"1\" class=\"dataframe\">\n",
       "  <thead>\n",
       "    <tr style=\"text-align: right;\">\n",
       "      <th></th>\n",
       "      <th>Country</th>\n",
       "      <th>Count</th>\n",
       "    </tr>\n",
       "  </thead>\n",
       "  <tbody>\n",
       "    <tr>\n",
       "      <th>0</th>\n",
       "      <td>South Africa</td>\n",
       "      <td>64</td>\n",
       "    </tr>\n",
       "    <tr>\n",
       "      <th>1</th>\n",
       "      <td>Philippines</td>\n",
       "      <td>83</td>\n",
       "    </tr>\n",
       "    <tr>\n",
       "      <th>2</th>\n",
       "      <td>Belgium</td>\n",
       "      <td>90</td>\n",
       "    </tr>\n",
       "    <tr>\n",
       "      <th>3</th>\n",
       "      <td>Puerto Rico</td>\n",
       "      <td>1</td>\n",
       "    </tr>\n",
       "    <tr>\n",
       "      <th>4</th>\n",
       "      <td>Zimbabwe</td>\n",
       "      <td>3</td>\n",
       "    </tr>\n",
       "  </tbody>\n",
       "</table>\n",
       "</div>"
      ],
      "text/plain": [
       "        Country  Count\n",
       "0  South Africa     64\n",
       "1   Philippines     83\n",
       "2       Belgium     90\n",
       "3   Puerto Rico      1\n",
       "4      Zimbabwe      3"
      ]
     },
     "execution_count": 254,
     "metadata": {},
     "output_type": "execute_result"
    }
   ],
   "source": [
    "pop_country = pd.DataFrame(list(country_dict.items()), columns=['Country','Count'])\n",
    "pop_country.head()"
   ]
  },
  {
   "cell_type": "code",
   "execution_count": 258,
   "metadata": {},
   "outputs": [
    {
     "data": {
      "text/html": [
       "<div>\n",
       "<style scoped>\n",
       "    .dataframe tbody tr th:only-of-type {\n",
       "        vertical-align: middle;\n",
       "    }\n",
       "\n",
       "    .dataframe tbody tr th {\n",
       "        vertical-align: top;\n",
       "    }\n",
       "\n",
       "    .dataframe thead th {\n",
       "        text-align: right;\n",
       "    }\n",
       "</style>\n",
       "<table border=\"1\" class=\"dataframe\">\n",
       "  <thead>\n",
       "    <tr style=\"text-align: right;\">\n",
       "      <th></th>\n",
       "      <th>Count</th>\n",
       "    </tr>\n",
       "    <tr>\n",
       "      <th>Country</th>\n",
       "      <th></th>\n",
       "    </tr>\n",
       "  </thead>\n",
       "  <tbody>\n",
       "    <tr>\n",
       "      <th>United States</th>\n",
       "      <td>3690</td>\n",
       "    </tr>\n",
       "    <tr>\n",
       "      <th>India</th>\n",
       "      <td>1046</td>\n",
       "    </tr>\n",
       "    <tr>\n",
       "      <th>United Kingdom</th>\n",
       "      <td>803</td>\n",
       "    </tr>\n",
       "    <tr>\n",
       "      <th>Canada</th>\n",
       "      <td>445</td>\n",
       "    </tr>\n",
       "    <tr>\n",
       "      <th>France</th>\n",
       "      <td>392</td>\n",
       "    </tr>\n",
       "  </tbody>\n",
       "</table>\n",
       "</div>"
      ],
      "text/plain": [
       "                Count\n",
       "Country              \n",
       "United States    3690\n",
       "India            1046\n",
       "United Kingdom    803\n",
       "Canada            445\n",
       "France            392"
      ]
     },
     "execution_count": 258,
     "metadata": {},
     "output_type": "execute_result"
    }
   ],
   "source": [
    "pop_country.sort_values(by='Count',ascending=False).head(5).set_index('Country')"
   ]
  },
  {
   "cell_type": "code",
   "execution_count": 262,
   "metadata": {},
   "outputs": [
    {
     "data": {
      "text/plain": [
       "3690"
      ]
     },
     "execution_count": 262,
     "metadata": {},
     "output_type": "execute_result"
    }
   ],
   "source": [
    "# confirming solution :\n",
    "df['country'].str.contains('United States').sum()"
   ]
  },
  {
   "cell_type": "markdown",
   "metadata": {},
   "source": [
    "### United States has the most shows/movies (3690) \n",
    "### India is ranked #2 with 1046 movies. "
   ]
  },
  {
   "cell_type": "code",
   "execution_count": null,
   "metadata": {},
   "outputs": [],
   "source": []
  },
  {
   "cell_type": "code",
   "execution_count": null,
   "metadata": {},
   "outputs": [],
   "source": []
  }
 ],
 "metadata": {
  "kernelspec": {
   "display_name": "Python 3 (ipykernel)",
   "language": "python",
   "name": "python3"
  },
  "language_info": {
   "codemirror_mode": {
    "name": "ipython",
    "version": 3
   },
   "file_extension": ".py",
   "mimetype": "text/x-python",
   "name": "python",
   "nbconvert_exporter": "python",
   "pygments_lexer": "ipython3",
   "version": "3.9.13"
  }
 },
 "nbformat": 4,
 "nbformat_minor": 4
}
