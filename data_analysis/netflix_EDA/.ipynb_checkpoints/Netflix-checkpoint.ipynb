{
 "cells": [
  {
   "cell_type": "code",
   "execution_count": 1,
   "metadata": {},
   "outputs": [],
   "source": [
    "import pandas as pd\n",
    "import numpy as np\n",
    "import matplotlib.pyplot as plt\n",
    "import seaborn as sns"
   ]
  },
  {
   "cell_type": "code",
   "execution_count": 2,
   "metadata": {},
   "outputs": [],
   "source": [
    "df = pd.read_csv('processed_netflix.csv', parse_dates=[6])"
   ]
  },
  {
   "cell_type": "code",
   "execution_count": 3,
   "metadata": {},
   "outputs": [
    {
     "data": {
      "text/html": [
       "<div>\n",
       "<style scoped>\n",
       "    .dataframe tbody tr th:only-of-type {\n",
       "        vertical-align: middle;\n",
       "    }\n",
       "\n",
       "    .dataframe tbody tr th {\n",
       "        vertical-align: top;\n",
       "    }\n",
       "\n",
       "    .dataframe thead th {\n",
       "        text-align: right;\n",
       "    }\n",
       "</style>\n",
       "<table border=\"1\" class=\"dataframe\">\n",
       "  <thead>\n",
       "    <tr style=\"text-align: right;\">\n",
       "      <th></th>\n",
       "      <th>#</th>\n",
       "      <th>show_id</th>\n",
       "      <th>type</th>\n",
       "      <th>title</th>\n",
       "      <th>country</th>\n",
       "      <th>release_year</th>\n",
       "      <th>date_added</th>\n",
       "      <th>director</th>\n",
       "      <th>cast</th>\n",
       "      <th>rating</th>\n",
       "      <th>listed_in</th>\n",
       "      <th>description</th>\n",
       "      <th>duration</th>\n",
       "      <th>duration_hours</th>\n",
       "    </tr>\n",
       "  </thead>\n",
       "  <tbody>\n",
       "    <tr>\n",
       "      <th>0</th>\n",
       "      <td>1</td>\n",
       "      <td>s1</td>\n",
       "      <td>Movie</td>\n",
       "      <td>Dick Johnson Is Dead</td>\n",
       "      <td>United States</td>\n",
       "      <td>2020</td>\n",
       "      <td>2021-09-25</td>\n",
       "      <td>Kirsten Johnson</td>\n",
       "      <td>NaN</td>\n",
       "      <td>PG-13</td>\n",
       "      <td>Documentaries</td>\n",
       "      <td>As her father nears the end of his life, filmm...</td>\n",
       "      <td>90 min</td>\n",
       "      <td>1 hr 30 min</td>\n",
       "    </tr>\n",
       "    <tr>\n",
       "      <th>1</th>\n",
       "      <td>2</td>\n",
       "      <td>s2</td>\n",
       "      <td>TV Show</td>\n",
       "      <td>Blood &amp; Water</td>\n",
       "      <td>South Africa</td>\n",
       "      <td>2021</td>\n",
       "      <td>2021-09-24</td>\n",
       "      <td>NaN</td>\n",
       "      <td>Ama Qamata, Khosi Ngema, Gail Mabalane, Thaban...</td>\n",
       "      <td>TV-MA</td>\n",
       "      <td>International TV Shows, TV Dramas, TV Mysteries</td>\n",
       "      <td>After crossing paths at a party, a Cape Town t...</td>\n",
       "      <td>2 Seasons</td>\n",
       "      <td>2 Seasons</td>\n",
       "    </tr>\n",
       "    <tr>\n",
       "      <th>2</th>\n",
       "      <td>3</td>\n",
       "      <td>s3</td>\n",
       "      <td>TV Show</td>\n",
       "      <td>Ganglands</td>\n",
       "      <td>NaN</td>\n",
       "      <td>2021</td>\n",
       "      <td>2021-09-24</td>\n",
       "      <td>Julien Leclercq</td>\n",
       "      <td>Sami Bouajila, Tracy Gotoas, Samuel Jouy, Nabi...</td>\n",
       "      <td>TV-MA</td>\n",
       "      <td>Crime TV Shows, International TV Shows, TV Act...</td>\n",
       "      <td>To protect his family from a powerful drug lor...</td>\n",
       "      <td>1 Season</td>\n",
       "      <td>1 Season</td>\n",
       "    </tr>\n",
       "    <tr>\n",
       "      <th>3</th>\n",
       "      <td>4</td>\n",
       "      <td>s4</td>\n",
       "      <td>TV Show</td>\n",
       "      <td>Jailbirds New Orleans</td>\n",
       "      <td>NaN</td>\n",
       "      <td>2021</td>\n",
       "      <td>2021-09-24</td>\n",
       "      <td>NaN</td>\n",
       "      <td>NaN</td>\n",
       "      <td>TV-MA</td>\n",
       "      <td>Docuseries, Reality TV</td>\n",
       "      <td>Feuds, flirtations and toilet talk go down amo...</td>\n",
       "      <td>1 Season</td>\n",
       "      <td>1 Season</td>\n",
       "    </tr>\n",
       "    <tr>\n",
       "      <th>4</th>\n",
       "      <td>5</td>\n",
       "      <td>s5</td>\n",
       "      <td>TV Show</td>\n",
       "      <td>Kota Factory</td>\n",
       "      <td>India</td>\n",
       "      <td>2021</td>\n",
       "      <td>2021-09-24</td>\n",
       "      <td>NaN</td>\n",
       "      <td>Mayur More, Jitendra Kumar, Ranjan Raj, Alam K...</td>\n",
       "      <td>TV-MA</td>\n",
       "      <td>International TV Shows, Romantic TV Shows, TV ...</td>\n",
       "      <td>In a city of coaching centers known to train I...</td>\n",
       "      <td>2 Seasons</td>\n",
       "      <td>2 Seasons</td>\n",
       "    </tr>\n",
       "  </tbody>\n",
       "</table>\n",
       "</div>"
      ],
      "text/plain": [
       "   # show_id     type                  title        country  release_year  \\\n",
       "0  1      s1    Movie   Dick Johnson Is Dead  United States          2020   \n",
       "1  2      s2  TV Show          Blood & Water   South Africa          2021   \n",
       "2  3      s3  TV Show              Ganglands            NaN          2021   \n",
       "3  4      s4  TV Show  Jailbirds New Orleans            NaN          2021   \n",
       "4  5      s5  TV Show           Kota Factory          India          2021   \n",
       "\n",
       "  date_added         director  \\\n",
       "0 2021-09-25  Kirsten Johnson   \n",
       "1 2021-09-24              NaN   \n",
       "2 2021-09-24  Julien Leclercq   \n",
       "3 2021-09-24              NaN   \n",
       "4 2021-09-24              NaN   \n",
       "\n",
       "                                                cast rating  \\\n",
       "0                                                NaN  PG-13   \n",
       "1  Ama Qamata, Khosi Ngema, Gail Mabalane, Thaban...  TV-MA   \n",
       "2  Sami Bouajila, Tracy Gotoas, Samuel Jouy, Nabi...  TV-MA   \n",
       "3                                                NaN  TV-MA   \n",
       "4  Mayur More, Jitendra Kumar, Ranjan Raj, Alam K...  TV-MA   \n",
       "\n",
       "                                           listed_in  \\\n",
       "0                                      Documentaries   \n",
       "1    International TV Shows, TV Dramas, TV Mysteries   \n",
       "2  Crime TV Shows, International TV Shows, TV Act...   \n",
       "3                             Docuseries, Reality TV   \n",
       "4  International TV Shows, Romantic TV Shows, TV ...   \n",
       "\n",
       "                                         description   duration duration_hours  \n",
       "0  As her father nears the end of his life, filmm...     90 min    1 hr 30 min  \n",
       "1  After crossing paths at a party, a Cape Town t...  2 Seasons      2 Seasons  \n",
       "2  To protect his family from a powerful drug lor...   1 Season       1 Season  \n",
       "3  Feuds, flirtations and toilet talk go down amo...   1 Season       1 Season  \n",
       "4  In a city of coaching centers known to train I...  2 Seasons      2 Seasons  "
      ]
     },
     "execution_count": 3,
     "metadata": {},
     "output_type": "execute_result"
    }
   ],
   "source": [
    "df.head()"
   ]
  },
  {
   "cell_type": "code",
   "execution_count": 4,
   "metadata": {},
   "outputs": [],
   "source": [
    "df['show_id'] = df['show_id'].apply(lambda x:int(x[1:]))"
   ]
  },
  {
   "cell_type": "code",
   "execution_count": 5,
   "metadata": {},
   "outputs": [],
   "source": [
    "# set index\n",
    "df.set_index('show_id', inplace=True)\n",
    "df.drop('#',axis=1,inplace=True)"
   ]
  },
  {
   "cell_type": "code",
   "execution_count": 6,
   "metadata": {},
   "outputs": [
    {
     "data": {
      "text/html": [
       "<div>\n",
       "<style scoped>\n",
       "    .dataframe tbody tr th:only-of-type {\n",
       "        vertical-align: middle;\n",
       "    }\n",
       "\n",
       "    .dataframe tbody tr th {\n",
       "        vertical-align: top;\n",
       "    }\n",
       "\n",
       "    .dataframe thead th {\n",
       "        text-align: right;\n",
       "    }\n",
       "</style>\n",
       "<table border=\"1\" class=\"dataframe\">\n",
       "  <thead>\n",
       "    <tr style=\"text-align: right;\">\n",
       "      <th></th>\n",
       "      <th>type</th>\n",
       "      <th>title</th>\n",
       "      <th>country</th>\n",
       "      <th>release_year</th>\n",
       "      <th>date_added</th>\n",
       "      <th>director</th>\n",
       "      <th>cast</th>\n",
       "      <th>rating</th>\n",
       "      <th>listed_in</th>\n",
       "      <th>description</th>\n",
       "      <th>duration</th>\n",
       "      <th>duration_hours</th>\n",
       "    </tr>\n",
       "    <tr>\n",
       "      <th>show_id</th>\n",
       "      <th></th>\n",
       "      <th></th>\n",
       "      <th></th>\n",
       "      <th></th>\n",
       "      <th></th>\n",
       "      <th></th>\n",
       "      <th></th>\n",
       "      <th></th>\n",
       "      <th></th>\n",
       "      <th></th>\n",
       "      <th></th>\n",
       "      <th></th>\n",
       "    </tr>\n",
       "  </thead>\n",
       "  <tbody>\n",
       "    <tr>\n",
       "      <th>1</th>\n",
       "      <td>Movie</td>\n",
       "      <td>Dick Johnson Is Dead</td>\n",
       "      <td>United States</td>\n",
       "      <td>2020</td>\n",
       "      <td>2021-09-25</td>\n",
       "      <td>Kirsten Johnson</td>\n",
       "      <td>NaN</td>\n",
       "      <td>PG-13</td>\n",
       "      <td>Documentaries</td>\n",
       "      <td>As her father nears the end of his life, filmm...</td>\n",
       "      <td>90 min</td>\n",
       "      <td>1 hr 30 min</td>\n",
       "    </tr>\n",
       "  </tbody>\n",
       "</table>\n",
       "</div>"
      ],
      "text/plain": [
       "          type                 title        country  release_year date_added  \\\n",
       "show_id                                                                        \n",
       "1        Movie  Dick Johnson Is Dead  United States          2020 2021-09-25   \n",
       "\n",
       "                director cast rating      listed_in  \\\n",
       "show_id                                               \n",
       "1        Kirsten Johnson  NaN  PG-13  Documentaries   \n",
       "\n",
       "                                               description duration  \\\n",
       "show_id                                                               \n",
       "1        As her father nears the end of his life, filmm...   90 min   \n",
       "\n",
       "        duration_hours  \n",
       "show_id                 \n",
       "1          1 hr 30 min  "
      ]
     },
     "execution_count": 6,
     "metadata": {},
     "output_type": "execute_result"
    }
   ],
   "source": [
    "# confirm changes\n",
    "df.head(1)"
   ]
  },
  {
   "cell_type": "code",
   "execution_count": 7,
   "metadata": {},
   "outputs": [
    {
     "name": "stdout",
     "output_type": "stream",
     "text": [
      "['type', 'title', 'country', 'release_year', 'date_added', 'director', 'cast', 'rating', 'listed_in', 'description', 'duration', 'duration_hours']\n"
     ]
    }
   ],
   "source": [
    "# save the column names for future use.\n",
    "cols = [i for i in df.columns]\n",
    "print(cols)"
   ]
  },
  {
   "cell_type": "code",
   "execution_count": 8,
   "metadata": {},
   "outputs": [
    {
     "data": {
      "text/plain": [
       "(8805, 12)"
      ]
     },
     "execution_count": 8,
     "metadata": {},
     "output_type": "execute_result"
    }
   ],
   "source": [
    "#  get the count of rows and columns\n",
    "df.shape"
   ]
  },
  {
   "cell_type": "code",
   "execution_count": 9,
   "metadata": {},
   "outputs": [
    {
     "name": "stdout",
     "output_type": "stream",
     "text": [
      "<class 'pandas.core.frame.DataFrame'>\n",
      "Int64Index: 8805 entries, 1 to 8807\n",
      "Data columns (total 12 columns):\n",
      " #   Column          Non-Null Count  Dtype         \n",
      "---  ------          --------------  -----         \n",
      " 0   type            8805 non-null   object        \n",
      " 1   title           8805 non-null   object        \n",
      " 2   country         7974 non-null   object        \n",
      " 3   release_year    8805 non-null   int64         \n",
      " 4   date_added      8795 non-null   datetime64[ns]\n",
      " 5   director        6172 non-null   object        \n",
      " 6   cast            7980 non-null   object        \n",
      " 7   rating          8801 non-null   object        \n",
      " 8   listed_in       8805 non-null   object        \n",
      " 9   description     8805 non-null   object        \n",
      " 10  duration        8802 non-null   object        \n",
      " 11  duration_hours  8802 non-null   object        \n",
      "dtypes: datetime64[ns](1), int64(1), object(10)\n",
      "memory usage: 894.3+ KB\n"
     ]
    }
   ],
   "source": [
    "# get the info \n",
    "df.info()"
   ]
  },
  {
   "cell_type": "markdown",
   "metadata": {},
   "source": [
    "## There are 8805 rows, 12 columns, all except release_year is of type object.\n",
    "\n",
    "## release_year is of type datetime. \n",
    "## Since released_year is just the year, int is fine and it doesnt have to be datetime."
   ]
  },
  {
   "cell_type": "markdown",
   "metadata": {},
   "source": []
  },
  {
   "cell_type": "markdown",
   "metadata": {},
   "source": [
    "# BASIC ANALYSIS :"
   ]
  },
  {
   "cell_type": "markdown",
   "metadata": {},
   "source": [
    "## Question : What are the different types of genres available in the dataset?"
   ]
  },
  {
   "cell_type": "code",
   "execution_count": 10,
   "metadata": {},
   "outputs": [
    {
     "data": {
      "text/plain": [
       "['International TV Shows', ' TV Dramas', ' TV Mysteries']"
      ]
     },
     "execution_count": 10,
     "metadata": {},
     "output_type": "execute_result"
    }
   ],
   "source": [
    "# there is a white space that needs to removed\n",
    "df['listed_in'][2].split(',')"
   ]
  },
  {
   "cell_type": "code",
   "execution_count": 11,
   "metadata": {},
   "outputs": [
    {
     "data": {
      "text/plain": [
       "['International TV Shows', 'TV Dramas', 'TV Mysteries']"
      ]
     },
     "execution_count": 11,
     "metadata": {},
     "output_type": "execute_result"
    }
   ],
   "source": [
    "# lstrip is used to remove the whitespace from the left side of a string\n",
    "[i.lstrip() for i in (df['listed_in'][2]).split(',')]"
   ]
  },
  {
   "cell_type": "code",
   "execution_count": 12,
   "metadata": {},
   "outputs": [
    {
     "data": {
      "text/plain": [
       "show_id\n",
       "1                                      [Documentaries]\n",
       "2    [International TV Shows,  TV Dramas,  TV Myste...\n",
       "3    [Crime TV Shows,  International TV Shows,  TV ...\n",
       "4                            [Docuseries,  Reality TV]\n",
       "5    [International TV Shows,  Romantic TV Shows,  ...\n",
       "Name: listed_in, dtype: object"
      ]
     },
     "execution_count": 12,
     "metadata": {},
     "output_type": "execute_result"
    }
   ],
   "source": [
    "# store the splited values into a variable\n",
    "listed_in = df['listed_in'].apply(lambda x:x.split(','))\n",
    "listed_in[:5]"
   ]
  },
  {
   "cell_type": "code",
   "execution_count": 13,
   "metadata": {},
   "outputs": [],
   "source": [
    "# create a function that removes white-space of all strings in a list\n",
    "def remove_white(lst):\n",
    "    new_lst = []\n",
    "    for i in lst:\n",
    "        i = i.strip()\n",
    "        new_lst.append(i)\n",
    "    return new_lst"
   ]
  },
  {
   "cell_type": "code",
   "execution_count": 14,
   "metadata": {},
   "outputs": [
    {
     "data": {
      "text/plain": [
       "show_id\n",
       "1                                      [Documentaries]\n",
       "2    [International TV Shows, TV Dramas, TV Mysteries]\n",
       "3    [Crime TV Shows, International TV Shows, TV Ac...\n",
       "4                             [Docuseries, Reality TV]\n",
       "5    [International TV Shows, Romantic TV Shows, TV...\n",
       "Name: listed_in, dtype: object"
      ]
     },
     "execution_count": 14,
     "metadata": {},
     "output_type": "execute_result"
    }
   ],
   "source": [
    "# apply the function mentioned above\n",
    "listed_in = listed_in.apply(lambda x:remove_white(x))\n",
    "listed_in[:5]"
   ]
  },
  {
   "cell_type": "code",
   "execution_count": 15,
   "metadata": {},
   "outputs": [],
   "source": [
    "unique_listed_in = set()"
   ]
  },
  {
   "cell_type": "code",
   "execution_count": 16,
   "metadata": {},
   "outputs": [],
   "source": [
    "def push_to_set(lst, set_name):\n",
    "    for i in lst:\n",
    "        set_name.add(i)"
   ]
  },
  {
   "cell_type": "code",
   "execution_count": 17,
   "metadata": {},
   "outputs": [
    {
     "data": {
      "text/plain": [
       "show_id\n",
       "1       None\n",
       "2       None\n",
       "3       None\n",
       "4       None\n",
       "5       None\n",
       "        ... \n",
       "8803    None\n",
       "8804    None\n",
       "8805    None\n",
       "8806    None\n",
       "8807    None\n",
       "Name: listed_in, Length: 8805, dtype: object"
      ]
     },
     "execution_count": 17,
     "metadata": {},
     "output_type": "execute_result"
    }
   ],
   "source": [
    "listed_in.apply(lambda x:push_to_set(x, unique_listed_in))"
   ]
  },
  {
   "cell_type": "code",
   "execution_count": 18,
   "metadata": {},
   "outputs": [
    {
     "name": "stdout",
     "output_type": "stream",
     "text": [
      "{'Docuseries', 'TV Dramas', 'TV Comedies', 'Anime Series', 'Horror Movies', 'Reality TV', 'Documentaries', 'Music & Musicals', 'Classic Movies', 'Dramas', 'Action & Adventure', 'Stand-Up Comedy & Talk Shows', 'Thrillers', 'Romantic Movies', 'Cult Movies', \"Kids' TV\", 'International TV Shows', 'Children & Family Movies', 'Classic & Cult TV', 'TV Horror', 'TV Mysteries', 'TV Sci-Fi & Fantasy', 'TV Thrillers', 'Korean TV Shows', 'TV Shows', 'Stand-Up Comedy', 'Comedies', 'Anime Features', 'Movies', 'Independent Movies', 'International Movies', 'Sci-Fi & Fantasy', 'Teen TV Shows', 'Science & Nature TV', 'TV Action & Adventure', 'Sports Movies', 'British TV Shows', 'Faith & Spirituality', 'Spanish-Language TV Shows', 'Crime TV Shows', 'Romantic TV Shows', 'LGBTQ Movies'}\n"
     ]
    }
   ],
   "source": [
    "# these are all the unique genres of shows/movies present in the dataset.\n",
    "print(unique_listed_in)"
   ]
  },
  {
   "cell_type": "markdown",
   "metadata": {},
   "source": [
    "### NOTE :"
   ]
  },
  {
   "cell_type": "code",
   "execution_count": 19,
   "metadata": {},
   "outputs": [
    {
     "data": {
      "text/plain": [
       "['International TV Shows', 'TV Dramas', 'TV Mysteries']"
      ]
     },
     "execution_count": 19,
     "metadata": {},
     "output_type": "execute_result"
    }
   ],
   "source": [
    "# we could get the list of strings stripped of white-space, just use ', ' with a space after , when you call split\n",
    "# the issue caomes when there is no space, so to be safe use split by ','\n",
    "df['listed_in'].apply(lambda x:x.split(', '))[2]"
   ]
  },
  {
   "cell_type": "markdown",
   "metadata": {},
   "source": [
    "## Question : What are the different types available and how many of them ?"
   ]
  },
  {
   "cell_type": "code",
   "execution_count": 20,
   "metadata": {},
   "outputs": [
    {
     "data": {
      "text/plain": [
       "Movie      6129\n",
       "TV Show    2676\n",
       "Name: type, dtype: int64"
      ]
     },
     "execution_count": 20,
     "metadata": {},
     "output_type": "execute_result"
    }
   ],
   "source": [
    "df['type'].value_counts()"
   ]
  },
  {
   "cell_type": "markdown",
   "metadata": {},
   "source": [
    "### There are 2 types: 6129 movies and 2676 TV Show's. "
   ]
  },
  {
   "cell_type": "markdown",
   "metadata": {},
   "source": [
    "## Question : Which countries have the highest number of shows/movies on Netflix?"
   ]
  },
  {
   "cell_type": "code",
   "execution_count": 24,
   "metadata": {},
   "outputs": [
    {
     "data": {
      "text/plain": [
       "country\n",
       ", France, Algeria                                       1\n",
       ", South Korea                                           1\n",
       "Argentina                                              56\n",
       "Argentina, Brazil, France, Poland, Germany, Denmark     1\n",
       "Argentina, Chile                                        2\n",
       "                                                       ..\n",
       "Venezuela                                               1\n",
       "Venezuela, Colombia                                     1\n",
       "Vietnam                                                 7\n",
       "West Germany                                            1\n",
       "Zimbabwe                                                1\n",
       "Name: type, Length: 748, dtype: int64"
      ]
     },
     "execution_count": 24,
     "metadata": {},
     "output_type": "execute_result"
    }
   ],
   "source": [
    "# this is not the correct amount\n",
    "df.groupby('country').count()['type']"
   ]
  },
  {
   "cell_type": "code",
   "execution_count": 25,
   "metadata": {},
   "outputs": [
    {
     "data": {
      "text/plain": [
       "United States                             2818\n",
       "India                                      972\n",
       "United Kingdom                             418\n",
       "Japan                                      245\n",
       "South Korea                                199\n",
       "                                          ... \n",
       "Romania, Bulgaria, Hungary                   1\n",
       "Uruguay, Guatemala                           1\n",
       "France, Senegal, Belgium                     1\n",
       "Mexico, United States, Spain, Colombia       1\n",
       "United Arab Emirates, Jordan                 1\n",
       "Name: country, Length: 748, dtype: int64"
      ]
     },
     "execution_count": 25,
     "metadata": {},
     "output_type": "execute_result"
    }
   ],
   "source": [
    "# there are some rows with multiple countries\n",
    "df['country'].value_counts()"
   ]
  },
  {
   "cell_type": "code",
   "execution_count": 26,
   "metadata": {},
   "outputs": [
    {
     "data": {
      "text/plain": [
       "False    7974\n",
       "True      831\n",
       "Name: country, dtype: int64"
      ]
     },
     "execution_count": 26,
     "metadata": {},
     "output_type": "execute_result"
    }
   ],
   "source": [
    "df['country'].isna().value_counts()"
   ]
  },
  {
   "cell_type": "code",
   "execution_count": 27,
   "metadata": {},
   "outputs": [],
   "source": [
    "# first lets remove the nans for ease of analysis\n",
    "df['country'].fillna('not available', inplace=True)"
   ]
  },
  {
   "cell_type": "code",
   "execution_count": 28,
   "metadata": {},
   "outputs": [
    {
     "data": {
      "text/plain": [
       "0"
      ]
     },
     "execution_count": 28,
     "metadata": {},
     "output_type": "execute_result"
    }
   ],
   "source": [
    "# confirm no more null values\n",
    "df['country'].isna().sum()"
   ]
  },
  {
   "cell_type": "code",
   "execution_count": 29,
   "metadata": {},
   "outputs": [],
   "source": [
    "df['country'].replace('','not available', inplace=True)"
   ]
  },
  {
   "cell_type": "code",
   "execution_count": 30,
   "metadata": {},
   "outputs": [
    {
     "data": {
      "text/plain": [
       "0"
      ]
     },
     "execution_count": 30,
     "metadata": {},
     "output_type": "execute_result"
    }
   ],
   "source": [
    "# removed all empty strings\n",
    "(df['country'] == '').sum()"
   ]
  },
  {
   "cell_type": "code",
   "execution_count": 31,
   "metadata": {},
   "outputs": [
    {
     "data": {
      "text/plain": [
       "False    8805\n",
       "Name: country, dtype: int64"
      ]
     },
     "execution_count": 31,
     "metadata": {},
     "output_type": "execute_result"
    }
   ],
   "source": [
    "# removed all nans\n",
    "df['country'].isna().value_counts()"
   ]
  },
  {
   "cell_type": "markdown",
   "metadata": {},
   "source": [
    "### See unusual cases :"
   ]
  },
  {
   "cell_type": "code",
   "execution_count": 32,
   "metadata": {},
   "outputs": [],
   "source": [
    "test = df['country'].str.split(', ')"
   ]
  },
  {
   "cell_type": "code",
   "execution_count": 33,
   "metadata": {},
   "outputs": [],
   "source": [
    "def check(lst):\n",
    "    for country in lst:\n",
    "        if ',' in country:\n",
    "            return True\n",
    "        else:\n",
    "            return False"
   ]
  },
  {
   "cell_type": "code",
   "execution_count": 34,
   "metadata": {},
   "outputs": [
    {
     "data": {
      "text/html": [
       "<div>\n",
       "<style scoped>\n",
       "    .dataframe tbody tr th:only-of-type {\n",
       "        vertical-align: middle;\n",
       "    }\n",
       "\n",
       "    .dataframe tbody tr th {\n",
       "        vertical-align: top;\n",
       "    }\n",
       "\n",
       "    .dataframe thead th {\n",
       "        text-align: right;\n",
       "    }\n",
       "</style>\n",
       "<table border=\"1\" class=\"dataframe\">\n",
       "  <thead>\n",
       "    <tr style=\"text-align: right;\">\n",
       "      <th></th>\n",
       "      <th>type</th>\n",
       "      <th>title</th>\n",
       "      <th>country</th>\n",
       "      <th>release_year</th>\n",
       "      <th>date_added</th>\n",
       "      <th>director</th>\n",
       "      <th>cast</th>\n",
       "      <th>rating</th>\n",
       "      <th>listed_in</th>\n",
       "      <th>description</th>\n",
       "      <th>duration</th>\n",
       "      <th>duration_hours</th>\n",
       "    </tr>\n",
       "    <tr>\n",
       "      <th>show_id</th>\n",
       "      <th></th>\n",
       "      <th></th>\n",
       "      <th></th>\n",
       "      <th></th>\n",
       "      <th></th>\n",
       "      <th></th>\n",
       "      <th></th>\n",
       "      <th></th>\n",
       "      <th></th>\n",
       "      <th></th>\n",
       "      <th></th>\n",
       "      <th></th>\n",
       "    </tr>\n",
       "  </thead>\n",
       "  <tbody>\n",
       "    <tr>\n",
       "      <th>1193</th>\n",
       "      <td>Movie</td>\n",
       "      <td>The Present</td>\n",
       "      <td>United Kingdom,</td>\n",
       "      <td>2020</td>\n",
       "      <td>2021-03-18</td>\n",
       "      <td>Farah Nabulsi</td>\n",
       "      <td>Saleh Bakri, Maryam Kanj, Maryam Kamiel Basha,...</td>\n",
       "      <td>TV-MA</td>\n",
       "      <td>Dramas, International Movies</td>\n",
       "      <td>Yusuf and his daughter set out to buy his wife...</td>\n",
       "      <td>24 min</td>\n",
       "      <td>0 hr 24 min</td>\n",
       "    </tr>\n",
       "    <tr>\n",
       "      <th>4654</th>\n",
       "      <td>Movie</td>\n",
       "      <td>City of Joy</td>\n",
       "      <td>United States,</td>\n",
       "      <td>2018</td>\n",
       "      <td>2018-09-07</td>\n",
       "      <td>Madeleine Gavin</td>\n",
       "      <td>NaN</td>\n",
       "      <td>TV-MA</td>\n",
       "      <td>Documentaries</td>\n",
       "      <td>Women who've been sexually brutalized in war-t...</td>\n",
       "      <td>77 min</td>\n",
       "      <td>1 hr 17 min</td>\n",
       "    </tr>\n",
       "    <tr>\n",
       "      <th>5926</th>\n",
       "      <td>Movie</td>\n",
       "      <td>Virunga</td>\n",
       "      <td>United Kingdom,</td>\n",
       "      <td>2014</td>\n",
       "      <td>2014-11-07</td>\n",
       "      <td>Orlando von Einsiedel</td>\n",
       "      <td>NaN</td>\n",
       "      <td>TV-MA</td>\n",
       "      <td>Documentaries, International Movies</td>\n",
       "      <td>The Oscar-nominated true story of the rangers ...</td>\n",
       "      <td>100 min</td>\n",
       "      <td>1 hr 40 min</td>\n",
       "    </tr>\n",
       "    <tr>\n",
       "      <th>7008</th>\n",
       "      <td>Movie</td>\n",
       "      <td>Hotel Pacific</td>\n",
       "      <td>Poland,</td>\n",
       "      <td>1975</td>\n",
       "      <td>2019-10-01</td>\n",
       "      <td>Janusz Majewski</td>\n",
       "      <td>Marek Kondrat, Roman Wilhelmi, Roman Skamene, ...</td>\n",
       "      <td>TV-MA</td>\n",
       "      <td>Classic Movies, Dramas, International Movies</td>\n",
       "      <td>A motivated teen strives to rise from dishwash...</td>\n",
       "      <td>96 min</td>\n",
       "      <td>1 hr 36 min</td>\n",
       "    </tr>\n",
       "  </tbody>\n",
       "</table>\n",
       "</div>"
      ],
      "text/plain": [
       "          type          title          country  release_year date_added  \\\n",
       "show_id                                                                   \n",
       "1193     Movie    The Present  United Kingdom,          2020 2021-03-18   \n",
       "4654     Movie    City of Joy   United States,          2018 2018-09-07   \n",
       "5926     Movie        Virunga  United Kingdom,          2014 2014-11-07   \n",
       "7008     Movie  Hotel Pacific          Poland,          1975 2019-10-01   \n",
       "\n",
       "                      director  \\\n",
       "show_id                          \n",
       "1193             Farah Nabulsi   \n",
       "4654           Madeleine Gavin   \n",
       "5926     Orlando von Einsiedel   \n",
       "7008           Janusz Majewski   \n",
       "\n",
       "                                                      cast rating  \\\n",
       "show_id                                                             \n",
       "1193     Saleh Bakri, Maryam Kanj, Maryam Kamiel Basha,...  TV-MA   \n",
       "4654                                                   NaN  TV-MA   \n",
       "5926                                                   NaN  TV-MA   \n",
       "7008     Marek Kondrat, Roman Wilhelmi, Roman Skamene, ...  TV-MA   \n",
       "\n",
       "                                            listed_in  \\\n",
       "show_id                                                 \n",
       "1193                     Dramas, International Movies   \n",
       "4654                                    Documentaries   \n",
       "5926              Documentaries, International Movies   \n",
       "7008     Classic Movies, Dramas, International Movies   \n",
       "\n",
       "                                               description duration  \\\n",
       "show_id                                                               \n",
       "1193     Yusuf and his daughter set out to buy his wife...   24 min   \n",
       "4654     Women who've been sexually brutalized in war-t...   77 min   \n",
       "5926     The Oscar-nominated true story of the rangers ...  100 min   \n",
       "7008     A motivated teen strives to rise from dishwash...   96 min   \n",
       "\n",
       "        duration_hours  \n",
       "show_id                 \n",
       "1193       0 hr 24 min  \n",
       "4654       1 hr 17 min  \n",
       "5926       1 hr 40 min  \n",
       "7008       1 hr 36 min  "
      ]
     },
     "execution_count": 34,
     "metadata": {},
     "output_type": "execute_result"
    }
   ],
   "source": [
    "df[test.apply(lambda x: check(x))]"
   ]
  },
  {
   "cell_type": "markdown",
   "metadata": {},
   "source": [
    "### it is clear from the above results, that if we had used ', ' with a space to split the string, we would have got the wrong results because we would have both 'United Kingdom' and 'United Kingdom,' in our countries."
   ]
  },
  {
   "cell_type": "code",
   "execution_count": 35,
   "metadata": {},
   "outputs": [],
   "source": [
    "countries = df['country'].apply(lambda x:x.split(','))"
   ]
  },
  {
   "cell_type": "code",
   "execution_count": 36,
   "metadata": {},
   "outputs": [],
   "source": [
    "countries = countries.apply(lambda x:remove_white(x))"
   ]
  },
  {
   "cell_type": "code",
   "execution_count": 37,
   "metadata": {},
   "outputs": [],
   "source": [
    "unique_countries = set()"
   ]
  },
  {
   "cell_type": "code",
   "execution_count": 38,
   "metadata": {},
   "outputs": [
    {
     "data": {
      "text/plain": [
       "show_id\n",
       "1       None\n",
       "2       None\n",
       "3       None\n",
       "4       None\n",
       "5       None\n",
       "        ... \n",
       "8803    None\n",
       "8804    None\n",
       "8805    None\n",
       "8806    None\n",
       "8807    None\n",
       "Name: country, Length: 8805, dtype: object"
      ]
     },
     "execution_count": 38,
     "metadata": {},
     "output_type": "execute_result"
    }
   ],
   "source": [
    "countries.apply(lambda x:push_to_set(x, unique_countries))"
   ]
  },
  {
   "cell_type": "code",
   "execution_count": 39,
   "metadata": {},
   "outputs": [],
   "source": [
    "# unique_countries\n",
    "\n",
    "# {'',\n",
    "#  'Afghanistan',\n",
    "#  'Albania',\n",
    "#  'Algeria',\n",
    "#  'Angola',\n",
    "#  'Argentina',\n",
    "#  'Armenia',\n",
    "#  'Australia',"
   ]
  },
  {
   "cell_type": "code",
   "execution_count": 40,
   "metadata": {
    "scrolled": true
   },
   "outputs": [],
   "source": [
    "country_dict = {key:0 for key in unique_countries}"
   ]
  },
  {
   "cell_type": "code",
   "execution_count": 41,
   "metadata": {},
   "outputs": [],
   "source": [
    "# country_dict\n",
    "\n",
    "# {'South Africa': 64,\n",
    "#  'Philippines': 83,\n",
    "#  'Belgium': 90,\n",
    "#  'Puerto Rico': 1,\n",
    "#  'Zimbabwe': 3,\n",
    "#  'Cuba': 1,"
   ]
  },
  {
   "cell_type": "code",
   "execution_count": 42,
   "metadata": {},
   "outputs": [],
   "source": [
    "# remove unacessary keys\n",
    "del country_dict['']"
   ]
  },
  {
   "cell_type": "code",
   "execution_count": 43,
   "metadata": {},
   "outputs": [],
   "source": [
    "del country_dict['not available']"
   ]
  },
  {
   "cell_type": "code",
   "execution_count": 44,
   "metadata": {},
   "outputs": [],
   "source": [
    "def update_dict(lst, dict_name):\n",
    "    try:\n",
    "        for i in lst:\n",
    "                dict_name[i] = dict_name[i] + 1  \n",
    "    except:\n",
    "        pass"
   ]
  },
  {
   "cell_type": "code",
   "execution_count": 45,
   "metadata": {},
   "outputs": [
    {
     "data": {
      "text/plain": [
       "show_id\n",
       "1       None\n",
       "2       None\n",
       "3       None\n",
       "4       None\n",
       "5       None\n",
       "        ... \n",
       "8803    None\n",
       "8804    None\n",
       "8805    None\n",
       "8806    None\n",
       "8807    None\n",
       "Name: country, Length: 8805, dtype: object"
      ]
     },
     "execution_count": 45,
     "metadata": {},
     "output_type": "execute_result"
    }
   ],
   "source": [
    "countries.apply(lambda x:update_dict(x, country_dict))"
   ]
  },
  {
   "cell_type": "code",
   "execution_count": 46,
   "metadata": {},
   "outputs": [],
   "source": [
    "# country_dict\n",
    "\n",
    "# {'South Africa': 62,\n",
    "#  'Philippines': 83,\n",
    "#  'Belgium': 90,\n",
    "#  'Puerto Rico': 1,\n",
    "#  'Zimbabwe': 3,\n",
    "#  'Cuba': 1,\n",
    "#  'Australia': 160,\n",
    "#  'Pakistan': 24,"
   ]
  },
  {
   "cell_type": "code",
   "execution_count": 47,
   "metadata": {},
   "outputs": [
    {
     "data": {
      "text/html": [
       "<div>\n",
       "<style scoped>\n",
       "    .dataframe tbody tr th:only-of-type {\n",
       "        vertical-align: middle;\n",
       "    }\n",
       "\n",
       "    .dataframe tbody tr th {\n",
       "        vertical-align: top;\n",
       "    }\n",
       "\n",
       "    .dataframe thead th {\n",
       "        text-align: right;\n",
       "    }\n",
       "</style>\n",
       "<table border=\"1\" class=\"dataframe\">\n",
       "  <thead>\n",
       "    <tr style=\"text-align: right;\">\n",
       "      <th></th>\n",
       "      <th>Country</th>\n",
       "      <th>Count</th>\n",
       "    </tr>\n",
       "  </thead>\n",
       "  <tbody>\n",
       "    <tr>\n",
       "      <th>0</th>\n",
       "      <td>Germany</td>\n",
       "      <td>226</td>\n",
       "    </tr>\n",
       "    <tr>\n",
       "      <th>1</th>\n",
       "      <td>West Germany</td>\n",
       "      <td>5</td>\n",
       "    </tr>\n",
       "    <tr>\n",
       "      <th>2</th>\n",
       "      <td>Kenya</td>\n",
       "      <td>6</td>\n",
       "    </tr>\n",
       "    <tr>\n",
       "      <th>3</th>\n",
       "      <td>Armenia</td>\n",
       "      <td>1</td>\n",
       "    </tr>\n",
       "    <tr>\n",
       "      <th>4</th>\n",
       "      <td>Turkey</td>\n",
       "      <td>113</td>\n",
       "    </tr>\n",
       "  </tbody>\n",
       "</table>\n",
       "</div>"
      ],
      "text/plain": [
       "        Country  Count\n",
       "0       Germany    226\n",
       "1  West Germany      5\n",
       "2         Kenya      6\n",
       "3       Armenia      1\n",
       "4        Turkey    113"
      ]
     },
     "execution_count": 47,
     "metadata": {},
     "output_type": "execute_result"
    }
   ],
   "source": [
    "pop_country = pd.DataFrame(list(country_dict.items()), columns=['Country','Count'])\n",
    "pop_country.head()"
   ]
  },
  {
   "cell_type": "code",
   "execution_count": 48,
   "metadata": {},
   "outputs": [
    {
     "data": {
      "text/html": [
       "<div>\n",
       "<style scoped>\n",
       "    .dataframe tbody tr th:only-of-type {\n",
       "        vertical-align: middle;\n",
       "    }\n",
       "\n",
       "    .dataframe tbody tr th {\n",
       "        vertical-align: top;\n",
       "    }\n",
       "\n",
       "    .dataframe thead th {\n",
       "        text-align: right;\n",
       "    }\n",
       "</style>\n",
       "<table border=\"1\" class=\"dataframe\">\n",
       "  <thead>\n",
       "    <tr style=\"text-align: right;\">\n",
       "      <th></th>\n",
       "      <th>Count</th>\n",
       "    </tr>\n",
       "    <tr>\n",
       "      <th>Country</th>\n",
       "      <th></th>\n",
       "    </tr>\n",
       "  </thead>\n",
       "  <tbody>\n",
       "    <tr>\n",
       "      <th>United States</th>\n",
       "      <td>3690</td>\n",
       "    </tr>\n",
       "    <tr>\n",
       "      <th>India</th>\n",
       "      <td>1046</td>\n",
       "    </tr>\n",
       "    <tr>\n",
       "      <th>United Kingdom</th>\n",
       "      <td>805</td>\n",
       "    </tr>\n",
       "    <tr>\n",
       "      <th>Canada</th>\n",
       "      <td>445</td>\n",
       "    </tr>\n",
       "    <tr>\n",
       "      <th>France</th>\n",
       "      <td>392</td>\n",
       "    </tr>\n",
       "  </tbody>\n",
       "</table>\n",
       "</div>"
      ],
      "text/plain": [
       "                Count\n",
       "Country              \n",
       "United States    3690\n",
       "India            1046\n",
       "United Kingdom    805\n",
       "Canada            445\n",
       "France            392"
      ]
     },
     "execution_count": 48,
     "metadata": {},
     "output_type": "execute_result"
    }
   ],
   "source": [
    "pop_country.sort_values(by='Count',ascending=False).head(5).set_index('Country')"
   ]
  },
  {
   "cell_type": "code",
   "execution_count": 49,
   "metadata": {},
   "outputs": [
    {
     "data": {
      "image/png": "[encoded data removed]",
      "text/plain": [
       "<Figure size 640x480 with 1 Axes>"
      ]
     },
     "metadata": {},
     "output_type": "display_data"
    }
   ],
   "source": [
    "# Define the colors to use for the plot\n",
    "colors = sns.color_palette('pastel')[0:5]\n",
    "\n",
    "# Create a bar plot using Seaborn\n",
    "sns.barplot(x='Country', y='Count', data=pop_country.sort_values(by='Count',ascending=False).head(5), palette=colors)\n",
    "\n",
    "# Set the axis labels\n",
    "plt.xlabel('Country')\n",
    "plt.ylabel('Count')\n",
    "\n",
    "plt.title('Top 5 Popular Countries')\n",
    "\n",
    "# Rotate the x-axis labels\n",
    "plt.xticks(rotation=45)\n",
    "\n",
    "# Show the plot\n",
    "plt.show()"
   ]
  },
  {
   "cell_type": "code",
   "execution_count": 50,
   "metadata": {},
   "outputs": [
    {
     "data": {
      "text/plain": [
       "3690"
      ]
     },
     "execution_count": 50,
     "metadata": {},
     "output_type": "execute_result"
    }
   ],
   "source": [
    "# confirming solution :\n",
    "df['country'].str.contains('United States').sum()"
   ]
  },
  {
   "cell_type": "code",
   "execution_count": 51,
   "metadata": {},
   "outputs": [
    {
     "data": {
      "text/plain": [
       "805"
      ]
     },
     "execution_count": 51,
     "metadata": {},
     "output_type": "execute_result"
    }
   ],
   "source": [
    "df['country'].str.contains('United Kingdom').sum()"
   ]
  },
  {
   "cell_type": "markdown",
   "metadata": {},
   "source": [
    "### United States has the most shows/movies (3690) \n",
    "### India is ranked #2 with 1046 movies. "
   ]
  },
  {
   "cell_type": "markdown",
   "metadata": {},
   "source": [
    "## Question : What is the most common rating in the dataset?"
   ]
  },
  {
   "cell_type": "code",
   "execution_count": 52,
   "metadata": {},
   "outputs": [
    {
     "data": {
      "text/plain": [
       "TV-MA    3207\n",
       "Name: rating, dtype: int64"
      ]
     },
     "execution_count": 52,
     "metadata": {},
     "output_type": "execute_result"
    }
   ],
   "source": [
    "df['rating'].value_counts().head(1)"
   ]
  },
  {
   "cell_type": "markdown",
   "metadata": {},
   "source": [
    "### TV-MA is a rating assigned by the TV Parental Guidelines to television programs that contain mature content and may not be suitable for children under the age of 17. It stands for \"Television - Mature Audience\"."
   ]
  },
  {
   "cell_type": "markdown",
   "metadata": {},
   "source": [
    "##  Question : Which director has directed the highest number of shows/movies on Netflix?"
   ]
  },
  {
   "cell_type": "code",
   "execution_count": 53,
   "metadata": {},
   "outputs": [],
   "source": [
    "# remove nans\n",
    "df['director'].fillna('not available', inplace=True)"
   ]
  },
  {
   "cell_type": "code",
   "execution_count": 54,
   "metadata": {},
   "outputs": [
    {
     "data": {
      "text/plain": [
       "show_id\n",
       "1       Kirsten Johnson\n",
       "2         not available\n",
       "3       Julien Leclercq\n",
       "4         not available\n",
       "5         not available\n",
       "             ...       \n",
       "8803      David Fincher\n",
       "8804      not available\n",
       "8805    Ruben Fleischer\n",
       "8806       Peter Hewitt\n",
       "8807        Mozez Singh\n",
       "Name: director, Length: 8805, dtype: object"
      ]
     },
     "execution_count": 54,
     "metadata": {},
     "output_type": "execute_result"
    }
   ],
   "source": [
    "df['director']"
   ]
  },
  {
   "cell_type": "code",
   "execution_count": 55,
   "metadata": {},
   "outputs": [],
   "source": [
    "directors = df['director'].apply(lambda x:x.split(','))"
   ]
  },
  {
   "cell_type": "code",
   "execution_count": 56,
   "metadata": {},
   "outputs": [],
   "source": [
    "directors = directors.apply(lambda x:remove_white(x))"
   ]
  },
  {
   "cell_type": "code",
   "execution_count": 57,
   "metadata": {},
   "outputs": [],
   "source": [
    "unique_directors = set()"
   ]
  },
  {
   "cell_type": "code",
   "execution_count": 58,
   "metadata": {},
   "outputs": [
    {
     "data": {
      "text/plain": [
       "show_id\n",
       "1       None\n",
       "2       None\n",
       "3       None\n",
       "4       None\n",
       "5       None\n",
       "        ... \n",
       "8803    None\n",
       "8804    None\n",
       "8805    None\n",
       "8806    None\n",
       "8807    None\n",
       "Name: director, Length: 8805, dtype: object"
      ]
     },
     "execution_count": 58,
     "metadata": {},
     "output_type": "execute_result"
    }
   ],
   "source": [
    "directors.apply(lambda x:push_to_set(x, unique_directors))"
   ]
  },
  {
   "cell_type": "code",
   "execution_count": 59,
   "metadata": {},
   "outputs": [],
   "source": [
    "directors_dict = {key:0 for key in unique_directors}"
   ]
  },
  {
   "cell_type": "code",
   "execution_count": 60,
   "metadata": {},
   "outputs": [
    {
     "data": {
      "text/plain": [
       "show_id\n",
       "1       None\n",
       "2       None\n",
       "3       None\n",
       "4       None\n",
       "5       None\n",
       "        ... \n",
       "8803    None\n",
       "8804    None\n",
       "8805    None\n",
       "8806    None\n",
       "8807    None\n",
       "Name: director, Length: 8805, dtype: object"
      ]
     },
     "execution_count": 60,
     "metadata": {},
     "output_type": "execute_result"
    }
   ],
   "source": [
    "directors.apply(lambda x:update_dict(x, directors_dict))"
   ]
  },
  {
   "cell_type": "code",
   "execution_count": 61,
   "metadata": {},
   "outputs": [],
   "source": [
    "pop_directors = pd.DataFrame(list(directors_dict.items()), columns=['Director','Count'])"
   ]
  },
  {
   "cell_type": "code",
   "execution_count": 62,
   "metadata": {},
   "outputs": [
    {
     "data": {
      "text/html": [
       "<div>\n",
       "<style scoped>\n",
       "    .dataframe tbody tr th:only-of-type {\n",
       "        vertical-align: middle;\n",
       "    }\n",
       "\n",
       "    .dataframe tbody tr th {\n",
       "        vertical-align: top;\n",
       "    }\n",
       "\n",
       "    .dataframe thead th {\n",
       "        text-align: right;\n",
       "    }\n",
       "</style>\n",
       "<table border=\"1\" class=\"dataframe\">\n",
       "  <thead>\n",
       "    <tr style=\"text-align: right;\">\n",
       "      <th></th>\n",
       "      <th>Director</th>\n",
       "      <th>Count</th>\n",
       "    </tr>\n",
       "  </thead>\n",
       "  <tbody>\n",
       "    <tr>\n",
       "      <th>3114</th>\n",
       "      <td>Rajiv Chilaka</td>\n",
       "      <td>22</td>\n",
       "    </tr>\n",
       "    <tr>\n",
       "      <th>178</th>\n",
       "      <td>Jan Suter</td>\n",
       "      <td>21</td>\n",
       "    </tr>\n",
       "    <tr>\n",
       "      <th>3805</th>\n",
       "      <td>Raúl Campos</td>\n",
       "      <td>19</td>\n",
       "    </tr>\n",
       "    <tr>\n",
       "      <th>1484</th>\n",
       "      <td>Suhas Kadav</td>\n",
       "      <td>16</td>\n",
       "    </tr>\n",
       "    <tr>\n",
       "      <th>3941</th>\n",
       "      <td>Marcus Raboy</td>\n",
       "      <td>16</td>\n",
       "    </tr>\n",
       "  </tbody>\n",
       "</table>\n",
       "</div>"
      ],
      "text/plain": [
       "           Director  Count\n",
       "3114  Rajiv Chilaka     22\n",
       "178       Jan Suter     21\n",
       "3805    Raúl Campos     19\n",
       "1484    Suhas Kadav     16\n",
       "3941   Marcus Raboy     16"
      ]
     },
     "execution_count": 62,
     "metadata": {},
     "output_type": "execute_result"
    }
   ],
   "source": [
    "pop_directors.sort_values(by='Count',ascending=False).iloc[1:6]"
   ]
  },
  {
   "cell_type": "code",
   "execution_count": 63,
   "metadata": {},
   "outputs": [
    {
     "data": {
      "image/png": "[encoded data removed]",
      "text/plain": [
       "<Figure size 640x480 with 1 Axes>"
      ]
     },
     "metadata": {},
     "output_type": "display_data"
    }
   ],
   "source": [
    "# Define the colors to use for the plot\n",
    "colors = sns.color_palette('pastel')[0:5]\n",
    "\n",
    "# Create a bar plot using Seaborn\n",
    "sns.barplot(x='Director', y='Count', data=pop_directors.sort_values(by='Count',ascending=False).iloc[1:6], palette=colors)\n",
    "\n",
    "# Set the axis labels\n",
    "plt.xlabel('Director')\n",
    "plt.ylabel('Count')\n",
    "\n",
    "plt.title('Top 5 Popular Directors')\n",
    "\n",
    "# Rotate the x-axis labels\n",
    "plt.xticks(rotation=45)\n",
    "\n",
    "# Show the plot\n",
    "plt.show()"
   ]
  },
  {
   "cell_type": "markdown",
   "metadata": {},
   "source": [
    "## Confirm solutions :"
   ]
  },
  {
   "cell_type": "code",
   "execution_count": 64,
   "metadata": {},
   "outputs": [
    {
     "data": {
      "text/plain": [
       "22"
      ]
     },
     "execution_count": 64,
     "metadata": {},
     "output_type": "execute_result"
    }
   ],
   "source": [
    "df['director'].str.contains('Rajiv Chilaka').sum()"
   ]
  },
  {
   "cell_type": "code",
   "execution_count": 65,
   "metadata": {},
   "outputs": [
    {
     "data": {
      "text/plain": [
       "21"
      ]
     },
     "execution_count": 65,
     "metadata": {},
     "output_type": "execute_result"
    }
   ],
   "source": [
    "df['director'].str.contains('Jan Suter').sum()"
   ]
  },
  {
   "cell_type": "markdown",
   "metadata": {},
   "source": [
    "## Question : What is the trend of the number of shows/movies released on Netflix over the years?"
   ]
  },
  {
   "cell_type": "code",
   "execution_count": 66,
   "metadata": {},
   "outputs": [
    {
     "data": {
      "text/html": [
       "<div>\n",
       "<style scoped>\n",
       "    .dataframe tbody tr th:only-of-type {\n",
       "        vertical-align: middle;\n",
       "    }\n",
       "\n",
       "    .dataframe tbody tr th {\n",
       "        vertical-align: top;\n",
       "    }\n",
       "\n",
       "    .dataframe thead th {\n",
       "        text-align: right;\n",
       "    }\n",
       "</style>\n",
       "<table border=\"1\" class=\"dataframe\">\n",
       "  <thead>\n",
       "    <tr style=\"text-align: right;\">\n",
       "      <th></th>\n",
       "      <th></th>\n",
       "      <th>0</th>\n",
       "    </tr>\n",
       "    <tr>\n",
       "      <th>date_added</th>\n",
       "      <th>type</th>\n",
       "      <th></th>\n",
       "    </tr>\n",
       "  </thead>\n",
       "  <tbody>\n",
       "    <tr>\n",
       "      <th rowspan=\"2\" valign=\"top\">2008</th>\n",
       "      <th>Movie</th>\n",
       "      <td>1</td>\n",
       "    </tr>\n",
       "    <tr>\n",
       "      <th>TV Show</th>\n",
       "      <td>1</td>\n",
       "    </tr>\n",
       "    <tr>\n",
       "      <th>2009</th>\n",
       "      <th>Movie</th>\n",
       "      <td>2</td>\n",
       "    </tr>\n",
       "    <tr>\n",
       "      <th>2010</th>\n",
       "      <th>Movie</th>\n",
       "      <td>1</td>\n",
       "    </tr>\n",
       "    <tr>\n",
       "      <th>2011</th>\n",
       "      <th>Movie</th>\n",
       "      <td>13</td>\n",
       "    </tr>\n",
       "  </tbody>\n",
       "</table>\n",
       "</div>"
      ],
      "text/plain": [
       "                     0\n",
       "date_added type       \n",
       "2008       Movie     1\n",
       "           TV Show   1\n",
       "2009       Movie     2\n",
       "2010       Movie     1\n",
       "2011       Movie    13"
      ]
     },
     "execution_count": 66,
     "metadata": {},
     "output_type": "execute_result"
    }
   ],
   "source": [
    "# use a subset for this query\n",
    "type_df = df[['type','date_added']]\n",
    "\n",
    "# exclude nans\n",
    "type_df = type_df[type_df['date_added'].notna()]\n",
    "\n",
    "# get the year\n",
    "type_df['date_added'] = type_df['date_added'].apply(lambda x:x.year)\n",
    "\n",
    "# convert to a dataframe\n",
    "type_df = pd.DataFrame(type_df.groupby(['date_added','type']).value_counts())\n",
    "type_df.head()"
   ]
  },
  {
   "cell_type": "code",
   "execution_count": 67,
   "metadata": {},
   "outputs": [
    {
     "data": {
      "text/html": [
       "<div>\n",
       "<style scoped>\n",
       "    .dataframe tbody tr th:only-of-type {\n",
       "        vertical-align: middle;\n",
       "    }\n",
       "\n",
       "    .dataframe tbody tr th {\n",
       "        vertical-align: top;\n",
       "    }\n",
       "\n",
       "    .dataframe thead th {\n",
       "        text-align: right;\n",
       "    }\n",
       "</style>\n",
       "<table border=\"1\" class=\"dataframe\">\n",
       "  <thead>\n",
       "    <tr style=\"text-align: right;\">\n",
       "      <th></th>\n",
       "      <th>type</th>\n",
       "      <th>count</th>\n",
       "    </tr>\n",
       "    <tr>\n",
       "      <th>date_added</th>\n",
       "      <th></th>\n",
       "      <th></th>\n",
       "    </tr>\n",
       "  </thead>\n",
       "  <tbody>\n",
       "    <tr>\n",
       "      <th>2008</th>\n",
       "      <td>Movie</td>\n",
       "      <td>1</td>\n",
       "    </tr>\n",
       "    <tr>\n",
       "      <th>2008</th>\n",
       "      <td>TV Show</td>\n",
       "      <td>1</td>\n",
       "    </tr>\n",
       "    <tr>\n",
       "      <th>2009</th>\n",
       "      <td>Movie</td>\n",
       "      <td>2</td>\n",
       "    </tr>\n",
       "    <tr>\n",
       "      <th>2010</th>\n",
       "      <td>Movie</td>\n",
       "      <td>1</td>\n",
       "    </tr>\n",
       "    <tr>\n",
       "      <th>2011</th>\n",
       "      <td>Movie</td>\n",
       "      <td>13</td>\n",
       "    </tr>\n",
       "  </tbody>\n",
       "</table>\n",
       "</div>"
      ],
      "text/plain": [
       "               type  count\n",
       "date_added                \n",
       "2008          Movie      1\n",
       "2008        TV Show      1\n",
       "2009          Movie      2\n",
       "2010          Movie      1\n",
       "2011          Movie     13"
      ]
     },
     "execution_count": 67,
     "metadata": {},
     "output_type": "execute_result"
    }
   ],
   "source": [
    "type_df = type_df.rename(columns={0: 'count'})\n",
    "type_df = type_df.reset_index().set_index('date_added')\n",
    "type_df.head()"
   ]
  },
  {
   "cell_type": "code",
   "execution_count": 68,
   "metadata": {},
   "outputs": [
    {
     "data": {
      "image/png": "[encoded data removed]",
      "text/plain": [
       "<Figure size 640x480 with 1 Axes>"
      ]
     },
     "metadata": {},
     "output_type": "display_data"
    }
   ],
   "source": [
    "# Create a new figure and axes\n",
    "fig, ax = plt.subplots()\n",
    "\n",
    "# Filter the DataFrame by 'Movie' type and plot the data\n",
    "type_df[type_df['type'] == 'Movie'].plot(ax=ax, y='count', label='Movie')\n",
    "\n",
    "# Filter the DataFrame by 'TV Show' type and plot the data on the same axes\n",
    "type_df[type_df['type'] == 'TV Show'].plot(ax=ax, y='count', label='TV Show')\n",
    "\n",
    "# Add a legend to the plot\n",
    "ax.legend()\n",
    "\n",
    "plt.ylabel('No of titles')\n",
    "plt.xlabel('Year added to Netflix')\n",
    "\n",
    "# Show the plot\n",
    "plt.show()\n"
   ]
  },
  {
   "cell_type": "markdown",
   "metadata": {},
   "source": [
    "### Based on the results of the analysis, we can see that the number of TV shows released on Netflix has been increasing steadily over the years, while the number of movies has been relatively stable. In the early years of Netflix (up to around 2010), the number of movies released was higher than the number of TV shows, but from around 2012 onwards, the number of TV shows released started to exceed the number of movies. The difference between the number of TV shows and movies has continued to grow over the years, with the number of TV shows released in 2020 being more than 4 times the number of movies released in the same year.\n",
    "\n",
    "### Overall, the data suggests that Netflix has been increasingly focusing on producing and releasing more TV shows in recent years, possibly due to their popularity and the changing preferences of their audience. However, Netflix is still producing and releasing a significant number of movies each year, and is likely to continue to do so in the future."
   ]
  },
  {
   "cell_type": "markdown",
   "metadata": {},
   "source": [
    "## Question : What are the top 10 most common genres of shows/movies on Netflix?\n"
   ]
  },
  {
   "cell_type": "code",
   "execution_count": 69,
   "metadata": {},
   "outputs": [],
   "source": [
    "# we already have a set called unique_listed_in where we have all the unique genres"
   ]
  },
  {
   "cell_type": "code",
   "execution_count": 70,
   "metadata": {},
   "outputs": [],
   "source": [
    "listed_dict = {key:0 for key in unique_listed_in}"
   ]
  },
  {
   "cell_type": "code",
   "execution_count": 71,
   "metadata": {},
   "outputs": [
    {
     "data": {
      "text/plain": [
       "show_id\n",
       "1       None\n",
       "2       None\n",
       "3       None\n",
       "4       None\n",
       "5       None\n",
       "        ... \n",
       "8803    None\n",
       "8804    None\n",
       "8805    None\n",
       "8806    None\n",
       "8807    None\n",
       "Name: listed_in, Length: 8805, dtype: object"
      ]
     },
     "execution_count": 71,
     "metadata": {},
     "output_type": "execute_result"
    }
   ],
   "source": [
    "listed_in.apply(lambda x:update_dict(x, listed_dict))"
   ]
  },
  {
   "cell_type": "code",
   "execution_count": 72,
   "metadata": {},
   "outputs": [],
   "source": [
    "pop_genres = pd.DataFrame(list(listed_dict.items()), columns=['Genre','Count'])"
   ]
  },
  {
   "cell_type": "code",
   "execution_count": 73,
   "metadata": {},
   "outputs": [
    {
     "data": {
      "image/png": "[encoded data removed]",
      "text/plain": [
       "<Figure size 640x480 with 1 Axes>"
      ]
     },
     "metadata": {},
     "output_type": "display_data"
    }
   ],
   "source": [
    "# Define the colors to use for the plot\n",
    "colors = sns.color_palette('pastel')[0:5]\n",
    "\n",
    "# Create a bar plot using Seaborn\n",
    "sns.barplot(x='Genre', y='Count', data=pop_genres.sort_values(by='Count', ascending=False).head(5), palette=colors)\n",
    "\n",
    "# Set the axis labels\n",
    "plt.xlabel('Genre')\n",
    "plt.ylabel('Count')\n",
    "\n",
    "plt.title('Top 5 Popular Genres')\n",
    "\n",
    "# Rotate the x-axis labels\n",
    "plt.xticks(rotation=45)\n",
    "\n",
    "# Show the plot\n",
    "plt.show()"
   ]
  },
  {
   "cell_type": "code",
   "execution_count": 78,
   "metadata": {},
   "outputs": [],
   "source": [
    "# Here are some questions to analyze the Netflix dataset, starting from intermediate and working our way up to complex:\n",
    "\n",
    "# Intermediate level questions:\n",
    "\n",
    "# Advanced level questions:\n",
    "\n",
    "#     Are there any correlations between the rating, duration, and release year of shows/movies on Netflix?\n",
    "#     Which actor/actress has appeared in the highest number of shows/movies on Netflix?\n",
    "\n",
    "# Complex level questions:\n",
    "# 11. Can we predict the rating of a show/movie on Netflix based on its genre, duration, and release year?\n",
    "\n",
    "#     Are there any significant differences in the ratings of shows/movies on Netflix that are directed by male versus female directors?\n",
    "#     What are the most common words used in the titles and descriptions of shows/movies on Netflix?\n",
    "#     Can we identify any trends or patterns in the genres and ratings of shows/movies on Netflix for different countries?\n",
    "#     Are there any factors that significantly impact the popularity (i.e., the number of views) of shows/movies on Netflix?"
   ]
  },
  {
   "cell_type": "markdown",
   "metadata": {},
   "source": [
    "## in which month netflix addes the most content :"
   ]
  },
  {
   "cell_type": "code",
   "execution_count": 109,
   "metadata": {},
   "outputs": [],
   "source": [
    "month_df = df[['date_added','type']].copy()\n",
    "month_df.dropna(inplace=True)\n",
    "month_df['date_added'] = month_df['date_added'].apply(lambda x:int(x.month))"
   ]
  },
  {
   "cell_type": "code",
   "execution_count": 112,
   "metadata": {},
   "outputs": [
    {
     "data": {
      "text/html": [
       "<div>\n",
       "<style scoped>\n",
       "    .dataframe tbody tr th:only-of-type {\n",
       "        vertical-align: middle;\n",
       "    }\n",
       "\n",
       "    .dataframe tbody tr th {\n",
       "        vertical-align: top;\n",
       "    }\n",
       "\n",
       "    .dataframe thead th {\n",
       "        text-align: right;\n",
       "    }\n",
       "</style>\n",
       "<table border=\"1\" class=\"dataframe\">\n",
       "  <thead>\n",
       "    <tr style=\"text-align: right;\">\n",
       "      <th></th>\n",
       "      <th>date_added</th>\n",
       "      <th>type</th>\n",
       "    </tr>\n",
       "    <tr>\n",
       "      <th>show_id</th>\n",
       "      <th></th>\n",
       "      <th></th>\n",
       "    </tr>\n",
       "  </thead>\n",
       "  <tbody>\n",
       "    <tr>\n",
       "      <th>1</th>\n",
       "      <td>9</td>\n",
       "      <td>Movie</td>\n",
       "    </tr>\n",
       "    <tr>\n",
       "      <th>2</th>\n",
       "      <td>9</td>\n",
       "      <td>TV Show</td>\n",
       "    </tr>\n",
       "    <tr>\n",
       "      <th>3</th>\n",
       "      <td>9</td>\n",
       "      <td>TV Show</td>\n",
       "    </tr>\n",
       "    <tr>\n",
       "      <th>4</th>\n",
       "      <td>9</td>\n",
       "      <td>TV Show</td>\n",
       "    </tr>\n",
       "    <tr>\n",
       "      <th>5</th>\n",
       "      <td>9</td>\n",
       "      <td>TV Show</td>\n",
       "    </tr>\n",
       "  </tbody>\n",
       "</table>\n",
       "</div>"
      ],
      "text/plain": [
       "         date_added     type\n",
       "show_id                     \n",
       "1                 9    Movie\n",
       "2                 9  TV Show\n",
       "3                 9  TV Show\n",
       "4                 9  TV Show\n",
       "5                 9  TV Show"
      ]
     },
     "execution_count": 112,
     "metadata": {},
     "output_type": "execute_result"
    }
   ],
   "source": [
    "month_df.head()"
   ]
  },
  {
   "cell_type": "code",
   "execution_count": 117,
   "metadata": {
    "scrolled": false
   },
   "outputs": [],
   "source": [
    "month_grp = pd.DataFrame(month_df.groupby(['date_added','type']).\n",
    "                         value_counts()).rename(columns={0:'count'})"
   ]
  },
  {
   "cell_type": "code",
   "execution_count": 120,
   "metadata": {},
   "outputs": [
    {
     "data": {
      "text/plain": [
       "<AxesSubplot:xlabel='date_added,type'>"
      ]
     },
     "execution_count": 120,
     "metadata": {},
     "output_type": "execute_result"
    },
    {
     "data": {
      "image/png": "[encoded data removed]",
      "text/plain": [
       "<Figure size 640x480 with 1 Axes>"
      ]
     },
     "metadata": {},
     "output_type": "display_data"
    }
   ],
   "source": [
    "month_grp.plot(kind='bar',x=)"
   ]
  },
  {
   "cell_type": "code",
   "execution_count": null,
   "metadata": {},
   "outputs": [],
   "source": []
  }
 ],
 "metadata": {
  "kernelspec": {
   "display_name": "Python 3 (ipykernel)",
   "language": "python",
   "name": "python3"
  },
  "language_info": {
   "codemirror_mode": {
    "name": "ipython",
    "version": 3
   },
   "file_extension": ".py",
   "mimetype": "text/x-python",
   "name": "python",
   "nbconvert_exporter": "python",
   "pygments_lexer": "ipython3",
   "version": "3.9.13"
  }
 },
 "nbformat": 4,
 "nbformat_minor": 4
}
