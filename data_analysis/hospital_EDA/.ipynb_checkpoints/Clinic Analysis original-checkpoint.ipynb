{
 "cells": [
  {
   "cell_type": "code",
   "execution_count": 2,
   "metadata": {},
   "outputs": [],
   "source": [
    "import pandas as pd\n",
    "import matplotlib.pyplot as plt\n",
    "import numpy as np"
   ]
  },
  {
   "cell_type": "code",
   "execution_count": 3,
   "metadata": {},
   "outputs": [
    {
     "data": {
      "text/html": [
       "<div>\n",
       "<style scoped>\n",
       "    .dataframe tbody tr th:only-of-type {\n",
       "        vertical-align: middle;\n",
       "    }\n",
       "\n",
       "    .dataframe tbody tr th {\n",
       "        vertical-align: top;\n",
       "    }\n",
       "\n",
       "    .dataframe thead th {\n",
       "        text-align: right;\n",
       "    }\n",
       "</style>\n",
       "<table border=\"1\" class=\"dataframe\">\n",
       "  <thead>\n",
       "    <tr style=\"text-align: right;\">\n",
       "      <th></th>\n",
       "      <th>Date</th>\n",
       "      <th>Medication Revenue</th>\n",
       "      <th>Lab Cost</th>\n",
       "      <th>Consultation Revenue</th>\n",
       "      <th>Doctor Type</th>\n",
       "      <th>Financial Class</th>\n",
       "      <th>Patient Type</th>\n",
       "      <th>Entry Time</th>\n",
       "      <th>Post-Consultation Time</th>\n",
       "      <th>Completion Time</th>\n",
       "      <th>Doctor</th>\n",
       "      <th>Patient ID</th>\n",
       "    </tr>\n",
       "  </thead>\n",
       "  <tbody>\n",
       "    <tr>\n",
       "      <th>0</th>\n",
       "      <td>11/4/2019 0:00</td>\n",
       "      <td>$1,183.22</td>\n",
       "      <td>$10.00</td>\n",
       "      <td>$20.17</td>\n",
       "      <td>ANCHOR</td>\n",
       "      <td>HMO</td>\n",
       "      <td>OUTPATIENT</td>\n",
       "      <td>8:35:45</td>\n",
       "      <td>9:17:54</td>\n",
       "      <td>9:29:46</td>\n",
       "      <td>DR05350C4</td>\n",
       "      <td>C10001</td>\n",
       "    </tr>\n",
       "    <tr>\n",
       "      <th>1</th>\n",
       "      <td>11/6/2019 0:00</td>\n",
       "      <td>$738.48</td>\n",
       "      <td>$-</td>\n",
       "      <td>$15.00</td>\n",
       "      <td>ANCHOR</td>\n",
       "      <td>INSURANCE</td>\n",
       "      <td>OUTPATIENT</td>\n",
       "      <td>19:19:16</td>\n",
       "      <td>21:02:36</td>\n",
       "      <td>21:24:07</td>\n",
       "      <td>DR09451Z4</td>\n",
       "      <td>C10002</td>\n",
       "    </tr>\n",
       "    <tr>\n",
       "      <th>2</th>\n",
       "      <td>11/2/2019 0:00</td>\n",
       "      <td>$660.00</td>\n",
       "      <td>$-</td>\n",
       "      <td>$21.17</td>\n",
       "      <td>ANCHOR</td>\n",
       "      <td>HMO</td>\n",
       "      <td>OUTPATIENT</td>\n",
       "      <td>10:46:52</td>\n",
       "      <td>11:56:25</td>\n",
       "      <td>12:06:28</td>\n",
       "      <td>DR17400I4</td>\n",
       "      <td>C10003</td>\n",
       "    </tr>\n",
       "    <tr>\n",
       "      <th>3</th>\n",
       "      <td>11/6/2019 0:00</td>\n",
       "      <td>$600.00</td>\n",
       "      <td>$-</td>\n",
       "      <td>$-</td>\n",
       "      <td>ANCHOR</td>\n",
       "      <td>MEDICARE</td>\n",
       "      <td>OUTPATIENT</td>\n",
       "      <td>9:38:34</td>\n",
       "      <td>10:55:50</td>\n",
       "      <td>10:58:02</td>\n",
       "      <td>DR09451Z4</td>\n",
       "      <td>C10004</td>\n",
       "    </tr>\n",
       "    <tr>\n",
       "      <th>4</th>\n",
       "      <td>11/1/2019 0:00</td>\n",
       "      <td>$591.60</td>\n",
       "      <td>$-</td>\n",
       "      <td>$12.00</td>\n",
       "      <td>ANCHOR</td>\n",
       "      <td>INSURANCE</td>\n",
       "      <td>OUTPATIENT</td>\n",
       "      <td>11:16:21</td>\n",
       "      <td>12:06:49</td>\n",
       "      <td>12:06:54</td>\n",
       "      <td>DR15154H4</td>\n",
       "      <td>C10005</td>\n",
       "    </tr>\n",
       "  </tbody>\n",
       "</table>\n",
       "</div>"
      ],
      "text/plain": [
       "             Date  Medication Revenue    Lab Cost   Consultation Revenue   \\\n",
       "0  11/4/2019 0:00           $1,183.22      $10.00                 $20.17    \n",
       "1  11/6/2019 0:00             $738.48        $-                   $15.00    \n",
       "2  11/2/2019 0:00             $660.00        $-                   $21.17    \n",
       "3  11/6/2019 0:00             $600.00        $-                     $-      \n",
       "4  11/1/2019 0:00             $591.60        $-                   $12.00    \n",
       "\n",
       "  Doctor Type Financial Class Patient Type Entry Time Post-Consultation Time  \\\n",
       "0      ANCHOR             HMO   OUTPATIENT    8:35:45                9:17:54   \n",
       "1      ANCHOR       INSURANCE   OUTPATIENT   19:19:16               21:02:36   \n",
       "2      ANCHOR             HMO   OUTPATIENT   10:46:52               11:56:25   \n",
       "3      ANCHOR        MEDICARE   OUTPATIENT    9:38:34               10:55:50   \n",
       "4      ANCHOR       INSURANCE   OUTPATIENT   11:16:21               12:06:49   \n",
       "\n",
       "  Completion Time     Doctor Patient ID  \n",
       "0         9:29:46  DR05350C4     C10001  \n",
       "1        21:24:07  DR09451Z4     C10002  \n",
       "2        12:06:28  DR17400I4     C10003  \n",
       "3        10:58:02  DR09451Z4     C10004  \n",
       "4        12:06:54  DR15154H4     C10005  "
      ]
     },
     "execution_count": 3,
     "metadata": {},
     "output_type": "execute_result"
    }
   ],
   "source": [
    "df = pd.read_csv('/Users/alenjose/Desktop/data/hospital_EDA/hospital_data.csv')\n",
    "df.head()"
   ]
  },
  {
   "cell_type": "code",
   "execution_count": 4,
   "metadata": {},
   "outputs": [
    {
     "data": {
      "text/plain": [
       "Index(['Date', ' Medication Revenue ', '  Lab Cost ', ' Consultation Revenue ',\n",
       "       'Doctor Type', 'Financial Class', 'Patient Type', 'Entry Time',\n",
       "       'Post-Consultation Time', 'Completion Time', 'Doctor', 'Patient ID'],\n",
       "      dtype='object')"
      ]
     },
     "execution_count": 4,
     "metadata": {},
     "output_type": "execute_result"
    }
   ],
   "source": [
    "df.columns"
   ]
  },
  {
   "cell_type": "code",
   "execution_count": 4,
   "metadata": {},
   "outputs": [
    {
     "data": {
      "text/plain": [
       "Index(['Date', 'Medication Revenue', 'Lab Cost', 'Consultation Revenue',\n",
       "       'Doctor Type', 'Financial Class', 'Patient Type', 'Entry Time',\n",
       "       'Post-Consultation Time', 'Completion Time', 'Doctor', 'Patient ID'],\n",
       "      dtype='object')"
      ]
     },
     "execution_count": 4,
     "metadata": {},
     "output_type": "execute_result"
    }
   ],
   "source": [
    "df.columns = df.columns.str.strip()\n",
    "df.columns"
   ]
  },
  {
   "cell_type": "code",
   "execution_count": 5,
   "metadata": {},
   "outputs": [
    {
     "data": {
      "text/plain": [
       "Date                      object\n",
       "Medication Revenue        object\n",
       "Lab Cost                  object\n",
       "Consultation Revenue      object\n",
       "Doctor Type               object\n",
       "Financial Class           object\n",
       "Patient Type              object\n",
       "Entry Time                object\n",
       "Post-Consultation Time    object\n",
       "Completion Time           object\n",
       "Doctor                    object\n",
       "Patient ID                object\n",
       "dtype: object"
      ]
     },
     "execution_count": 5,
     "metadata": {},
     "output_type": "execute_result"
    }
   ],
   "source": [
    "df.dtypes"
   ]
  },
  {
   "cell_type": "code",
   "execution_count": 6,
   "metadata": {},
   "outputs": [
    {
     "data": {
      "text/plain": [
       "Date                      datetime64[ns]\n",
       "Medication Revenue                object\n",
       "Lab Cost                          object\n",
       "Consultation Revenue              object\n",
       "Doctor Type                       object\n",
       "Financial Class                   object\n",
       "Patient Type                      object\n",
       "Entry Time                datetime64[ns]\n",
       "Post-Consultation Time    datetime64[ns]\n",
       "Completion Time           datetime64[ns]\n",
       "Doctor                            object\n",
       "Patient ID                        object\n",
       "dtype: object"
      ]
     },
     "execution_count": 6,
     "metadata": {},
     "output_type": "execute_result"
    }
   ],
   "source": [
    "df['Date'] = pd.to_datetime(df['Date'])\n",
    "df['Post-Consultation Time'] = pd.to_datetime(df['Post-Consultation Time'])\n",
    "df['Entry Time'] = pd.to_datetime(df['Entry Time'])\n",
    "df['Completion Time'] = pd.to_datetime(df['Completion Time'])\n",
    "\n",
    "df.dtypes"
   ]
  },
  {
   "cell_type": "code",
   "execution_count": 7,
   "metadata": {},
   "outputs": [
    {
     "data": {
      "text/plain": [
       "'$1,183.22 '"
      ]
     },
     "execution_count": 7,
     "metadata": {},
     "output_type": "execute_result"
    }
   ],
   "source": [
    "# there is a space\n",
    "df.loc[0,'Medication Revenue']"
   ]
  },
  {
   "cell_type": "code",
   "execution_count": 8,
   "metadata": {},
   "outputs": [],
   "source": [
    "def clean_text(x):\n",
    "    x = x.replace('$','')\n",
    "    x = x.replace(',','')\n",
    "    x = x.replace('-','')\n",
    "    x = x.strip()\n",
    "    x = pd.to_numeric(x)\n",
    "    return x"
   ]
  },
  {
   "cell_type": "code",
   "execution_count": 9,
   "metadata": {},
   "outputs": [],
   "source": [
    "df['Medication Revenue'] = df['Medication Revenue'].apply(clean_text)\n",
    "df['Lab Cost'] = df['Lab Cost'].apply(clean_text)\n",
    "df['Consultation Revenue'] = df['Consultation Revenue'].apply(clean_text)"
   ]
  },
  {
   "cell_type": "code",
   "execution_count": 10,
   "metadata": {},
   "outputs": [
    {
     "data": {
      "text/html": [
       "<div>\n",
       "<style scoped>\n",
       "    .dataframe tbody tr th:only-of-type {\n",
       "        vertical-align: middle;\n",
       "    }\n",
       "\n",
       "    .dataframe tbody tr th {\n",
       "        vertical-align: top;\n",
       "    }\n",
       "\n",
       "    .dataframe thead th {\n",
       "        text-align: right;\n",
       "    }\n",
       "</style>\n",
       "<table border=\"1\" class=\"dataframe\">\n",
       "  <thead>\n",
       "    <tr style=\"text-align: right;\">\n",
       "      <th></th>\n",
       "      <th>Date</th>\n",
       "      <th>Medication Revenue</th>\n",
       "      <th>Lab Cost</th>\n",
       "      <th>Consultation Revenue</th>\n",
       "      <th>Doctor Type</th>\n",
       "      <th>Financial Class</th>\n",
       "      <th>Patient Type</th>\n",
       "      <th>Entry Time</th>\n",
       "      <th>Post-Consultation Time</th>\n",
       "      <th>Completion Time</th>\n",
       "      <th>Doctor</th>\n",
       "      <th>Patient ID</th>\n",
       "    </tr>\n",
       "  </thead>\n",
       "  <tbody>\n",
       "    <tr>\n",
       "      <th>0</th>\n",
       "      <td>2019-11-04</td>\n",
       "      <td>1183.22</td>\n",
       "      <td>10.0</td>\n",
       "      <td>20.17</td>\n",
       "      <td>ANCHOR</td>\n",
       "      <td>HMO</td>\n",
       "      <td>OUTPATIENT</td>\n",
       "      <td>2020-10-19 08:35:45</td>\n",
       "      <td>2020-10-19 09:17:54</td>\n",
       "      <td>2020-10-19 09:29:46</td>\n",
       "      <td>DR05350C4</td>\n",
       "      <td>C10001</td>\n",
       "    </tr>\n",
       "    <tr>\n",
       "      <th>1</th>\n",
       "      <td>2019-11-06</td>\n",
       "      <td>738.48</td>\n",
       "      <td>NaN</td>\n",
       "      <td>15.00</td>\n",
       "      <td>ANCHOR</td>\n",
       "      <td>INSURANCE</td>\n",
       "      <td>OUTPATIENT</td>\n",
       "      <td>2020-10-19 19:19:16</td>\n",
       "      <td>2020-10-19 21:02:36</td>\n",
       "      <td>2020-10-19 21:24:07</td>\n",
       "      <td>DR09451Z4</td>\n",
       "      <td>C10002</td>\n",
       "    </tr>\n",
       "    <tr>\n",
       "      <th>2</th>\n",
       "      <td>2019-11-02</td>\n",
       "      <td>660.00</td>\n",
       "      <td>NaN</td>\n",
       "      <td>21.17</td>\n",
       "      <td>ANCHOR</td>\n",
       "      <td>HMO</td>\n",
       "      <td>OUTPATIENT</td>\n",
       "      <td>2020-10-19 10:46:52</td>\n",
       "      <td>2020-10-19 11:56:25</td>\n",
       "      <td>2020-10-19 12:06:28</td>\n",
       "      <td>DR17400I4</td>\n",
       "      <td>C10003</td>\n",
       "    </tr>\n",
       "    <tr>\n",
       "      <th>3</th>\n",
       "      <td>2019-11-06</td>\n",
       "      <td>600.00</td>\n",
       "      <td>NaN</td>\n",
       "      <td>NaN</td>\n",
       "      <td>ANCHOR</td>\n",
       "      <td>MEDICARE</td>\n",
       "      <td>OUTPATIENT</td>\n",
       "      <td>2020-10-19 09:38:34</td>\n",
       "      <td>2020-10-19 10:55:50</td>\n",
       "      <td>2020-10-19 10:58:02</td>\n",
       "      <td>DR09451Z4</td>\n",
       "      <td>C10004</td>\n",
       "    </tr>\n",
       "    <tr>\n",
       "      <th>4</th>\n",
       "      <td>2019-11-01</td>\n",
       "      <td>591.60</td>\n",
       "      <td>NaN</td>\n",
       "      <td>12.00</td>\n",
       "      <td>ANCHOR</td>\n",
       "      <td>INSURANCE</td>\n",
       "      <td>OUTPATIENT</td>\n",
       "      <td>2020-10-19 11:16:21</td>\n",
       "      <td>2020-10-19 12:06:49</td>\n",
       "      <td>2020-10-19 12:06:54</td>\n",
       "      <td>DR15154H4</td>\n",
       "      <td>C10005</td>\n",
       "    </tr>\n",
       "  </tbody>\n",
       "</table>\n",
       "</div>"
      ],
      "text/plain": [
       "        Date  Medication Revenue  Lab Cost  Consultation Revenue Doctor Type  \\\n",
       "0 2019-11-04             1183.22      10.0                 20.17      ANCHOR   \n",
       "1 2019-11-06              738.48       NaN                 15.00      ANCHOR   \n",
       "2 2019-11-02              660.00       NaN                 21.17      ANCHOR   \n",
       "3 2019-11-06              600.00       NaN                   NaN      ANCHOR   \n",
       "4 2019-11-01              591.60       NaN                 12.00      ANCHOR   \n",
       "\n",
       "  Financial Class Patient Type          Entry Time Post-Consultation Time  \\\n",
       "0             HMO   OUTPATIENT 2020-10-19 08:35:45    2020-10-19 09:17:54   \n",
       "1       INSURANCE   OUTPATIENT 2020-10-19 19:19:16    2020-10-19 21:02:36   \n",
       "2             HMO   OUTPATIENT 2020-10-19 10:46:52    2020-10-19 11:56:25   \n",
       "3        MEDICARE   OUTPATIENT 2020-10-19 09:38:34    2020-10-19 10:55:50   \n",
       "4       INSURANCE   OUTPATIENT 2020-10-19 11:16:21    2020-10-19 12:06:49   \n",
       "\n",
       "      Completion Time     Doctor Patient ID  \n",
       "0 2020-10-19 09:29:46  DR05350C4     C10001  \n",
       "1 2020-10-19 21:24:07  DR09451Z4     C10002  \n",
       "2 2020-10-19 12:06:28  DR17400I4     C10003  \n",
       "3 2020-10-19 10:58:02  DR09451Z4     C10004  \n",
       "4 2020-10-19 12:06:54  DR15154H4     C10005  "
      ]
     },
     "execution_count": 10,
     "metadata": {},
     "output_type": "execute_result"
    }
   ],
   "source": [
    "df.head()"
   ]
  },
  {
   "cell_type": "code",
   "execution_count": 11,
   "metadata": {},
   "outputs": [
    {
     "data": {
      "text/plain": [
       "Date                      datetime64[ns]\n",
       "Medication Revenue               float64\n",
       "Lab Cost                         float64\n",
       "Consultation Revenue             float64\n",
       "Doctor Type                       object\n",
       "Financial Class                   object\n",
       "Patient Type                      object\n",
       "Entry Time                datetime64[ns]\n",
       "Post-Consultation Time    datetime64[ns]\n",
       "Completion Time           datetime64[ns]\n",
       "Doctor                            object\n",
       "Patient ID                        object\n",
       "dtype: object"
      ]
     },
     "execution_count": 11,
     "metadata": {},
     "output_type": "execute_result"
    }
   ],
   "source": [
    "df.dtypes"
   ]
  },
  {
   "cell_type": "code",
   "execution_count": 12,
   "metadata": {},
   "outputs": [],
   "source": [
    "df = df.fillna(0)"
   ]
  },
  {
   "cell_type": "code",
   "execution_count": 13,
   "metadata": {},
   "outputs": [
    {
     "data": {
      "text/html": [
       "<div>\n",
       "<style scoped>\n",
       "    .dataframe tbody tr th:only-of-type {\n",
       "        vertical-align: middle;\n",
       "    }\n",
       "\n",
       "    .dataframe tbody tr th {\n",
       "        vertical-align: top;\n",
       "    }\n",
       "\n",
       "    .dataframe thead th {\n",
       "        text-align: right;\n",
       "    }\n",
       "</style>\n",
       "<table border=\"1\" class=\"dataframe\">\n",
       "  <thead>\n",
       "    <tr style=\"text-align: right;\">\n",
       "      <th></th>\n",
       "      <th>Date</th>\n",
       "      <th>Medication Revenue</th>\n",
       "      <th>Lab Cost</th>\n",
       "      <th>Consultation Revenue</th>\n",
       "      <th>Doctor Type</th>\n",
       "      <th>Financial Class</th>\n",
       "      <th>Patient Type</th>\n",
       "      <th>Entry Time</th>\n",
       "      <th>Post-Consultation Time</th>\n",
       "      <th>Completion Time</th>\n",
       "      <th>Doctor</th>\n",
       "      <th>Patient ID</th>\n",
       "      <th>Total Revenue</th>\n",
       "    </tr>\n",
       "  </thead>\n",
       "  <tbody>\n",
       "    <tr>\n",
       "      <th>0</th>\n",
       "      <td>2019-11-04</td>\n",
       "      <td>1183.22</td>\n",
       "      <td>10.0</td>\n",
       "      <td>20.17</td>\n",
       "      <td>ANCHOR</td>\n",
       "      <td>HMO</td>\n",
       "      <td>OUTPATIENT</td>\n",
       "      <td>2020-10-19 08:35:45</td>\n",
       "      <td>2020-10-19 09:17:54</td>\n",
       "      <td>2020-10-19 09:29:46</td>\n",
       "      <td>DR05350C4</td>\n",
       "      <td>C10001</td>\n",
       "      <td>1213.39</td>\n",
       "    </tr>\n",
       "    <tr>\n",
       "      <th>1</th>\n",
       "      <td>2019-11-06</td>\n",
       "      <td>738.48</td>\n",
       "      <td>0.0</td>\n",
       "      <td>15.00</td>\n",
       "      <td>ANCHOR</td>\n",
       "      <td>INSURANCE</td>\n",
       "      <td>OUTPATIENT</td>\n",
       "      <td>2020-10-19 19:19:16</td>\n",
       "      <td>2020-10-19 21:02:36</td>\n",
       "      <td>2020-10-19 21:24:07</td>\n",
       "      <td>DR09451Z4</td>\n",
       "      <td>C10002</td>\n",
       "      <td>753.48</td>\n",
       "    </tr>\n",
       "    <tr>\n",
       "      <th>2</th>\n",
       "      <td>2019-11-02</td>\n",
       "      <td>660.00</td>\n",
       "      <td>0.0</td>\n",
       "      <td>21.17</td>\n",
       "      <td>ANCHOR</td>\n",
       "      <td>HMO</td>\n",
       "      <td>OUTPATIENT</td>\n",
       "      <td>2020-10-19 10:46:52</td>\n",
       "      <td>2020-10-19 11:56:25</td>\n",
       "      <td>2020-10-19 12:06:28</td>\n",
       "      <td>DR17400I4</td>\n",
       "      <td>C10003</td>\n",
       "      <td>681.17</td>\n",
       "    </tr>\n",
       "    <tr>\n",
       "      <th>3</th>\n",
       "      <td>2019-11-06</td>\n",
       "      <td>600.00</td>\n",
       "      <td>0.0</td>\n",
       "      <td>0.00</td>\n",
       "      <td>ANCHOR</td>\n",
       "      <td>MEDICARE</td>\n",
       "      <td>OUTPATIENT</td>\n",
       "      <td>2020-10-19 09:38:34</td>\n",
       "      <td>2020-10-19 10:55:50</td>\n",
       "      <td>2020-10-19 10:58:02</td>\n",
       "      <td>DR09451Z4</td>\n",
       "      <td>C10004</td>\n",
       "      <td>600.00</td>\n",
       "    </tr>\n",
       "    <tr>\n",
       "      <th>4</th>\n",
       "      <td>2019-11-01</td>\n",
       "      <td>591.60</td>\n",
       "      <td>0.0</td>\n",
       "      <td>12.00</td>\n",
       "      <td>ANCHOR</td>\n",
       "      <td>INSURANCE</td>\n",
       "      <td>OUTPATIENT</td>\n",
       "      <td>2020-10-19 11:16:21</td>\n",
       "      <td>2020-10-19 12:06:49</td>\n",
       "      <td>2020-10-19 12:06:54</td>\n",
       "      <td>DR15154H4</td>\n",
       "      <td>C10005</td>\n",
       "      <td>603.60</td>\n",
       "    </tr>\n",
       "  </tbody>\n",
       "</table>\n",
       "</div>"
      ],
      "text/plain": [
       "        Date  Medication Revenue  Lab Cost  Consultation Revenue Doctor Type  \\\n",
       "0 2019-11-04             1183.22      10.0                 20.17      ANCHOR   \n",
       "1 2019-11-06              738.48       0.0                 15.00      ANCHOR   \n",
       "2 2019-11-02              660.00       0.0                 21.17      ANCHOR   \n",
       "3 2019-11-06              600.00       0.0                  0.00      ANCHOR   \n",
       "4 2019-11-01              591.60       0.0                 12.00      ANCHOR   \n",
       "\n",
       "  Financial Class Patient Type          Entry Time Post-Consultation Time  \\\n",
       "0             HMO   OUTPATIENT 2020-10-19 08:35:45    2020-10-19 09:17:54   \n",
       "1       INSURANCE   OUTPATIENT 2020-10-19 19:19:16    2020-10-19 21:02:36   \n",
       "2             HMO   OUTPATIENT 2020-10-19 10:46:52    2020-10-19 11:56:25   \n",
       "3        MEDICARE   OUTPATIENT 2020-10-19 09:38:34    2020-10-19 10:55:50   \n",
       "4       INSURANCE   OUTPATIENT 2020-10-19 11:16:21    2020-10-19 12:06:49   \n",
       "\n",
       "      Completion Time     Doctor Patient ID  Total Revenue  \n",
       "0 2020-10-19 09:29:46  DR05350C4     C10001        1213.39  \n",
       "1 2020-10-19 21:24:07  DR09451Z4     C10002         753.48  \n",
       "2 2020-10-19 12:06:28  DR17400I4     C10003         681.17  \n",
       "3 2020-10-19 10:58:02  DR09451Z4     C10004         600.00  \n",
       "4 2020-10-19 12:06:54  DR15154H4     C10005         603.60  "
      ]
     },
     "execution_count": 13,
     "metadata": {},
     "output_type": "execute_result"
    }
   ],
   "source": [
    "df['Total Revenue'] = df['Medication Revenue'] + df['Consultation Revenue'] + df['Lab Cost']\n",
    "df.head()"
   ]
  },
  {
   "cell_type": "markdown",
   "metadata": {},
   "source": [
    "## what time has the most visitors :"
   ]
  },
  {
   "cell_type": "code",
   "execution_count": 14,
   "metadata": {},
   "outputs": [],
   "source": [
    "df['Entry Hour'] = df['Entry Time'].dt.hour"
   ]
  },
  {
   "cell_type": "code",
   "execution_count": 42,
   "metadata": {},
   "outputs": [
    {
     "data": {
      "text/plain": [
       "Entry Hour\n",
       "7       12\n",
       "8     3489\n",
       "9     4297\n",
       "10    3680\n",
       "11    3306\n",
       "12    1446\n",
       "13     426\n",
       "14    3030\n",
       "15    1847\n",
       "16    1249\n",
       "17     219\n",
       "18    2600\n",
       "19    2269\n",
       "20    1358\n",
       "21     500\n",
       "22     238\n",
       "23      33\n",
       "Name: Date, dtype: int64"
      ]
     },
     "execution_count": 42,
     "metadata": {},
     "output_type": "execute_result"
    }
   ],
   "source": [
    "# get the count of entries in a particular hour\n",
    "pivot1 = df.groupby('Entry Hour').count()['Date']\n",
    "pivot1"
   ]
  },
  {
   "cell_type": "code",
   "execution_count": 43,
   "metadata": {},
   "outputs": [
    {
     "data": {
      "image/png": "[encoded data removed]",
      "text/plain": [
       "<Figure size 432x288 with 1 Axes>"
      ]
     },
     "metadata": {},
     "output_type": "display_data"
    }
   ],
   "source": [
    "plt.style.use('ggplot')\n",
    "pivot1.plot();"
   ]
  },
  {
   "cell_type": "markdown",
   "metadata": {},
   "source": [
    "## Does the total revenue correlate with the total visitors: "
   ]
  },
  {
   "cell_type": "code",
   "execution_count": 45,
   "metadata": {},
   "outputs": [
    {
     "data": {
      "text/plain": [
       "''"
      ]
     },
     "execution_count": 45,
     "metadata": {},
     "output_type": "execute_result"
    },
    {
     "data": {
      "image/png": "[encoded data removed]",
      "text/plain": [
       "<Figure size 432x288 with 1 Axes>"
      ]
     },
     "metadata": {},
     "output_type": "display_data"
    }
   ],
   "source": [
    "pivot2 = df.groupby('Entry Hour')['Total Revenue'].sum().plot()\n",
    ";"
   ]
  },
  {
   "cell_type": "code",
   "execution_count": 46,
   "metadata": {},
   "outputs": [
    {
     "data": {
      "text/html": [
       "<div>\n",
       "<style scoped>\n",
       "    .dataframe tbody tr th:only-of-type {\n",
       "        vertical-align: middle;\n",
       "    }\n",
       "\n",
       "    .dataframe tbody tr th {\n",
       "        vertical-align: top;\n",
       "    }\n",
       "\n",
       "    .dataframe thead th {\n",
       "        text-align: right;\n",
       "    }\n",
       "</style>\n",
       "<table border=\"1\" class=\"dataframe\">\n",
       "  <thead>\n",
       "    <tr style=\"text-align: right;\">\n",
       "      <th></th>\n",
       "      <th>Medication Revenue_x</th>\n",
       "      <th>Lab Cost_x</th>\n",
       "      <th>Consultation Revenue_x</th>\n",
       "      <th>Total Revenue_x</th>\n",
       "      <th>Date</th>\n",
       "      <th>Medication Revenue_y</th>\n",
       "      <th>Lab Cost_y</th>\n",
       "      <th>Consultation Revenue_y</th>\n",
       "      <th>Doctor Type</th>\n",
       "      <th>Financial Class</th>\n",
       "      <th>Patient Type</th>\n",
       "      <th>Entry Time</th>\n",
       "      <th>Post-Consultation Time</th>\n",
       "      <th>Completion Time</th>\n",
       "      <th>Doctor</th>\n",
       "      <th>Patient ID</th>\n",
       "      <th>Total Revenue_y</th>\n",
       "    </tr>\n",
       "    <tr>\n",
       "      <th>Entry Hour</th>\n",
       "      <th></th>\n",
       "      <th></th>\n",
       "      <th></th>\n",
       "      <th></th>\n",
       "      <th></th>\n",
       "      <th></th>\n",
       "      <th></th>\n",
       "      <th></th>\n",
       "      <th></th>\n",
       "      <th></th>\n",
       "      <th></th>\n",
       "      <th></th>\n",
       "      <th></th>\n",
       "      <th></th>\n",
       "      <th></th>\n",
       "      <th></th>\n",
       "      <th></th>\n",
       "    </tr>\n",
       "  </thead>\n",
       "  <tbody>\n",
       "    <tr>\n",
       "      <th>7</th>\n",
       "      <td>350.66</td>\n",
       "      <td>520.00</td>\n",
       "      <td>198.63</td>\n",
       "      <td>1069.29</td>\n",
       "      <td>12</td>\n",
       "      <td>12</td>\n",
       "      <td>12</td>\n",
       "      <td>12</td>\n",
       "      <td>12</td>\n",
       "      <td>12</td>\n",
       "      <td>12</td>\n",
       "      <td>12</td>\n",
       "      <td>12</td>\n",
       "      <td>12</td>\n",
       "      <td>12</td>\n",
       "      <td>12</td>\n",
       "      <td>12</td>\n",
       "    </tr>\n",
       "    <tr>\n",
       "      <th>8</th>\n",
       "      <td>83404.62</td>\n",
       "      <td>22475.27</td>\n",
       "      <td>51180.15</td>\n",
       "      <td>157060.04</td>\n",
       "      <td>3489</td>\n",
       "      <td>3489</td>\n",
       "      <td>3489</td>\n",
       "      <td>3489</td>\n",
       "      <td>3489</td>\n",
       "      <td>3489</td>\n",
       "      <td>3489</td>\n",
       "      <td>3489</td>\n",
       "      <td>3489</td>\n",
       "      <td>3489</td>\n",
       "      <td>3489</td>\n",
       "      <td>3489</td>\n",
       "      <td>3489</td>\n",
       "    </tr>\n",
       "    <tr>\n",
       "      <th>9</th>\n",
       "      <td>96195.61</td>\n",
       "      <td>14879.28</td>\n",
       "      <td>60216.56</td>\n",
       "      <td>171291.45</td>\n",
       "      <td>4297</td>\n",
       "      <td>4297</td>\n",
       "      <td>4297</td>\n",
       "      <td>4297</td>\n",
       "      <td>4297</td>\n",
       "      <td>4297</td>\n",
       "      <td>4297</td>\n",
       "      <td>4297</td>\n",
       "      <td>4297</td>\n",
       "      <td>4297</td>\n",
       "      <td>4297</td>\n",
       "      <td>4297</td>\n",
       "      <td>4297</td>\n",
       "    </tr>\n",
       "    <tr>\n",
       "      <th>10</th>\n",
       "      <td>75239.66</td>\n",
       "      <td>6688.98</td>\n",
       "      <td>52072.67</td>\n",
       "      <td>134001.31</td>\n",
       "      <td>3680</td>\n",
       "      <td>3680</td>\n",
       "      <td>3680</td>\n",
       "      <td>3680</td>\n",
       "      <td>3680</td>\n",
       "      <td>3680</td>\n",
       "      <td>3680</td>\n",
       "      <td>3680</td>\n",
       "      <td>3680</td>\n",
       "      <td>3680</td>\n",
       "      <td>3680</td>\n",
       "      <td>3680</td>\n",
       "      <td>3680</td>\n",
       "    </tr>\n",
       "    <tr>\n",
       "      <th>11</th>\n",
       "      <td>72675.83</td>\n",
       "      <td>6860.23</td>\n",
       "      <td>48192.03</td>\n",
       "      <td>127728.09</td>\n",
       "      <td>3306</td>\n",
       "      <td>3306</td>\n",
       "      <td>3306</td>\n",
       "      <td>3306</td>\n",
       "      <td>3306</td>\n",
       "      <td>3306</td>\n",
       "      <td>3306</td>\n",
       "      <td>3306</td>\n",
       "      <td>3306</td>\n",
       "      <td>3306</td>\n",
       "      <td>3306</td>\n",
       "      <td>3306</td>\n",
       "      <td>3306</td>\n",
       "    </tr>\n",
       "  </tbody>\n",
       "</table>\n",
       "</div>"
      ],
      "text/plain": [
       "            Medication Revenue_x  Lab Cost_x  Consultation Revenue_x  \\\n",
       "Entry Hour                                                             \n",
       "7                         350.66      520.00                  198.63   \n",
       "8                       83404.62    22475.27                51180.15   \n",
       "9                       96195.61    14879.28                60216.56   \n",
       "10                      75239.66     6688.98                52072.67   \n",
       "11                      72675.83     6860.23                48192.03   \n",
       "\n",
       "            Total Revenue_x  Date  Medication Revenue_y  Lab Cost_y  \\\n",
       "Entry Hour                                                            \n",
       "7                   1069.29    12                    12          12   \n",
       "8                 157060.04  3489                  3489        3489   \n",
       "9                 171291.45  4297                  4297        4297   \n",
       "10                134001.31  3680                  3680        3680   \n",
       "11                127728.09  3306                  3306        3306   \n",
       "\n",
       "            Consultation Revenue_y  Doctor Type  Financial Class  \\\n",
       "Entry Hour                                                         \n",
       "7                               12           12               12   \n",
       "8                             3489         3489             3489   \n",
       "9                             4297         4297             4297   \n",
       "10                            3680         3680             3680   \n",
       "11                            3306         3306             3306   \n",
       "\n",
       "            Patient Type  Entry Time  Post-Consultation Time  Completion Time  \\\n",
       "Entry Hour                                                                      \n",
       "7                     12          12                      12               12   \n",
       "8                   3489        3489                    3489             3489   \n",
       "9                   4297        4297                    4297             4297   \n",
       "10                  3680        3680                    3680             3680   \n",
       "11                  3306        3306                    3306             3306   \n",
       "\n",
       "            Doctor  Patient ID  Total Revenue_y  \n",
       "Entry Hour                                       \n",
       "7               12          12               12  \n",
       "8             3489        3489             3489  \n",
       "9             4297        4297             4297  \n",
       "10            3680        3680             3680  \n",
       "11            3306        3306             3306  "
      ]
     },
     "execution_count": 46,
     "metadata": {},
     "output_type": "execute_result"
    }
   ],
   "source": [
    "pivot3 = df.groupby('Entry Hour').count()\n",
    "pivot4 = df.groupby('Entry Hour').sum()\n",
    "\n",
    "merge = pivot4.merge(pivot3,on='Entry Hour')\n",
    "merge.head()"
   ]
  },
  {
   "cell_type": "code",
   "execution_count": 63,
   "metadata": {},
   "outputs": [
    {
     "data": {
      "image/png": "[encoded data removed]",
      "text/plain": [
       "<Figure size 432x288 with 2 Axes>"
      ]
     },
     "metadata": {},
     "output_type": "display_data"
    }
   ],
   "source": [
    "fig, ax1 = plt.subplots()\n",
    "# both axis share the same x axis\n",
    "ax2 = ax1.twinx()\n",
    "ax1.bar(merge.index,merge['Total Revenue_x'],color='b')\n",
    "ax1.plot(merge.index,merge['Patient ID']);"
   ]
  },
  {
   "cell_type": "markdown",
   "metadata": {},
   "source": [
    "## What perc of revenue come from different insurance types :"
   ]
  },
  {
   "cell_type": "code",
   "execution_count": 22,
   "metadata": {},
   "outputs": [],
   "source": [
    "pivot5 = df.groupby('Financial Class').sum()"
   ]
  },
  {
   "cell_type": "code",
   "execution_count": 29,
   "metadata": {},
   "outputs": [
    {
     "data": {
      "image/png": "[encoded data removed]",
      "text/plain": [
       "<Figure size 432x288 with 1 Axes>"
      ]
     },
     "metadata": {},
     "output_type": "display_data"
    }
   ],
   "source": [
    "plt.pie(pivot5['Total Revenue'],labels=pivot5.index,autopct='%1.1f%%');"
   ]
  },
  {
   "cell_type": "code",
   "execution_count": null,
   "metadata": {},
   "outputs": [],
   "source": []
  }
 ],
 "metadata": {
  "kernelspec": {
   "display_name": "Python 3 (ipykernel)",
   "language": "python",
   "name": "python3"
  },
  "language_info": {
   "codemirror_mode": {
    "name": "ipython",
    "version": 3
   },
   "file_extension": ".py",
   "mimetype": "text/x-python",
   "name": "python",
   "nbconvert_exporter": "python",
   "pygments_lexer": "ipython3",
   "version": "3.9.13"
  }
 },
 "nbformat": 4,
 "nbformat_minor": 4
}
