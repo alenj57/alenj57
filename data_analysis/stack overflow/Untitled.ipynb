{
 "cells": [
  {
   "cell_type": "code",
   "execution_count": 1,
   "metadata": {},
   "outputs": [],
   "source": [
    "# https://insights.stackoverflow.com/survey"
   ]
  },
  {
   "cell_type": "code",
   "execution_count": 2,
   "metadata": {},
   "outputs": [],
   "source": [
    "# for printing bold \n",
    "from IPython.display import Markdown, display\n",
    "def printmd(string):\n",
    "    display(Markdown(string))"
   ]
  },
  {
   "cell_type": "code",
   "execution_count": 3,
   "metadata": {},
   "outputs": [],
   "source": [
    "import pandas as pd\n",
    "import numpy as np\n",
    "import matplotlib\n",
    "import matplotlib.pyplot as plt\n",
    "import seaborn as sns\n",
    "%matplotlib inline\n",
    "\n",
    "sns.set_style('darkgrid')\n",
    "matplotlib.rcParams['font.size'] = 14\n",
    "matplotlib.rcParams['figure.figsize'] = (9,5)\n",
    "matplotlib.rcParams['figure.facecolor'] = '#00000000'"
   ]
  },
  {
   "cell_type": "code",
   "execution_count": 4,
   "metadata": {},
   "outputs": [
    {
     "data": {
      "text/html": [
       "<div>\n",
       "<style scoped>\n",
       "    .dataframe tbody tr th:only-of-type {\n",
       "        vertical-align: middle;\n",
       "    }\n",
       "\n",
       "    .dataframe tbody tr th {\n",
       "        vertical-align: top;\n",
       "    }\n",
       "\n",
       "    .dataframe thead th {\n",
       "        text-align: right;\n",
       "    }\n",
       "</style>\n",
       "<table border=\"1\" class=\"dataframe\">\n",
       "  <thead>\n",
       "    <tr style=\"text-align: right;\">\n",
       "      <th></th>\n",
       "      <th>Respondent</th>\n",
       "      <th>MainBranch</th>\n",
       "      <th>Hobbyist</th>\n",
       "      <th>Age</th>\n",
       "      <th>Age1stCode</th>\n",
       "      <th>CompFreq</th>\n",
       "      <th>CompTotal</th>\n",
       "      <th>ConvertedComp</th>\n",
       "      <th>Country</th>\n",
       "      <th>CurrencyDesc</th>\n",
       "      <th>...</th>\n",
       "      <th>SurveyEase</th>\n",
       "      <th>SurveyLength</th>\n",
       "      <th>Trans</th>\n",
       "      <th>UndergradMajor</th>\n",
       "      <th>WebframeDesireNextYear</th>\n",
       "      <th>WebframeWorkedWith</th>\n",
       "      <th>WelcomeChange</th>\n",
       "      <th>WorkWeekHrs</th>\n",
       "      <th>YearsCode</th>\n",
       "      <th>YearsCodePro</th>\n",
       "    </tr>\n",
       "  </thead>\n",
       "  <tbody>\n",
       "    <tr>\n",
       "      <th>0</th>\n",
       "      <td>1</td>\n",
       "      <td>I am a developer by profession</td>\n",
       "      <td>Yes</td>\n",
       "      <td>NaN</td>\n",
       "      <td>13</td>\n",
       "      <td>Monthly</td>\n",
       "      <td>NaN</td>\n",
       "      <td>NaN</td>\n",
       "      <td>Germany</td>\n",
       "      <td>European Euro</td>\n",
       "      <td>...</td>\n",
       "      <td>Neither easy nor difficult</td>\n",
       "      <td>Appropriate in length</td>\n",
       "      <td>No</td>\n",
       "      <td>Computer science, computer engineering, or sof...</td>\n",
       "      <td>ASP.NET Core</td>\n",
       "      <td>ASP.NET;ASP.NET Core</td>\n",
       "      <td>Just as welcome now as I felt last year</td>\n",
       "      <td>50.0</td>\n",
       "      <td>36</td>\n",
       "      <td>27</td>\n",
       "    </tr>\n",
       "    <tr>\n",
       "      <th>1</th>\n",
       "      <td>2</td>\n",
       "      <td>I am a developer by profession</td>\n",
       "      <td>No</td>\n",
       "      <td>NaN</td>\n",
       "      <td>19</td>\n",
       "      <td>NaN</td>\n",
       "      <td>NaN</td>\n",
       "      <td>NaN</td>\n",
       "      <td>United Kingdom</td>\n",
       "      <td>Pound sterling</td>\n",
       "      <td>...</td>\n",
       "      <td>NaN</td>\n",
       "      <td>NaN</td>\n",
       "      <td>NaN</td>\n",
       "      <td>Computer science, computer engineering, or sof...</td>\n",
       "      <td>NaN</td>\n",
       "      <td>NaN</td>\n",
       "      <td>Somewhat more welcome now than last year</td>\n",
       "      <td>NaN</td>\n",
       "      <td>7</td>\n",
       "      <td>4</td>\n",
       "    </tr>\n",
       "    <tr>\n",
       "      <th>2</th>\n",
       "      <td>3</td>\n",
       "      <td>I code primarily as a hobby</td>\n",
       "      <td>Yes</td>\n",
       "      <td>NaN</td>\n",
       "      <td>15</td>\n",
       "      <td>NaN</td>\n",
       "      <td>NaN</td>\n",
       "      <td>NaN</td>\n",
       "      <td>Russian Federation</td>\n",
       "      <td>NaN</td>\n",
       "      <td>...</td>\n",
       "      <td>Neither easy nor difficult</td>\n",
       "      <td>Appropriate in length</td>\n",
       "      <td>NaN</td>\n",
       "      <td>NaN</td>\n",
       "      <td>NaN</td>\n",
       "      <td>NaN</td>\n",
       "      <td>Somewhat more welcome now than last year</td>\n",
       "      <td>NaN</td>\n",
       "      <td>4</td>\n",
       "      <td>NaN</td>\n",
       "    </tr>\n",
       "    <tr>\n",
       "      <th>3</th>\n",
       "      <td>4</td>\n",
       "      <td>I am a developer by profession</td>\n",
       "      <td>Yes</td>\n",
       "      <td>25.0</td>\n",
       "      <td>18</td>\n",
       "      <td>NaN</td>\n",
       "      <td>NaN</td>\n",
       "      <td>NaN</td>\n",
       "      <td>Albania</td>\n",
       "      <td>Albanian lek</td>\n",
       "      <td>...</td>\n",
       "      <td>NaN</td>\n",
       "      <td>NaN</td>\n",
       "      <td>No</td>\n",
       "      <td>Computer science, computer engineering, or sof...</td>\n",
       "      <td>NaN</td>\n",
       "      <td>NaN</td>\n",
       "      <td>Somewhat less welcome now than last year</td>\n",
       "      <td>40.0</td>\n",
       "      <td>7</td>\n",
       "      <td>4</td>\n",
       "    </tr>\n",
       "    <tr>\n",
       "      <th>4</th>\n",
       "      <td>5</td>\n",
       "      <td>I used to be a developer by profession, but no...</td>\n",
       "      <td>Yes</td>\n",
       "      <td>31.0</td>\n",
       "      <td>16</td>\n",
       "      <td>NaN</td>\n",
       "      <td>NaN</td>\n",
       "      <td>NaN</td>\n",
       "      <td>United States</td>\n",
       "      <td>NaN</td>\n",
       "      <td>...</td>\n",
       "      <td>Easy</td>\n",
       "      <td>Too short</td>\n",
       "      <td>No</td>\n",
       "      <td>Computer science, computer engineering, or sof...</td>\n",
       "      <td>Django;Ruby on Rails</td>\n",
       "      <td>Ruby on Rails</td>\n",
       "      <td>Just as welcome now as I felt last year</td>\n",
       "      <td>NaN</td>\n",
       "      <td>15</td>\n",
       "      <td>8</td>\n",
       "    </tr>\n",
       "  </tbody>\n",
       "</table>\n",
       "<p>5 rows × 61 columns</p>\n",
       "</div>"
      ],
      "text/plain": [
       "   Respondent                                         MainBranch Hobbyist  \\\n",
       "0           1                     I am a developer by profession      Yes   \n",
       "1           2                     I am a developer by profession       No   \n",
       "2           3                        I code primarily as a hobby      Yes   \n",
       "3           4                     I am a developer by profession      Yes   \n",
       "4           5  I used to be a developer by profession, but no...      Yes   \n",
       "\n",
       "    Age Age1stCode CompFreq  CompTotal  ConvertedComp             Country  \\\n",
       "0   NaN         13  Monthly        NaN            NaN             Germany   \n",
       "1   NaN         19      NaN        NaN            NaN      United Kingdom   \n",
       "2   NaN         15      NaN        NaN            NaN  Russian Federation   \n",
       "3  25.0         18      NaN        NaN            NaN             Albania   \n",
       "4  31.0         16      NaN        NaN            NaN       United States   \n",
       "\n",
       "     CurrencyDesc  ...                  SurveyEase           SurveyLength  \\\n",
       "0   European Euro  ...  Neither easy nor difficult  Appropriate in length   \n",
       "1  Pound sterling  ...                         NaN                    NaN   \n",
       "2             NaN  ...  Neither easy nor difficult  Appropriate in length   \n",
       "3    Albanian lek  ...                         NaN                    NaN   \n",
       "4             NaN  ...                        Easy              Too short   \n",
       "\n",
       "  Trans                                     UndergradMajor  \\\n",
       "0    No  Computer science, computer engineering, or sof...   \n",
       "1   NaN  Computer science, computer engineering, or sof...   \n",
       "2   NaN                                                NaN   \n",
       "3    No  Computer science, computer engineering, or sof...   \n",
       "4    No  Computer science, computer engineering, or sof...   \n",
       "\n",
       "  WebframeDesireNextYear    WebframeWorkedWith  \\\n",
       "0           ASP.NET Core  ASP.NET;ASP.NET Core   \n",
       "1                    NaN                   NaN   \n",
       "2                    NaN                   NaN   \n",
       "3                    NaN                   NaN   \n",
       "4   Django;Ruby on Rails         Ruby on Rails   \n",
       "\n",
       "                              WelcomeChange WorkWeekHrs YearsCode YearsCodePro  \n",
       "0   Just as welcome now as I felt last year        50.0        36           27  \n",
       "1  Somewhat more welcome now than last year         NaN         7            4  \n",
       "2  Somewhat more welcome now than last year         NaN         4          NaN  \n",
       "3  Somewhat less welcome now than last year        40.0         7            4  \n",
       "4   Just as welcome now as I felt last year         NaN        15            8  \n",
       "\n",
       "[5 rows x 61 columns]"
      ]
     },
     "execution_count": 4,
     "metadata": {},
     "output_type": "execute_result"
    }
   ],
   "source": [
    "survey_raw_df  = pd.read_csv('survey_results_public.csv')\n",
    "\n",
    "survey_raw_df.head()"
   ]
  },
  {
   "cell_type": "code",
   "execution_count": 5,
   "metadata": {},
   "outputs": [
    {
     "data": {
      "text/plain": [
       "(64461, 61)"
      ]
     },
     "execution_count": 5,
     "metadata": {},
     "output_type": "execute_result"
    }
   ],
   "source": [
    "survey_raw_df.shape"
   ]
  },
  {
   "cell_type": "code",
   "execution_count": 6,
   "metadata": {
    "scrolled": true
   },
   "outputs": [
    {
     "data": {
      "text/plain": [
       "Index(['Respondent', 'MainBranch', 'Hobbyist', 'Age', 'Age1stCode', 'CompFreq',\n",
       "       'CompTotal', 'ConvertedComp', 'Country', 'CurrencyDesc',\n",
       "       'CurrencySymbol', 'DatabaseDesireNextYear', 'DatabaseWorkedWith',\n",
       "       'DevType', 'EdLevel', 'Employment', 'Ethnicity', 'Gender', 'JobFactors',\n",
       "       'JobSat', 'JobSeek', 'LanguageDesireNextYear', 'LanguageWorkedWith',\n",
       "       'MiscTechDesireNextYear', 'MiscTechWorkedWith',\n",
       "       'NEWCollabToolsDesireNextYear', 'NEWCollabToolsWorkedWith', 'NEWDevOps',\n",
       "       'NEWDevOpsImpt', 'NEWEdImpt', 'NEWJobHunt', 'NEWJobHuntResearch',\n",
       "       'NEWLearn', 'NEWOffTopic', 'NEWOnboardGood', 'NEWOtherComms',\n",
       "       'NEWOvertime', 'NEWPurchaseResearch', 'NEWPurpleLink', 'NEWSOSites',\n",
       "       'NEWStuck', 'OpSys', 'OrgSize', 'PlatformDesireNextYear',\n",
       "       'PlatformWorkedWith', 'PurchaseWhat', 'Sexuality', 'SOAccount',\n",
       "       'SOComm', 'SOPartFreq', 'SOVisitFreq', 'SurveyEase', 'SurveyLength',\n",
       "       'Trans', 'UndergradMajor', 'WebframeDesireNextYear',\n",
       "       'WebframeWorkedWith', 'WelcomeChange', 'WorkWeekHrs', 'YearsCode',\n",
       "       'YearsCodePro'],\n",
       "      dtype='object')"
      ]
     },
     "execution_count": 6,
     "metadata": {},
     "output_type": "execute_result"
    }
   ],
   "source": [
    "survey_raw_df.columns"
   ]
  },
  {
   "cell_type": "code",
   "execution_count": 7,
   "metadata": {},
   "outputs": [],
   "source": [
    "schema_raw = pd.read_csv('survey_results_schema.csv',index_col='Column')['QuestionText']"
   ]
  },
  {
   "cell_type": "code",
   "execution_count": 8,
   "metadata": {},
   "outputs": [
    {
     "data": {
      "text/plain": [
       "'NOT including education, how many years have you coded professionally (as a part of your work)?'"
      ]
     },
     "execution_count": 8,
     "metadata": {},
     "output_type": "execute_result"
    }
   ],
   "source": [
    "schema_raw['YearsCodePro']"
   ]
  },
  {
   "cell_type": "markdown",
   "metadata": {},
   "source": [
    "### Filtering the columns :"
   ]
  },
  {
   "cell_type": "code",
   "execution_count": 9,
   "metadata": {},
   "outputs": [],
   "source": [
    "selected_cols = [\n",
    "    # Demographic\n",
    "    'Country',\n",
    "    'Age',\n",
    "    'Gender',\n",
    "    'EdLevel',\n",
    "    'UndergradMajor',\n",
    "    \n",
    "    # Prgmming experience\n",
    "    'Hobbyist',\n",
    "    'Age1stCode',\n",
    "    'YearsCode',\n",
    "    'YearsCodePro',\n",
    "    'LanguageWorkedWith',\n",
    "    'LanguageDesireNextYear',\n",
    "    'NEWLearn',\n",
    "    'NEWStuck',\n",
    "    \n",
    "    # Employment\n",
    "    'Employment',\n",
    "    'DevType',\n",
    "    'WorkWeekHrs',\n",
    "    'JobSat',\n",
    "    'JobFactors',\n",
    "    'NEWOvertime',\n",
    "    'NEWEdImpt'\n",
    "]"
   ]
  },
  {
   "cell_type": "code",
   "execution_count": 10,
   "metadata": {},
   "outputs": [
    {
     "data": {
      "text/plain": [
       "20"
      ]
     },
     "execution_count": 10,
     "metadata": {},
     "output_type": "execute_result"
    }
   ],
   "source": [
    "len(selected_cols)"
   ]
  },
  {
   "cell_type": "code",
   "execution_count": 11,
   "metadata": {},
   "outputs": [],
   "source": [
    "# filtering\n",
    "survey_df = survey_raw_df[selected_cols].copy()"
   ]
  },
  {
   "cell_type": "code",
   "execution_count": 12,
   "metadata": {},
   "outputs": [],
   "source": [
    "schema = schema_raw[selected_cols]"
   ]
  },
  {
   "cell_type": "code",
   "execution_count": 13,
   "metadata": {},
   "outputs": [
    {
     "data": {
      "text/plain": [
       "(64461, 20)"
      ]
     },
     "execution_count": 13,
     "metadata": {},
     "output_type": "execute_result"
    }
   ],
   "source": [
    "survey_df.shape"
   ]
  },
  {
   "cell_type": "code",
   "execution_count": 14,
   "metadata": {},
   "outputs": [
    {
     "name": "stdout",
     "output_type": "stream",
     "text": [
      "<class 'pandas.core.frame.DataFrame'>\n",
      "RangeIndex: 64461 entries, 0 to 64460\n",
      "Data columns (total 20 columns):\n",
      " #   Column                  Non-Null Count  Dtype  \n",
      "---  ------                  --------------  -----  \n",
      " 0   Country                 64072 non-null  object \n",
      " 1   Age                     45446 non-null  float64\n",
      " 2   Gender                  50557 non-null  object \n",
      " 3   EdLevel                 57431 non-null  object \n",
      " 4   UndergradMajor          50995 non-null  object \n",
      " 5   Hobbyist                64416 non-null  object \n",
      " 6   Age1stCode              57900 non-null  object \n",
      " 7   YearsCode               57684 non-null  object \n",
      " 8   YearsCodePro            46349 non-null  object \n",
      " 9   LanguageWorkedWith      57378 non-null  object \n",
      " 10  LanguageDesireNextYear  54113 non-null  object \n",
      " 11  NEWLearn                56156 non-null  object \n",
      " 12  NEWStuck                54983 non-null  object \n",
      " 13  Employment              63854 non-null  object \n",
      " 14  DevType                 49370 non-null  object \n",
      " 15  WorkWeekHrs             41151 non-null  float64\n",
      " 16  JobSat                  45194 non-null  object \n",
      " 17  JobFactors              49349 non-null  object \n",
      " 18  NEWOvertime             43231 non-null  object \n",
      " 19  NEWEdImpt               48465 non-null  object \n",
      "dtypes: float64(2), object(18)\n",
      "memory usage: 9.8+ MB\n"
     ]
    }
   ],
   "source": [
    "survey_df.info()"
   ]
  },
  {
   "cell_type": "code",
   "execution_count": 15,
   "metadata": {},
   "outputs": [],
   "source": [
    "# convert all strings that should be numerical :\n",
    "survey_df['Age1stCode'] = pd.to_numeric(survey_df['Age1stCode'], errors='coerce')\n",
    "survey_df['YearsCode'] = pd.to_numeric(survey_df['YearsCode'], errors='coerce')\n",
    "survey_df['YearsCodePro'] = pd.to_numeric(survey_df['YearsCodePro'], errors='coerce')"
   ]
  },
  {
   "cell_type": "code",
   "execution_count": 16,
   "metadata": {},
   "outputs": [
    {
     "data": {
      "text/html": [
       "<div>\n",
       "<style scoped>\n",
       "    .dataframe tbody tr th:only-of-type {\n",
       "        vertical-align: middle;\n",
       "    }\n",
       "\n",
       "    .dataframe tbody tr th {\n",
       "        vertical-align: top;\n",
       "    }\n",
       "\n",
       "    .dataframe thead th {\n",
       "        text-align: right;\n",
       "    }\n",
       "</style>\n",
       "<table border=\"1\" class=\"dataframe\">\n",
       "  <thead>\n",
       "    <tr style=\"text-align: right;\">\n",
       "      <th></th>\n",
       "      <th>Age</th>\n",
       "      <th>Age1stCode</th>\n",
       "      <th>YearsCode</th>\n",
       "      <th>YearsCodePro</th>\n",
       "      <th>WorkWeekHrs</th>\n",
       "    </tr>\n",
       "  </thead>\n",
       "  <tbody>\n",
       "    <tr>\n",
       "      <th>count</th>\n",
       "      <td>45446.000000</td>\n",
       "      <td>57473.000000</td>\n",
       "      <td>56784.000000</td>\n",
       "      <td>44133.000000</td>\n",
       "      <td>41151.000000</td>\n",
       "    </tr>\n",
       "    <tr>\n",
       "      <th>mean</th>\n",
       "      <td>30.834111</td>\n",
       "      <td>15.476572</td>\n",
       "      <td>12.782051</td>\n",
       "      <td>8.869667</td>\n",
       "      <td>40.782174</td>\n",
       "    </tr>\n",
       "    <tr>\n",
       "      <th>std</th>\n",
       "      <td>9.585392</td>\n",
       "      <td>5.114081</td>\n",
       "      <td>9.490657</td>\n",
       "      <td>7.759961</td>\n",
       "      <td>17.816383</td>\n",
       "    </tr>\n",
       "    <tr>\n",
       "      <th>min</th>\n",
       "      <td>1.000000</td>\n",
       "      <td>5.000000</td>\n",
       "      <td>1.000000</td>\n",
       "      <td>1.000000</td>\n",
       "      <td>1.000000</td>\n",
       "    </tr>\n",
       "    <tr>\n",
       "      <th>25%</th>\n",
       "      <td>24.000000</td>\n",
       "      <td>12.000000</td>\n",
       "      <td>6.000000</td>\n",
       "      <td>3.000000</td>\n",
       "      <td>40.000000</td>\n",
       "    </tr>\n",
       "    <tr>\n",
       "      <th>50%</th>\n",
       "      <td>29.000000</td>\n",
       "      <td>15.000000</td>\n",
       "      <td>10.000000</td>\n",
       "      <td>6.000000</td>\n",
       "      <td>40.000000</td>\n",
       "    </tr>\n",
       "    <tr>\n",
       "      <th>75%</th>\n",
       "      <td>35.000000</td>\n",
       "      <td>18.000000</td>\n",
       "      <td>17.000000</td>\n",
       "      <td>12.000000</td>\n",
       "      <td>44.000000</td>\n",
       "    </tr>\n",
       "    <tr>\n",
       "      <th>max</th>\n",
       "      <td>279.000000</td>\n",
       "      <td>85.000000</td>\n",
       "      <td>50.000000</td>\n",
       "      <td>50.000000</td>\n",
       "      <td>475.000000</td>\n",
       "    </tr>\n",
       "  </tbody>\n",
       "</table>\n",
       "</div>"
      ],
      "text/plain": [
       "                Age    Age1stCode     YearsCode  YearsCodePro   WorkWeekHrs\n",
       "count  45446.000000  57473.000000  56784.000000  44133.000000  41151.000000\n",
       "mean      30.834111     15.476572     12.782051      8.869667     40.782174\n",
       "std        9.585392      5.114081      9.490657      7.759961     17.816383\n",
       "min        1.000000      5.000000      1.000000      1.000000      1.000000\n",
       "25%       24.000000     12.000000      6.000000      3.000000     40.000000\n",
       "50%       29.000000     15.000000     10.000000      6.000000     40.000000\n",
       "75%       35.000000     18.000000     17.000000     12.000000     44.000000\n",
       "max      279.000000     85.000000     50.000000     50.000000    475.000000"
      ]
     },
     "execution_count": 16,
     "metadata": {},
     "output_type": "execute_result"
    }
   ],
   "source": [
    "survey_df.describe()"
   ]
  },
  {
   "cell_type": "code",
   "execution_count": 17,
   "metadata": {},
   "outputs": [
    {
     "data": {
      "text/plain": [
       "United States         12469\n",
       "India                  8403\n",
       "United Kingdom         3896\n",
       "Germany                3890\n",
       "Canada                 2191\n",
       "France                 1898\n",
       "Brazil                 1818\n",
       "Netherlands            1343\n",
       "Poland                 1278\n",
       "Australia              1208\n",
       "Spain                  1161\n",
       "Italy                  1117\n",
       "Russian Federation     1092\n",
       "Sweden                  886\n",
       "Pakistan                809\n",
       "Name: Country, dtype: int64"
      ]
     },
     "execution_count": 17,
     "metadata": {},
     "output_type": "execute_result"
    }
   ],
   "source": [
    "top_countries = survey_df['Country'].value_counts().head(15)\n",
    "top_countries"
   ]
  },
  {
   "cell_type": "code",
   "execution_count": 18,
   "metadata": {},
   "outputs": [],
   "source": [
    "#  drop all the rows, where the age is nelow 10 and above 100 and also hors worked are above 140, cause they are impossible.\n",
    "age_less_10 = survey_df[survey_df['Age'] < 10].index\n",
    "age_more_100 = survey_df[survey_df['Age'] > 100].index\n",
    "workWeek_more_140 = survey_df[survey_df['WorkWeekHrs'] > 140].index"
   ]
  },
  {
   "cell_type": "code",
   "execution_count": 19,
   "metadata": {},
   "outputs": [],
   "source": [
    "survey_df = survey_df.drop(age_less_10)\n",
    "survey_df = survey_df.drop(age_more_100)\n",
    "survey_df = survey_df.drop(workWeek_more_140)"
   ]
  },
  {
   "cell_type": "code",
   "execution_count": 20,
   "metadata": {},
   "outputs": [
    {
     "data": {
      "text/html": [
       "<div>\n",
       "<style scoped>\n",
       "    .dataframe tbody tr th:only-of-type {\n",
       "        vertical-align: middle;\n",
       "    }\n",
       "\n",
       "    .dataframe tbody tr th {\n",
       "        vertical-align: top;\n",
       "    }\n",
       "\n",
       "    .dataframe thead th {\n",
       "        text-align: right;\n",
       "    }\n",
       "</style>\n",
       "<table border=\"1\" class=\"dataframe\">\n",
       "  <thead>\n",
       "    <tr style=\"text-align: right;\">\n",
       "      <th></th>\n",
       "      <th>Age</th>\n",
       "      <th>Age1stCode</th>\n",
       "      <th>YearsCode</th>\n",
       "      <th>YearsCodePro</th>\n",
       "      <th>WorkWeekHrs</th>\n",
       "    </tr>\n",
       "  </thead>\n",
       "  <tbody>\n",
       "    <tr>\n",
       "      <th>count</th>\n",
       "      <td>45319.000000</td>\n",
       "      <td>57326.000000</td>\n",
       "      <td>56636.000000</td>\n",
       "      <td>43993.000000</td>\n",
       "      <td>41002.000000</td>\n",
       "    </tr>\n",
       "    <tr>\n",
       "      <th>mean</th>\n",
       "      <td>30.832322</td>\n",
       "      <td>15.475317</td>\n",
       "      <td>12.783883</td>\n",
       "      <td>8.873003</td>\n",
       "      <td>40.024395</td>\n",
       "    </tr>\n",
       "    <tr>\n",
       "      <th>std</th>\n",
       "      <td>9.505965</td>\n",
       "      <td>5.114952</td>\n",
       "      <td>9.494519</td>\n",
       "      <td>7.762089</td>\n",
       "      <td>10.630010</td>\n",
       "    </tr>\n",
       "    <tr>\n",
       "      <th>min</th>\n",
       "      <td>10.000000</td>\n",
       "      <td>5.000000</td>\n",
       "      <td>1.000000</td>\n",
       "      <td>1.000000</td>\n",
       "      <td>1.000000</td>\n",
       "    </tr>\n",
       "    <tr>\n",
       "      <th>25%</th>\n",
       "      <td>24.000000</td>\n",
       "      <td>12.000000</td>\n",
       "      <td>6.000000</td>\n",
       "      <td>3.000000</td>\n",
       "      <td>40.000000</td>\n",
       "    </tr>\n",
       "    <tr>\n",
       "      <th>50%</th>\n",
       "      <td>29.000000</td>\n",
       "      <td>15.000000</td>\n",
       "      <td>10.000000</td>\n",
       "      <td>6.000000</td>\n",
       "      <td>40.000000</td>\n",
       "    </tr>\n",
       "    <tr>\n",
       "      <th>75%</th>\n",
       "      <td>35.000000</td>\n",
       "      <td>18.000000</td>\n",
       "      <td>17.000000</td>\n",
       "      <td>12.000000</td>\n",
       "      <td>43.000000</td>\n",
       "    </tr>\n",
       "    <tr>\n",
       "      <th>max</th>\n",
       "      <td>99.000000</td>\n",
       "      <td>85.000000</td>\n",
       "      <td>50.000000</td>\n",
       "      <td>50.000000</td>\n",
       "      <td>140.000000</td>\n",
       "    </tr>\n",
       "  </tbody>\n",
       "</table>\n",
       "</div>"
      ],
      "text/plain": [
       "                Age    Age1stCode     YearsCode  YearsCodePro   WorkWeekHrs\n",
       "count  45319.000000  57326.000000  56636.000000  43993.000000  41002.000000\n",
       "mean      30.832322     15.475317     12.783883      8.873003     40.024395\n",
       "std        9.505965      5.114952      9.494519      7.762089     10.630010\n",
       "min       10.000000      5.000000      1.000000      1.000000      1.000000\n",
       "25%       24.000000     12.000000      6.000000      3.000000     40.000000\n",
       "50%       29.000000     15.000000     10.000000      6.000000     40.000000\n",
       "75%       35.000000     18.000000     17.000000     12.000000     43.000000\n",
       "max       99.000000     85.000000     50.000000     50.000000    140.000000"
      ]
     },
     "execution_count": 20,
     "metadata": {},
     "output_type": "execute_result"
    }
   ],
   "source": [
    "survey_df.describe()"
   ]
  },
  {
   "cell_type": "code",
   "execution_count": 21,
   "metadata": {},
   "outputs": [
    {
     "data": {
      "text/plain": [
       "Man                                                            45895\n",
       "Woman                                                           3835\n",
       "Non-binary, genderqueer, or gender non-conforming                385\n",
       "Man;Non-binary, genderqueer, or gender non-conforming            121\n",
       "Woman;Non-binary, genderqueer, or gender non-conforming           92\n",
       "Woman;Man                                                         73\n",
       "Woman;Man;Non-binary, genderqueer, or gender non-conforming       25\n",
       "Name: Gender, dtype: int64"
      ]
     },
     "execution_count": 21,
     "metadata": {},
     "output_type": "execute_result"
    }
   ],
   "source": [
    "#  we have too many different genders, need to filter : \n",
    "survey_df['Gender'].value_counts()"
   ]
  },
  {
   "cell_type": "code",
   "execution_count": 22,
   "metadata": {},
   "outputs": [
    {
     "name": "stdout",
     "output_type": "stream",
     "text": [
      "ther are 311 rows with ; present\n"
     ]
    },
    {
     "data": {
      "text/plain": [
       "False    63995\n",
       "True       311\n",
       "Name: Gender, dtype: int64"
      ]
     },
     "execution_count": 22,
     "metadata": {},
     "output_type": "execute_result"
    }
   ],
   "source": [
    "# replace all rows that contains ; with nan\n",
    "condition = survey_df['Gender'].str.contains(';', na=False)\n",
    "\n",
    "print(f'ther are {condition.sum()} rows with ; present')\n",
    "condition.value_counts()"
   ]
  },
  {
   "cell_type": "code",
   "execution_count": 23,
   "metadata": {},
   "outputs": [],
   "source": [
    "# replace that column with nan\n",
    "survey_df.loc[condition,:] = np.nan"
   ]
  },
  {
   "cell_type": "code",
   "execution_count": 24,
   "metadata": {},
   "outputs": [
    {
     "data": {
      "text/plain": [
       "Man                                                  45895\n",
       "Woman                                                 3835\n",
       "Non-binary, genderqueer, or gender non-conforming      385\n",
       "Name: Gender, dtype: int64"
      ]
     },
     "execution_count": 24,
     "metadata": {},
     "output_type": "execute_result"
    }
   ],
   "source": [
    "survey_df['Gender'].value_counts()"
   ]
  },
  {
   "cell_type": "code",
   "execution_count": 25,
   "metadata": {},
   "outputs": [
    {
     "data": {
      "text/plain": [
       "0    0.0\n",
       "1    1.0\n",
       "2    2.0\n",
       "3    NaN\n",
       "4    NaN\n",
       "dtype: float64"
      ]
     },
     "execution_count": 25,
     "metadata": {},
     "output_type": "execute_result"
    }
   ],
   "source": [
    "#  same method using .where\n",
    "# survey_df.where(  ~(condition), np.nan, inplace=True )\n",
    "\n",
    "# Replace values where the condition is False. make sure to negate.\n",
    "\n",
    "s = pd.Series(range(5))\n",
    "s.where(~(s > 2))"
   ]
  },
  {
   "cell_type": "code",
   "execution_count": 26,
   "metadata": {},
   "outputs": [
    {
     "data": {
      "text/html": [
       "<div>\n",
       "<style scoped>\n",
       "    .dataframe tbody tr th:only-of-type {\n",
       "        vertical-align: middle;\n",
       "    }\n",
       "\n",
       "    .dataframe tbody tr th {\n",
       "        vertical-align: top;\n",
       "    }\n",
       "\n",
       "    .dataframe thead th {\n",
       "        text-align: right;\n",
       "    }\n",
       "</style>\n",
       "<table border=\"1\" class=\"dataframe\">\n",
       "  <thead>\n",
       "    <tr style=\"text-align: right;\">\n",
       "      <th></th>\n",
       "      <th>Country</th>\n",
       "      <th>Age</th>\n",
       "      <th>Gender</th>\n",
       "      <th>EdLevel</th>\n",
       "      <th>UndergradMajor</th>\n",
       "      <th>Hobbyist</th>\n",
       "      <th>Age1stCode</th>\n",
       "      <th>YearsCode</th>\n",
       "      <th>YearsCodePro</th>\n",
       "      <th>LanguageWorkedWith</th>\n",
       "      <th>LanguageDesireNextYear</th>\n",
       "      <th>NEWLearn</th>\n",
       "      <th>NEWStuck</th>\n",
       "      <th>Employment</th>\n",
       "      <th>DevType</th>\n",
       "      <th>WorkWeekHrs</th>\n",
       "      <th>JobSat</th>\n",
       "      <th>JobFactors</th>\n",
       "      <th>NEWOvertime</th>\n",
       "      <th>NEWEdImpt</th>\n",
       "    </tr>\n",
       "  </thead>\n",
       "  <tbody>\n",
       "    <tr>\n",
       "      <th>41096</th>\n",
       "      <td>India</td>\n",
       "      <td>NaN</td>\n",
       "      <td>NaN</td>\n",
       "      <td>NaN</td>\n",
       "      <td>NaN</td>\n",
       "      <td>No</td>\n",
       "      <td>NaN</td>\n",
       "      <td>NaN</td>\n",
       "      <td>NaN</td>\n",
       "      <td>NaN</td>\n",
       "      <td>NaN</td>\n",
       "      <td>NaN</td>\n",
       "      <td>NaN</td>\n",
       "      <td>Employed full-time</td>\n",
       "      <td>NaN</td>\n",
       "      <td>NaN</td>\n",
       "      <td>NaN</td>\n",
       "      <td>NaN</td>\n",
       "      <td>NaN</td>\n",
       "      <td>NaN</td>\n",
       "    </tr>\n",
       "    <tr>\n",
       "      <th>47717</th>\n",
       "      <td>Israel</td>\n",
       "      <td>NaN</td>\n",
       "      <td>NaN</td>\n",
       "      <td>NaN</td>\n",
       "      <td>NaN</td>\n",
       "      <td>No</td>\n",
       "      <td>NaN</td>\n",
       "      <td>NaN</td>\n",
       "      <td>NaN</td>\n",
       "      <td>Bash/Shell/PowerShell;Java;JavaScript</td>\n",
       "      <td>C#;Java;JavaScript</td>\n",
       "      <td>Every few months</td>\n",
       "      <td>Visit Stack Overflow;Go for a walk or other ph...</td>\n",
       "      <td>Employed full-time</td>\n",
       "      <td>NaN</td>\n",
       "      <td>NaN</td>\n",
       "      <td>NaN</td>\n",
       "      <td>NaN</td>\n",
       "      <td>NaN</td>\n",
       "      <td>NaN</td>\n",
       "    </tr>\n",
       "    <tr>\n",
       "      <th>44872</th>\n",
       "      <td>United States</td>\n",
       "      <td>NaN</td>\n",
       "      <td>NaN</td>\n",
       "      <td>Master’s degree (M.A., M.S., M.Eng., MBA, etc.)</td>\n",
       "      <td>Computer science, computer engineering, or sof...</td>\n",
       "      <td>No</td>\n",
       "      <td>NaN</td>\n",
       "      <td>NaN</td>\n",
       "      <td>NaN</td>\n",
       "      <td>Assembly;Bash/Shell/PowerShell;C;C++</td>\n",
       "      <td>Assembly;Bash/Shell/PowerShell;Python;Ruby</td>\n",
       "      <td>Once a year</td>\n",
       "      <td>Call a coworker or friend;Visit Stack Overflow...</td>\n",
       "      <td>Employed full-time</td>\n",
       "      <td>NaN</td>\n",
       "      <td>NaN</td>\n",
       "      <td>NaN</td>\n",
       "      <td>NaN</td>\n",
       "      <td>NaN</td>\n",
       "      <td>Critically important</td>\n",
       "    </tr>\n",
       "    <tr>\n",
       "      <th>156</th>\n",
       "      <td>United States</td>\n",
       "      <td>40.0</td>\n",
       "      <td>Man</td>\n",
       "      <td>Bachelor’s degree (B.A., B.S., B.Eng., etc.)</td>\n",
       "      <td>Computer science, computer engineering, or sof...</td>\n",
       "      <td>Yes</td>\n",
       "      <td>18.0</td>\n",
       "      <td>22.0</td>\n",
       "      <td>18.0</td>\n",
       "      <td>Bash/Shell/PowerShell;HTML/CSS;JavaScript;Pyth...</td>\n",
       "      <td>Bash/Shell/PowerShell;Go;HTML/CSS;JavaScript;P...</td>\n",
       "      <td>Once a year</td>\n",
       "      <td>Call a coworker or friend;Visit Stack Overflow...</td>\n",
       "      <td>Employed full-time</td>\n",
       "      <td>Developer, back-end;Developer, front-end;Devel...</td>\n",
       "      <td>35.0</td>\n",
       "      <td>Slightly satisfied</td>\n",
       "      <td>Flex time or a flexible schedule;Languages, fr...</td>\n",
       "      <td>Occasionally: 1-2 days per quarter but less th...</td>\n",
       "      <td>Very important</td>\n",
       "    </tr>\n",
       "    <tr>\n",
       "      <th>53314</th>\n",
       "      <td>United States</td>\n",
       "      <td>30.0</td>\n",
       "      <td>Man</td>\n",
       "      <td>Bachelor’s degree (B.A., B.S., B.Eng., etc.)</td>\n",
       "      <td>Computer science, computer engineering, or sof...</td>\n",
       "      <td>Yes</td>\n",
       "      <td>16.0</td>\n",
       "      <td>14.0</td>\n",
       "      <td>3.0</td>\n",
       "      <td>C;C#;C++;Python</td>\n",
       "      <td>C#;Python</td>\n",
       "      <td>Once a year</td>\n",
       "      <td>Call a coworker or friend;Visit Stack Overflow...</td>\n",
       "      <td>Employed full-time</td>\n",
       "      <td>Developer, back-end;Developer, desktop or ente...</td>\n",
       "      <td>43.0</td>\n",
       "      <td>Slightly satisfied</td>\n",
       "      <td>Industry that I’d be working in;Specific depar...</td>\n",
       "      <td>Often: 1-2 days per week or more</td>\n",
       "      <td>Somewhat important</td>\n",
       "    </tr>\n",
       "  </tbody>\n",
       "</table>\n",
       "</div>"
      ],
      "text/plain": [
       "             Country   Age Gender  \\\n",
       "41096          India   NaN    NaN   \n",
       "47717         Israel   NaN    NaN   \n",
       "44872  United States   NaN    NaN   \n",
       "156    United States  40.0    Man   \n",
       "53314  United States  30.0    Man   \n",
       "\n",
       "                                               EdLevel  \\\n",
       "41096                                              NaN   \n",
       "47717                                              NaN   \n",
       "44872  Master’s degree (M.A., M.S., M.Eng., MBA, etc.)   \n",
       "156       Bachelor’s degree (B.A., B.S., B.Eng., etc.)   \n",
       "53314     Bachelor’s degree (B.A., B.S., B.Eng., etc.)   \n",
       "\n",
       "                                          UndergradMajor Hobbyist  Age1stCode  \\\n",
       "41096                                                NaN       No         NaN   \n",
       "47717                                                NaN       No         NaN   \n",
       "44872  Computer science, computer engineering, or sof...       No         NaN   \n",
       "156    Computer science, computer engineering, or sof...      Yes        18.0   \n",
       "53314  Computer science, computer engineering, or sof...      Yes        16.0   \n",
       "\n",
       "       YearsCode  YearsCodePro  \\\n",
       "41096        NaN           NaN   \n",
       "47717        NaN           NaN   \n",
       "44872        NaN           NaN   \n",
       "156         22.0          18.0   \n",
       "53314       14.0           3.0   \n",
       "\n",
       "                                      LanguageWorkedWith  \\\n",
       "41096                                                NaN   \n",
       "47717              Bash/Shell/PowerShell;Java;JavaScript   \n",
       "44872               Assembly;Bash/Shell/PowerShell;C;C++   \n",
       "156    Bash/Shell/PowerShell;HTML/CSS;JavaScript;Pyth...   \n",
       "53314                                    C;C#;C++;Python   \n",
       "\n",
       "                                  LanguageDesireNextYear          NEWLearn  \\\n",
       "41096                                                NaN               NaN   \n",
       "47717                                 C#;Java;JavaScript  Every few months   \n",
       "44872         Assembly;Bash/Shell/PowerShell;Python;Ruby       Once a year   \n",
       "156    Bash/Shell/PowerShell;Go;HTML/CSS;JavaScript;P...       Once a year   \n",
       "53314                                          C#;Python       Once a year   \n",
       "\n",
       "                                                NEWStuck          Employment  \\\n",
       "41096                                                NaN  Employed full-time   \n",
       "47717  Visit Stack Overflow;Go for a walk or other ph...  Employed full-time   \n",
       "44872  Call a coworker or friend;Visit Stack Overflow...  Employed full-time   \n",
       "156    Call a coworker or friend;Visit Stack Overflow...  Employed full-time   \n",
       "53314  Call a coworker or friend;Visit Stack Overflow...  Employed full-time   \n",
       "\n",
       "                                                 DevType  WorkWeekHrs  \\\n",
       "41096                                                NaN          NaN   \n",
       "47717                                                NaN          NaN   \n",
       "44872                                                NaN          NaN   \n",
       "156    Developer, back-end;Developer, front-end;Devel...         35.0   \n",
       "53314  Developer, back-end;Developer, desktop or ente...         43.0   \n",
       "\n",
       "                   JobSat                                         JobFactors  \\\n",
       "41096                 NaN                                                NaN   \n",
       "47717                 NaN                                                NaN   \n",
       "44872                 NaN                                                NaN   \n",
       "156    Slightly satisfied  Flex time or a flexible schedule;Languages, fr...   \n",
       "53314  Slightly satisfied  Industry that I’d be working in;Specific depar...   \n",
       "\n",
       "                                             NEWOvertime             NEWEdImpt  \n",
       "41096                                                NaN                   NaN  \n",
       "47717                                                NaN                   NaN  \n",
       "44872                                                NaN  Critically important  \n",
       "156    Occasionally: 1-2 days per quarter but less th...        Very important  \n",
       "53314                   Often: 1-2 days per week or more    Somewhat important  "
      ]
     },
     "execution_count": 26,
     "metadata": {},
     "output_type": "execute_result"
    }
   ],
   "source": [
    "survey_df.sample(5)"
   ]
  },
  {
   "cell_type": "markdown",
   "metadata": {},
   "source": [
    "## Population :"
   ]
  },
  {
   "cell_type": "code",
   "execution_count": 27,
   "metadata": {},
   "outputs": [
    {
     "data": {
      "text/plain": [
       "'Where do you live?'"
      ]
     },
     "execution_count": 27,
     "metadata": {},
     "output_type": "execute_result"
    }
   ],
   "source": [
    "schema.Country"
   ]
  },
  {
   "cell_type": "code",
   "execution_count": 28,
   "metadata": {},
   "outputs": [
    {
     "data": {
      "text/plain": [
       "183"
      ]
     },
     "execution_count": 28,
     "metadata": {},
     "output_type": "execute_result"
    }
   ],
   "source": [
    "survey_df['Country'].nunique()"
   ]
  },
  {
   "cell_type": "code",
   "execution_count": 29,
   "metadata": {},
   "outputs": [
    {
     "data": {
      "text/plain": [
       "United States         12371\n",
       "India                  8364\n",
       "United Kingdom         3881\n",
       "Germany                3864\n",
       "Canada                 2175\n",
       "France                 1884\n",
       "Brazil                 1804\n",
       "Netherlands            1332\n",
       "Poland                 1259\n",
       "Australia              1199\n",
       "Spain                  1157\n",
       "Italy                  1115\n",
       "Russian Federation     1085\n",
       "Sweden                  879\n",
       "Pakistan                802\n",
       "Name: Country, dtype: int64"
      ]
     },
     "execution_count": 29,
     "metadata": {},
     "output_type": "execute_result"
    }
   ],
   "source": [
    "top_countries = survey_df['Country'].value_counts().head(15)\n",
    "top_countries"
   ]
  },
  {
   "cell_type": "code",
   "execution_count": 30,
   "metadata": {
    "scrolled": false
   },
   "outputs": [
    {
     "data": {
      "image/png": "[encoded data removed]",
      "text/plain": [
       "<Figure size 648x360 with 1 Axes>"
      ]
     },
     "metadata": {
      "needs_background": "light"
     },
     "output_type": "display_data"
    }
   ],
   "source": [
    "sns.barplot(x = top_countries.index, y = top_countries)\n",
    "plt.title(schema['Country'])\n",
    "plt.xticks(rotation=75)\n",
    "plt.show()"
   ]
  },
  {
   "cell_type": "markdown",
   "metadata": {},
   "source": [
    "## Age :"
   ]
  },
  {
   "cell_type": "code",
   "execution_count": 31,
   "metadata": {},
   "outputs": [
    {
     "data": {
      "image/png": "[encoded data removed]",
      "text/plain": [
       "<Figure size 648x360 with 1 Axes>"
      ]
     },
     "metadata": {
      "needs_background": "light"
     },
     "output_type": "display_data"
    }
   ],
   "source": [
    "plt.hist(survey_df['Age'], bins=np.arange(10,80,5), color='purple')\n",
    "plt.title(schema['Age'])\n",
    "plt.xlabel('Age')\n",
    "plt.ylabel('No: of respondents')\n",
    "\n",
    "plt.show()"
   ]
  },
  {
   "cell_type": "markdown",
   "metadata": {},
   "source": [
    "## Gender :"
   ]
  },
  {
   "cell_type": "code",
   "execution_count": 32,
   "metadata": {},
   "outputs": [
    {
     "data": {
      "text/plain": [
       "'Which of the following describe you, if any? Please check all that apply. If you prefer not to answer, you may leave this question blank.'"
      ]
     },
     "execution_count": 32,
     "metadata": {},
     "output_type": "execute_result"
    }
   ],
   "source": [
    "schema.Gender"
   ]
  },
  {
   "cell_type": "code",
   "execution_count": 33,
   "metadata": {},
   "outputs": [
    {
     "data": {
      "text/plain": [
       "Man                                                  45895\n",
       "Woman                                                 3835\n",
       "Non-binary, genderqueer, or gender non-conforming      385\n",
       "Name: Gender, dtype: int64"
      ]
     },
     "execution_count": 33,
     "metadata": {},
     "output_type": "execute_result"
    }
   ],
   "source": [
    "gender_counts = survey_df['Gender'].value_counts()\n",
    "gender_counts"
   ]
  },
  {
   "cell_type": "code",
   "execution_count": 34,
   "metadata": {},
   "outputs": [
    {
     "data": {
      "image/png": "[encoded data removed]",
      "text/plain": [
       "<Figure size 1080x720 with 1 Axes>"
      ]
     },
     "metadata": {},
     "output_type": "display_data"
    }
   ],
   "source": [
    "plt.figure(figsize=(15,10))\n",
    "plt.title(schema['Gender'])\n",
    "plt.pie(gender_counts,labels=gender_counts.index,autopct='%1.1f%%')\n",
    "plt.show()"
   ]
  },
  {
   "cell_type": "markdown",
   "metadata": {},
   "source": [
    "## Educational Level :"
   ]
  },
  {
   "cell_type": "code",
   "execution_count": 35,
   "metadata": {},
   "outputs": [
    {
     "data": {
      "text/plain": [
       "'Which of the following best describes the highest level of formal education that you’ve completed?'"
      ]
     },
     "execution_count": 35,
     "metadata": {},
     "output_type": "execute_result"
    }
   ],
   "source": [
    "schema['EdLevel']"
   ]
  },
  {
   "cell_type": "code",
   "execution_count": 36,
   "metadata": {},
   "outputs": [
    {
     "data": {
      "image/png": "[encoded data removed]",
      "text/plain": [
       "<Figure size 1080x720 with 1 Axes>"
      ]
     },
     "metadata": {
      "needs_background": "light"
     },
     "output_type": "display_data"
    }
   ],
   "source": [
    "plt.figure(figsize=(15,10))\n",
    "\n",
    "sns.countplot(x = survey_df['EdLevel'])\n",
    "\n",
    "plt.xticks(rotation=75);\n",
    "plt.title(schema['EdLevel'])\n",
    "plt.ylabel(None);\n",
    "\n",
    "plt.grid()\n",
    "\n",
    "plt.show()"
   ]
  },
  {
   "cell_type": "code",
   "execution_count": 37,
   "metadata": {},
   "outputs": [
    {
     "data": {
      "text/html": [
       "<div>\n",
       "<style scoped>\n",
       "    .dataframe tbody tr th:only-of-type {\n",
       "        vertical-align: middle;\n",
       "    }\n",
       "\n",
       "    .dataframe tbody tr th {\n",
       "        vertical-align: top;\n",
       "    }\n",
       "\n",
       "    .dataframe thead th {\n",
       "        text-align: right;\n",
       "    }\n",
       "</style>\n",
       "<table border=\"1\" class=\"dataframe\">\n",
       "  <thead>\n",
       "    <tr style=\"text-align: right;\">\n",
       "      <th></th>\n",
       "      <th>EdLevel</th>\n",
       "    </tr>\n",
       "  </thead>\n",
       "  <tbody>\n",
       "    <tr>\n",
       "      <th>Bachelor’s degree (B.A., B.S., B.Eng., etc.)</th>\n",
       "      <td>46.254014</td>\n",
       "    </tr>\n",
       "    <tr>\n",
       "      <th>Master’s degree (M.A., M.S., M.Eng., MBA, etc.)</th>\n",
       "      <td>22.856742</td>\n",
       "    </tr>\n",
       "    <tr>\n",
       "      <th>Some college/university study without earning a degree</th>\n",
       "      <td>12.570857</td>\n",
       "    </tr>\n",
       "    <tr>\n",
       "      <th>Secondary school (e.g. American high school, German Realschule or Gymnasium, etc.)</th>\n",
       "      <td>8.290483</td>\n",
       "    </tr>\n",
       "    <tr>\n",
       "      <th>Associate degree (A.A., A.S., etc.)</th>\n",
       "      <td>3.213352</td>\n",
       "    </tr>\n",
       "    <tr>\n",
       "      <th>Other doctoral degree (Ph.D., Ed.D., etc.)</th>\n",
       "      <td>2.950106</td>\n",
       "    </tr>\n",
       "    <tr>\n",
       "      <th>Primary/elementary school</th>\n",
       "      <td>1.630368</td>\n",
       "    </tr>\n",
       "    <tr>\n",
       "      <th>Professional degree (JD, MD, etc.)</th>\n",
       "      <td>1.391692</td>\n",
       "    </tr>\n",
       "    <tr>\n",
       "      <th>I never completed any formal education</th>\n",
       "      <td>0.842386</td>\n",
       "    </tr>\n",
       "  </tbody>\n",
       "</table>\n",
       "</div>"
      ],
      "text/plain": [
       "                                                      EdLevel\n",
       "Bachelor’s degree (B.A., B.S., B.Eng., etc.)        46.254014\n",
       "Master’s degree (M.A., M.S., M.Eng., MBA, etc.)     22.856742\n",
       "Some college/university study without earning a...  12.570857\n",
       "Secondary school (e.g. American high school, Ge...   8.290483\n",
       "Associate degree (A.A., A.S., etc.)                  3.213352\n",
       "Other doctoral degree (Ph.D., Ed.D., etc.)           2.950106\n",
       "Primary/elementary school                            1.630368\n",
       "Professional degree (JD, MD, etc.)                   1.391692\n",
       "I never completed any formal education               0.842386"
      ]
     },
     "execution_count": 37,
     "metadata": {},
     "output_type": "execute_result"
    }
   ],
   "source": [
    "# percentage plot for clarity :\n",
    "df_ = survey_df['EdLevel'].value_counts(normalize=True).to_frame()\n",
    "df_['EdLevel'] = df_['EdLevel'] * 100\n",
    "df_"
   ]
  },
  {
   "cell_type": "code",
   "execution_count": 38,
   "metadata": {},
   "outputs": [
    {
     "data": {
      "image/png": "[encoded data removed]",
      "text/plain": [
       "<Figure size 1440x1152 with 1 Axes>"
      ]
     },
     "metadata": {
      "needs_background": "light"
     },
     "output_type": "display_data"
    }
   ],
   "source": [
    "plt.figure(figsize=(20,16))\n",
    "\n",
    "\n",
    "sns.barplot(x = df_['EdLevel'],y = df_.index )\n",
    "\n",
    "plt.xticks(np.arange(0,60,5))\n",
    "\n",
    "plt.grid(color='r')\n",
    "\n",
    "plt.show()"
   ]
  },
  {
   "cell_type": "code",
   "execution_count": 39,
   "metadata": {},
   "outputs": [
    {
     "data": {
      "text/plain": [
       "'What was your primary field of study?'"
      ]
     },
     "execution_count": 39,
     "metadata": {},
     "output_type": "execute_result"
    }
   ],
   "source": [
    "schema['UndergradMajor']"
   ]
  },
  {
   "cell_type": "code",
   "execution_count": 40,
   "metadata": {},
   "outputs": [
    {
     "data": {
      "text/html": [
       "<div>\n",
       "<style scoped>\n",
       "    .dataframe tbody tr th:only-of-type {\n",
       "        vertical-align: middle;\n",
       "    }\n",
       "\n",
       "    .dataframe tbody tr th {\n",
       "        vertical-align: top;\n",
       "    }\n",
       "\n",
       "    .dataframe thead th {\n",
       "        text-align: right;\n",
       "    }\n",
       "</style>\n",
       "<table border=\"1\" class=\"dataframe\">\n",
       "  <thead>\n",
       "    <tr style=\"text-align: right;\">\n",
       "      <th></th>\n",
       "      <th>UndergradMajor</th>\n",
       "    </tr>\n",
       "  </thead>\n",
       "  <tbody>\n",
       "    <tr>\n",
       "      <th>Computer science, computer engineering, or software engineering</th>\n",
       "      <td>61.939193</td>\n",
       "    </tr>\n",
       "    <tr>\n",
       "      <th>Another engineering discipline (such as civil, electrical, mechanical, etc.)</th>\n",
       "      <td>9.354195</td>\n",
       "    </tr>\n",
       "    <tr>\n",
       "      <th>Information systems, information technology, or system administration</th>\n",
       "      <td>7.983168</td>\n",
       "    </tr>\n",
       "    <tr>\n",
       "      <th>A natural science (such as biology, chemistry, physics, etc.)</th>\n",
       "      <td>4.316561</td>\n",
       "    </tr>\n",
       "    <tr>\n",
       "      <th>Mathematics or statistics</th>\n",
       "      <td>3.627097</td>\n",
       "    </tr>\n",
       "    <tr>\n",
       "      <th>Web development or web design</th>\n",
       "      <td>3.502637</td>\n",
       "    </tr>\n",
       "    <tr>\n",
       "      <th>A business discipline (such as accounting, finance, marketing, etc.)</th>\n",
       "      <td>2.700567</td>\n",
       "    </tr>\n",
       "    <tr>\n",
       "      <th>A humanities discipline (such as literature, history, philosophy, etc.)</th>\n",
       "      <td>1.969616</td>\n",
       "    </tr>\n",
       "    <tr>\n",
       "      <th>A social science (such as anthropology, psychology, political science, etc.)</th>\n",
       "      <td>1.821450</td>\n",
       "    </tr>\n",
       "    <tr>\n",
       "      <th>Fine arts or performing arts (such as graphic design, music, studio art, etc.)</th>\n",
       "      <td>1.412513</td>\n",
       "    </tr>\n",
       "    <tr>\n",
       "      <th>I never declared a major</th>\n",
       "      <td>0.885043</td>\n",
       "    </tr>\n",
       "    <tr>\n",
       "      <th>A health science (such as nursing, pharmacy, radiology, etc.)</th>\n",
       "      <td>0.487959</td>\n",
       "    </tr>\n",
       "  </tbody>\n",
       "</table>\n",
       "</div>"
      ],
      "text/plain": [
       "                                                    UndergradMajor\n",
       "Computer science, computer engineering, or soft...       61.939193\n",
       "Another engineering discipline (such as civil, ...        9.354195\n",
       "Information systems, information technology, or...        7.983168\n",
       "A natural science (such as biology, chemistry, ...        4.316561\n",
       "Mathematics or statistics                                 3.627097\n",
       "Web development or web design                             3.502637\n",
       "A business discipline (such as accounting, fina...        2.700567\n",
       "A humanities discipline (such as literature, hi...        1.969616\n",
       "A social science (such as anthropology, psychol...        1.821450\n",
       "Fine arts or performing arts (such as graphic d...        1.412513\n",
       "I never declared a major                                  0.885043\n",
       "A health science (such as nursing, pharmacy, ra...        0.487959"
      ]
     },
     "execution_count": 40,
     "metadata": {},
     "output_type": "execute_result"
    }
   ],
   "source": [
    "df_ = (survey_df['UndergradMajor'].value_counts(normalize=True)*100).to_frame()\n",
    "df_"
   ]
  },
  {
   "cell_type": "code",
   "execution_count": 41,
   "metadata": {},
   "outputs": [
    {
     "data": {
      "image/png": "[encoded data removed]",
      "text/plain": [
       "<Figure size 1440x1152 with 1 Axes>"
      ]
     },
     "metadata": {
      "needs_background": "light"
     },
     "output_type": "display_data"
    }
   ],
   "source": [
    "# undergrad data : (percentage)\n",
    "\n",
    "plt.figure(figsize=(20,16))\n",
    "\n",
    "\n",
    "sns.barplot(x = df_['UndergradMajor'],y = df_.index )\n",
    "\n",
    "plt.xticks(np.arange(0,60,5))\n",
    "\n",
    "plt.grid(color='r')\n",
    "\n",
    "plt.show()"
   ]
  },
  {
   "cell_type": "code",
   "execution_count": 42,
   "metadata": {},
   "outputs": [
    {
     "data": {
      "text/plain": [
       "'How important is a formal education, such as a university degree in computer science, to your career?'"
      ]
     },
     "execution_count": 42,
     "metadata": {},
     "output_type": "execute_result"
    }
   ],
   "source": [
    "schema['NEWEdImpt']"
   ]
  },
  {
   "cell_type": "code",
   "execution_count": 43,
   "metadata": {},
   "outputs": [
    {
     "data": {
      "text/plain": [
       "Fairly important                      12588\n",
       "Very important                        11783\n",
       "Somewhat important                    11298\n",
       "Not at all important/not necessary     7707\n",
       "Critically important                   4716\n",
       "Name: NEWEdImpt, dtype: int64"
      ]
     },
     "execution_count": 43,
     "metadata": {},
     "output_type": "execute_result"
    }
   ],
   "source": [
    "c = survey_df['NEWEdImpt'].value_counts()\n",
    "c"
   ]
  },
  {
   "cell_type": "code",
   "execution_count": 44,
   "metadata": {},
   "outputs": [
    {
     "data": {
      "image/png": "[encoded data removed]",
      "text/plain": [
       "<Figure size 648x360 with 1 Axes>"
      ]
     },
     "metadata": {},
     "output_type": "display_data"
    }
   ],
   "source": [
    "plt.pie(c,labels=c.index, autopct='%1.1f%%')\n",
    "    \n",
    "plt.show()"
   ]
  },
  {
   "cell_type": "code",
   "execution_count": 45,
   "metadata": {},
   "outputs": [
    {
     "data": {
      "text/plain": [
       "'Which of the following best describes your current employment status?'"
      ]
     },
     "execution_count": 45,
     "metadata": {},
     "output_type": "execute_result"
    }
   ],
   "source": [
    "schema['Employment']"
   ]
  },
  {
   "cell_type": "code",
   "execution_count": 46,
   "metadata": {},
   "outputs": [
    {
     "data": {
      "image/png": "[encoded data removed]",
      "text/plain": [
       "<Figure size 648x360 with 1 Axes>"
      ]
     },
     "metadata": {
      "needs_background": "light"
     },
     "output_type": "display_data"
    }
   ],
   "source": [
    "(survey_df['Employment'].value_counts(normalize=True, ascending=True)*100).plot(kind='barh',color='g')\n",
    "\n",
    "plt.title(schema['Employment'])\n",
    "plt.xlabel('Percentage')\n",
    "\n",
    "plt.show()"
   ]
  },
  {
   "cell_type": "markdown",
   "metadata": {},
   "source": [
    "### Map the different employments into different groups :"
   ]
  },
  {
   "cell_type": "code",
   "execution_count": 47,
   "metadata": {},
   "outputs": [
    {
     "data": {
      "text/plain": [
       "array(['Independent contractor, freelancer, or self-employed',\n",
       "       'Employed full-time', nan, 'Student',\n",
       "       'Not employed, but looking for work', 'Employed part-time',\n",
       "       'Retired', 'Not employed, and not looking for work'], dtype=object)"
      ]
     },
     "execution_count": 47,
     "metadata": {},
     "output_type": "execute_result"
    }
   ],
   "source": [
    "survey_df['Employment'].unique()"
   ]
  },
  {
   "cell_type": "code",
   "execution_count": 48,
   "metadata": {},
   "outputs": [
    {
     "data": {
      "text/plain": [
       "0        Professional\n",
       "1        Professional\n",
       "2                 NaN\n",
       "3                 NaN\n",
       "4        Professional\n",
       "             ...     \n",
       "64456    Professional\n",
       "64457    Professional\n",
       "64458             NaN\n",
       "64459    Professional\n",
       "64460    Professional\n",
       "Name: Employment, Length: 64306, dtype: object"
      ]
     },
     "execution_count": 48,
     "metadata": {},
     "output_type": "execute_result"
    }
   ],
   "source": [
    "# add a new column EmploymentType :\n",
    "# Enthusiast : Student, Not employed, but looking for work\n",
    "# Professional :Independent contractor, freelancer, Employed full-time, Employed part-time\n",
    "# Other :Retired, Not employed, and not looking for work\n",
    "\n",
    "mapping = {'Student':'Enthusiast','Not employed, but looking for work':'Enthusiast',\n",
    "          'Independent contractor, freelancer, or self-employed':'Professional','Employed full-time':'Professional','Employed part-time':'Professional',\n",
    "          'Retired':'other','Not employed, and not looking for work':'other'}\n",
    "\n",
    "survey_df['Employment'].map(mapping)\n"
   ]
  },
  {
   "cell_type": "code",
   "execution_count": 49,
   "metadata": {},
   "outputs": [],
   "source": [
    "survey_df['EmploymentType'] = survey_df['Employment'].map(mapping)"
   ]
  },
  {
   "cell_type": "code",
   "execution_count": 50,
   "metadata": {},
   "outputs": [
    {
     "data": {
      "text/html": [
       "<div>\n",
       "<style scoped>\n",
       "    .dataframe tbody tr th:only-of-type {\n",
       "        vertical-align: middle;\n",
       "    }\n",
       "\n",
       "    .dataframe tbody tr th {\n",
       "        vertical-align: top;\n",
       "    }\n",
       "\n",
       "    .dataframe thead th {\n",
       "        text-align: right;\n",
       "    }\n",
       "</style>\n",
       "<table border=\"1\" class=\"dataframe\">\n",
       "  <thead>\n",
       "    <tr style=\"text-align: right;\">\n",
       "      <th></th>\n",
       "      <th>Country</th>\n",
       "      <th>Age</th>\n",
       "      <th>Gender</th>\n",
       "      <th>EdLevel</th>\n",
       "      <th>UndergradMajor</th>\n",
       "      <th>Hobbyist</th>\n",
       "      <th>Age1stCode</th>\n",
       "      <th>YearsCode</th>\n",
       "      <th>YearsCodePro</th>\n",
       "      <th>LanguageWorkedWith</th>\n",
       "      <th>...</th>\n",
       "      <th>NEWLearn</th>\n",
       "      <th>NEWStuck</th>\n",
       "      <th>Employment</th>\n",
       "      <th>DevType</th>\n",
       "      <th>WorkWeekHrs</th>\n",
       "      <th>JobSat</th>\n",
       "      <th>JobFactors</th>\n",
       "      <th>NEWOvertime</th>\n",
       "      <th>NEWEdImpt</th>\n",
       "      <th>EmploymentType</th>\n",
       "    </tr>\n",
       "  </thead>\n",
       "  <tbody>\n",
       "    <tr>\n",
       "      <th>16953</th>\n",
       "      <td>India</td>\n",
       "      <td>25.0</td>\n",
       "      <td>Man</td>\n",
       "      <td>Bachelor’s degree (B.A., B.S., B.Eng., etc.)</td>\n",
       "      <td>Computer science, computer engineering, or sof...</td>\n",
       "      <td>Yes</td>\n",
       "      <td>17.0</td>\n",
       "      <td>7.0</td>\n",
       "      <td>3.0</td>\n",
       "      <td>C;C++;Java;Kotlin;Objective-C;Python;Swift</td>\n",
       "      <td>...</td>\n",
       "      <td>NaN</td>\n",
       "      <td>Call a coworker or friend;Visit Stack Overflow...</td>\n",
       "      <td>Employed full-time</td>\n",
       "      <td>Developer, mobile;Educator</td>\n",
       "      <td>50.0</td>\n",
       "      <td>Slightly satisfied</td>\n",
       "      <td>Specific department or team I’d be working on;...</td>\n",
       "      <td>Sometimes: 1-2 days per month but less than we...</td>\n",
       "      <td>Very important</td>\n",
       "      <td>Professional</td>\n",
       "    </tr>\n",
       "    <tr>\n",
       "      <th>3954</th>\n",
       "      <td>United States</td>\n",
       "      <td>NaN</td>\n",
       "      <td>Man</td>\n",
       "      <td>Bachelor’s degree (B.A., B.S., B.Eng., etc.)</td>\n",
       "      <td>Computer science, computer engineering, or sof...</td>\n",
       "      <td>No</td>\n",
       "      <td>16.0</td>\n",
       "      <td>8.0</td>\n",
       "      <td>4.0</td>\n",
       "      <td>HTML/CSS;Java;JavaScript;Kotlin;PHP;Python;SQL...</td>\n",
       "      <td>...</td>\n",
       "      <td>Once a year</td>\n",
       "      <td>Meditate;Call a coworker or friend;Visit Stack...</td>\n",
       "      <td>Employed full-time</td>\n",
       "      <td>Engineer, site reliability;Engineering manager...</td>\n",
       "      <td>5.0</td>\n",
       "      <td>Very satisfied</td>\n",
       "      <td>How widely used or impactful my work output wo...</td>\n",
       "      <td>Often: 1-2 days per week or more</td>\n",
       "      <td>Very important</td>\n",
       "      <td>Professional</td>\n",
       "    </tr>\n",
       "    <tr>\n",
       "      <th>5487</th>\n",
       "      <td>United States</td>\n",
       "      <td>23.0</td>\n",
       "      <td>Man</td>\n",
       "      <td>Bachelor’s degree (B.A., B.S., B.Eng., etc.)</td>\n",
       "      <td>Computer science, computer engineering, or sof...</td>\n",
       "      <td>Yes</td>\n",
       "      <td>16.0</td>\n",
       "      <td>7.0</td>\n",
       "      <td>NaN</td>\n",
       "      <td>Bash/Shell/PowerShell;C;HTML/CSS;Java;JavaScri...</td>\n",
       "      <td>...</td>\n",
       "      <td>Once a year</td>\n",
       "      <td>Call a coworker or friend;Visit Stack Overflow...</td>\n",
       "      <td>Employed full-time</td>\n",
       "      <td>Developer, front-end;Developer, full-stack</td>\n",
       "      <td>35.0</td>\n",
       "      <td>Slightly satisfied</td>\n",
       "      <td>Flex time or a flexible schedule;Languages, fr...</td>\n",
       "      <td>Rarely: 1-2 days per year or less</td>\n",
       "      <td>Very important</td>\n",
       "      <td>Professional</td>\n",
       "    </tr>\n",
       "  </tbody>\n",
       "</table>\n",
       "<p>3 rows × 21 columns</p>\n",
       "</div>"
      ],
      "text/plain": [
       "             Country   Age Gender  \\\n",
       "16953          India  25.0    Man   \n",
       "3954   United States   NaN    Man   \n",
       "5487   United States  23.0    Man   \n",
       "\n",
       "                                            EdLevel  \\\n",
       "16953  Bachelor’s degree (B.A., B.S., B.Eng., etc.)   \n",
       "3954   Bachelor’s degree (B.A., B.S., B.Eng., etc.)   \n",
       "5487   Bachelor’s degree (B.A., B.S., B.Eng., etc.)   \n",
       "\n",
       "                                          UndergradMajor Hobbyist  Age1stCode  \\\n",
       "16953  Computer science, computer engineering, or sof...      Yes        17.0   \n",
       "3954   Computer science, computer engineering, or sof...       No        16.0   \n",
       "5487   Computer science, computer engineering, or sof...      Yes        16.0   \n",
       "\n",
       "       YearsCode  YearsCodePro  \\\n",
       "16953        7.0           3.0   \n",
       "3954         8.0           4.0   \n",
       "5487         7.0           NaN   \n",
       "\n",
       "                                      LanguageWorkedWith  ...     NEWLearn  \\\n",
       "16953         C;C++;Java;Kotlin;Objective-C;Python;Swift  ...          NaN   \n",
       "3954   HTML/CSS;Java;JavaScript;Kotlin;PHP;Python;SQL...  ...  Once a year   \n",
       "5487   Bash/Shell/PowerShell;C;HTML/CSS;Java;JavaScri...  ...  Once a year   \n",
       "\n",
       "                                                NEWStuck          Employment  \\\n",
       "16953  Call a coworker or friend;Visit Stack Overflow...  Employed full-time   \n",
       "3954   Meditate;Call a coworker or friend;Visit Stack...  Employed full-time   \n",
       "5487   Call a coworker or friend;Visit Stack Overflow...  Employed full-time   \n",
       "\n",
       "                                                 DevType WorkWeekHrs  \\\n",
       "16953                         Developer, mobile;Educator        50.0   \n",
       "3954   Engineer, site reliability;Engineering manager...         5.0   \n",
       "5487          Developer, front-end;Developer, full-stack        35.0   \n",
       "\n",
       "                   JobSat                                         JobFactors  \\\n",
       "16953  Slightly satisfied  Specific department or team I’d be working on;...   \n",
       "3954       Very satisfied  How widely used or impactful my work output wo...   \n",
       "5487   Slightly satisfied  Flex time or a flexible schedule;Languages, fr...   \n",
       "\n",
       "                                             NEWOvertime       NEWEdImpt  \\\n",
       "16953  Sometimes: 1-2 days per month but less than we...  Very important   \n",
       "3954                    Often: 1-2 days per week or more  Very important   \n",
       "5487                   Rarely: 1-2 days per year or less  Very important   \n",
       "\n",
       "      EmploymentType  \n",
       "16953   Professional  \n",
       "3954    Professional  \n",
       "5487    Professional  \n",
       "\n",
       "[3 rows x 21 columns]"
      ]
     },
     "execution_count": 50,
     "metadata": {},
     "output_type": "execute_result"
    }
   ],
   "source": [
    "survey_df.sample(3)"
   ]
  },
  {
   "cell_type": "markdown",
   "metadata": {},
   "source": [
    "### Analyze the different type of Developers :"
   ]
  },
  {
   "cell_type": "code",
   "execution_count": 51,
   "metadata": {
    "scrolled": true
   },
   "outputs": [
    {
     "data": {
      "text/plain": [
       "'Which of the following describe you? Please select all that apply.'"
      ]
     },
     "execution_count": 51,
     "metadata": {},
     "output_type": "execute_result"
    }
   ],
   "source": [
    "schema['DevType']"
   ]
  },
  {
   "cell_type": "code",
   "execution_count": 52,
   "metadata": {},
   "outputs": [
    {
     "data": {
      "text/html": [
       "<div>\n",
       "<style scoped>\n",
       "    .dataframe tbody tr th:only-of-type {\n",
       "        vertical-align: middle;\n",
       "    }\n",
       "\n",
       "    .dataframe tbody tr th {\n",
       "        vertical-align: top;\n",
       "    }\n",
       "\n",
       "    .dataframe thead th {\n",
       "        text-align: right;\n",
       "    }\n",
       "</style>\n",
       "<table border=\"1\" class=\"dataframe\">\n",
       "  <thead>\n",
       "    <tr style=\"text-align: right;\">\n",
       "      <th></th>\n",
       "      <th>DevType</th>\n",
       "    </tr>\n",
       "  </thead>\n",
       "  <tbody>\n",
       "    <tr>\n",
       "      <th>Developer, full-stack</th>\n",
       "      <td>4396</td>\n",
       "    </tr>\n",
       "    <tr>\n",
       "      <th>Developer, back-end</th>\n",
       "      <td>3056</td>\n",
       "    </tr>\n",
       "    <tr>\n",
       "      <th>Developer, back-end;Developer, front-end;Developer, full-stack</th>\n",
       "      <td>2214</td>\n",
       "    </tr>\n",
       "    <tr>\n",
       "      <th>Developer, back-end;Developer, full-stack</th>\n",
       "      <td>1465</td>\n",
       "    </tr>\n",
       "    <tr>\n",
       "      <th>Developer, front-end</th>\n",
       "      <td>1390</td>\n",
       "    </tr>\n",
       "    <tr>\n",
       "      <th>...</th>\n",
       "      <td>...</td>\n",
       "    </tr>\n",
       "    <tr>\n",
       "      <th>Developer, full-stack;Scientist;Senior executive/VP</th>\n",
       "      <td>1</td>\n",
       "    </tr>\n",
       "    <tr>\n",
       "      <th>Developer, back-end;Developer, front-end;Developer, full-stack;Developer, game or graphics;Developer, mobile;Engineer, site reliability;System administrator</th>\n",
       "      <td>1</td>\n",
       "    </tr>\n",
       "    <tr>\n",
       "      <th>Designer;Developer, back-end;Developer, embedded applications or devices;Developer, front-end;Developer, full-stack;Developer, game or graphics;Developer, mobile;Engineer, data</th>\n",
       "      <td>1</td>\n",
       "    </tr>\n",
       "    <tr>\n",
       "      <th>Data scientist or machine learning specialist;Developer, back-end;Developer, full-stack;Developer, game or graphics;Developer, mobile;Scientist</th>\n",
       "      <td>1</td>\n",
       "    </tr>\n",
       "    <tr>\n",
       "      <th>Database administrator;Developer, back-end;Developer, desktop or enterprise applications;Developer, front-end;Developer, full-stack;Developer, mobile;Developer, QA or test;DevOps specialist;Engineer, site reliability;Engineering manager;Senior executive/VP;System administrator</th>\n",
       "      <td>1</td>\n",
       "    </tr>\n",
       "  </tbody>\n",
       "</table>\n",
       "<p>8213 rows × 1 columns</p>\n",
       "</div>"
      ],
      "text/plain": [
       "                                                    DevType\n",
       "Developer, full-stack                                  4396\n",
       "Developer, back-end                                    3056\n",
       "Developer, back-end;Developer, front-end;Develo...     2214\n",
       "Developer, back-end;Developer, full-stack              1465\n",
       "Developer, front-end                                   1390\n",
       "...                                                     ...\n",
       "Developer, full-stack;Scientist;Senior executiv...        1\n",
       "Developer, back-end;Developer, front-end;Develo...        1\n",
       "Designer;Developer, back-end;Developer, embedde...        1\n",
       "Data scientist or machine learning specialist;D...        1\n",
       "Database administrator;Developer, back-end;Deve...        1\n",
       "\n",
       "[8213 rows x 1 columns]"
      ]
     },
     "execution_count": 52,
     "metadata": {},
     "output_type": "execute_result"
    }
   ],
   "source": [
    "(survey_df['DevType'].value_counts()).to_frame()"
   ]
  },
  {
   "cell_type": "markdown",
   "metadata": {},
   "source": [
    "##### Split the DevType column :"
   ]
  },
  {
   "cell_type": "code",
   "execution_count": 53,
   "metadata": {},
   "outputs": [
    {
     "data": {
      "text/html": [
       "<div>\n",
       "<style scoped>\n",
       "    .dataframe tbody tr th:only-of-type {\n",
       "        vertical-align: middle;\n",
       "    }\n",
       "\n",
       "    .dataframe tbody tr th {\n",
       "        vertical-align: top;\n",
       "    }\n",
       "\n",
       "    .dataframe thead th {\n",
       "        text-align: right;\n",
       "    }\n",
       "</style>\n",
       "<table border=\"1\" class=\"dataframe\">\n",
       "  <thead>\n",
       "    <tr style=\"text-align: right;\">\n",
       "      <th></th>\n",
       "      <th>splited_DevType</th>\n",
       "    </tr>\n",
       "  </thead>\n",
       "  <tbody>\n",
       "    <tr>\n",
       "      <th>0</th>\n",
       "      <td>[Developer, desktop or enterprise applications...</td>\n",
       "    </tr>\n",
       "    <tr>\n",
       "      <th>1</th>\n",
       "      <td>[Developer, full-stack, Developer, mobile]</td>\n",
       "    </tr>\n",
       "    <tr>\n",
       "      <th>2</th>\n",
       "      <td>NaN</td>\n",
       "    </tr>\n",
       "    <tr>\n",
       "      <th>3</th>\n",
       "      <td>NaN</td>\n",
       "    </tr>\n",
       "    <tr>\n",
       "      <th>4</th>\n",
       "      <td>NaN</td>\n",
       "    </tr>\n",
       "  </tbody>\n",
       "</table>\n",
       "</div>"
      ],
      "text/plain": [
       "                                     splited_DevType\n",
       "0  [Developer, desktop or enterprise applications...\n",
       "1         [Developer, full-stack, Developer, mobile]\n",
       "2                                                NaN\n",
       "3                                                NaN\n",
       "4                                                NaN"
      ]
     },
     "execution_count": 53,
     "metadata": {},
     "output_type": "execute_result"
    }
   ],
   "source": [
    "splited_df = (survey_df['DevType'].str.split(\";\", n = -1)).to_frame().rename(columns={'DevType':'splited_DevType'})\n",
    "splited_df.head()"
   ]
  },
  {
   "cell_type": "code",
   "execution_count": 54,
   "metadata": {},
   "outputs": [
    {
     "data": {
      "text/plain": [
       "['Developer, desktop or enterprise applications', 'Developer, full-stack']"
      ]
     },
     "execution_count": 54,
     "metadata": {},
     "output_type": "execute_result"
    }
   ],
   "source": [
    "# to make sure the splitting is done properly :\n",
    "splited_df.loc[0,'splited_DevType']"
   ]
  },
  {
   "cell_type": "code",
   "execution_count": 55,
   "metadata": {},
   "outputs": [
    {
     "data": {
      "text/plain": [
       "['Engineering manager',\n",
       " 'Academic researcher',\n",
       " 'Engineer, data',\n",
       " 'Developer, back-end',\n",
       " 'Designer',\n",
       " 'Database administrator',\n",
       " 'Marketing or sales professional',\n",
       " 'Scientist',\n",
       " 'Senior executive/VP',\n",
       " 'Educator',\n",
       " 'Developer, embedded applications or devices',\n",
       " 'Product manager',\n",
       " 'Engineer, site reliability',\n",
       " 'Developer, full-stack',\n",
       " 'Developer, desktop or enterprise applications',\n",
       " 'Data scientist or machine learning specialist',\n",
       " 'Data or business analyst',\n",
       " 'Developer, front-end',\n",
       " 'Developer, mobile',\n",
       " 'Developer, game or graphics',\n",
       " 'System administrator',\n",
       " 'DevOps specialist',\n",
       " 'Developer, QA or test']"
      ]
     },
     "execution_count": 55,
     "metadata": {},
     "output_type": "execute_result"
    }
   ],
   "source": [
    "#  to find all the unique developers present :\n",
    "main_list = []\n",
    "for vals in splited_df['splited_DevType'].dropna():\n",
    "        for val in vals:\n",
    "            if val not in main_list:\n",
    "                main_list.append(val)\n",
    "main_list = set(main_list)\n",
    "dev_list = list(main_list)\n",
    "dev_list"
   ]
  },
  {
   "cell_type": "code",
   "execution_count": 56,
   "metadata": {},
   "outputs": [
    {
     "data": {
      "text/plain": [
       "{'Developer, desktop or enterprise applications': 11687,\n",
       " 'Developer, full-stack': 26915,\n",
       " 'Developer, mobile': 9406,\n",
       " 'Designer': 5262,\n",
       " 'Developer, front-end': 18128,\n",
       " 'Developer, back-end': 26996,\n",
       " 'Developer, QA or test': 3893,\n",
       " 'DevOps specialist': 5915,\n",
       " 'Developer, game or graphics': 2751,\n",
       " 'Database administrator': 5658,\n",
       " 'Developer, embedded applications or devices': 4701,\n",
       " 'Engineer, data': 3700,\n",
       " 'Educator': 2895,\n",
       " 'System administrator': 5185,\n",
       " 'Engineering manager': 2699,\n",
       " 'Product manager': 2471,\n",
       " 'Data or business analyst': 3970,\n",
       " 'Academic researcher': 3502,\n",
       " 'Data scientist or machine learning specialist': 3939,\n",
       " 'Scientist': 2060,\n",
       " 'Senior executive/VP': 1292,\n",
       " 'Engineer, site reliability': 1921,\n",
       " 'Marketing or sales professional': 625}"
      ]
     },
     "execution_count": 56,
     "metadata": {},
     "output_type": "execute_result"
    }
   ],
   "source": [
    "# find the count of unique devs :\n",
    "from collections import Counter\n",
    "\n",
    "m_list = []\n",
    "\n",
    "for vals in splited_df['splited_DevType']:\n",
    "    try:\n",
    "        for i in vals:\n",
    "            m_list.append(i)\n",
    "    except:\n",
    "        pass\n",
    "        \n",
    "c = Counter(m_list)\n",
    "    \n",
    "count = dict(c)\n",
    "count\n"
   ]
  },
  {
   "cell_type": "code",
   "execution_count": 57,
   "metadata": {},
   "outputs": [
    {
     "data": {
      "text/html": [
       "<div>\n",
       "<style scoped>\n",
       "    .dataframe tbody tr th:only-of-type {\n",
       "        vertical-align: middle;\n",
       "    }\n",
       "\n",
       "    .dataframe tbody tr th {\n",
       "        vertical-align: top;\n",
       "    }\n",
       "\n",
       "    .dataframe thead th {\n",
       "        text-align: right;\n",
       "    }\n",
       "</style>\n",
       "<table border=\"1\" class=\"dataframe\">\n",
       "  <thead>\n",
       "    <tr style=\"text-align: right;\">\n",
       "      <th></th>\n",
       "      <th>Count</th>\n",
       "    </tr>\n",
       "  </thead>\n",
       "  <tbody>\n",
       "    <tr>\n",
       "      <th>Marketing or sales professional</th>\n",
       "      <td>625</td>\n",
       "    </tr>\n",
       "    <tr>\n",
       "      <th>Senior executive/VP</th>\n",
       "      <td>1292</td>\n",
       "    </tr>\n",
       "    <tr>\n",
       "      <th>Engineer, site reliability</th>\n",
       "      <td>1921</td>\n",
       "    </tr>\n",
       "    <tr>\n",
       "      <th>Scientist</th>\n",
       "      <td>2060</td>\n",
       "    </tr>\n",
       "    <tr>\n",
       "      <th>Product manager</th>\n",
       "      <td>2471</td>\n",
       "    </tr>\n",
       "    <tr>\n",
       "      <th>Engineering manager</th>\n",
       "      <td>2699</td>\n",
       "    </tr>\n",
       "    <tr>\n",
       "      <th>Developer, game or graphics</th>\n",
       "      <td>2751</td>\n",
       "    </tr>\n",
       "    <tr>\n",
       "      <th>Educator</th>\n",
       "      <td>2895</td>\n",
       "    </tr>\n",
       "    <tr>\n",
       "      <th>Academic researcher</th>\n",
       "      <td>3502</td>\n",
       "    </tr>\n",
       "    <tr>\n",
       "      <th>Engineer, data</th>\n",
       "      <td>3700</td>\n",
       "    </tr>\n",
       "    <tr>\n",
       "      <th>Developer, QA or test</th>\n",
       "      <td>3893</td>\n",
       "    </tr>\n",
       "    <tr>\n",
       "      <th>Data scientist or machine learning specialist</th>\n",
       "      <td>3939</td>\n",
       "    </tr>\n",
       "    <tr>\n",
       "      <th>Data or business analyst</th>\n",
       "      <td>3970</td>\n",
       "    </tr>\n",
       "    <tr>\n",
       "      <th>Developer, embedded applications or devices</th>\n",
       "      <td>4701</td>\n",
       "    </tr>\n",
       "    <tr>\n",
       "      <th>System administrator</th>\n",
       "      <td>5185</td>\n",
       "    </tr>\n",
       "    <tr>\n",
       "      <th>Designer</th>\n",
       "      <td>5262</td>\n",
       "    </tr>\n",
       "    <tr>\n",
       "      <th>Database administrator</th>\n",
       "      <td>5658</td>\n",
       "    </tr>\n",
       "    <tr>\n",
       "      <th>DevOps specialist</th>\n",
       "      <td>5915</td>\n",
       "    </tr>\n",
       "    <tr>\n",
       "      <th>Developer, mobile</th>\n",
       "      <td>9406</td>\n",
       "    </tr>\n",
       "    <tr>\n",
       "      <th>Developer, desktop or enterprise applications</th>\n",
       "      <td>11687</td>\n",
       "    </tr>\n",
       "    <tr>\n",
       "      <th>Developer, front-end</th>\n",
       "      <td>18128</td>\n",
       "    </tr>\n",
       "    <tr>\n",
       "      <th>Developer, full-stack</th>\n",
       "      <td>26915</td>\n",
       "    </tr>\n",
       "    <tr>\n",
       "      <th>Developer, back-end</th>\n",
       "      <td>26996</td>\n",
       "    </tr>\n",
       "  </tbody>\n",
       "</table>\n",
       "</div>"
      ],
      "text/plain": [
       "                                               Count\n",
       "Marketing or sales professional                  625\n",
       "Senior executive/VP                             1292\n",
       "Engineer, site reliability                      1921\n",
       "Scientist                                       2060\n",
       "Product manager                                 2471\n",
       "Engineering manager                             2699\n",
       "Developer, game or graphics                     2751\n",
       "Educator                                        2895\n",
       "Academic researcher                             3502\n",
       "Engineer, data                                  3700\n",
       "Developer, QA or test                           3893\n",
       "Data scientist or machine learning specialist   3939\n",
       "Data or business analyst                        3970\n",
       "Developer, embedded applications or devices     4701\n",
       "System administrator                            5185\n",
       "Designer                                        5262\n",
       "Database administrator                          5658\n",
       "DevOps specialist                               5915\n",
       "Developer, mobile                               9406\n",
       "Developer, desktop or enterprise applications  11687\n",
       "Developer, front-end                           18128\n",
       "Developer, full-stack                          26915\n",
       "Developer, back-end                            26996"
      ]
     },
     "execution_count": 57,
     "metadata": {},
     "output_type": "execute_result"
    }
   ],
   "source": [
    "count_df = pd.DataFrame(data=count.values(),index=count.keys(),columns=['Count'])\n",
    "count_df = count_df.sort_values('Count')\n",
    "count_df"
   ]
  },
  {
   "cell_type": "code",
   "execution_count": 58,
   "metadata": {},
   "outputs": [],
   "source": [
    "top_7 = count_df.iloc[-7:,:]"
   ]
  },
  {
   "cell_type": "code",
   "execution_count": 59,
   "metadata": {},
   "outputs": [
    {
     "data": {
      "text/plain": [
       "<AxesSubplot:>"
      ]
     },
     "execution_count": 59,
     "metadata": {},
     "output_type": "execute_result"
    },
    {
     "data": {
      "image/png": "[encoded data removed]",
      "text/plain": [
       "<Figure size 648x360 with 1 Axes>"
      ]
     },
     "metadata": {
      "needs_background": "light"
     },
     "output_type": "display_data"
    }
   ],
   "source": [
    "top_7.plot(kind='barh')"
   ]
  },
  {
   "cell_type": "markdown",
   "metadata": {},
   "source": [
    "### Find the developers percentage based on Gender :"
   ]
  },
  {
   "cell_type": "code",
   "execution_count": 60,
   "metadata": {},
   "outputs": [
    {
     "data": {
      "text/html": [
       "<div>\n",
       "<style scoped>\n",
       "    .dataframe tbody tr th:only-of-type {\n",
       "        vertical-align: middle;\n",
       "    }\n",
       "\n",
       "    .dataframe tbody tr th {\n",
       "        vertical-align: top;\n",
       "    }\n",
       "\n",
       "    .dataframe thead th {\n",
       "        text-align: right;\n",
       "    }\n",
       "</style>\n",
       "<table border=\"1\" class=\"dataframe\">\n",
       "  <thead>\n",
       "    <tr style=\"text-align: right;\">\n",
       "      <th></th>\n",
       "      <th>Country</th>\n",
       "      <th>Age</th>\n",
       "      <th>Gender</th>\n",
       "      <th>EdLevel</th>\n",
       "      <th>UndergradMajor</th>\n",
       "      <th>Hobbyist</th>\n",
       "      <th>Age1stCode</th>\n",
       "      <th>YearsCode</th>\n",
       "      <th>YearsCodePro</th>\n",
       "      <th>LanguageWorkedWith</th>\n",
       "      <th>...</th>\n",
       "      <th>NEWStuck</th>\n",
       "      <th>Employment</th>\n",
       "      <th>DevType</th>\n",
       "      <th>WorkWeekHrs</th>\n",
       "      <th>JobSat</th>\n",
       "      <th>JobFactors</th>\n",
       "      <th>NEWOvertime</th>\n",
       "      <th>NEWEdImpt</th>\n",
       "      <th>EmploymentType</th>\n",
       "      <th>splited_DevType</th>\n",
       "    </tr>\n",
       "  </thead>\n",
       "  <tbody>\n",
       "    <tr>\n",
       "      <th>0</th>\n",
       "      <td>Germany</td>\n",
       "      <td>NaN</td>\n",
       "      <td>Man</td>\n",
       "      <td>Master’s degree (M.A., M.S., M.Eng., MBA, etc.)</td>\n",
       "      <td>Computer science, computer engineering, or sof...</td>\n",
       "      <td>Yes</td>\n",
       "      <td>13.0</td>\n",
       "      <td>36.0</td>\n",
       "      <td>27.0</td>\n",
       "      <td>C#;HTML/CSS;JavaScript</td>\n",
       "      <td>...</td>\n",
       "      <td>Visit Stack Overflow;Go for a walk or other ph...</td>\n",
       "      <td>Independent contractor, freelancer, or self-em...</td>\n",
       "      <td>Developer, desktop or enterprise applications;...</td>\n",
       "      <td>50.0</td>\n",
       "      <td>Slightly satisfied</td>\n",
       "      <td>Languages, frameworks, and other technologies ...</td>\n",
       "      <td>Often: 1-2 days per week or more</td>\n",
       "      <td>Fairly important</td>\n",
       "      <td>Professional</td>\n",
       "      <td>[Developer, desktop or enterprise applications...</td>\n",
       "    </tr>\n",
       "    <tr>\n",
       "      <th>1</th>\n",
       "      <td>United Kingdom</td>\n",
       "      <td>NaN</td>\n",
       "      <td>NaN</td>\n",
       "      <td>Bachelor’s degree (B.A., B.S., B.Eng., etc.)</td>\n",
       "      <td>Computer science, computer engineering, or sof...</td>\n",
       "      <td>No</td>\n",
       "      <td>19.0</td>\n",
       "      <td>7.0</td>\n",
       "      <td>4.0</td>\n",
       "      <td>JavaScript;Swift</td>\n",
       "      <td>...</td>\n",
       "      <td>Visit Stack Overflow;Go for a walk or other ph...</td>\n",
       "      <td>Employed full-time</td>\n",
       "      <td>Developer, full-stack;Developer, mobile</td>\n",
       "      <td>NaN</td>\n",
       "      <td>Very dissatisfied</td>\n",
       "      <td>NaN</td>\n",
       "      <td>NaN</td>\n",
       "      <td>Fairly important</td>\n",
       "      <td>Professional</td>\n",
       "      <td>[Developer, full-stack, Developer, mobile]</td>\n",
       "    </tr>\n",
       "  </tbody>\n",
       "</table>\n",
       "<p>2 rows × 22 columns</p>\n",
       "</div>"
      ],
      "text/plain": [
       "          Country  Age Gender  \\\n",
       "0         Germany  NaN    Man   \n",
       "1  United Kingdom  NaN    NaN   \n",
       "\n",
       "                                           EdLevel  \\\n",
       "0  Master’s degree (M.A., M.S., M.Eng., MBA, etc.)   \n",
       "1     Bachelor’s degree (B.A., B.S., B.Eng., etc.)   \n",
       "\n",
       "                                      UndergradMajor Hobbyist  Age1stCode  \\\n",
       "0  Computer science, computer engineering, or sof...      Yes        13.0   \n",
       "1  Computer science, computer engineering, or sof...       No        19.0   \n",
       "\n",
       "   YearsCode  YearsCodePro      LanguageWorkedWith  ...  \\\n",
       "0       36.0          27.0  C#;HTML/CSS;JavaScript  ...   \n",
       "1        7.0           4.0        JavaScript;Swift  ...   \n",
       "\n",
       "                                            NEWStuck  \\\n",
       "0  Visit Stack Overflow;Go for a walk or other ph...   \n",
       "1  Visit Stack Overflow;Go for a walk or other ph...   \n",
       "\n",
       "                                          Employment  \\\n",
       "0  Independent contractor, freelancer, or self-em...   \n",
       "1                                 Employed full-time   \n",
       "\n",
       "                                             DevType WorkWeekHrs  \\\n",
       "0  Developer, desktop or enterprise applications;...        50.0   \n",
       "1            Developer, full-stack;Developer, mobile         NaN   \n",
       "\n",
       "               JobSat                                         JobFactors  \\\n",
       "0  Slightly satisfied  Languages, frameworks, and other technologies ...   \n",
       "1   Very dissatisfied                                                NaN   \n",
       "\n",
       "                        NEWOvertime         NEWEdImpt EmploymentType  \\\n",
       "0  Often: 1-2 days per week or more  Fairly important   Professional   \n",
       "1                               NaN  Fairly important   Professional   \n",
       "\n",
       "                                     splited_DevType  \n",
       "0  [Developer, desktop or enterprise applications...  \n",
       "1         [Developer, full-stack, Developer, mobile]  \n",
       "\n",
       "[2 rows x 22 columns]"
      ]
     },
     "execution_count": 60,
     "metadata": {},
     "output_type": "execute_result"
    }
   ],
   "source": [
    "survey_df_ = pd.concat([survey_df,splited_df],axis=1)\n",
    "survey_df_.head(2)"
   ]
  },
  {
   "cell_type": "code",
   "execution_count": 61,
   "metadata": {},
   "outputs": [
    {
     "data": {
      "text/html": [
       "<div>\n",
       "<style scoped>\n",
       "    .dataframe tbody tr th:only-of-type {\n",
       "        vertical-align: middle;\n",
       "    }\n",
       "\n",
       "    .dataframe tbody tr th {\n",
       "        vertical-align: top;\n",
       "    }\n",
       "\n",
       "    .dataframe thead th {\n",
       "        text-align: right;\n",
       "    }\n",
       "</style>\n",
       "<table border=\"1\" class=\"dataframe\">\n",
       "  <thead>\n",
       "    <tr style=\"text-align: right;\">\n",
       "      <th></th>\n",
       "      <th>Country</th>\n",
       "      <th>Age</th>\n",
       "      <th>Gender</th>\n",
       "      <th>EdLevel</th>\n",
       "      <th>UndergradMajor</th>\n",
       "      <th>Hobbyist</th>\n",
       "      <th>Age1stCode</th>\n",
       "      <th>YearsCode</th>\n",
       "      <th>YearsCodePro</th>\n",
       "      <th>LanguageWorkedWith</th>\n",
       "      <th>...</th>\n",
       "      <th>NEWStuck</th>\n",
       "      <th>Employment</th>\n",
       "      <th>DevType</th>\n",
       "      <th>WorkWeekHrs</th>\n",
       "      <th>JobSat</th>\n",
       "      <th>JobFactors</th>\n",
       "      <th>NEWOvertime</th>\n",
       "      <th>NEWEdImpt</th>\n",
       "      <th>EmploymentType</th>\n",
       "      <th>splited_DevType</th>\n",
       "    </tr>\n",
       "  </thead>\n",
       "  <tbody>\n",
       "    <tr>\n",
       "      <th>34</th>\n",
       "      <td>United States</td>\n",
       "      <td>16.0</td>\n",
       "      <td>Woman</td>\n",
       "      <td>Bachelor’s degree (B.A., B.S., B.Eng., etc.)</td>\n",
       "      <td>Information systems, information technology, o...</td>\n",
       "      <td>Yes</td>\n",
       "      <td>13.0</td>\n",
       "      <td>3.0</td>\n",
       "      <td>NaN</td>\n",
       "      <td>HTML/CSS;Java;JavaScript;Ruby</td>\n",
       "      <td>...</td>\n",
       "      <td>Visit Stack Overflow;Go for a walk or other ph...</td>\n",
       "      <td>Not employed, but looking for work</td>\n",
       "      <td>Designer;Developer, front-end</td>\n",
       "      <td>NaN</td>\n",
       "      <td>NaN</td>\n",
       "      <td>Flex time or a flexible schedule;Remote work o...</td>\n",
       "      <td>NaN</td>\n",
       "      <td>NaN</td>\n",
       "      <td>Enthusiast</td>\n",
       "      <td>[Designer, Developer, front-end]</td>\n",
       "    </tr>\n",
       "    <tr>\n",
       "      <th>39</th>\n",
       "      <td>United States</td>\n",
       "      <td>20.0</td>\n",
       "      <td>Woman</td>\n",
       "      <td>Associate degree (A.A., A.S., etc.)</td>\n",
       "      <td>NaN</td>\n",
       "      <td>Yes</td>\n",
       "      <td>14.0</td>\n",
       "      <td>6.0</td>\n",
       "      <td>NaN</td>\n",
       "      <td>C;C#;C++;HTML/CSS;JavaScript;PHP;Python;SQL</td>\n",
       "      <td>...</td>\n",
       "      <td>NaN</td>\n",
       "      <td>Student</td>\n",
       "      <td>NaN</td>\n",
       "      <td>NaN</td>\n",
       "      <td>NaN</td>\n",
       "      <td>Industry that I’d be working in;Flex time or a...</td>\n",
       "      <td>NaN</td>\n",
       "      <td>NaN</td>\n",
       "      <td>Enthusiast</td>\n",
       "      <td>NaN</td>\n",
       "    </tr>\n",
       "  </tbody>\n",
       "</table>\n",
       "<p>2 rows × 22 columns</p>\n",
       "</div>"
      ],
      "text/plain": [
       "          Country   Age Gender                                       EdLevel  \\\n",
       "34  United States  16.0  Woman  Bachelor’s degree (B.A., B.S., B.Eng., etc.)   \n",
       "39  United States  20.0  Woman           Associate degree (A.A., A.S., etc.)   \n",
       "\n",
       "                                       UndergradMajor Hobbyist  Age1stCode  \\\n",
       "34  Information systems, information technology, o...      Yes        13.0   \n",
       "39                                                NaN      Yes        14.0   \n",
       "\n",
       "    YearsCode  YearsCodePro                           LanguageWorkedWith  ...  \\\n",
       "34        3.0           NaN                HTML/CSS;Java;JavaScript;Ruby  ...   \n",
       "39        6.0           NaN  C;C#;C++;HTML/CSS;JavaScript;PHP;Python;SQL  ...   \n",
       "\n",
       "                                             NEWStuck  \\\n",
       "34  Visit Stack Overflow;Go for a walk or other ph...   \n",
       "39                                                NaN   \n",
       "\n",
       "                            Employment                        DevType  \\\n",
       "34  Not employed, but looking for work  Designer;Developer, front-end   \n",
       "39                             Student                            NaN   \n",
       "\n",
       "   WorkWeekHrs JobSat                                         JobFactors  \\\n",
       "34         NaN    NaN  Flex time or a flexible schedule;Remote work o...   \n",
       "39         NaN    NaN  Industry that I’d be working in;Flex time or a...   \n",
       "\n",
       "   NEWOvertime NEWEdImpt EmploymentType                   splited_DevType  \n",
       "34         NaN       NaN     Enthusiast  [Designer, Developer, front-end]  \n",
       "39         NaN       NaN     Enthusiast                               NaN  \n",
       "\n",
       "[2 rows x 22 columns]"
      ]
     },
     "execution_count": 61,
     "metadata": {},
     "output_type": "execute_result"
    }
   ],
   "source": [
    "woman = survey_df_.loc[survey_df_['Gender'] == 'Woman',:]\n",
    "man = survey_df_.loc[survey_df_['Gender'] == 'Man',:]\n",
    "non_binary = survey_df_.loc[survey_df_['Gender'] == 'Non-binary, genderqueer, or gender non-conforming',:]\n",
    "\n",
    "woman.head(2)"
   ]
  },
  {
   "cell_type": "markdown",
   "metadata": {},
   "source": [
    "### woman count\n"
   ]
  },
  {
   "cell_type": "code",
   "execution_count": 62,
   "metadata": {},
   "outputs": [
    {
     "data": {
      "text/plain": [
       "{'Designer': 333,\n",
       " 'Developer, front-end': 1196,\n",
       " 'Developer, full-stack': 1476,\n",
       " 'Developer, back-end': 1329,\n",
       " 'Developer, desktop or enterprise applications': 433,\n",
       " 'Database administrator': 222,\n",
       " 'System administrator': 137,\n",
       " 'Developer, mobile': 458,\n",
       " 'Developer, QA or test': 251,\n",
       " 'Marketing or sales professional': 64,\n",
       " 'Developer, game or graphics': 105,\n",
       " 'Data or business analyst': 282,\n",
       " 'Data scientist or machine learning specialist': 306,\n",
       " 'Educator': 178,\n",
       " 'Engineer, data': 186,\n",
       " 'Developer, embedded applications or devices': 153,\n",
       " 'Engineering manager': 97,\n",
       " 'Product manager': 113,\n",
       " 'Senior executive/VP': 46,\n",
       " 'Academic researcher': 213,\n",
       " 'Scientist': 120,\n",
       " 'DevOps specialist': 154,\n",
       " 'Engineer, site reliability': 61}"
      ]
     },
     "execution_count": 62,
     "metadata": {},
     "output_type": "execute_result"
    }
   ],
   "source": [
    "m_list = []\n",
    "\n",
    "for vals in woman['splited_DevType'].dropna():\n",
    "    for i in vals:\n",
    "        m_list.append(i)\n",
    "        \n",
    "c = Counter(m_list)\n",
    "    \n",
    "count = dict(c)\n",
    "count"
   ]
  },
  {
   "cell_type": "code",
   "execution_count": 63,
   "metadata": {},
   "outputs": [
    {
     "data": {
      "text/html": [
       "<div>\n",
       "<style scoped>\n",
       "    .dataframe tbody tr th:only-of-type {\n",
       "        vertical-align: middle;\n",
       "    }\n",
       "\n",
       "    .dataframe tbody tr th {\n",
       "        vertical-align: top;\n",
       "    }\n",
       "\n",
       "    .dataframe thead th {\n",
       "        text-align: right;\n",
       "    }\n",
       "</style>\n",
       "<table border=\"1\" class=\"dataframe\">\n",
       "  <thead>\n",
       "    <tr style=\"text-align: right;\">\n",
       "      <th></th>\n",
       "      <th>Count</th>\n",
       "    </tr>\n",
       "  </thead>\n",
       "  <tbody>\n",
       "    <tr>\n",
       "      <th>Senior executive/VP</th>\n",
       "      <td>46</td>\n",
       "    </tr>\n",
       "    <tr>\n",
       "      <th>Engineer, site reliability</th>\n",
       "      <td>61</td>\n",
       "    </tr>\n",
       "    <tr>\n",
       "      <th>Marketing or sales professional</th>\n",
       "      <td>64</td>\n",
       "    </tr>\n",
       "    <tr>\n",
       "      <th>Engineering manager</th>\n",
       "      <td>97</td>\n",
       "    </tr>\n",
       "    <tr>\n",
       "      <th>Developer, game or graphics</th>\n",
       "      <td>105</td>\n",
       "    </tr>\n",
       "  </tbody>\n",
       "</table>\n",
       "</div>"
      ],
      "text/plain": [
       "                                 Count\n",
       "Senior executive/VP                 46\n",
       "Engineer, site reliability          61\n",
       "Marketing or sales professional     64\n",
       "Engineering manager                 97\n",
       "Developer, game or graphics        105"
      ]
     },
     "execution_count": 63,
     "metadata": {},
     "output_type": "execute_result"
    }
   ],
   "source": [
    "count_df_woman = pd.DataFrame(data=count.values(),index=count.keys(),columns=['Count'])\n",
    "count_df_woman = count_df_woman.sort_values('Count')\n",
    "count_df_woman.head()"
   ]
  },
  {
   "cell_type": "markdown",
   "metadata": {},
   "source": [
    "### man count"
   ]
  },
  {
   "cell_type": "code",
   "execution_count": 64,
   "metadata": {},
   "outputs": [
    {
     "data": {
      "text/plain": [
       "{'Developer, desktop or enterprise applications': 9803,\n",
       " 'Developer, full-stack': 22133,\n",
       " 'Designer': 4134,\n",
       " 'Developer, front-end': 14606,\n",
       " 'Developer, mobile': 7650,\n",
       " 'Developer, back-end': 22325,\n",
       " 'Developer, game or graphics': 2280,\n",
       " 'Database administrator': 4737,\n",
       " 'Developer, embedded applications or devices': 3863,\n",
       " 'Developer, QA or test': 3143,\n",
       " 'DevOps specialist': 5102,\n",
       " 'Engineer, data': 2994,\n",
       " 'Educator': 2342,\n",
       " 'System administrator': 4432,\n",
       " 'Engineering manager': 2258,\n",
       " 'Product manager': 2053,\n",
       " 'Data or business analyst': 3083,\n",
       " 'Academic researcher': 2742,\n",
       " 'Data scientist or machine learning specialist': 3049,\n",
       " 'Scientist': 1659,\n",
       " 'Senior executive/VP': 1047,\n",
       " 'Engineer, site reliability': 1617,\n",
       " 'Marketing or sales professional': 456}"
      ]
     },
     "execution_count": 64,
     "metadata": {},
     "output_type": "execute_result"
    }
   ],
   "source": [
    "m_list = []\n",
    "\n",
    "for vals in man['splited_DevType'].dropna():\n",
    "    for i in vals:\n",
    "        m_list.append(i)\n",
    "        \n",
    "c = Counter(m_list)\n",
    "    \n",
    "count = dict(c)\n",
    "count"
   ]
  },
  {
   "cell_type": "code",
   "execution_count": 65,
   "metadata": {},
   "outputs": [
    {
     "data": {
      "text/html": [
       "<div>\n",
       "<style scoped>\n",
       "    .dataframe tbody tr th:only-of-type {\n",
       "        vertical-align: middle;\n",
       "    }\n",
       "\n",
       "    .dataframe tbody tr th {\n",
       "        vertical-align: top;\n",
       "    }\n",
       "\n",
       "    .dataframe thead th {\n",
       "        text-align: right;\n",
       "    }\n",
       "</style>\n",
       "<table border=\"1\" class=\"dataframe\">\n",
       "  <thead>\n",
       "    <tr style=\"text-align: right;\">\n",
       "      <th></th>\n",
       "      <th>Count</th>\n",
       "    </tr>\n",
       "  </thead>\n",
       "  <tbody>\n",
       "    <tr>\n",
       "      <th>Marketing or sales professional</th>\n",
       "      <td>456</td>\n",
       "    </tr>\n",
       "    <tr>\n",
       "      <th>Senior executive/VP</th>\n",
       "      <td>1047</td>\n",
       "    </tr>\n",
       "    <tr>\n",
       "      <th>Engineer, site reliability</th>\n",
       "      <td>1617</td>\n",
       "    </tr>\n",
       "    <tr>\n",
       "      <th>Scientist</th>\n",
       "      <td>1659</td>\n",
       "    </tr>\n",
       "    <tr>\n",
       "      <th>Product manager</th>\n",
       "      <td>2053</td>\n",
       "    </tr>\n",
       "  </tbody>\n",
       "</table>\n",
       "</div>"
      ],
      "text/plain": [
       "                                 Count\n",
       "Marketing or sales professional    456\n",
       "Senior executive/VP               1047\n",
       "Engineer, site reliability        1617\n",
       "Scientist                         1659\n",
       "Product manager                   2053"
      ]
     },
     "execution_count": 65,
     "metadata": {},
     "output_type": "execute_result"
    }
   ],
   "source": [
    "count_df_man = pd.DataFrame(data=count.values(),index=count.keys(),columns=['Count'])\n",
    "count_df_man = count_df_man.sort_values('Count')\n",
    "count_df_man.head()"
   ]
  },
  {
   "cell_type": "markdown",
   "metadata": {},
   "source": [
    "### non_binary count\n"
   ]
  },
  {
   "cell_type": "code",
   "execution_count": 66,
   "metadata": {},
   "outputs": [
    {
     "data": {
      "text/plain": [
       "{'Developer, back-end': 160,\n",
       " 'Developer, full-stack': 162,\n",
       " 'Database administrator': 37,\n",
       " 'Designer': 42,\n",
       " 'Developer, front-end': 108,\n",
       " 'Engineer, site reliability': 21,\n",
       " 'System administrator': 48,\n",
       " 'Developer, desktop or enterprise applications': 62,\n",
       " 'Developer, mobile': 41,\n",
       " 'Scientist': 18,\n",
       " 'Engineer, data': 19,\n",
       " 'Developer, game or graphics': 33,\n",
       " 'DevOps specialist': 45,\n",
       " 'Developer, embedded applications or devices': 27,\n",
       " 'Data or business analyst': 26,\n",
       " 'Developer, QA or test': 28,\n",
       " 'Marketing or sales professional': 7,\n",
       " 'Data scientist or machine learning specialist': 23,\n",
       " 'Educator': 22,\n",
       " 'Academic researcher': 26,\n",
       " 'Product manager': 8,\n",
       " 'Senior executive/VP': 7,\n",
       " 'Engineering manager': 15}"
      ]
     },
     "execution_count": 66,
     "metadata": {},
     "output_type": "execute_result"
    }
   ],
   "source": [
    "m_list = []\n",
    "\n",
    "for vals in non_binary['splited_DevType'].dropna():\n",
    "    for i in vals:\n",
    "        m_list.append(i)\n",
    "        \n",
    "c = Counter(m_list)\n",
    "    \n",
    "count = dict(c)\n",
    "count"
   ]
  },
  {
   "cell_type": "code",
   "execution_count": 67,
   "metadata": {},
   "outputs": [
    {
     "data": {
      "text/html": [
       "<div>\n",
       "<style scoped>\n",
       "    .dataframe tbody tr th:only-of-type {\n",
       "        vertical-align: middle;\n",
       "    }\n",
       "\n",
       "    .dataframe tbody tr th {\n",
       "        vertical-align: top;\n",
       "    }\n",
       "\n",
       "    .dataframe thead th {\n",
       "        text-align: right;\n",
       "    }\n",
       "</style>\n",
       "<table border=\"1\" class=\"dataframe\">\n",
       "  <thead>\n",
       "    <tr style=\"text-align: right;\">\n",
       "      <th></th>\n",
       "      <th>Count</th>\n",
       "    </tr>\n",
       "  </thead>\n",
       "  <tbody>\n",
       "    <tr>\n",
       "      <th>Marketing or sales professional</th>\n",
       "      <td>7</td>\n",
       "    </tr>\n",
       "    <tr>\n",
       "      <th>Senior executive/VP</th>\n",
       "      <td>7</td>\n",
       "    </tr>\n",
       "    <tr>\n",
       "      <th>Product manager</th>\n",
       "      <td>8</td>\n",
       "    </tr>\n",
       "    <tr>\n",
       "      <th>Engineering manager</th>\n",
       "      <td>15</td>\n",
       "    </tr>\n",
       "    <tr>\n",
       "      <th>Scientist</th>\n",
       "      <td>18</td>\n",
       "    </tr>\n",
       "  </tbody>\n",
       "</table>\n",
       "</div>"
      ],
      "text/plain": [
       "                                 Count\n",
       "Marketing or sales professional      7\n",
       "Senior executive/VP                  7\n",
       "Product manager                      8\n",
       "Engineering manager                 15\n",
       "Scientist                           18"
      ]
     },
     "execution_count": 67,
     "metadata": {},
     "output_type": "execute_result"
    }
   ],
   "source": [
    "count_df_non_binary = pd.DataFrame(data=count.values(),index=count.keys(),columns=['Count'])\n",
    "count_df_non_binary = count_df_non_binary.sort_values('Count')\n",
    "count_df_non_binary.head()"
   ]
  },
  {
   "cell_type": "code",
   "execution_count": 68,
   "metadata": {},
   "outputs": [
    {
     "data": {
      "text/html": [
       "<div>\n",
       "<style scoped>\n",
       "    .dataframe tbody tr th:only-of-type {\n",
       "        vertical-align: middle;\n",
       "    }\n",
       "\n",
       "    .dataframe tbody tr th {\n",
       "        vertical-align: top;\n",
       "    }\n",
       "\n",
       "    .dataframe thead th {\n",
       "        text-align: right;\n",
       "    }\n",
       "</style>\n",
       "<table border=\"1\" class=\"dataframe\">\n",
       "  <thead>\n",
       "    <tr style=\"text-align: right;\">\n",
       "      <th></th>\n",
       "      <th>Count_man</th>\n",
       "      <th>Count_woman</th>\n",
       "    </tr>\n",
       "  </thead>\n",
       "  <tbody>\n",
       "    <tr>\n",
       "      <th>Marketing or sales professional</th>\n",
       "      <td>456</td>\n",
       "      <td>64</td>\n",
       "    </tr>\n",
       "    <tr>\n",
       "      <th>Senior executive/VP</th>\n",
       "      <td>1047</td>\n",
       "      <td>46</td>\n",
       "    </tr>\n",
       "    <tr>\n",
       "      <th>Engineer, site reliability</th>\n",
       "      <td>1617</td>\n",
       "      <td>61</td>\n",
       "    </tr>\n",
       "    <tr>\n",
       "      <th>Scientist</th>\n",
       "      <td>1659</td>\n",
       "      <td>120</td>\n",
       "    </tr>\n",
       "    <tr>\n",
       "      <th>Product manager</th>\n",
       "      <td>2053</td>\n",
       "      <td>113</td>\n",
       "    </tr>\n",
       "    <tr>\n",
       "      <th>Engineering manager</th>\n",
       "      <td>2258</td>\n",
       "      <td>97</td>\n",
       "    </tr>\n",
       "    <tr>\n",
       "      <th>Developer, game or graphics</th>\n",
       "      <td>2280</td>\n",
       "      <td>105</td>\n",
       "    </tr>\n",
       "    <tr>\n",
       "      <th>Educator</th>\n",
       "      <td>2342</td>\n",
       "      <td>178</td>\n",
       "    </tr>\n",
       "    <tr>\n",
       "      <th>Academic researcher</th>\n",
       "      <td>2742</td>\n",
       "      <td>213</td>\n",
       "    </tr>\n",
       "    <tr>\n",
       "      <th>Engineer, data</th>\n",
       "      <td>2994</td>\n",
       "      <td>186</td>\n",
       "    </tr>\n",
       "    <tr>\n",
       "      <th>Data scientist or machine learning specialist</th>\n",
       "      <td>3049</td>\n",
       "      <td>306</td>\n",
       "    </tr>\n",
       "    <tr>\n",
       "      <th>Data or business analyst</th>\n",
       "      <td>3083</td>\n",
       "      <td>282</td>\n",
       "    </tr>\n",
       "    <tr>\n",
       "      <th>Developer, QA or test</th>\n",
       "      <td>3143</td>\n",
       "      <td>251</td>\n",
       "    </tr>\n",
       "    <tr>\n",
       "      <th>Developer, embedded applications or devices</th>\n",
       "      <td>3863</td>\n",
       "      <td>153</td>\n",
       "    </tr>\n",
       "    <tr>\n",
       "      <th>Designer</th>\n",
       "      <td>4134</td>\n",
       "      <td>333</td>\n",
       "    </tr>\n",
       "    <tr>\n",
       "      <th>System administrator</th>\n",
       "      <td>4432</td>\n",
       "      <td>137</td>\n",
       "    </tr>\n",
       "    <tr>\n",
       "      <th>Database administrator</th>\n",
       "      <td>4737</td>\n",
       "      <td>222</td>\n",
       "    </tr>\n",
       "    <tr>\n",
       "      <th>DevOps specialist</th>\n",
       "      <td>5102</td>\n",
       "      <td>154</td>\n",
       "    </tr>\n",
       "    <tr>\n",
       "      <th>Developer, mobile</th>\n",
       "      <td>7650</td>\n",
       "      <td>458</td>\n",
       "    </tr>\n",
       "    <tr>\n",
       "      <th>Developer, desktop or enterprise applications</th>\n",
       "      <td>9803</td>\n",
       "      <td>433</td>\n",
       "    </tr>\n",
       "    <tr>\n",
       "      <th>Developer, front-end</th>\n",
       "      <td>14606</td>\n",
       "      <td>1196</td>\n",
       "    </tr>\n",
       "    <tr>\n",
       "      <th>Developer, full-stack</th>\n",
       "      <td>22133</td>\n",
       "      <td>1476</td>\n",
       "    </tr>\n",
       "    <tr>\n",
       "      <th>Developer, back-end</th>\n",
       "      <td>22325</td>\n",
       "      <td>1329</td>\n",
       "    </tr>\n",
       "  </tbody>\n",
       "</table>\n",
       "</div>"
      ],
      "text/plain": [
       "                                               Count_man  Count_woman\n",
       "Marketing or sales professional                      456           64\n",
       "Senior executive/VP                                 1047           46\n",
       "Engineer, site reliability                          1617           61\n",
       "Scientist                                           1659          120\n",
       "Product manager                                     2053          113\n",
       "Engineering manager                                 2258           97\n",
       "Developer, game or graphics                         2280          105\n",
       "Educator                                            2342          178\n",
       "Academic researcher                                 2742          213\n",
       "Engineer, data                                      2994          186\n",
       "Data scientist or machine learning specialist       3049          306\n",
       "Data or business analyst                            3083          282\n",
       "Developer, QA or test                               3143          251\n",
       "Developer, embedded applications or devices         3863          153\n",
       "Designer                                            4134          333\n",
       "System administrator                                4432          137\n",
       "Database administrator                              4737          222\n",
       "DevOps specialist                                   5102          154\n",
       "Developer, mobile                                   7650          458\n",
       "Developer, desktop or enterprise applications       9803          433\n",
       "Developer, front-end                               14606         1196\n",
       "Developer, full-stack                              22133         1476\n",
       "Developer, back-end                                22325         1329"
      ]
     },
     "execution_count": 68,
     "metadata": {},
     "output_type": "execute_result"
    }
   ],
   "source": [
    "# merge man and woman\n",
    "d1 = pd.merge(count_df_man,count_df_woman,left_index=True,right_index=True,suffixes=('_man', '_woman'))\n",
    "d1"
   ]
  },
  {
   "cell_type": "code",
   "execution_count": 69,
   "metadata": {
    "scrolled": false
   },
   "outputs": [
    {
     "data": {
      "text/html": [
       "<div>\n",
       "<style scoped>\n",
       "    .dataframe tbody tr th:only-of-type {\n",
       "        vertical-align: middle;\n",
       "    }\n",
       "\n",
       "    .dataframe tbody tr th {\n",
       "        vertical-align: top;\n",
       "    }\n",
       "\n",
       "    .dataframe thead th {\n",
       "        text-align: right;\n",
       "    }\n",
       "</style>\n",
       "<table border=\"1\" class=\"dataframe\">\n",
       "  <thead>\n",
       "    <tr style=\"text-align: right;\">\n",
       "      <th></th>\n",
       "      <th>Count_man</th>\n",
       "      <th>Count_woman</th>\n",
       "      <th>non_binary_count</th>\n",
       "    </tr>\n",
       "  </thead>\n",
       "  <tbody>\n",
       "    <tr>\n",
       "      <th>Marketing or sales professional</th>\n",
       "      <td>456</td>\n",
       "      <td>64</td>\n",
       "      <td>7</td>\n",
       "    </tr>\n",
       "    <tr>\n",
       "      <th>Senior executive/VP</th>\n",
       "      <td>1047</td>\n",
       "      <td>46</td>\n",
       "      <td>7</td>\n",
       "    </tr>\n",
       "    <tr>\n",
       "      <th>Engineer, site reliability</th>\n",
       "      <td>1617</td>\n",
       "      <td>61</td>\n",
       "      <td>21</td>\n",
       "    </tr>\n",
       "    <tr>\n",
       "      <th>Scientist</th>\n",
       "      <td>1659</td>\n",
       "      <td>120</td>\n",
       "      <td>18</td>\n",
       "    </tr>\n",
       "    <tr>\n",
       "      <th>Product manager</th>\n",
       "      <td>2053</td>\n",
       "      <td>113</td>\n",
       "      <td>8</td>\n",
       "    </tr>\n",
       "    <tr>\n",
       "      <th>Engineering manager</th>\n",
       "      <td>2258</td>\n",
       "      <td>97</td>\n",
       "      <td>15</td>\n",
       "    </tr>\n",
       "    <tr>\n",
       "      <th>Developer, game or graphics</th>\n",
       "      <td>2280</td>\n",
       "      <td>105</td>\n",
       "      <td>33</td>\n",
       "    </tr>\n",
       "    <tr>\n",
       "      <th>Educator</th>\n",
       "      <td>2342</td>\n",
       "      <td>178</td>\n",
       "      <td>22</td>\n",
       "    </tr>\n",
       "    <tr>\n",
       "      <th>Academic researcher</th>\n",
       "      <td>2742</td>\n",
       "      <td>213</td>\n",
       "      <td>26</td>\n",
       "    </tr>\n",
       "    <tr>\n",
       "      <th>Engineer, data</th>\n",
       "      <td>2994</td>\n",
       "      <td>186</td>\n",
       "      <td>19</td>\n",
       "    </tr>\n",
       "    <tr>\n",
       "      <th>Data scientist or machine learning specialist</th>\n",
       "      <td>3049</td>\n",
       "      <td>306</td>\n",
       "      <td>23</td>\n",
       "    </tr>\n",
       "    <tr>\n",
       "      <th>Data or business analyst</th>\n",
       "      <td>3083</td>\n",
       "      <td>282</td>\n",
       "      <td>26</td>\n",
       "    </tr>\n",
       "    <tr>\n",
       "      <th>Developer, QA or test</th>\n",
       "      <td>3143</td>\n",
       "      <td>251</td>\n",
       "      <td>28</td>\n",
       "    </tr>\n",
       "    <tr>\n",
       "      <th>Developer, embedded applications or devices</th>\n",
       "      <td>3863</td>\n",
       "      <td>153</td>\n",
       "      <td>27</td>\n",
       "    </tr>\n",
       "    <tr>\n",
       "      <th>Designer</th>\n",
       "      <td>4134</td>\n",
       "      <td>333</td>\n",
       "      <td>42</td>\n",
       "    </tr>\n",
       "    <tr>\n",
       "      <th>System administrator</th>\n",
       "      <td>4432</td>\n",
       "      <td>137</td>\n",
       "      <td>48</td>\n",
       "    </tr>\n",
       "    <tr>\n",
       "      <th>Database administrator</th>\n",
       "      <td>4737</td>\n",
       "      <td>222</td>\n",
       "      <td>37</td>\n",
       "    </tr>\n",
       "    <tr>\n",
       "      <th>DevOps specialist</th>\n",
       "      <td>5102</td>\n",
       "      <td>154</td>\n",
       "      <td>45</td>\n",
       "    </tr>\n",
       "    <tr>\n",
       "      <th>Developer, mobile</th>\n",
       "      <td>7650</td>\n",
       "      <td>458</td>\n",
       "      <td>41</td>\n",
       "    </tr>\n",
       "    <tr>\n",
       "      <th>Developer, desktop or enterprise applications</th>\n",
       "      <td>9803</td>\n",
       "      <td>433</td>\n",
       "      <td>62</td>\n",
       "    </tr>\n",
       "    <tr>\n",
       "      <th>Developer, front-end</th>\n",
       "      <td>14606</td>\n",
       "      <td>1196</td>\n",
       "      <td>108</td>\n",
       "    </tr>\n",
       "    <tr>\n",
       "      <th>Developer, full-stack</th>\n",
       "      <td>22133</td>\n",
       "      <td>1476</td>\n",
       "      <td>162</td>\n",
       "    </tr>\n",
       "    <tr>\n",
       "      <th>Developer, back-end</th>\n",
       "      <td>22325</td>\n",
       "      <td>1329</td>\n",
       "      <td>160</td>\n",
       "    </tr>\n",
       "  </tbody>\n",
       "</table>\n",
       "</div>"
      ],
      "text/plain": [
       "                                               Count_man  Count_woman  \\\n",
       "Marketing or sales professional                      456           64   \n",
       "Senior executive/VP                                 1047           46   \n",
       "Engineer, site reliability                          1617           61   \n",
       "Scientist                                           1659          120   \n",
       "Product manager                                     2053          113   \n",
       "Engineering manager                                 2258           97   \n",
       "Developer, game or graphics                         2280          105   \n",
       "Educator                                            2342          178   \n",
       "Academic researcher                                 2742          213   \n",
       "Engineer, data                                      2994          186   \n",
       "Data scientist or machine learning specialist       3049          306   \n",
       "Data or business analyst                            3083          282   \n",
       "Developer, QA or test                               3143          251   \n",
       "Developer, embedded applications or devices         3863          153   \n",
       "Designer                                            4134          333   \n",
       "System administrator                                4432          137   \n",
       "Database administrator                              4737          222   \n",
       "DevOps specialist                                   5102          154   \n",
       "Developer, mobile                                   7650          458   \n",
       "Developer, desktop or enterprise applications       9803          433   \n",
       "Developer, front-end                               14606         1196   \n",
       "Developer, full-stack                              22133         1476   \n",
       "Developer, back-end                                22325         1329   \n",
       "\n",
       "                                               non_binary_count  \n",
       "Marketing or sales professional                               7  \n",
       "Senior executive/VP                                           7  \n",
       "Engineer, site reliability                                   21  \n",
       "Scientist                                                    18  \n",
       "Product manager                                               8  \n",
       "Engineering manager                                          15  \n",
       "Developer, game or graphics                                  33  \n",
       "Educator                                                     22  \n",
       "Academic researcher                                          26  \n",
       "Engineer, data                                               19  \n",
       "Data scientist or machine learning specialist                23  \n",
       "Data or business analyst                                     26  \n",
       "Developer, QA or test                                        28  \n",
       "Developer, embedded applications or devices                  27  \n",
       "Designer                                                     42  \n",
       "System administrator                                         48  \n",
       "Database administrator                                       37  \n",
       "DevOps specialist                                            45  \n",
       "Developer, mobile                                            41  \n",
       "Developer, desktop or enterprise applications                62  \n",
       "Developer, front-end                                        108  \n",
       "Developer, full-stack                                       162  \n",
       "Developer, back-end                                         160  "
      ]
     },
     "execution_count": 69,
     "metadata": {},
     "output_type": "execute_result"
    }
   ],
   "source": [
    "# merge non-binary to the df\n",
    "d2 = pd.merge(d1,count_df_non_binary,left_index=True,right_index=True)\n",
    "d2 = d2.rename(columns={'Count':'non_binary_count'})\n",
    "d2"
   ]
  },
  {
   "cell_type": "code",
   "execution_count": 70,
   "metadata": {},
   "outputs": [
    {
     "data": {
      "image/png": "[encoded data removed]",
      "text/plain": [
       "<Figure size 648x360 with 1 Axes>"
      ]
     },
     "metadata": {
      "needs_background": "light"
     },
     "output_type": "display_data"
    }
   ],
   "source": [
    "random_6 = d2.iloc[0:6]\n",
    "\n",
    "random_6.plot(kind='barh')\n",
    "\n",
    "plt.show()"
   ]
  },
  {
   "cell_type": "markdown",
   "metadata": {},
   "source": [
    "## which were the most popular pgmming language ?"
   ]
  },
  {
   "cell_type": "code",
   "execution_count": 71,
   "metadata": {},
   "outputs": [
    {
     "data": {
      "text/plain": [
       "'Which programming, scripting, and markup languages have you done extensive development work in over the past year, and which do you want to work in over the next year? (If you both worked with the language and want to continue to do so, please check both boxes in that row.)'"
      ]
     },
     "execution_count": 71,
     "metadata": {},
     "output_type": "execute_result"
    }
   ],
   "source": [
    "schema['LanguageWorkedWith']"
   ]
  },
  {
   "cell_type": "markdown",
   "metadata": {},
   "source": [
    "#### Method 1: "
   ]
  },
  {
   "cell_type": "code",
   "execution_count": 74,
   "metadata": {},
   "outputs": [],
   "source": [
    "languages = survey_df['LanguageWorkedWith'].to_frame()"
   ]
  },
  {
   "cell_type": "code",
   "execution_count": 75,
   "metadata": {},
   "outputs": [],
   "source": [
    "lst = []\n",
    "for idx,row in languages['LanguageWorkedWith'][languages['LanguageWorkedWith'].notna()].iteritems():\n",
    "    langs = row.split(';')\n",
    "#     print(idx,langs)\n",
    "    for lang in langs:\n",
    "        if lang not in lst:\n",
    "            lst.append(lang)\n",
    "            languages[lang] = False\n",
    "        languages.at[idx,lang] = True "
   ]
  },
  {
   "cell_type": "code",
   "execution_count": 76,
   "metadata": {},
   "outputs": [
    {
     "data": {
      "text/plain": [
       "JavaScript               0.598933\n",
       "HTML/CSS                 0.558019\n",
       "SQL                      0.484449\n",
       "Python                   0.390010\n",
       "Java                     0.356188\n",
       "Bash/Shell/PowerShell    0.292399\n",
       "C#                       0.278030\n",
       "PHP                      0.231300\n",
       "TypeScript               0.224614\n",
       "C++                      0.211147\n",
       "C                        0.192362\n",
       "Go                       0.077582\n",
       "Kotlin                   0.068874\n",
       "Ruby                     0.062296\n",
       "Assembly                 0.054474\n",
       "VBA                      0.053945\n",
       "Swift                    0.052266\n",
       "R                        0.050648\n",
       "Rust                     0.044988\n",
       "Objective-C              0.036031\n",
       "Dart                     0.035176\n",
       "Scala                    0.031506\n",
       "Perl                     0.027571\n",
       "Haskell                  0.018614\n",
       "Julia                    0.007822\n",
       "dtype: float64"
      ]
     },
     "execution_count": 76,
     "metadata": {},
     "output_type": "execute_result"
    }
   ],
   "source": [
    "languages.iloc[:,1:].mean().sort_values(ascending=False)"
   ]
  },
  {
   "cell_type": "markdown",
   "metadata": {},
   "source": [
    "#### Method 2: "
   ]
  },
  {
   "cell_type": "code",
   "execution_count": 98,
   "metadata": {},
   "outputs": [
    {
     "data": {
      "text/plain": [
       "0                               [C#, HTML/CSS, JavaScript]\n",
       "1                                      [JavaScript, Swift]\n",
       "2                             [Objective-C, Python, Swift]\n",
       "3                                                      NaN\n",
       "4                                    [HTML/CSS, Ruby, SQL]\n",
       "                               ...                        \n",
       "64456                                                  NaN\n",
       "64457    [Assembly, Bash/Shell/PowerShell, C, C#, C++, ...\n",
       "64458                                                  NaN\n",
       "64459                                           [HTML/CSS]\n",
       "64460                [C#, HTML/CSS, Java, JavaScript, SQL]\n",
       "Name: LanguageWorkedWith, Length: 64306, dtype: object"
      ]
     },
     "execution_count": 98,
     "metadata": {},
     "output_type": "execute_result"
    }
   ],
   "source": [
    "languages = survey_df['LanguageWorkedWith'].str.split(';')\n",
    "languages"
   ]
  },
  {
   "cell_type": "code",
   "execution_count": 99,
   "metadata": {},
   "outputs": [],
   "source": [
    "main_list = []\n",
    "for vals in languages.values:\n",
    "    try:\n",
    "        for val in vals:\n",
    "            if val not in main_list:\n",
    "                main_list.append(val)\n",
    "    except:\n",
    "        pass\n",
    "main_list = set(main_list)\n",
    "c = list(main_list)"
   ]
  },
  {
   "cell_type": "code",
   "execution_count": 100,
   "metadata": {},
   "outputs": [
    {
     "data": {
      "text/html": [
       "<div>\n",
       "<style scoped>\n",
       "    .dataframe tbody tr th:only-of-type {\n",
       "        vertical-align: middle;\n",
       "    }\n",
       "\n",
       "    .dataframe tbody tr th {\n",
       "        vertical-align: top;\n",
       "    }\n",
       "\n",
       "    .dataframe thead th {\n",
       "        text-align: right;\n",
       "    }\n",
       "</style>\n",
       "<table border=\"1\" class=\"dataframe\">\n",
       "  <thead>\n",
       "    <tr style=\"text-align: right;\">\n",
       "      <th></th>\n",
       "      <th>LanguageWorkedWith</th>\n",
       "    </tr>\n",
       "  </thead>\n",
       "  <tbody>\n",
       "    <tr>\n",
       "      <th>0</th>\n",
       "      <td>C#;HTML/CSS;JavaScript</td>\n",
       "    </tr>\n",
       "    <tr>\n",
       "      <th>1</th>\n",
       "      <td>JavaScript;Swift</td>\n",
       "    </tr>\n",
       "    <tr>\n",
       "      <th>2</th>\n",
       "      <td>Objective-C;Python;Swift</td>\n",
       "    </tr>\n",
       "    <tr>\n",
       "      <th>3</th>\n",
       "      <td>NaN</td>\n",
       "    </tr>\n",
       "    <tr>\n",
       "      <th>4</th>\n",
       "      <td>HTML/CSS;Ruby;SQL</td>\n",
       "    </tr>\n",
       "    <tr>\n",
       "      <th>...</th>\n",
       "      <td>...</td>\n",
       "    </tr>\n",
       "    <tr>\n",
       "      <th>64456</th>\n",
       "      <td>NaN</td>\n",
       "    </tr>\n",
       "    <tr>\n",
       "      <th>64457</th>\n",
       "      <td>Assembly;Bash/Shell/PowerShell;C;C#;C++;Dart;G...</td>\n",
       "    </tr>\n",
       "    <tr>\n",
       "      <th>64458</th>\n",
       "      <td>NaN</td>\n",
       "    </tr>\n",
       "    <tr>\n",
       "      <th>64459</th>\n",
       "      <td>HTML/CSS</td>\n",
       "    </tr>\n",
       "    <tr>\n",
       "      <th>64460</th>\n",
       "      <td>C#;HTML/CSS;Java;JavaScript;SQL</td>\n",
       "    </tr>\n",
       "  </tbody>\n",
       "</table>\n",
       "<p>64306 rows × 1 columns</p>\n",
       "</div>"
      ],
      "text/plain": [
       "                                      LanguageWorkedWith\n",
       "0                                 C#;HTML/CSS;JavaScript\n",
       "1                                       JavaScript;Swift\n",
       "2                               Objective-C;Python;Swift\n",
       "3                                                    NaN\n",
       "4                                      HTML/CSS;Ruby;SQL\n",
       "...                                                  ...\n",
       "64456                                                NaN\n",
       "64457  Assembly;Bash/Shell/PowerShell;C;C#;C++;Dart;G...\n",
       "64458                                                NaN\n",
       "64459                                           HTML/CSS\n",
       "64460                    C#;HTML/CSS;Java;JavaScript;SQL\n",
       "\n",
       "[64306 rows x 1 columns]"
      ]
     },
     "execution_count": 100,
     "metadata": {},
     "output_type": "execute_result"
    }
   ],
   "source": [
    "languages_worked_df = (survey_df.LanguageWorkedWith).to_frame()\n",
    "languages_worked_df"
   ]
  },
  {
   "cell_type": "code",
   "execution_count": 101,
   "metadata": {},
   "outputs": [
    {
     "name": "stdout",
     "output_type": "stream",
     "text": [
      "Kotlin\n",
      "C\n",
      "Perl\n",
      "Ruby\n",
      "Scala\n",
      "Haskell\n",
      "Java\n",
      "C++\n",
      "Assembly\n",
      "Bash/Shell/PowerShell\n",
      "PHP\n",
      "R\n",
      "Swift\n",
      "Objective-C\n",
      "HTML/CSS\n",
      "JavaScript\n",
      "Dart\n",
      "VBA\n",
      "Python\n",
      "SQL\n",
      "Julia\n",
      "TypeScript\n",
      "Go\n",
      "C#\n",
      "Rust\n"
     ]
    }
   ],
   "source": [
    "def count_(row,args):\n",
    "    try:\n",
    "        if args in row.split(';'):\n",
    "            return True\n",
    "    except:\n",
    "        return False\n",
    "    \n",
    "for lang in c:\n",
    "        languages_worked_df[lang] = languages_worked_df['LanguageWorkedWith'].apply(count_,args=(lang,))"
   ]
  },
  {
   "cell_type": "code",
   "execution_count": 91,
   "metadata": {},
   "outputs": [],
   "source": [
    "languages_worked_mean = languages_worked_df.mean().sort_values(ascending=False)"
   ]
  },
  {
   "cell_type": "code",
   "execution_count": 92,
   "metadata": {},
   "outputs": [
    {
     "data": {
      "text/plain": [
       "JAVASCRIPT               0.598933\n",
       "HTML/CSS                 0.558019\n",
       "SQL                      0.484449\n",
       "Python                   0.390010\n",
       "Java                     0.356188\n",
       "Bash/Shell/PowerShell    0.292399\n",
       "C#                       0.278030\n",
       "PHP                      0.231300\n",
       "TypeScript               0.224614\n",
       "C++                      0.211147\n",
       "C                        0.192362\n",
       "Go                       0.077582\n",
       "Kotlin                   0.068874\n",
       "Ruby                     0.062296\n",
       "Assembly                 0.054474\n",
       "VBA                      0.053945\n",
       "Swift                    0.052266\n",
       "R                        0.050648\n",
       "Rust                     0.044988\n",
       "Objective-C              0.036031\n",
       "Dart                     0.035176\n",
       "Scala                    0.031506\n",
       "Perl                     0.027571\n",
       "Haskell                  0.018614\n",
       "Julia                    0.007822\n",
       "dtype: float64"
      ]
     },
     "execution_count": 92,
     "metadata": {},
     "output_type": "execute_result"
    }
   ],
   "source": [
    "languages_worked_mean"
   ]
  },
  {
   "cell_type": "code",
   "execution_count": 267,
   "metadata": {},
   "outputs": [
    {
     "data": {
      "text/html": [
       "<div>\n",
       "<style scoped>\n",
       "    .dataframe tbody tr th:only-of-type {\n",
       "        vertical-align: middle;\n",
       "    }\n",
       "\n",
       "    .dataframe tbody tr th {\n",
       "        vertical-align: top;\n",
       "    }\n",
       "\n",
       "    .dataframe thead th {\n",
       "        text-align: right;\n",
       "    }\n",
       "</style>\n",
       "<table border=\"1\" class=\"dataframe\">\n",
       "  <thead>\n",
       "    <tr style=\"text-align: right;\">\n",
       "      <th></th>\n",
       "      <th>Count</th>\n",
       "    </tr>\n",
       "    <tr>\n",
       "      <th>programming_name</th>\n",
       "      <th></th>\n",
       "    </tr>\n",
       "  </thead>\n",
       "  <tbody>\n",
       "    <tr>\n",
       "      <th>JAVASCRIPT</th>\n",
       "      <td>0.598933</td>\n",
       "    </tr>\n",
       "    <tr>\n",
       "      <th>HTML/CSS</th>\n",
       "      <td>0.558019</td>\n",
       "    </tr>\n",
       "    <tr>\n",
       "      <th>SQL</th>\n",
       "      <td>0.484449</td>\n",
       "    </tr>\n",
       "    <tr>\n",
       "      <th>Python</th>\n",
       "      <td>0.390010</td>\n",
       "    </tr>\n",
       "    <tr>\n",
       "      <th>Java</th>\n",
       "      <td>0.356188</td>\n",
       "    </tr>\n",
       "  </tbody>\n",
       "</table>\n",
       "</div>"
      ],
      "text/plain": [
       "                     Count\n",
       "programming_name          \n",
       "JAVASCRIPT        0.598933\n",
       "HTML/CSS          0.558019\n",
       "SQL               0.484449\n",
       "Python            0.390010\n",
       "Java              0.356188"
      ]
     },
     "execution_count": 267,
     "metadata": {},
     "output_type": "execute_result"
    }
   ],
   "source": [
    "pgm_lngs = pd.DataFrame({'programming_name':languages_worked_mean.index,'Count':languages_worked_mean.values}).set_index('programming_name')\n",
    "pgm_lngs.head()"
   ]
  },
  {
   "cell_type": "code",
   "execution_count": 268,
   "metadata": {},
   "outputs": [],
   "source": [
    "sum = pgm_lngs['Count'].sum()\n",
    "pgm_lngs['perc'] = pgm_lngs['Count'] / sum * 100"
   ]
  },
  {
   "cell_type": "code",
   "execution_count": 269,
   "metadata": {},
   "outputs": [
    {
     "data": {
      "text/html": [
       "<div>\n",
       "<style scoped>\n",
       "    .dataframe tbody tr th:only-of-type {\n",
       "        vertical-align: middle;\n",
       "    }\n",
       "\n",
       "    .dataframe tbody tr th {\n",
       "        vertical-align: top;\n",
       "    }\n",
       "\n",
       "    .dataframe thead th {\n",
       "        text-align: right;\n",
       "    }\n",
       "</style>\n",
       "<table border=\"1\" class=\"dataframe\">\n",
       "  <thead>\n",
       "    <tr style=\"text-align: right;\">\n",
       "      <th></th>\n",
       "      <th>Count</th>\n",
       "      <th>perc</th>\n",
       "    </tr>\n",
       "    <tr>\n",
       "      <th>programming_name</th>\n",
       "      <th></th>\n",
       "      <th></th>\n",
       "    </tr>\n",
       "  </thead>\n",
       "  <tbody>\n",
       "    <tr>\n",
       "      <th>JAVASCRIPT</th>\n",
       "      <td>0.598933</td>\n",
       "      <td>13.491785</td>\n",
       "    </tr>\n",
       "    <tr>\n",
       "      <th>HTML/CSS</th>\n",
       "      <td>0.558019</td>\n",
       "      <td>12.570147</td>\n",
       "    </tr>\n",
       "    <tr>\n",
       "      <th>SQL</th>\n",
       "      <td>0.484449</td>\n",
       "      <td>10.912881</td>\n",
       "    </tr>\n",
       "    <tr>\n",
       "      <th>Python</th>\n",
       "      <td>0.390010</td>\n",
       "      <td>8.785512</td>\n",
       "    </tr>\n",
       "    <tr>\n",
       "      <th>Java</th>\n",
       "      <td>0.356188</td>\n",
       "      <td>8.023610</td>\n",
       "    </tr>\n",
       "  </tbody>\n",
       "</table>\n",
       "</div>"
      ],
      "text/plain": [
       "                     Count       perc\n",
       "programming_name                     \n",
       "JAVASCRIPT        0.598933  13.491785\n",
       "HTML/CSS          0.558019  12.570147\n",
       "SQL               0.484449  10.912881\n",
       "Python            0.390010   8.785512\n",
       "Java              0.356188   8.023610"
      ]
     },
     "execution_count": 269,
     "metadata": {},
     "output_type": "execute_result"
    }
   ],
   "source": [
    "pgm_lngs.sort_values('perc',ascending=False).head()"
   ]
  },
  {
   "cell_type": "code",
   "execution_count": 270,
   "metadata": {},
   "outputs": [],
   "source": [
    "top_8 = pgm_lngs.sort_values('perc',ascending=False).iloc[:9]['perc']"
   ]
  },
  {
   "cell_type": "code",
   "execution_count": 271,
   "metadata": {},
   "outputs": [
    {
     "data": {
      "image/png": "[encoded data removed]",
      "text/plain": [
       "<Figure size 648x360 with 1 Axes>"
      ]
     },
     "metadata": {
      "needs_background": "light"
     },
     "output_type": "display_data"
    }
   ],
   "source": [
    "sns.barplot(x=top_8.values, y=top_8.index)\n",
    "\n",
    "\n",
    "plt.title('Most popular Programming languages')\n",
    "plt.xlabel('percentage')\n",
    "plt.ylabel(None)\n",
    "\n",
    "plt.show()"
   ]
  },
  {
   "cell_type": "markdown",
   "metadata": {},
   "source": [
    "## Languages Interested :"
   ]
  },
  {
   "cell_type": "code",
   "execution_count": 249,
   "metadata": {},
   "outputs": [
    {
     "data": {
      "text/html": [
       "<div>\n",
       "<style scoped>\n",
       "    .dataframe tbody tr th:only-of-type {\n",
       "        vertical-align: middle;\n",
       "    }\n",
       "\n",
       "    .dataframe tbody tr th {\n",
       "        vertical-align: top;\n",
       "    }\n",
       "\n",
       "    .dataframe thead th {\n",
       "        text-align: right;\n",
       "    }\n",
       "</style>\n",
       "<table border=\"1\" class=\"dataframe\">\n",
       "  <thead>\n",
       "    <tr style=\"text-align: right;\">\n",
       "      <th></th>\n",
       "      <th>LanguageDesireNextYear</th>\n",
       "    </tr>\n",
       "  </thead>\n",
       "  <tbody>\n",
       "    <tr>\n",
       "      <th>0</th>\n",
       "      <td>C#;HTML/CSS;JavaScript</td>\n",
       "    </tr>\n",
       "    <tr>\n",
       "      <th>1</th>\n",
       "      <td>Python;Swift</td>\n",
       "    </tr>\n",
       "    <tr>\n",
       "      <th>2</th>\n",
       "      <td>Objective-C;Python;Swift</td>\n",
       "    </tr>\n",
       "    <tr>\n",
       "      <th>3</th>\n",
       "      <td>NaN</td>\n",
       "    </tr>\n",
       "    <tr>\n",
       "      <th>4</th>\n",
       "      <td>Java;Ruby;Scala</td>\n",
       "    </tr>\n",
       "  </tbody>\n",
       "</table>\n",
       "</div>"
      ],
      "text/plain": [
       "     LanguageDesireNextYear\n",
       "0    C#;HTML/CSS;JavaScript\n",
       "1              Python;Swift\n",
       "2  Objective-C;Python;Swift\n",
       "3                       NaN\n",
       "4           Java;Ruby;Scala"
      ]
     },
     "execution_count": 249,
     "metadata": {},
     "output_type": "execute_result"
    }
   ],
   "source": [
    "lang_interested = survey_df['LanguageDesireNextYear'].to_frame()\n",
    "lang_interested.head()"
   ]
  },
  {
   "cell_type": "code",
   "execution_count": 250,
   "metadata": {},
   "outputs": [],
   "source": [
    "# get all the unique languages :\n",
    "c = []\n",
    "for row in lang_interested['LanguageDesireNextYear'].dropna():\n",
    "    for lang in row.split(';'):\n",
    "        c.append(lang)\n",
    "        \n",
    "\n",
    "languages = set(c)\n",
    "languages = list(languages)"
   ]
  },
  {
   "cell_type": "code",
   "execution_count": 251,
   "metadata": {},
   "outputs": [],
   "source": [
    "# so that java and JavaScript dont get mixed\n",
    "lang_interested['LanguageDesireNextYear'] = lang_interested['LanguageDesireNextYear'].str.replace('JavaScript','JAVASCRIPT')"
   ]
  },
  {
   "cell_type": "code",
   "execution_count": 252,
   "metadata": {},
   "outputs": [],
   "source": [
    "languages.remove('JavaScript')\n",
    "languages.append('JAVASCRIPT')"
   ]
  },
  {
   "cell_type": "code",
   "execution_count": 253,
   "metadata": {},
   "outputs": [],
   "source": [
    "def count_(row,args):\n",
    "    try:\n",
    "        if args in row.split(';'):\n",
    "            return True\n",
    "    except:\n",
    "        return False\n",
    "for lang in languages:\n",
    "    if len(lang) == 1 :\n",
    "        lang_interested[lang] = lang_interested['LanguageDesireNextYear'].apply(count_,args=(lang,))\n"
   ]
  },
  {
   "cell_type": "code",
   "execution_count": 254,
   "metadata": {},
   "outputs": [
    {
     "data": {
      "text/plain": [
       "Python                   0.411439\n",
       "JAVASCRIPT               0.404255\n",
       "HTML/CSS                 0.320281\n",
       "SQL                      0.307996\n",
       "TypeScript               0.264517\n",
       "C#                       0.210587\n",
       "Java                     0.204647\n",
       "Go                       0.194321\n",
       "Bash/Shell/PowerShell    0.180574\n",
       "Rust                     0.162706\n",
       "C++                      0.150142\n",
       "dtype: float64"
      ]
     },
     "execution_count": 254,
     "metadata": {},
     "output_type": "execute_result"
    }
   ],
   "source": [
    "top_10 = lang_interested.mean().sort_values(ascending=False).iloc[:11]\n",
    "top_10"
   ]
  },
  {
   "cell_type": "code",
   "execution_count": 255,
   "metadata": {},
   "outputs": [
    {
     "data": {
      "image/png": "[encoded data removed]",
      "text/plain": [
       "<Figure size 648x360 with 1 Axes>"
      ]
     },
     "metadata": {
      "needs_background": "light"
     },
     "output_type": "display_data"
    }
   ],
   "source": [
    "sns.barplot(x= top_10.values, y= top_10.index)\n",
    "\n",
    "plt.title('Language Desired Next Year')\n",
    "plt.xlabel('Mean')\n",
    "\n",
    "plt.show()"
   ]
  },
  {
   "cell_type": "markdown",
   "metadata": {},
   "source": [
    "### Analyze how many people love their preferred language :"
   ]
  },
  {
   "cell_type": "markdown",
   "metadata": {},
   "source": [
    "#### ie; they work with it now, and will continue working with it and be intersted them in the future"
   ]
  },
  {
   "cell_type": "code",
   "execution_count": 286,
   "metadata": {},
   "outputs": [],
   "source": [
    "languages_loved_df = languages_worked_df.iloc[:,1:] & lang_interested.iloc[:,1:]"
   ]
  },
  {
   "cell_type": "code",
   "execution_count": 288,
   "metadata": {},
   "outputs": [],
   "source": [
    "languages_loved_percentages = (languages_loved_df.sum() * 100/ languages_worked_df.sum()).sort_values(ascending=False)"
   ]
  },
  {
   "cell_type": "code",
   "execution_count": 298,
   "metadata": {},
   "outputs": [
    {
     "data": {
      "image/png": "[encoded data removed]",
      "text/plain": [
       "<Figure size 648x360 with 1 Axes>"
      ]
     },
     "metadata": {
      "needs_background": "light"
     },
     "output_type": "display_data"
    }
   ],
   "source": [
    "sns.barplot(x=languages_loved_percentages.iloc[:12], y= languages_loved_percentages.iloc[:12].index)\n",
    "\n",
    "plt.title(\"Most loved languages\");\n",
    "plt.xlabel('count');"
   ]
  },
  {
   "cell_type": "markdown",
   "metadata": {},
   "source": [
    "## Q: In which countries do developers work the highest number of hours per week? Consider countries with more than 250 responses only."
   ]
  },
  {
   "cell_type": "code",
   "execution_count": 323,
   "metadata": {},
   "outputs": [
    {
     "data": {
      "text/plain": [
       "United States          12371\n",
       "India                   8364\n",
       "United Kingdom          3881\n",
       "Germany                 3864\n",
       "Canada                  2175\n",
       "                       ...  \n",
       "Antigua and Barbuda        1\n",
       "Saint Lucia                1\n",
       "Fiji                       1\n",
       "Marshall Islands           1\n",
       "Gabon                      1\n",
       "Name: Country, Length: 183, dtype: int64"
      ]
     },
     "execution_count": 323,
     "metadata": {},
     "output_type": "execute_result"
    }
   ],
   "source": [
    "survey_df['Country'].value_counts()"
   ]
  },
  {
   "cell_type": "code",
   "execution_count": 331,
   "metadata": {},
   "outputs": [],
   "source": [
    "top_countries_mask = (survey_df['Country'].value_counts() > 250)"
   ]
  },
  {
   "cell_type": "code",
   "execution_count": 326,
   "metadata": {},
   "outputs": [],
   "source": [
    "top_countries = survey_df['Country'].value_counts()[top_countries_mask].index"
   ]
  },
  {
   "cell_type": "code",
   "execution_count": 329,
   "metadata": {},
   "outputs": [],
   "source": [
    "survey_df = survey_df[survey_df['Country'].isin(top_countries)]"
   ]
  },
  {
   "cell_type": "code",
   "execution_count": 333,
   "metadata": {},
   "outputs": [],
   "source": [
    "grp = survey_df.groupby('Country')[['WorkWeekHrs']].mean().sort_values(by='WorkWeekHrs',ascending=False)"
   ]
  },
  {
   "cell_type": "code",
   "execution_count": 340,
   "metadata": {},
   "outputs": [
    {
     "data": {
      "text/html": [
       "<div>\n",
       "<style scoped>\n",
       "    .dataframe tbody tr th:only-of-type {\n",
       "        vertical-align: middle;\n",
       "    }\n",
       "\n",
       "    .dataframe tbody tr th {\n",
       "        vertical-align: top;\n",
       "    }\n",
       "\n",
       "    .dataframe thead th {\n",
       "        text-align: right;\n",
       "    }\n",
       "</style>\n",
       "<table border=\"1\" class=\"dataframe\">\n",
       "  <thead>\n",
       "    <tr style=\"text-align: right;\">\n",
       "      <th></th>\n",
       "      <th>WorkWeekHrs</th>\n",
       "    </tr>\n",
       "    <tr>\n",
       "      <th>Country</th>\n",
       "      <th></th>\n",
       "    </tr>\n",
       "  </thead>\n",
       "  <tbody>\n",
       "    <tr>\n",
       "      <th>Iran</th>\n",
       "      <td>44.337748</td>\n",
       "    </tr>\n",
       "    <tr>\n",
       "      <th>Israel</th>\n",
       "      <td>43.915094</td>\n",
       "    </tr>\n",
       "    <tr>\n",
       "      <th>China</th>\n",
       "      <td>42.150000</td>\n",
       "    </tr>\n",
       "    <tr>\n",
       "      <th>United States</th>\n",
       "      <td>41.802982</td>\n",
       "    </tr>\n",
       "    <tr>\n",
       "      <th>Greece</th>\n",
       "      <td>41.402724</td>\n",
       "    </tr>\n",
       "    <tr>\n",
       "      <th>Viet Nam</th>\n",
       "      <td>41.391667</td>\n",
       "    </tr>\n",
       "    <tr>\n",
       "      <th>South Africa</th>\n",
       "      <td>41.023460</td>\n",
       "    </tr>\n",
       "    <tr>\n",
       "      <th>Turkey</th>\n",
       "      <td>40.982143</td>\n",
       "    </tr>\n",
       "    <tr>\n",
       "      <th>Sri Lanka</th>\n",
       "      <td>40.612245</td>\n",
       "    </tr>\n",
       "    <tr>\n",
       "      <th>New Zealand</th>\n",
       "      <td>40.457551</td>\n",
       "    </tr>\n",
       "    <tr>\n",
       "      <th>Belgium</th>\n",
       "      <td>40.444444</td>\n",
       "    </tr>\n",
       "    <tr>\n",
       "      <th>Canada</th>\n",
       "      <td>40.208837</td>\n",
       "    </tr>\n",
       "    <tr>\n",
       "      <th>Hungary</th>\n",
       "      <td>40.194340</td>\n",
       "    </tr>\n",
       "    <tr>\n",
       "      <th>Bangladesh</th>\n",
       "      <td>40.097458</td>\n",
       "    </tr>\n",
       "    <tr>\n",
       "      <th>India</th>\n",
       "      <td>40.090603</td>\n",
       "    </tr>\n",
       "  </tbody>\n",
       "</table>\n",
       "</div>"
      ],
      "text/plain": [
       "               WorkWeekHrs\n",
       "Country                   \n",
       "Iran             44.337748\n",
       "Israel           43.915094\n",
       "China            42.150000\n",
       "United States    41.802982\n",
       "Greece           41.402724\n",
       "Viet Nam         41.391667\n",
       "South Africa     41.023460\n",
       "Turkey           40.982143\n",
       "Sri Lanka        40.612245\n",
       "New Zealand      40.457551\n",
       "Belgium          40.444444\n",
       "Canada           40.208837\n",
       "Hungary          40.194340\n",
       "Bangladesh       40.097458\n",
       "India            40.090603"
      ]
     },
     "execution_count": 340,
     "metadata": {},
     "output_type": "execute_result"
    }
   ],
   "source": [
    "grp[['WorkWeekHrs']].head(15)"
   ]
  },
  {
   "cell_type": "code",
   "execution_count": 342,
   "metadata": {},
   "outputs": [
    {
     "data": {
      "text/html": [
       "<div>\n",
       "<style scoped>\n",
       "    .dataframe tbody tr th:only-of-type {\n",
       "        vertical-align: middle;\n",
       "    }\n",
       "\n",
       "    .dataframe tbody tr th {\n",
       "        vertical-align: top;\n",
       "    }\n",
       "\n",
       "    .dataframe thead th {\n",
       "        text-align: right;\n",
       "    }\n",
       "</style>\n",
       "<table border=\"1\" class=\"dataframe\">\n",
       "  <thead>\n",
       "    <tr style=\"text-align: right;\">\n",
       "      <th></th>\n",
       "      <th>location</th>\n",
       "      <th>continent</th>\n",
       "      <th>population</th>\n",
       "      <th>life_expectancy</th>\n",
       "      <th>hospital_beds_per_thousand</th>\n",
       "      <th>gdp_per_capita</th>\n",
       "    </tr>\n",
       "  </thead>\n",
       "  <tbody>\n",
       "    <tr>\n",
       "      <th>0</th>\n",
       "      <td>Afghanistan</td>\n",
       "      <td>Asia</td>\n",
       "      <td>38928341.0</td>\n",
       "      <td>64.83</td>\n",
       "      <td>0.50</td>\n",
       "      <td>1803.987</td>\n",
       "    </tr>\n",
       "    <tr>\n",
       "      <th>1</th>\n",
       "      <td>Albania</td>\n",
       "      <td>Europe</td>\n",
       "      <td>2877800.0</td>\n",
       "      <td>78.57</td>\n",
       "      <td>2.89</td>\n",
       "      <td>11803.431</td>\n",
       "    </tr>\n",
       "    <tr>\n",
       "      <th>2</th>\n",
       "      <td>Algeria</td>\n",
       "      <td>Africa</td>\n",
       "      <td>43851043.0</td>\n",
       "      <td>76.88</td>\n",
       "      <td>1.90</td>\n",
       "      <td>13913.839</td>\n",
       "    </tr>\n",
       "    <tr>\n",
       "      <th>3</th>\n",
       "      <td>Andorra</td>\n",
       "      <td>Europe</td>\n",
       "      <td>77265.0</td>\n",
       "      <td>83.73</td>\n",
       "      <td>NaN</td>\n",
       "      <td>NaN</td>\n",
       "    </tr>\n",
       "    <tr>\n",
       "      <th>4</th>\n",
       "      <td>Angola</td>\n",
       "      <td>Africa</td>\n",
       "      <td>32866268.0</td>\n",
       "      <td>61.15</td>\n",
       "      <td>NaN</td>\n",
       "      <td>5819.495</td>\n",
       "    </tr>\n",
       "  </tbody>\n",
       "</table>\n",
       "</div>"
      ],
      "text/plain": [
       "      location continent  population  life_expectancy  \\\n",
       "0  Afghanistan      Asia  38928341.0            64.83   \n",
       "1      Albania    Europe   2877800.0            78.57   \n",
       "2      Algeria    Africa  43851043.0            76.88   \n",
       "3      Andorra    Europe     77265.0            83.73   \n",
       "4       Angola    Africa  32866268.0            61.15   \n",
       "\n",
       "   hospital_beds_per_thousand  gdp_per_capita  \n",
       "0                        0.50        1803.987  \n",
       "1                        2.89       11803.431  \n",
       "2                        1.90       13913.839  \n",
       "3                         NaN             NaN  \n",
       "4                         NaN        5819.495  "
      ]
     },
     "execution_count": 342,
     "metadata": {},
     "output_type": "execute_result"
    }
   ],
   "source": [
    "countries = pd.read_csv('countries.csv')\n",
    "countries.head()"
   ]
  },
  {
   "cell_type": "code",
   "execution_count": 363,
   "metadata": {},
   "outputs": [
    {
     "data": {
      "text/html": [
       "<div>\n",
       "<style scoped>\n",
       "    .dataframe tbody tr th:only-of-type {\n",
       "        vertical-align: middle;\n",
       "    }\n",
       "\n",
       "    .dataframe tbody tr th {\n",
       "        vertical-align: top;\n",
       "    }\n",
       "\n",
       "    .dataframe thead th {\n",
       "        text-align: right;\n",
       "    }\n",
       "</style>\n",
       "<table border=\"1\" class=\"dataframe\">\n",
       "  <thead>\n",
       "    <tr style=\"text-align: right;\">\n",
       "      <th></th>\n",
       "      <th>continent</th>\n",
       "      <th>population</th>\n",
       "      <th>life_expectancy</th>\n",
       "      <th>hospital_beds_per_thousand</th>\n",
       "      <th>gdp_per_capita</th>\n",
       "    </tr>\n",
       "    <tr>\n",
       "      <th>location</th>\n",
       "      <th></th>\n",
       "      <th></th>\n",
       "      <th></th>\n",
       "      <th></th>\n",
       "      <th></th>\n",
       "    </tr>\n",
       "  </thead>\n",
       "  <tbody>\n",
       "    <tr>\n",
       "      <th>Afghanistan</th>\n",
       "      <td>Asia</td>\n",
       "      <td>38928341.0</td>\n",
       "      <td>64.83</td>\n",
       "      <td>0.50</td>\n",
       "      <td>1803.987</td>\n",
       "    </tr>\n",
       "    <tr>\n",
       "      <th>Albania</th>\n",
       "      <td>Europe</td>\n",
       "      <td>2877800.0</td>\n",
       "      <td>78.57</td>\n",
       "      <td>2.89</td>\n",
       "      <td>11803.431</td>\n",
       "    </tr>\n",
       "    <tr>\n",
       "      <th>Algeria</th>\n",
       "      <td>Africa</td>\n",
       "      <td>43851043.0</td>\n",
       "      <td>76.88</td>\n",
       "      <td>1.90</td>\n",
       "      <td>13913.839</td>\n",
       "    </tr>\n",
       "    <tr>\n",
       "      <th>Andorra</th>\n",
       "      <td>Europe</td>\n",
       "      <td>77265.0</td>\n",
       "      <td>83.73</td>\n",
       "      <td>NaN</td>\n",
       "      <td>NaN</td>\n",
       "    </tr>\n",
       "    <tr>\n",
       "      <th>Angola</th>\n",
       "      <td>Africa</td>\n",
       "      <td>32866268.0</td>\n",
       "      <td>61.15</td>\n",
       "      <td>NaN</td>\n",
       "      <td>5819.495</td>\n",
       "    </tr>\n",
       "    <tr>\n",
       "      <th>...</th>\n",
       "      <td>...</td>\n",
       "      <td>...</td>\n",
       "      <td>...</td>\n",
       "      <td>...</td>\n",
       "      <td>...</td>\n",
       "    </tr>\n",
       "    <tr>\n",
       "      <th>Vietnam</th>\n",
       "      <td>Asia</td>\n",
       "      <td>97338583.0</td>\n",
       "      <td>75.40</td>\n",
       "      <td>2.60</td>\n",
       "      <td>6171.884</td>\n",
       "    </tr>\n",
       "    <tr>\n",
       "      <th>Western Sahara</th>\n",
       "      <td>Africa</td>\n",
       "      <td>597330.0</td>\n",
       "      <td>70.26</td>\n",
       "      <td>NaN</td>\n",
       "      <td>NaN</td>\n",
       "    </tr>\n",
       "    <tr>\n",
       "      <th>Yemen</th>\n",
       "      <td>Asia</td>\n",
       "      <td>29825968.0</td>\n",
       "      <td>66.12</td>\n",
       "      <td>0.70</td>\n",
       "      <td>1479.147</td>\n",
       "    </tr>\n",
       "    <tr>\n",
       "      <th>Zambia</th>\n",
       "      <td>Africa</td>\n",
       "      <td>18383956.0</td>\n",
       "      <td>63.89</td>\n",
       "      <td>2.00</td>\n",
       "      <td>3689.251</td>\n",
       "    </tr>\n",
       "    <tr>\n",
       "      <th>Zimbabwe</th>\n",
       "      <td>Africa</td>\n",
       "      <td>14862927.0</td>\n",
       "      <td>61.49</td>\n",
       "      <td>1.70</td>\n",
       "      <td>1899.775</td>\n",
       "    </tr>\n",
       "  </tbody>\n",
       "</table>\n",
       "<p>210 rows × 5 columns</p>\n",
       "</div>"
      ],
      "text/plain": [
       "               continent  population  life_expectancy  \\\n",
       "location                                                \n",
       "Afghanistan         Asia  38928341.0            64.83   \n",
       "Albania           Europe   2877800.0            78.57   \n",
       "Algeria           Africa  43851043.0            76.88   \n",
       "Andorra           Europe     77265.0            83.73   \n",
       "Angola            Africa  32866268.0            61.15   \n",
       "...                  ...         ...              ...   \n",
       "Vietnam             Asia  97338583.0            75.40   \n",
       "Western Sahara    Africa    597330.0            70.26   \n",
       "Yemen               Asia  29825968.0            66.12   \n",
       "Zambia            Africa  18383956.0            63.89   \n",
       "Zimbabwe          Africa  14862927.0            61.49   \n",
       "\n",
       "                hospital_beds_per_thousand  gdp_per_capita  \n",
       "location                                                    \n",
       "Afghanistan                           0.50        1803.987  \n",
       "Albania                               2.89       11803.431  \n",
       "Algeria                               1.90       13913.839  \n",
       "Andorra                                NaN             NaN  \n",
       "Angola                                 NaN        5819.495  \n",
       "...                                    ...             ...  \n",
       "Vietnam                               2.60        6171.884  \n",
       "Western Sahara                         NaN             NaN  \n",
       "Yemen                                 0.70        1479.147  \n",
       "Zambia                                2.00        3689.251  \n",
       "Zimbabwe                              1.70        1899.775  \n",
       "\n",
       "[210 rows x 5 columns]"
      ]
     },
     "execution_count": 363,
     "metadata": {},
     "output_type": "execute_result"
    }
   ],
   "source": [
    "country_df = countries.set_index(['location']).sort_index()\n",
    "country_df"
   ]
  },
  {
   "cell_type": "code",
   "execution_count": 346,
   "metadata": {},
   "outputs": [
    {
     "data": {
      "text/html": [
       "<div>\n",
       "<style scoped>\n",
       "    .dataframe tbody tr th:only-of-type {\n",
       "        vertical-align: middle;\n",
       "    }\n",
       "\n",
       "    .dataframe tbody tr th {\n",
       "        vertical-align: top;\n",
       "    }\n",
       "\n",
       "    .dataframe thead th {\n",
       "        text-align: right;\n",
       "    }\n",
       "</style>\n",
       "<table border=\"1\" class=\"dataframe\">\n",
       "  <thead>\n",
       "    <tr style=\"text-align: right;\">\n",
       "      <th></th>\n",
       "      <th>WorkWeekHrs</th>\n",
       "    </tr>\n",
       "    <tr>\n",
       "      <th>Country</th>\n",
       "      <th></th>\n",
       "    </tr>\n",
       "  </thead>\n",
       "  <tbody>\n",
       "    <tr>\n",
       "      <th>Iran</th>\n",
       "      <td>44.337748</td>\n",
       "    </tr>\n",
       "    <tr>\n",
       "      <th>Israel</th>\n",
       "      <td>43.915094</td>\n",
       "    </tr>\n",
       "    <tr>\n",
       "      <th>China</th>\n",
       "      <td>42.150000</td>\n",
       "    </tr>\n",
       "    <tr>\n",
       "      <th>United States</th>\n",
       "      <td>41.802982</td>\n",
       "    </tr>\n",
       "    <tr>\n",
       "      <th>Greece</th>\n",
       "      <td>41.402724</td>\n",
       "    </tr>\n",
       "  </tbody>\n",
       "</table>\n",
       "</div>"
      ],
      "text/plain": [
       "               WorkWeekHrs\n",
       "Country                   \n",
       "Iran             44.337748\n",
       "Israel           43.915094\n",
       "China            42.150000\n",
       "United States    41.802982\n",
       "Greece           41.402724"
      ]
     },
     "execution_count": 346,
     "metadata": {},
     "output_type": "execute_result"
    }
   ],
   "source": [
    "grp.head()"
   ]
  },
  {
   "cell_type": "code",
   "execution_count": 365,
   "metadata": {},
   "outputs": [
    {
     "data": {
      "text/plain": [
       "Index(['Afghanistan', 'Albania', 'Algeria', 'Andorra', 'Angola', 'Anguilla',\n",
       "       'Antigua and Barbuda', 'Argentina', 'Armenia', 'Aruba',\n",
       "       ...\n",
       "       'United States Virgin Islands', 'Uruguay', 'Uzbekistan', 'Vatican',\n",
       "       'Venezuela', 'Vietnam', 'Western Sahara', 'Yemen', 'Zambia',\n",
       "       'Zimbabwe'],\n",
       "      dtype='object', name='location', length=210)"
      ]
     },
     "execution_count": 365,
     "metadata": {},
     "output_type": "execute_result"
    }
   ],
   "source": [
    "country_df.index"
   ]
  },
  {
   "cell_type": "code",
   "execution_count": 374,
   "metadata": {},
   "outputs": [
    {
     "data": {
      "text/html": [
       "<div>\n",
       "<style scoped>\n",
       "    .dataframe tbody tr th:only-of-type {\n",
       "        vertical-align: middle;\n",
       "    }\n",
       "\n",
       "    .dataframe tbody tr th {\n",
       "        vertical-align: top;\n",
       "    }\n",
       "\n",
       "    .dataframe thead th {\n",
       "        text-align: right;\n",
       "    }\n",
       "</style>\n",
       "<table border=\"1\" class=\"dataframe\">\n",
       "  <thead>\n",
       "    <tr style=\"text-align: right;\">\n",
       "      <th></th>\n",
       "      <th>continent</th>\n",
       "      <th>WorkWeekHrs</th>\n",
       "    </tr>\n",
       "  </thead>\n",
       "  <tbody>\n",
       "    <tr>\n",
       "      <th>Iran</th>\n",
       "      <td>Asia</td>\n",
       "      <td>44.337748</td>\n",
       "    </tr>\n",
       "    <tr>\n",
       "      <th>Israel</th>\n",
       "      <td>Asia</td>\n",
       "      <td>43.915094</td>\n",
       "    </tr>\n",
       "    <tr>\n",
       "      <th>China</th>\n",
       "      <td>Asia</td>\n",
       "      <td>42.150000</td>\n",
       "    </tr>\n",
       "    <tr>\n",
       "      <th>United States</th>\n",
       "      <td>North America</td>\n",
       "      <td>41.802982</td>\n",
       "    </tr>\n",
       "    <tr>\n",
       "      <th>Greece</th>\n",
       "      <td>Europe</td>\n",
       "      <td>41.402724</td>\n",
       "    </tr>\n",
       "  </tbody>\n",
       "</table>\n",
       "</div>"
      ],
      "text/plain": [
       "                   continent  WorkWeekHrs\n",
       "Iran                    Asia    44.337748\n",
       "Israel                  Asia    43.915094\n",
       "China                   Asia    42.150000\n",
       "United States  North America    41.802982\n",
       "Greece                Europe    41.402724"
      ]
     },
     "execution_count": 374,
     "metadata": {},
     "output_type": "execute_result"
    }
   ],
   "source": [
    "merged = pd.merge(grp, country_df,left_index=True,right_index=True)[['continent','WorkWeekHrs']]\n",
    "merged.head()"
   ]
  },
  {
   "cell_type": "code",
   "execution_count": 373,
   "metadata": {},
   "outputs": [
    {
     "data": {
      "text/html": [
       "<div>\n",
       "<style scoped>\n",
       "    .dataframe tbody tr th:only-of-type {\n",
       "        vertical-align: middle;\n",
       "    }\n",
       "\n",
       "    .dataframe tbody tr th {\n",
       "        vertical-align: top;\n",
       "    }\n",
       "\n",
       "    .dataframe thead th {\n",
       "        text-align: right;\n",
       "    }\n",
       "</style>\n",
       "<table border=\"1\" class=\"dataframe\">\n",
       "  <thead>\n",
       "    <tr style=\"text-align: right;\">\n",
       "      <th></th>\n",
       "      <th>WorkWeekHrs</th>\n",
       "    </tr>\n",
       "    <tr>\n",
       "      <th>continent</th>\n",
       "      <th></th>\n",
       "    </tr>\n",
       "  </thead>\n",
       "  <tbody>\n",
       "    <tr>\n",
       "      <th>Africa</th>\n",
       "      <td>39.245750</td>\n",
       "    </tr>\n",
       "    <tr>\n",
       "      <th>Asia</th>\n",
       "      <td>40.765735</td>\n",
       "    </tr>\n",
       "    <tr>\n",
       "      <th>Europe</th>\n",
       "      <td>39.183993</td>\n",
       "    </tr>\n",
       "    <tr>\n",
       "      <th>North America</th>\n",
       "      <td>40.454807</td>\n",
       "    </tr>\n",
       "    <tr>\n",
       "      <th>Oceania</th>\n",
       "      <td>40.142892</td>\n",
       "    </tr>\n",
       "    <tr>\n",
       "      <th>South America</th>\n",
       "      <td>38.455134</td>\n",
       "    </tr>\n",
       "  </tbody>\n",
       "</table>\n",
       "</div>"
      ],
      "text/plain": [
       "               WorkWeekHrs\n",
       "continent                 \n",
       "Africa           39.245750\n",
       "Asia             40.765735\n",
       "Europe           39.183993\n",
       "North America    40.454807\n",
       "Oceania          40.142892\n",
       "South America    38.455134"
      ]
     },
     "execution_count": 373,
     "metadata": {},
     "output_type": "execute_result"
    }
   ],
   "source": [
    "merged.groupby('continent').mean()"
   ]
  },
  {
   "cell_type": "markdown",
   "metadata": {},
   "source": [
    "### Q: How important is it to start young to build a career in programming?\n"
   ]
  },
  {
   "cell_type": "code",
   "execution_count": 375,
   "metadata": {},
   "outputs": [
    {
     "data": {
      "text/plain": [
       "'NOT including education, how many years have you coded professionally (as a part of your work)?'"
      ]
     },
     "execution_count": 375,
     "metadata": {},
     "output_type": "execute_result"
    }
   ],
   "source": [
    "schema['YearsCodePro']"
   ]
  },
  {
   "cell_type": "code",
   "execution_count": 380,
   "metadata": {},
   "outputs": [
    {
     "data": {
      "image/png": "[encoded data removed]",
      "text/plain": [
       "<Figure size 648x360 with 1 Axes>"
      ]
     },
     "metadata": {
      "needs_background": "light"
     },
     "output_type": "display_data"
    }
   ],
   "source": [
    "sns.scatterplot(data=survey_df, x='Age', y='YearsCodePro',hue='Hobbyist')\n",
    "plt.xlabel(\"Age\")\n",
    "plt.ylabel(\"Years of professional coding experience\");"
   ]
  },
  {
   "cell_type": "markdown",
   "metadata": {},
   "source": [
    "You can see points all over the graph, which seems to indicate that you can **start programming professionally at any age**. Also, many people who have been coding for several decades professionally also seem to enjoy it has a hobby.\n",
    "\n",
    "We can also view the distribution of `Age1stCode` column to see when the respondents tried programming for the first time."
   ]
  },
  {
   "cell_type": "code",
   "execution_count": 387,
   "metadata": {},
   "outputs": [
    {
     "data": {
      "image/png": "[encoded data removed]",
      "text/plain": [
       "<Figure size 648x360 with 1 Axes>"
      ]
     },
     "metadata": {
      "needs_background": "light"
     },
     "output_type": "display_data"
    }
   ],
   "source": [
    "plt.title(schema.Age1stCode)\n",
    "sns.histplot(survey_df.Age1stCode);"
   ]
  },
  {
   "cell_type": "code",
   "execution_count": null,
   "metadata": {},
   "outputs": [],
   "source": []
  }
 ],
 "metadata": {
  "kernelspec": {
   "display_name": "Python 3 (ipykernel)",
   "language": "python",
   "name": "python3"
  },
  "language_info": {
   "codemirror_mode": {
    "name": "ipython",
    "version": 3
   },
   "file_extension": ".py",
   "mimetype": "text/x-python",
   "name": "python",
   "nbconvert_exporter": "python",
   "pygments_lexer": "ipython3",
   "version": "3.9.13"
  }
 },
 "nbformat": 4,
 "nbformat_minor": 4
}
